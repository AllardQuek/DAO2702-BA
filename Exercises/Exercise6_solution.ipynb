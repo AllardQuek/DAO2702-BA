{
 "cells": [
  {
   "cell_type": "markdown",
   "id": "8feadfec",
   "metadata": {},
   "source": [
    "## Question 1\n",
    "\n",
    "1. We define a function `func()` below.\n",
    "\n",
    "---\n",
    "```python\n",
    "def func(x, y):\n",
    "\n",
    "    if x <= y:\n",
    "        return x, y\n",
    "    elif x > 2*y:\n",
    "        return y\n",
    "```\n",
    "---\n",
    "\n",
    "The function `func()` is then called in the following code cell.\n",
    "\n",
    "---\n",
    "```python\n",
    "x, y = 1.6, 2\n",
    "z = func(y, y=x)\n",
    "```\n",
    "---\n",
    "\n",
    "What is the data type of the function output `z`? (Ans: C)\n",
    "\n",
    "    A. tuple\n",
    "    B. int\n",
    "    C. NoneType\n",
    "    D. An error message\n",
    "\n",
    "<br>\n",
    "\n",
    "2. The function `pie()` imported from the `matplotlib.pyplot` package is used to draw pie graphs.\n",
    "\n",
    "---\n",
    "```python\n",
    "import matplotlib.pyplot as plt\n",
    "help(plt.pie)\n",
    "```\n",
    "---\n",
    "\n",
    "```\n",
    "Help on function pie in module matplotlib.pyplot:\n",
    "\n",
    "pie(x, explode=None, labels=None, colors=None, autopct=None, pctdistance=0.6, shadow=False, labeldistance=1.1, startangle=None, radius=None, counterclock=True, wedgeprops=None, textprops=None, center=(0, 0), frame=False, rotatelabels=False, *, data=None)\n",
    "……\n",
    "Parameters\n",
    "    ----------\n",
    "    x : array-like\n",
    "        The wedge sizes.\n",
    "    \n",
    "    explode : array-like, optional, default: None\n",
    "        If not *None*, is a ``len(x)`` array which specifies the fraction\n",
    "        of the radius with which to offset each wedge.\n",
    "    \n",
    "    labels : list, optional, default: None\n",
    "        A sequence of strings providing the labels for each wedge\n",
    "    \n",
    "    colors : array-like, optional, default: None\n",
    "        A sequence of matplotlib color args through which the pie chart\n",
    "        will cycle.  If *None*, will use the colors in the currently\n",
    "        active cycle.\n",
    "……\n",
    "```\n",
    "\n",
    "Which of the following code is correct in drawing a pie without shadows, where the wedge sizes are specified by the list `grades`, the labels are specified by the list `labels`, and the explode distance is `[0.1]*7`? (Ans: C)\n",
    "\n",
    "    A. \n",
    "---\n",
    "```python\n",
    "grades = [0.02, 0.08, 0.15, 0.25, 0.2, 0.15, 0.15]\n",
    "labels = ['A+', 'A', 'A-', 'B+', 'B', 'B-', 'C']\n",
    "\n",
    "plt.pie(x=grades, [0.1]*7, shadow=False, labels=labels)\n",
    "plt.show()  \n",
    "```\n",
    "---\n",
    "\n",
    "    B. \n",
    "---\n",
    "```python\n",
    "grades = [0.02, 0.08, 0.15, 0.25, 0.2, 0.15, 0.15]\n",
    "labels = ['A+', 'A', 'A-', 'B+', 'B', 'B-', 'C']\n",
    "\n",
    "plt.pie(labels=labels, grades, [0.1]*7, shadow=False)\n",
    "plt.show()\n",
    "```\n",
    "---\n",
    "\n",
    "    C. \n",
    "---\n",
    "```python\n",
    "grades = [0.02, 0.08, 0.15, 0.25, 0.2, 0.15, 0.15]\n",
    "labels = ['A+', 'A', 'A-', 'B+', 'B', 'B-', 'C']\n",
    "\n",
    "plt.pie(labels=labels, x=grades, explode=[0.1]*7)\n",
    "plt.show()\n",
    "```\n",
    "---\n",
    "\n",
    "    D. \n",
    "---\n",
    "```python\n",
    "grades = [0.02, 0.08, 0.15, 0.25, 0.2, 0.15, 0.15]\n",
    "labels = ['A+', 'A', 'A-', 'B+', 'B', 'B-', 'C']\n",
    "\n",
    "plt.pie(grades, [0.1]*7, labels, False)\n",
    "plt.show()\n",
    "```\n",
    "---"
   ]
  },
  {
   "cell_type": "markdown",
   "id": "87edf37e",
   "metadata": {},
   "source": [
    "## Question 2\n",
    "\n",
    "1. Write a program that creates a list of all leap years between 1000 (inclusive) and 2500 (inclusive).\n",
    "\n",
    "**Solution**:"
   ]
  },
  {
   "cell_type": "code",
   "execution_count": 1,
   "id": "cbfe12cf",
   "metadata": {
    "scrolled": true
   },
   "outputs": [
    {
     "data": {
      "text/plain": [
       "True"
      ]
     },
     "execution_count": 1,
     "metadata": {},
     "output_type": "execute_result"
    }
   ],
   "source": [
    "def is_leap(year):\n",
    "    \"\"\"\n",
    "    The is_leap function returns True if the given year is a \n",
    "    leap year, and False otherwise.\n",
    "    \"\"\"\n",
    "    \n",
    "    if year%4 == 0 and year%100 > 0:\n",
    "        return True\n",
    "    elif year%400 == 0:\n",
    "        return True\n",
    "    else:\n",
    "        return False\n",
    "    \n",
    "is_leap(1804)"
   ]
  },
  {
   "cell_type": "code",
   "execution_count": 2,
   "id": "fd84fc90",
   "metadata": {
    "scrolled": false
   },
   "outputs": [
    {
     "name": "stdout",
     "output_type": "stream",
     "text": [
      "[1004, 1008, 1012, 1016, 1020, 1024, 1028, 1032, 1036, 1040, 1044, 1048, 1052, 1056, 1060, 1064, 1068, 1072, 1076, 1080, 1084, 1088, 1092, 1096, 1104, 1108, 1112, 1116, 1120, 1124, 1128, 1132, 1136, 1140, 1144, 1148, 1152, 1156, 1160, 1164, 1168, 1172, 1176, 1180, 1184, 1188, 1192, 1196, 1200, 1204, 1208, 1212, 1216, 1220, 1224, 1228, 1232, 1236, 1240, 1244, 1248, 1252, 1256, 1260, 1264, 1268, 1272, 1276, 1280, 1284, 1288, 1292, 1296, 1304, 1308, 1312, 1316, 1320, 1324, 1328, 1332, 1336, 1340, 1344, 1348, 1352, 1356, 1360, 1364, 1368, 1372, 1376, 1380, 1384, 1388, 1392, 1396, 1404, 1408, 1412, 1416, 1420, 1424, 1428, 1432, 1436, 1440, 1444, 1448, 1452, 1456, 1460, 1464, 1468, 1472, 1476, 1480, 1484, 1488, 1492, 1496, 1504, 1508, 1512, 1516, 1520, 1524, 1528, 1532, 1536, 1540, 1544, 1548, 1552, 1556, 1560, 1564, 1568, 1572, 1576, 1580, 1584, 1588, 1592, 1596, 1600, 1604, 1608, 1612, 1616, 1620, 1624, 1628, 1632, 1636, 1640, 1644, 1648, 1652, 1656, 1660, 1664, 1668, 1672, 1676, 1680, 1684, 1688, 1692, 1696, 1704, 1708, 1712, 1716, 1720, 1724, 1728, 1732, 1736, 1740, 1744, 1748, 1752, 1756, 1760, 1764, 1768, 1772, 1776, 1780, 1784, 1788, 1792, 1796, 1804, 1808, 1812, 1816, 1820, 1824, 1828, 1832, 1836, 1840, 1844, 1848, 1852, 1856, 1860, 1864, 1868, 1872, 1876, 1880, 1884, 1888, 1892, 1896, 1904, 1908, 1912, 1916, 1920, 1924, 1928, 1932, 1936, 1940, 1944, 1948, 1952, 1956, 1960, 1964, 1968, 1972, 1976, 1980, 1984, 1988, 1992, 1996, 2000, 2004, 2008, 2012, 2016, 2020, 2024, 2028, 2032, 2036, 2040, 2044, 2048, 2052, 2056, 2060, 2064, 2068, 2072, 2076, 2080, 2084, 2088, 2092, 2096, 2104, 2108, 2112, 2116, 2120, 2124, 2128, 2132, 2136, 2140, 2144, 2148, 2152, 2156, 2160, 2164, 2168, 2172, 2176, 2180, 2184, 2188, 2192, 2196, 2204, 2208, 2212, 2216, 2220, 2224, 2228, 2232, 2236, 2240, 2244, 2248, 2252, 2256, 2260, 2264, 2268, 2272, 2276, 2280, 2284, 2288, 2292, 2296, 2304, 2308, 2312, 2316, 2320, 2324, 2328, 2332, 2336, 2340, 2344, 2348, 2352, 2356, 2360, 2364, 2368, 2372, 2376, 2380, 2384, 2388, 2392, 2396, 2400, 2404, 2408, 2412, 2416, 2420, 2424, 2428, 2432, 2436, 2440, 2444, 2448, 2452, 2456, 2460, 2464, 2468, 2472, 2476, 2480, 2484, 2488, 2492, 2496]\n"
     ]
    }
   ],
   "source": [
    "leap_years = [year for year in range(1000, 2501) if is_leap(year)]\n",
    "print(leap_years)"
   ]
  },
  {
   "cell_type": "markdown",
   "id": "ffe9b6fd",
   "metadata": {},
   "source": [
    "2. Write a program that creates a list of all years such that:\n",
    "    - These years are between 1000 (inclusive) and 2500 (inclusive).\n",
    "    - These years must have the summation of their digits to be 10. \n",
    "\n",
    "For example, 2224 is such a year because the summation of all digits is 2 + 2 + 2 + 4 = 10.\n",
    "\n",
    "**Solution**:"
   ]
  },
  {
   "cell_type": "code",
   "execution_count": 1,
   "id": "bd6e3808",
   "metadata": {},
   "outputs": [
    {
     "data": {
      "text/plain": [
       "10"
      ]
     },
     "execution_count": 1,
     "metadata": {},
     "output_type": "execute_result"
    }
   ],
   "source": [
    "def digit_sum(n):\n",
    "    \n",
    "    return sum(int(char) for char in str(n))\n",
    "\n",
    "digit_sum(2224)"
   ]
  },
  {
   "cell_type": "code",
   "execution_count": 3,
   "id": "49de67c8",
   "metadata": {},
   "outputs": [
    {
     "data": {
      "text/plain": [
       "10"
      ]
     },
     "execution_count": 3,
     "metadata": {},
     "output_type": "execute_result"
    }
   ],
   "source": [
    "def digit_sum(n):\n",
    "    \n",
    "    total = 0\n",
    "    for char in str(n):\n",
    "        total += int(char)\n",
    "    \n",
    "    return total\n",
    "\n",
    "digit_sum(2224)"
   ]
  },
  {
   "cell_type": "code",
   "execution_count": 4,
   "id": "8aa020da",
   "metadata": {},
   "outputs": [
    {
     "name": "stdout",
     "output_type": "stream",
     "text": [
      "[1009, 1018, 1027, 1036, 1045, 1054, 1063, 1072, 1081, 1090, 1108, 1117, 1126, 1135, 1144, 1153, 1162, 1171, 1180, 1207, 1216, 1225, 1234, 1243, 1252, 1261, 1270, 1306, 1315, 1324, 1333, 1342, 1351, 1360, 1405, 1414, 1423, 1432, 1441, 1450, 1504, 1513, 1522, 1531, 1540, 1603, 1612, 1621, 1630, 1702, 1711, 1720, 1801, 1810, 1900, 2008, 2017, 2026, 2035, 2044, 2053, 2062, 2071, 2080, 2107, 2116, 2125, 2134, 2143, 2152, 2161, 2170, 2206, 2215, 2224, 2233, 2242, 2251, 2260, 2305, 2314, 2323, 2332, 2341, 2350, 2404, 2413, 2422, 2431, 2440]\n"
     ]
    }
   ],
   "source": [
    "years = [year for year in range(1000, 2501) if digit_sum(year) == 10]\n",
    "print(years)"
   ]
  },
  {
   "cell_type": "markdown",
   "id": "96e54f1d",
   "metadata": {},
   "source": [
    "3. Write a program that creates a list of all years such that:\n",
    "    - These years are between 1000 (inclusive) and 2500 (inclusive).\n",
    "    - These years are leap years.\n",
    "    - These years must have the summation of their digits to be 10. \n",
    "\n",
    "For example, 2008 is such a year because it is a leap year and 2 + 0 + 0 + 8 = 10.\n",
    "\n",
    "**Solution**:"
   ]
  },
  {
   "cell_type": "code",
   "execution_count": 5,
   "id": "384b37b1",
   "metadata": {},
   "outputs": [
    {
     "name": "stdout",
     "output_type": "stream",
     "text": [
      "[1036, 1072, 1108, 1144, 1180, 1216, 1252, 1324, 1360, 1432, 1504, 1540, 1612, 1720, 2008, 2044, 2080, 2116, 2152, 2224, 2260, 2332, 2404, 2440]\n"
     ]
    }
   ],
   "source": [
    "years = [year for year in range(1000, 2501) if digit_sum(year) == 10 and is_leap(year)]\n",
    "print(years)"
   ]
  },
  {
   "cell_type": "markdown",
   "id": "5064ea2b",
   "metadata": {},
   "source": [
    "3. Write a program that creates a list of all years such that:\n",
    "    - These years are between 1000 (inclusive) and 2500 (inclusive).\n",
    "    - These years are leap years.\n",
    "    - These years must have the summation of their digits to be another leap year. \n",
    "    \n",
    "For example, 2020 is such a year because it is a leap year and 2 + 0 + 2 + 0 = 4, which is also a leap year.\n",
    "\n",
    "**Solution**:"
   ]
  },
  {
   "cell_type": "code",
   "execution_count": 6,
   "id": "6bc7a508",
   "metadata": {},
   "outputs": [
    {
     "name": "stdout",
     "output_type": "stream",
     "text": [
      "[1012, 1016, 1052, 1056, 1092, 1096, 1120, 1124, 1128, 1160, 1164, 1168, 1232, 1236, 1272, 1276, 1304, 1308, 1340, 1344, 1348, 1380, 1384, 1388, 1412, 1416, 1452, 1456, 1492, 1496, 1520, 1524, 1528, 1560, 1564, 1568, 1632, 1636, 1672, 1676, 1704, 1708, 1740, 1744, 1748, 1780, 1784, 1788, 1812, 1816, 1852, 1856, 1892, 1896, 1920, 1924, 1928, 1960, 1964, 1968, 2020, 2024, 2028, 2060, 2064, 2068, 2132, 2136, 2172, 2176, 2204, 2208, 2240, 2244, 2248, 2280, 2284, 2288, 2312, 2316, 2352, 2356, 2392, 2396, 2420, 2424, 2428, 2460, 2464, 2468]\n"
     ]
    }
   ],
   "source": [
    "years = [year for year in range(1000, 2501) if is_leap(digit_sum(year)) and is_leap(year)]\n",
    "print(years)"
   ]
  },
  {
   "cell_type": "markdown",
   "id": "540203f5",
   "metadata": {},
   "source": [
    "## Question 3\n",
    "\n",
    "In this exercise, we will write a function `game()` for playing the \"rock, paper, scissors\" game. The rules of the game are given below:\n",
    "- The game runs for many rounds. In each round of the game, the player keys in `'r'` for rock, `'p'` for paper, and `'s'` for scissors. The game ends if the player keys in any other characters. \n",
    "- Computer randomly chooses one from rock, paper, and scissors in each round.\n",
    "- Use emojis &#9994; for rock, &#9995; for paper, and &#9996; for scissors as the result of each game. For example, the printed message for one game could be:"
   ]
  },
  {
   "cell_type": "raw",
   "id": "87cefa15",
   "metadata": {},
   "source": [
    "Player: r\n",
    "Player: ✊   Computer: ✌\n",
    "You win.\n",
    "\n",
    "\n",
    "Player: p\n",
    "Player: ✋   Computer: ✊\n",
    "You win.\n",
    "\n",
    "\n",
    "Player: s\n",
    "Player: ✌   Computer: ✌\n",
    "Tie game\n",
    "\n",
    "\n",
    "Player: \n",
    "Game ends."
   ]
  },
  {
   "cell_type": "markdown",
   "id": "ab3a438e",
   "metadata": {},
   "source": [
    "Among many ways to construct the function `game()`, we will break the game into separate tasks that are much easier to deal with:\n",
    "- Function `rand_rps()` for randomly selecting one letter from 'r' (for rock), 'p' (for paper), and 's' (for scissors), as computer's decision.\n",
    "- Function `emoji_dict()` for creating emojis of rock, paper, and scissors, and store them in a `dict` type data object. \n",
    "- Function `check_win()` for checking if the player wins the game, given decisions of the player and the computer.\n",
    "\n",
    "These functions can be created and tested separately, and then we can use them in constructing the game with the \"leap of faith\" assumption. \n",
    "\n",
    "1. Write the function `rand_rps()` that randomly selects one letter from 'r' (for rock), 'p' (for paper), and 's' (for scissors) as computer's decision. You may use the `randint()` function imported from the built-in `random` package. The `help()` information of the function is provided as follows."
   ]
  },
  {
   "cell_type": "code",
   "execution_count": 7,
   "id": "d19fdd23",
   "metadata": {},
   "outputs": [
    {
     "name": "stdout",
     "output_type": "stream",
     "text": [
      "Help on method randint in module random:\n",
      "\n",
      "randint(a, b) method of random.Random instance\n",
      "    Return random integer in range [a, b], including both end points.\n",
      "\n"
     ]
    }
   ],
   "source": [
    "from random import randint\n",
    "\n",
    "help(randint)"
   ]
  },
  {
   "cell_type": "markdown",
   "id": "2e52be47",
   "metadata": {},
   "source": [
    "*Hint: the function `randint()` generates a random integer. You could use the integer to be the positional index to select a character from the string `\"rps\"`.* \n",
    "\n",
    "**Solution**:"
   ]
  },
  {
   "cell_type": "code",
   "execution_count": 8,
   "id": "6dbd89e8",
   "metadata": {},
   "outputs": [],
   "source": [
    "def rand_rps():\n",
    "    \"\"\"\n",
    "    The function rand_rps randomly generates rock, paper, or scissors.\n",
    "    \"\"\"\n",
    "    \n",
    "    rps_str = 'rps'\n",
    "    index = randint(0, 2)\n",
    "    \n",
    "    return rps_str[index]"
   ]
  },
  {
   "cell_type": "code",
   "execution_count": 9,
   "id": "510ff38d",
   "metadata": {},
   "outputs": [
    {
     "data": {
      "text/plain": [
       "'s'"
      ]
     },
     "execution_count": 9,
     "metadata": {},
     "output_type": "execute_result"
    }
   ],
   "source": [
    "rand_rps()"
   ]
  },
  {
   "cell_type": "markdown",
   "id": "c4c46ef3",
   "metadata": {},
   "source": [
    "2. Write the function `emoji_dict()` which creates a dictionary, where the keys are `'r'`, `'p'`, and `'s'`, and the values are the corresponding emojis. You could use the `emojize()` function imported from the package `emoji`, which is a convenient tool for displaying emojis. The package can be installed using the command below."
   ]
  },
  {
   "cell_type": "code",
   "execution_count": 10,
   "id": "d892feb6",
   "metadata": {
    "scrolled": true
   },
   "outputs": [
    {
     "name": "stdout",
     "output_type": "stream",
     "text": [
      "Requirement already satisfied: emoji in /Users/pengxiong/miniforge3/lib/python3.9/site-packages (1.7.0)\r\n"
     ]
    }
   ],
   "source": [
    "!pip install emoji"
   ]
  },
  {
   "cell_type": "code",
   "execution_count": 11,
   "id": "5da99689",
   "metadata": {},
   "outputs": [
    {
     "name": "stdout",
     "output_type": "stream",
     "text": [
      "Help on function emojize in module emoji.core:\n",
      "\n",
      "emojize(string, use_aliases=<class 'emoji.core._DeprecatedParameter'>, delimiters=(':', ':'), variant=None, language='en', version=None, handle_version=None)\n",
      "    Replace emoji names in a string with unicode codes.\n",
      "        >>> import emoji\n",
      "        >>> print(emoji.emojize(\"Python is fun :thumbsup:\", language='alias'))\n",
      "        Python is fun 👍\n",
      "        >>> print(emoji.emojize(\"Python is fun :thumbs_up:\"))\n",
      "        Python is fun 👍\n",
      "        >>> print(emoji.emojize(\"Python is fun __thumbs_up__\", delimiters = (\"__\", \"__\")))\n",
      "        Python is fun 👍\n",
      "        >>> print(emoji.emojize(\"Python is fun :red_heart:\",variant=\"text_type\"))\n",
      "        Python is fun ❤\n",
      "        >>> print(emoji.emojize(\"Python is fun :red_heart:\",variant=\"emoji_type\"))\n",
      "        Python is fun ❤️ #red heart, not black heart\n",
      "    \n",
      "    :param string: String contains emoji names.\n",
      "    :param use_aliases: (optional) Deprecated. Use language='alias' instead\n",
      "    :param delimiters: (optional) Use delimiters other than _DEFAULT_DELIMITER\n",
      "    :param variant: (optional) Choose variation selector between \"base\"(None), VS-15 (\"text_type\") and VS-16 (\"emoji_type\")\n",
      "    :param language: Choose language of emoji name: language code 'es', 'de', etc. or 'alias'\n",
      "        to use English aliases\n",
      "    :param version: (optional) Max version. If set to an Emoji Version,\n",
      "        all emoji above this version will be ignored.\n",
      "    :param handle_version: (optional) Replace the emoji above ``version``\n",
      "        instead of ignoring it. handle_version can be either a string or a\n",
      "        callable; If it is a callable, it's passed the unicode emoji and the\n",
      "        data dict from emoji.EMOJI_DATA and must return a replacement string\n",
      "        to be used::\n",
      "    \n",
      "            handle_version(u'\\U0001F6EB', {\n",
      "                'en' : ':airplane_departure:',\n",
      "                'status' : fully_qualified,\n",
      "                'E' : 1,\n",
      "                'alias' : [u':flight_departure:'],\n",
      "                'de': u':abflug:',\n",
      "                'es': u':avión_despegando:',\n",
      "                ...\n",
      "            })\n",
      "    \n",
      "    :raises ValueError: if ``variant`` is neither None, 'text_type' or 'emoji_type'\n",
      "\n"
     ]
    }
   ],
   "source": [
    "from emoji import emojize\n",
    "\n",
    "help(emojize)"
   ]
  },
  {
   "cell_type": "markdown",
   "id": "9c071bf2",
   "metadata": {},
   "source": [
    "The name for retrieving each emoji can be found from [here](https://www.webfx.com/tools/emoji-cheat-sheet/). \n",
    "\n",
    "**Solution**:"
   ]
  },
  {
   "cell_type": "code",
   "execution_count": 12,
   "id": "d35e2d65",
   "metadata": {},
   "outputs": [
    {
     "name": "stdout",
     "output_type": "stream",
     "text": [
      "{'r': '✊', 'p': '✋', 's': '✌️'}\n"
     ]
    }
   ],
   "source": [
    "def emoji_dict():\n",
    "    \"\"\"\n",
    "    The function emoji_dict returns a dictionary of unicode for \n",
    "    rock, paper, and scissors\n",
    "    \"\"\"\n",
    "    \n",
    "    rock = emojize(':fist:', language='alias') \n",
    "    paper = emojize(':raised_hand:', language='alias')\n",
    "    scissors = emojize(':v:', language='alias')\n",
    "    \n",
    "    return {'r': rock, \n",
    "            'p': paper, \n",
    "            's': scissors}\n",
    "\n",
    "print(emoji_dict())"
   ]
  },
  {
   "cell_type": "markdown",
   "id": "4f4006b9",
   "metadata": {},
   "source": [
    "3. Write the `check_win(player, computer)` that returns \"Win\" if the player wins, \"Lose\" if the player loses, otherwise returns \"Tie\". \n",
    "\n",
    "**Solution**:"
   ]
  },
  {
   "cell_type": "code",
   "execution_count": 13,
   "id": "f8dafb94",
   "metadata": {},
   "outputs": [
    {
     "data": {
      "text/plain": [
       "'Win'"
      ]
     },
     "execution_count": 13,
     "metadata": {},
     "output_type": "execute_result"
    }
   ],
   "source": [
    "def check_win(player, computer):\n",
    "    \"\"\"\n",
    "    The function check_win checks if the player wins\n",
    "    \"\"\"\n",
    "    \n",
    "    win_dict = {'r': 's',       # Rock beats scissors\n",
    "                'p': 'r',       # Paper beats rock\n",
    "                's': 'p'}       # Scissors beat paper\n",
    "    \n",
    "    if computer == player:\n",
    "        return 'Tie'\n",
    "    elif win_dict[computer] == player:\n",
    "        return 'Lose'\n",
    "    elif win_dict[player] == computer:\n",
    "        return 'Win'\n",
    "\n",
    "check_win('r', 's')"
   ]
  },
  {
   "cell_type": "markdown",
   "id": "a09801f2",
   "metadata": {},
   "source": [
    "4. Use functions created above to create the `game()` function.\n",
    "\n",
    "**Solution**:"
   ]
  },
  {
   "cell_type": "code",
   "execution_count": 14,
   "id": "06429d81",
   "metadata": {},
   "outputs": [],
   "source": [
    "def game():\n",
    "    \n",
    "    emojis = emoji_dict()                               # Dictionary of emojis\n",
    "    \n",
    "    while True:\n",
    "        player = input('Player: ')                      # Player's decision\n",
    "        if player=='' or player not in emojis:          # Conditions for terminating the game\n",
    "            print('Game ends.')                     \n",
    "            break\n",
    "        \n",
    "        computer = rand_rps()                           # Randomly decision of the computer\n",
    "        print(f'Player {emojis[player]}  Computer: {emojis[computer]}') \n",
    "        \n",
    "        result = check_win(player, computer)            # Decide the result of the game\n",
    "        \n",
    "        if result == 'Win':\n",
    "            print('You win.')\n",
    "        elif result == 'Lose':\n",
    "            print('You lose.')\n",
    "        else:\n",
    "            print(\"Tie game\")\n",
    "        \n",
    "        print('\\n')                                     # Separate each round by empty lines"
   ]
  },
  {
   "cell_type": "code",
   "execution_count": 15,
   "id": "6e9f005d",
   "metadata": {
    "scrolled": false
   },
   "outputs": [
    {
     "name": "stdout",
     "output_type": "stream",
     "text": [
      "Player: r\n",
      "Player ✊  Computer: ✋\n",
      "You lose.\n",
      "\n",
      "\n",
      "Player: p\n",
      "Player ✋  Computer: ✌️\n",
      "You lose.\n",
      "\n",
      "\n",
      "Player: s\n",
      "Player ✌️  Computer: ✊\n",
      "You lose.\n",
      "\n",
      "\n",
      "Player: r\n",
      "Player ✊  Computer: ✋\n",
      "You lose.\n",
      "\n",
      "\n",
      "Player: s\n",
      "Player ✌️  Computer: ✊\n",
      "You lose.\n",
      "\n",
      "\n",
      "Player: p\n",
      "Player ✋  Computer: ✊\n",
      "You win.\n",
      "\n",
      "\n",
      "Player: re\n",
      "Game ends.\n"
     ]
    }
   ],
   "source": [
    "game()"
   ]
  }
 ],
 "metadata": {
  "kernelspec": {
   "display_name": "Python 3",
   "language": "python",
   "name": "python3"
  },
  "language_info": {
   "codemirror_mode": {
    "name": "ipython",
    "version": 3
   },
   "file_extension": ".py",
   "mimetype": "text/x-python",
   "name": "python",
   "nbconvert_exporter": "python",
   "pygments_lexer": "ipython3",
   "version": "3.9.1"
  },
  "varInspector": {
   "cols": {
    "lenName": 16,
    "lenType": 16,
    "lenVar": 40
   },
   "kernels_config": {
    "python": {
     "delete_cmd_postfix": "",
     "delete_cmd_prefix": "del ",
     "library": "var_list.py",
     "varRefreshCmd": "print(var_dic_list())"
    },
    "r": {
     "delete_cmd_postfix": ") ",
     "delete_cmd_prefix": "rm(",
     "library": "var_list.r",
     "varRefreshCmd": "cat(var_dic_list()) "
    }
   },
   "types_to_exclude": [
    "module",
    "function",
    "builtin_function_or_method",
    "instance",
    "_Feature"
   ],
   "window_display": false
  },
  "vscode": {
   "interpreter": {
    "hash": "aee8b7b246df8f9039afb4144a1f6fd8d2ca17a180786b69acc140d282b71a49"
   }
  }
 },
 "nbformat": 4,
 "nbformat_minor": 5
}
