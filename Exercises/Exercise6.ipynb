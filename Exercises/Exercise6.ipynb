{
 "cells": [
  {
   "cell_type": "markdown",
   "id": "8feadfec",
   "metadata": {},
   "source": [
    "## Question 1\n",
    "\n",
    "1. We define a function `func()` below.\n",
    "\n",
    "---\n",
    "```python\n",
    "def func(x, y):\n",
    "\n",
    "    if x <= y:\n",
    "        return x, y\n",
    "    elif x > 2*y:\n",
    "        return y\n",
    "```\n",
    "---\n",
    "\n",
    "The function `func()` is then called in the following code cell.\n",
    "\n",
    "---\n",
    "```python\n",
    "x, y = 1.6, 2\n",
    "z = func(y, y=x)\n",
    "```\n",
    "---\n",
    "\n",
    "What is the data type of the function output `z`?\n",
    "\n",
    "    A. tuple\n",
    "    B. int\n",
    "    C. NoneType\n",
    "    D. An error message\n",
    "\n",
    "<br>\n",
    "\n",
    "2. The function `pie()` imported from the `matplotlib.pyplot` package is used to draw pie graphs.\n",
    "\n",
    "---\n",
    "```python\n",
    "import matplotlib.pyplot as plt\n",
    "help(plt.pie)\n",
    "```\n",
    "---\n",
    "\n",
    "```\n",
    "Help on function pie in module matplotlib.pyplot:\n",
    "\n",
    "pie(x, explode=None, labels=None, colors=None, autopct=None, pctdistance=0.6, shadow=False, labeldistance=1.1, startangle=None, radius=None, counterclock=True, wedgeprops=None, textprops=None, center=(0, 0), frame=False, rotatelabels=False, *, data=None)\n",
    "……\n",
    "Parameters\n",
    "    ----------\n",
    "    x : array-like\n",
    "        The wedge sizes.\n",
    "    \n",
    "    explode : array-like, optional, default: None\n",
    "        If not *None*, is a ``len(x)`` array which specifies the fraction\n",
    "        of the radius with which to offset each wedge.\n",
    "    \n",
    "    labels : list, optional, default: None\n",
    "        A sequence of strings providing the labels for each wedge\n",
    "    \n",
    "    colors : array-like, optional, default: None\n",
    "        A sequence of matplotlib color args through which the pie chart\n",
    "        will cycle.  If *None*, will use the colors in the currently\n",
    "        active cycle.\n",
    "……\n",
    "```\n",
    "\n",
    "Which of the following code is correct in drawing a pie without shadows, where the wedge sizes are specified by the list `grades`, the labels are specified by the list `labels`, and the explode distance is `[0.1]*7`?\n",
    "\n",
    "    A. \n",
    "---\n",
    "```python\n",
    "grades = [0.02, 0.08, 0.15, 0.25, 0.2, 0.15, 0.15]\n",
    "labels = ['A+', 'A', 'A-', 'B+', 'B', 'B-', 'C']\n",
    "\n",
    "plt.pie(x=grades, [0.1]*7, shadow=False, labels=labels)\n",
    "plt.show()  \n",
    "```\n",
    "---\n",
    "\n",
    "    B. \n",
    "---\n",
    "```python\n",
    "grades = [0.02, 0.08, 0.15, 0.25, 0.2, 0.15, 0.15]\n",
    "labels = ['A+', 'A', 'A-', 'B+', 'B', 'B-', 'C']\n",
    "\n",
    "plt.pie(labels=labels, grades, [0.1]*7, shadow=False)\n",
    "plt.show()\n",
    "```\n",
    "---\n",
    "\n",
    "    C. \n",
    "---\n",
    "```python\n",
    "grades = [0.02, 0.08, 0.15, 0.25, 0.2, 0.15, 0.15]\n",
    "labels = ['A+', 'A', 'A-', 'B+', 'B', 'B-', 'C']\n",
    "\n",
    "plt.pie(labels=labels, x=grades, explode=[0.1]*7)\n",
    "plt.show()\n",
    "```\n",
    "---\n",
    "\n",
    "    D. \n",
    "---\n",
    "```python\n",
    "grades = [0.02, 0.08, 0.15, 0.25, 0.2, 0.15, 0.15]\n",
    "labels = ['A+', 'A', 'A-', 'B+', 'B', 'B-', 'C']\n",
    "\n",
    "plt.pie(grades, [0.1]*7, labels, False)\n",
    "plt.show()\n",
    "```\n",
    "---"
   ]
  },
  {
   "cell_type": "code",
   "execution_count": 4,
   "id": "04b46c20",
   "metadata": {},
   "outputs": [
    {
     "name": "stdout",
     "output_type": "stream",
     "text": [
      "<class 'NoneType'> None\n"
     ]
    }
   ],
   "source": [
    "def func(x, y):\n",
    "    if x <= y:\n",
    "        return x, y\n",
    "    elif x > 2*y:\n",
    "        return y\n",
    "    \n",
    "x, y = 1.6, 2\n",
    "z = func(y, y=x)\n",
    "print(type(z), z)"
   ]
  },
  {
   "cell_type": "code",
   "execution_count": 5,
   "id": "145b7f8c",
   "metadata": {},
   "outputs": [
    {
     "name": "stdout",
     "output_type": "stream",
     "text": [
      "Help on function pie in module matplotlib.pyplot:\n",
      "\n",
      "pie(x, explode=None, labels=None, colors=None, autopct=None, pctdistance=0.6, shadow=False, labeldistance=1.1, startangle=0, radius=1, counterclock=True, wedgeprops=None, textprops=None, center=(0, 0), frame=False, rotatelabels=False, *, normalize=None, data=None)\n",
      "    Plot a pie chart.\n",
      "    \n",
      "    Make a pie chart of array *x*.  The fractional area of each wedge is\n",
      "    given by ``x/sum(x)``.  If ``sum(x) < 1``, then the values of *x* give\n",
      "    the fractional area directly and the array will not be normalized. The\n",
      "    resulting pie will have an empty wedge of size ``1 - sum(x)``.\n",
      "    \n",
      "    The wedges are plotted counterclockwise, by default starting from the\n",
      "    x-axis.\n",
      "    \n",
      "    Parameters\n",
      "    ----------\n",
      "    x : 1D array-like\n",
      "        The wedge sizes.\n",
      "    \n",
      "    explode : array-like, default: None\n",
      "        If not *None*, is a ``len(x)`` array which specifies the fraction\n",
      "        of the radius with which to offset each wedge.\n",
      "    \n",
      "    labels : list, default: None\n",
      "        A sequence of strings providing the labels for each wedge\n",
      "    \n",
      "    colors : array-like, default: None\n",
      "        A sequence of colors through which the pie chart will cycle.  If\n",
      "        *None*, will use the colors in the currently active cycle.\n",
      "    \n",
      "    autopct : None or str or callable, default: None\n",
      "        If not *None*, is a string or function used to label the wedges\n",
      "        with their numeric value.  The label will be placed inside the\n",
      "        wedge.  If it is a format string, the label will be ``fmt % pct``.\n",
      "        If it is a function, it will be called.\n",
      "    \n",
      "    pctdistance : float, default: 0.6\n",
      "        The ratio between the center of each pie slice and the start of\n",
      "        the text generated by *autopct*.  Ignored if *autopct* is *None*.\n",
      "    \n",
      "    shadow : bool, default: False\n",
      "        Draw a shadow beneath the pie.\n",
      "    \n",
      "    normalize: None or bool, default: None\n",
      "        When *True*, always make a full pie by normalizing x so that\n",
      "        ``sum(x) == 1``. *False* makes a partial pie if ``sum(x) <= 1``\n",
      "        and raises a `ValueError` for ``sum(x) > 1``.\n",
      "    \n",
      "        When *None*, defaults to *True* if ``sum(x) >= 1`` and *False* if\n",
      "        ``sum(x) < 1``.\n",
      "    \n",
      "        Please note that the previous default value of *None* is now\n",
      "        deprecated, and the default will change to *True* in the next\n",
      "        release. Please pass ``normalize=False`` explicitly if you want to\n",
      "        draw a partial pie.\n",
      "    \n",
      "    labeldistance : float or None, default: 1.1\n",
      "        The radial distance at which the pie labels are drawn.\n",
      "        If set to ``None``, label are not drawn, but are stored for use in\n",
      "        ``legend()``\n",
      "    \n",
      "    startangle : float, default: 0 degrees\n",
      "        The angle by which the start of the pie is rotated,\n",
      "        counterclockwise from the x-axis.\n",
      "    \n",
      "    radius : float, default: 1\n",
      "        The radius of the pie.\n",
      "    \n",
      "    counterclock : bool, default: True\n",
      "        Specify fractions direction, clockwise or counterclockwise.\n",
      "    \n",
      "    wedgeprops : dict, default: None\n",
      "        Dict of arguments passed to the wedge objects making the pie.\n",
      "        For example, you can pass in ``wedgeprops = {'linewidth': 3}``\n",
      "        to set the width of the wedge border lines equal to 3.\n",
      "        For more details, look at the doc/arguments of the wedge object.\n",
      "        By default ``clip_on=False``.\n",
      "    \n",
      "    textprops : dict, default: None\n",
      "        Dict of arguments to pass to the text objects.\n",
      "    \n",
      "    center : (float, float), default: (0, 0)\n",
      "        The coordinates of the center of the chart.\n",
      "    \n",
      "    frame : bool, default: False\n",
      "        Plot axes frame with the chart if true.\n",
      "    \n",
      "    rotatelabels : bool, default: False\n",
      "        Rotate each label to the angle of the corresponding slice if true.\n",
      "    \n",
      "    Returns\n",
      "    -------\n",
      "    patches : list\n",
      "        A sequence of `matplotlib.patches.Wedge` instances\n",
      "    \n",
      "    texts : list\n",
      "        A list of the label `.Text` instances.\n",
      "    \n",
      "    autotexts : list\n",
      "        A list of `.Text` instances for the numeric labels. This will only\n",
      "        be returned if the parameter *autopct* is not *None*.\n",
      "    \n",
      "    Notes\n",
      "    -----\n",
      "    The pie chart will probably look best if the figure and axes are\n",
      "    square, or the Axes aspect is equal.\n",
      "    This method sets the aspect ratio of the axis to \"equal\".\n",
      "    The axes aspect ratio can be controlled with `.Axes.set_aspect`.\n",
      "    \n",
      "    .. note::\n",
      "        In addition to the above described arguments, this function can take\n",
      "        a *data* keyword argument. If such a *data* argument is given,\n",
      "        the following arguments can also be string ``s``, which is\n",
      "        interpreted as ``data[s]`` (unless this raises an exception):\n",
      "        *x*, *explode*, *labels*, *colors*.\n",
      "    \n",
      "        Objects passed as **data** must support item access (``data[s]``) and\n",
      "        membership test (``s in data``).\n",
      "\n"
     ]
    },
    {
     "data": {
      "image/png": "[encoded data removed]",
      "text/plain": [
       "<Figure size 640x480 with 1 Axes>"
      ]
     },
     "metadata": {},
     "output_type": "display_data"
    }
   ],
   "source": [
    "import matplotlib.pyplot as plt\n",
    "help(plt.pie)\n",
    "\n",
    "grades = [0.02, 0.08, 0.15, 0.25, 0.2, 0.15, 0.15]\n",
    "labels = ['A+', 'A', 'A-', 'B+', 'B', 'B-', 'C']\n",
    "\n",
    "plt.pie(labels=labels, x=grades, explode=[0.1]*7)\n",
    "plt.show()"
   ]
  },
  {
   "cell_type": "markdown",
   "id": "87edf37e",
   "metadata": {},
   "source": [
    "## Question 2\n",
    "\n",
    "1. Write a program that creates a list of all leap years between 1000 (inclusive) and 2500 (inclusive).\n",
    "\n",
    "**Solution**:"
   ]
  },
  {
   "cell_type": "code",
   "execution_count": null,
   "id": "cbfe12cf",
   "metadata": {
    "scrolled": true
   },
   "outputs": [],
   "source": []
  },
  {
   "cell_type": "code",
   "execution_count": null,
   "id": "fd84fc90",
   "metadata": {
    "scrolled": false
   },
   "outputs": [],
   "source": []
  },
  {
   "cell_type": "markdown",
   "id": "ffe9b6fd",
   "metadata": {},
   "source": [
    "2. Write a program that creates a list of all years such that:\n",
    "    - These years are between 1000 (inclusive) and 2500 (inclusive).\n",
    "    - These years must have the summation of their digits to be 10. \n",
    "\n",
    "For example, 2224 is such a year because the summation of all digits is 2 + 2 + 2 + 4 = 10.\n",
    "\n",
    "**Solution**:"
   ]
  },
  {
   "cell_type": "code",
   "execution_count": null,
   "id": "49de67c8",
   "metadata": {},
   "outputs": [],
   "source": []
  },
  {
   "cell_type": "code",
   "execution_count": null,
   "id": "8aa020da",
   "metadata": {},
   "outputs": [],
   "source": []
  },
  {
   "cell_type": "markdown",
   "id": "96e54f1d",
   "metadata": {},
   "source": [
    "3. Write a program that creates a list of all years such that:\n",
    "    - These years are between 1000 (inclusive) and 2500 (inclusive).\n",
    "    - These years are leap years.\n",
    "    - These years must have the summation of their digits to be 10. \n",
    "\n",
    "For example, 2008 is such a year because it is a leap year and 2 + 0 + 0 + 8 = 10.\n",
    "\n",
    "**Solution**:"
   ]
  },
  {
   "cell_type": "code",
   "execution_count": null,
   "id": "384b37b1",
   "metadata": {},
   "outputs": [],
   "source": []
  },
  {
   "cell_type": "markdown",
   "id": "5064ea2b",
   "metadata": {},
   "source": [
    "3. Write a program that creates a list of all years such that:\n",
    "    - These years are between 1000 (inclusive) and 2500 (inclusive).\n",
    "    - These years are leap years.\n",
    "    - These years must have the summation of their digits to be another leap year. \n",
    "    \n",
    "For example, 2020 is such a year because it is a leap year and 2 + 0 + 2 + 0 = 4, which is also a leap year.\n",
    "\n",
    "**Solution**:"
   ]
  },
  {
   "cell_type": "code",
   "execution_count": null,
   "id": "6bc7a508",
   "metadata": {},
   "outputs": [],
   "source": []
  },
  {
   "cell_type": "markdown",
   "id": "540203f5",
   "metadata": {},
   "source": [
    "## Question 3\n",
    "\n",
    "In this exercise, we will write a function `game()` for playing the \"rock, paper, scissors\" game. The rules of the game are given below:\n",
    "- The game runs for many rounds. In each round of the game, the player keys in `'r'` for rock, `'p'` for paper, and `'s'` for scissors. The game ends if the player keys in any other characters. \n",
    "- Computer randomly chooses one from rock, paper, and scissors in each round.\n",
    "- Use emojis &#9994; for rock, &#9995; for paper, and &#9996; for scissors as the result of each game. For example, the printed message for one game could be:"
   ]
  },
  {
   "cell_type": "raw",
   "id": "87cefa15",
   "metadata": {},
   "source": [
    "Player: r\n",
    "Player: ✊   Computer: ✌\n",
    "You win.\n",
    "\n",
    "\n",
    "Player: p\n",
    "Player: ✋   Computer: ✊\n",
    "You win.\n",
    "\n",
    "\n",
    "Player: s\n",
    "Player: ✌   Computer: ✌\n",
    "Tie game\n",
    "\n",
    "\n",
    "Player: \n",
    "Game ends."
   ]
  },
  {
   "cell_type": "markdown",
   "id": "ab3a438e",
   "metadata": {},
   "source": [
    "Among many ways to construct the function `game()`, we will break the game into separate tasks that are much easier to deal with:\n",
    "- Function `rand_rps()` for randomly selecting one letter from 'r' (for rock), 'p' (for paper), and 's' (for scissors), as computer's decision.\n",
    "- Function `emoji_dict()` for creating emojis of rock, paper, and scissors, and store them in a `dict` type data object. \n",
    "- Function `check_win()` for checking if the player wins the game, given decisions of the player and the computer.\n",
    "\n",
    "These functions can be created and tested separately, and then we can use them in constructing the game with the \"leap of faith\" assumption. \n",
    "\n",
    "1. Write the function `rand_rps()` that randomly selects one letter from 'r' (for rock), 'p' (for paper), and 's' (for scissors) as computer's decision. You may use the `randint()` function imported from the built-in `random` package. The `help()` information of the function is provided as follows."
   ]
  },
  {
   "cell_type": "code",
   "execution_count": 1,
   "id": "d19fdd23",
   "metadata": {},
   "outputs": [
    {
     "name": "stdout",
     "output_type": "stream",
     "text": [
      "Help on method randint in module random:\n",
      "\n",
      "randint(a, b) method of random.Random instance\n",
      "    Return random integer in range [a, b], including both end points.\n",
      "\n"
     ]
    }
   ],
   "source": [
    "from random import randint\n",
    "\n",
    "help(randint)"
   ]
  },
  {
   "cell_type": "markdown",
   "id": "2e52be47",
   "metadata": {},
   "source": [
    "*Hint: the function `randint()` generates a random integer. You could use the integer to be the positional index to select a character from the string `\"rps\"`.* \n",
    "\n",
    "**Solution**:"
   ]
  },
  {
   "cell_type": "code",
   "execution_count": null,
   "id": "6dbd89e8",
   "metadata": {},
   "outputs": [],
   "source": []
  },
  {
   "cell_type": "code",
   "execution_count": null,
   "id": "510ff38d",
   "metadata": {},
   "outputs": [],
   "source": []
  },
  {
   "cell_type": "markdown",
   "id": "c4c46ef3",
   "metadata": {},
   "source": [
    "2. Write the function `emoji_dict()` which creates a dictionary, where the keys are `'r'`, `'p'`, and `'s'`, and the values are the corresponding emojis. You could use the `emojize()` function imported from the package `emoji`, which is a convenient tool for displaying emojis. The package can be installed using the command below."
   ]
  },
  {
   "cell_type": "code",
   "execution_count": null,
   "id": "14386cfa",
   "metadata": {},
   "outputs": [],
   "source": [
    "!pip install emoji"
   ]
  },
  {
   "cell_type": "code",
   "execution_count": 2,
   "id": "5da99689",
   "metadata": {},
   "outputs": [
    {
     "name": "stdout",
     "output_type": "stream",
     "text": [
      "Help on function emojize in module emoji.core:\n",
      "\n",
      "emojize(string, use_aliases=<class 'emoji.core._DeprecatedParameter'>, delimiters=(':', ':'), variant=None, language='en', version=None, handle_version=None)\n",
      "    Replace emoji names in a string with unicode codes.\n",
      "        >>> import emoji\n",
      "        >>> print(emoji.emojize(\"Python is fun :thumbsup:\", language='alias'))\n",
      "        Python is fun 👍\n",
      "        >>> print(emoji.emojize(\"Python is fun :thumbs_up:\"))\n",
      "        Python is fun 👍\n",
      "        >>> print(emoji.emojize(\"Python is fun __thumbs_up__\", delimiters = (\"__\", \"__\")))\n",
      "        Python is fun 👍\n",
      "        >>> print(emoji.emojize(\"Python is fun :red_heart:\",variant=\"text_type\"))\n",
      "        Python is fun ❤\n",
      "        >>> print(emoji.emojize(\"Python is fun :red_heart:\",variant=\"emoji_type\"))\n",
      "        Python is fun ❤️ #red heart, not black heart\n",
      "    \n",
      "    :param string: String contains emoji names.\n",
      "    :param use_aliases: (optional) Deprecated. Use language='alias' instead\n",
      "    :param delimiters: (optional) Use delimiters other than _DEFAULT_DELIMITER\n",
      "    :param variant: (optional) Choose variation selector between \"base\"(None), VS-15 (\"text_type\") and VS-16 (\"emoji_type\")\n",
      "    :param language: Choose language of emoji name: language code 'es', 'de', etc. or 'alias'\n",
      "        to use English aliases\n",
      "    :param version: (optional) Max version. If set to an Emoji Version,\n",
      "        all emoji above this version will be ignored.\n",
      "    :param handle_version: (optional) Replace the emoji above ``version``\n",
      "        instead of ignoring it. handle_version can be either a string or a\n",
      "        callable; If it is a callable, it's passed the unicode emoji and the\n",
      "        data dict from emoji.EMOJI_DATA and must return a replacement string\n",
      "        to be used::\n",
      "    \n",
      "            handle_version(u'\\U0001F6EB', {\n",
      "                'en' : ':airplane_departure:',\n",
      "                'status' : fully_qualified,\n",
      "                'E' : 1,\n",
      "                'alias' : [u':flight_departure:'],\n",
      "                'de': u':abflug:',\n",
      "                'es': u':avión_despegando:',\n",
      "                ...\n",
      "            })\n",
      "    \n",
      "    :raises ValueError: if ``variant`` is neither None, 'text_type' or 'emoji_type'\n",
      "\n"
     ]
    }
   ],
   "source": [
    "from emoji import emojize\n",
    "\n",
    "help(emojize)"
   ]
  },
  {
   "cell_type": "markdown",
   "id": "9c071bf2",
   "metadata": {},
   "source": [
    "The name for retrieving each emoji can be found from [here](https://www.webfx.com/tools/emoji-cheat-sheet/). \n",
    "\n",
    "**Solution**:"
   ]
  },
  {
   "cell_type": "code",
   "execution_count": null,
   "id": "d35e2d65",
   "metadata": {},
   "outputs": [],
   "source": []
  },
  {
   "cell_type": "markdown",
   "id": "4f4006b9",
   "metadata": {},
   "source": [
    "3. Write the `check_win(player, computer)` that returns \"Win\" if the player wins, \"Lose\" if the player loses, otherwise returns \"Tie\". \n",
    "\n",
    "**Solution**:"
   ]
  },
  {
   "cell_type": "code",
   "execution_count": null,
   "id": "f8dafb94",
   "metadata": {},
   "outputs": [],
   "source": []
  },
  {
   "cell_type": "markdown",
   "id": "a09801f2",
   "metadata": {},
   "source": [
    "4. Use functions created above to create the `game()` function.\n",
    "\n",
    "**Solution**:"
   ]
  },
  {
   "cell_type": "code",
   "execution_count": null,
   "id": "06429d81",
   "metadata": {},
   "outputs": [],
   "source": []
  },
  {
   "cell_type": "code",
   "execution_count": null,
   "id": "6e9f005d",
   "metadata": {
    "scrolled": true
   },
   "outputs": [],
   "source": []
  }
 ],
 "metadata": {
  "kernelspec": {
   "display_name": "Python 3",
   "language": "python",
   "name": "python3"
  },
  "language_info": {
   "codemirror_mode": {
    "name": "ipython",
    "version": 3
   },
   "file_extension": ".py",
   "mimetype": "text/x-python",
   "name": "python",
   "nbconvert_exporter": "python",
   "pygments_lexer": "ipython3",
   "version": "3.9.1"
  },
  "varInspector": {
   "cols": {
    "lenName": 16,
    "lenType": 16,
    "lenVar": 40
   },
   "kernels_config": {
    "python": {
     "delete_cmd_postfix": "",
     "delete_cmd_prefix": "del ",
     "library": "var_list.py",
     "varRefreshCmd": "print(var_dic_list())"
    },
    "r": {
     "delete_cmd_postfix": ") ",
     "delete_cmd_prefix": "rm(",
     "library": "var_list.r",
     "varRefreshCmd": "cat(var_dic_list()) "
    }
   },
   "types_to_exclude": [
    "module",
    "function",
    "builtin_function_or_method",
    "instance",
    "_Feature"
   ],
   "window_display": false
  },
  "vscode": {
   "interpreter": {
    "hash": "aee8b7b246df8f9039afb4144a1f6fd8d2ca17a180786b69acc140d282b71a49"
   }
  }
 },
 "nbformat": 4,
 "nbformat_minor": 5
}
