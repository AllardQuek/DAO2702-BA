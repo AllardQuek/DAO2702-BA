{
 "cells": [
  {
   "cell_type": "markdown",
   "id": "4ab4516c",
   "metadata": {},
   "source": [
    "## Question 1\n",
    "\n",
    "1. What is the printed message of the code below? (Ans: C)\n",
    "\n",
    "---\n",
    "```python\n",
    "import numpy as np\n",
    "\n",
    "x = np.array([0, 1, 2, 3])\n",
    "y = np.array([1, 2, 1, 2])\n",
    "z = 3.5*x + y*(1-x)\n",
    "\n",
    "print(z[2])\n",
    "```\n",
    "---\n",
    "\n",
    "    A. 1.0\n",
    "    B. 3.5\n",
    "    C. 6.0\n",
    "    D. 6.5\n",
    "\n",
    "<br>\n",
    "\n",
    "2. What is the printed message of the code below? (Ans: D)\n",
    "\n",
    "---\n",
    "```python\n",
    "import numpy as np\n",
    "\n",
    "an_array = np.array([[1, 2], \n",
    "                     [3, 4]])\n",
    "result = an_array.sum() - an_array.sum(axis=1)\n",
    "print(result)\n",
    "\n",
    "```\n",
    "---\n",
    "\n",
    "    A. 0\n",
    "    B. [1, -1]\n",
    "    C. [6, 4]\n",
    "    D. [7, 3]\n",
    "\n",
    "<br>\n",
    "\n",
    "3. What is the printed message of the code below? (Ans: D)\n",
    "\n",
    "---\n",
    "```python\n",
    "import numpy as np\n",
    "\n",
    "x = np.array([[1, 2],    \n",
    "              [2, 3.5],     \n",
    "              [5, 6.5]])\n",
    "y = np.array([1, 0.5])\n",
    "z = x.max() - (x*y).sum(axis=0)\n",
    "\n",
    "print(z[0])\n",
    "```\n",
    "---\n",
    "\n",
    "    A. 1.5\n",
    "    B. 0.5\n",
    "    C. -0.5\n",
    "    D. -1.5"
   ]
  },
  {
   "cell_type": "markdown",
   "id": "16048711",
   "metadata": {},
   "source": [
    "## Question 2\n",
    "\n",
    "PUBG is an online game where $n$ players are killing each others and the final survivor is the winner. If each player is equally good, we can prove that the expected number of kills made by the winner is $1 + 1/2 + 1/3 + ... + 1/(n-1)$.\n",
    "\n",
    "1. What is expected number of kills if there are totally $n=60$ players?\n",
    "\n",
    "**Solution**:"
   ]
  },
  {
   "cell_type": "code",
   "execution_count": 1,
   "id": "937a2d48",
   "metadata": {
    "scrolled": true
   },
   "outputs": [
    {
     "name": "stdout",
     "output_type": "stream",
     "text": [
      "The expected value: 4.66320374628507\n"
     ]
    }
   ],
   "source": [
    "import numpy as np\n",
    "import matplotlib.pyplot as plt\n",
    "\n",
    "n = 60\n",
    "array = np.arange(1, n)\n",
    "\n",
    "exp_value = (1/array).sum()\n",
    "print(f'The expected value: {exp_value}')"
   ]
  },
  {
   "cell_type": "markdown",
   "id": "65427375",
   "metadata": {},
   "source": [
    "2. Visualize the expected number of kills under different numbers of players. You may use the `cumsum()` function imported from the NumPy package to calculate the cumulative sum of data items in an array, so that there is no need to use a `for`-loop.\n",
    "\n",
    "**Solution**:"
   ]
  },
  {
   "cell_type": "code",
   "execution_count": 2,
   "id": "8a4145dc",
   "metadata": {
    "scrolled": false
   },
   "outputs": [
    {
     "data": {
      "image/png": "[encoded data removed]",
      "text/plain": [
       "<Figure size 432x288 with 1 Axes>"
      ]
     },
     "metadata": {
      "needs_background": "light"
     },
     "output_type": "display_data"
    }
   ],
   "source": [
    "# Method with a for-loop\n",
    "\n",
    "n_players = np.arange(2, 61)\n",
    "\n",
    "exp_values = []\n",
    "for n in n_players:\n",
    "    exp_value = (1/np.arange(1, n)).sum()\n",
    "    exp_values.append(exp_value)\n",
    "    \n",
    "plt.plot(n_players, exp_values, marker='o', markersize=5)\n",
    "plt.xlabel('Number of players')\n",
    "plt.ylabel('Expected kills')\n",
    "plt.show()"
   ]
  },
  {
   "cell_type": "code",
   "execution_count": 3,
   "id": "4b7ca416",
   "metadata": {},
   "outputs": [
    {
     "data": {
      "image/png": "[encoded data removed]",
      "text/plain": [
       "<Figure size 432x288 with 1 Axes>"
      ]
     },
     "metadata": {
      "needs_background": "light"
     },
     "output_type": "display_data"
    }
   ],
   "source": [
    "# Method without a for-loop\n",
    "\n",
    "n = 60\n",
    "\n",
    "n_players = np.arange(2, n+1)\n",
    "array = np.arange(1, n)\n",
    "exp_values = np.cumsum(1/array)\n",
    "\n",
    "plt.plot(n_players, exp_values, marker='o', markersize=5)\n",
    "plt.xlabel('Number of players')\n",
    "plt.ylabel('Expected kills')\n",
    "plt.show()"
   ]
  },
  {
   "cell_type": "markdown",
   "id": "9a2a08f9",
   "metadata": {},
   "source": [
    "## Question 3\n",
    "\n",
    "Consider a naturally occurring collection of numbers, such as the GDP of all countries in a given year, or the financial data of a company, what is the distribution of the first digit of these numbers? \n",
    "\n",
    "Our first intuition may tell us that all digits should have equal probability to appear, thus following a uniform distribution. However, the [Benford's law](https://en.wikipedia.org/wiki/Benford%27s_law) suggests that smaller digits have a higher probability to occur. Let $d$ be the first digit, then the occurring probability $p$ can be approximately expressed by\n",
    "$$\n",
    "p = \\log_{10}\\left(1 + \\frac{1}{d}\\right), ~~ d=1, 2, ..., 9\n",
    "$$\n",
    "\n",
    "In this exercise, we are using data visualization to verify that the GDP of different countries in a particular year roughly follows the equation given by the Benford's law. "
   ]
  },
  {
   "cell_type": "code",
   "execution_count": 4,
   "id": "ff09499d",
   "metadata": {
    "scrolled": false
   },
   "outputs": [
    {
     "data": {
      "text/html": [
       "<div>\n",
       "<style scoped>\n",
       "    .dataframe tbody tr th:only-of-type {\n",
       "        vertical-align: middle;\n",
       "    }\n",
       "\n",
       "    .dataframe tbody tr th {\n",
       "        vertical-align: top;\n",
       "    }\n",
       "\n",
       "    .dataframe thead th {\n",
       "        text-align: right;\n",
       "    }\n",
       "</style>\n",
       "<table border=\"1\" class=\"dataframe\">\n",
       "  <thead>\n",
       "    <tr style=\"text-align: right;\">\n",
       "      <th></th>\n",
       "      <th>Country Name</th>\n",
       "      <th>Country Code</th>\n",
       "      <th>1960</th>\n",
       "      <th>1961</th>\n",
       "      <th>1962</th>\n",
       "      <th>1963</th>\n",
       "      <th>1964</th>\n",
       "      <th>1965</th>\n",
       "      <th>1966</th>\n",
       "      <th>1967</th>\n",
       "      <th>...</th>\n",
       "      <th>2012</th>\n",
       "      <th>2013</th>\n",
       "      <th>2014</th>\n",
       "      <th>2015</th>\n",
       "      <th>2016</th>\n",
       "      <th>2017</th>\n",
       "      <th>2018</th>\n",
       "      <th>2019</th>\n",
       "      <th>2020</th>\n",
       "      <th>2021</th>\n",
       "    </tr>\n",
       "  </thead>\n",
       "  <tbody>\n",
       "    <tr>\n",
       "      <th>0</th>\n",
       "      <td>Aruba</td>\n",
       "      <td>ABW</td>\n",
       "      <td>NaN</td>\n",
       "      <td>NaN</td>\n",
       "      <td>NaN</td>\n",
       "      <td>NaN</td>\n",
       "      <td>NaN</td>\n",
       "      <td>NaN</td>\n",
       "      <td>NaN</td>\n",
       "      <td>NaN</td>\n",
       "      <td>...</td>\n",
       "      <td>2.615084e+09</td>\n",
       "      <td>2.727933e+09</td>\n",
       "      <td>2.791061e+09</td>\n",
       "      <td>2.963128e+09</td>\n",
       "      <td>2.983799e+09</td>\n",
       "      <td>3.092179e+09</td>\n",
       "      <td>3.202235e+09</td>\n",
       "      <td>3.310056e+09</td>\n",
       "      <td>2.496648e+09</td>\n",
       "      <td>NaN</td>\n",
       "    </tr>\n",
       "    <tr>\n",
       "      <th>1</th>\n",
       "      <td>Africa Eastern and Southern</td>\n",
       "      <td>AFE</td>\n",
       "      <td>2.129059e+10</td>\n",
       "      <td>2.180847e+10</td>\n",
       "      <td>2.370702e+10</td>\n",
       "      <td>2.821004e+10</td>\n",
       "      <td>2.611879e+10</td>\n",
       "      <td>2.968217e+10</td>\n",
       "      <td>3.223912e+10</td>\n",
       "      <td>3.351455e+10</td>\n",
       "      <td>...</td>\n",
       "      <td>9.730435e+11</td>\n",
       "      <td>9.839370e+11</td>\n",
       "      <td>1.003679e+12</td>\n",
       "      <td>9.242525e+11</td>\n",
       "      <td>8.823551e+11</td>\n",
       "      <td>1.020647e+12</td>\n",
       "      <td>9.910223e+11</td>\n",
       "      <td>9.975340e+11</td>\n",
       "      <td>9.216459e+11</td>\n",
       "      <td>1.082096e+12</td>\n",
       "    </tr>\n",
       "    <tr>\n",
       "      <th>2</th>\n",
       "      <td>Afghanistan</td>\n",
       "      <td>AFG</td>\n",
       "      <td>5.377778e+08</td>\n",
       "      <td>5.488889e+08</td>\n",
       "      <td>5.466667e+08</td>\n",
       "      <td>7.511112e+08</td>\n",
       "      <td>8.000000e+08</td>\n",
       "      <td>1.006667e+09</td>\n",
       "      <td>1.400000e+09</td>\n",
       "      <td>1.673333e+09</td>\n",
       "      <td>...</td>\n",
       "      <td>1.990732e+10</td>\n",
       "      <td>2.014640e+10</td>\n",
       "      <td>2.049713e+10</td>\n",
       "      <td>1.913421e+10</td>\n",
       "      <td>1.811656e+10</td>\n",
       "      <td>1.875347e+10</td>\n",
       "      <td>1.805323e+10</td>\n",
       "      <td>1.879945e+10</td>\n",
       "      <td>2.011614e+10</td>\n",
       "      <td>NaN</td>\n",
       "    </tr>\n",
       "    <tr>\n",
       "      <th>3</th>\n",
       "      <td>Africa Western and Central</td>\n",
       "      <td>AFW</td>\n",
       "      <td>1.040414e+10</td>\n",
       "      <td>1.112789e+10</td>\n",
       "      <td>1.194319e+10</td>\n",
       "      <td>1.267633e+10</td>\n",
       "      <td>1.383837e+10</td>\n",
       "      <td>1.486223e+10</td>\n",
       "      <td>1.583259e+10</td>\n",
       "      <td>1.442604e+10</td>\n",
       "      <td>...</td>\n",
       "      <td>7.275704e+11</td>\n",
       "      <td>8.207927e+11</td>\n",
       "      <td>8.649905e+11</td>\n",
       "      <td>7.607345e+11</td>\n",
       "      <td>6.905464e+11</td>\n",
       "      <td>6.837487e+11</td>\n",
       "      <td>7.416899e+11</td>\n",
       "      <td>7.945430e+11</td>\n",
       "      <td>7.844457e+11</td>\n",
       "      <td>8.358084e+11</td>\n",
       "    </tr>\n",
       "    <tr>\n",
       "      <th>4</th>\n",
       "      <td>Angola</td>\n",
       "      <td>AGO</td>\n",
       "      <td>NaN</td>\n",
       "      <td>NaN</td>\n",
       "      <td>NaN</td>\n",
       "      <td>NaN</td>\n",
       "      <td>NaN</td>\n",
       "      <td>NaN</td>\n",
       "      <td>NaN</td>\n",
       "      <td>NaN</td>\n",
       "      <td>...</td>\n",
       "      <td>1.249982e+11</td>\n",
       "      <td>1.334016e+11</td>\n",
       "      <td>1.372444e+11</td>\n",
       "      <td>8.721929e+10</td>\n",
       "      <td>4.984049e+10</td>\n",
       "      <td>6.897276e+10</td>\n",
       "      <td>7.779294e+10</td>\n",
       "      <td>6.930910e+10</td>\n",
       "      <td>5.361907e+10</td>\n",
       "      <td>7.254699e+10</td>\n",
       "    </tr>\n",
       "    <tr>\n",
       "      <th>...</th>\n",
       "      <td>...</td>\n",
       "      <td>...</td>\n",
       "      <td>...</td>\n",
       "      <td>...</td>\n",
       "      <td>...</td>\n",
       "      <td>...</td>\n",
       "      <td>...</td>\n",
       "      <td>...</td>\n",
       "      <td>...</td>\n",
       "      <td>...</td>\n",
       "      <td>...</td>\n",
       "      <td>...</td>\n",
       "      <td>...</td>\n",
       "      <td>...</td>\n",
       "      <td>...</td>\n",
       "      <td>...</td>\n",
       "      <td>...</td>\n",
       "      <td>...</td>\n",
       "      <td>...</td>\n",
       "      <td>...</td>\n",
       "      <td>...</td>\n",
       "    </tr>\n",
       "    <tr>\n",
       "      <th>261</th>\n",
       "      <td>Kosovo</td>\n",
       "      <td>XKX</td>\n",
       "      <td>NaN</td>\n",
       "      <td>NaN</td>\n",
       "      <td>NaN</td>\n",
       "      <td>NaN</td>\n",
       "      <td>NaN</td>\n",
       "      <td>NaN</td>\n",
       "      <td>NaN</td>\n",
       "      <td>NaN</td>\n",
       "      <td>...</td>\n",
       "      <td>6.163785e+09</td>\n",
       "      <td>6.735731e+09</td>\n",
       "      <td>7.074658e+09</td>\n",
       "      <td>6.295820e+09</td>\n",
       "      <td>6.682833e+09</td>\n",
       "      <td>7.180813e+09</td>\n",
       "      <td>7.878509e+09</td>\n",
       "      <td>7.899879e+09</td>\n",
       "      <td>7.716925e+09</td>\n",
       "      <td>9.007159e+09</td>\n",
       "    </tr>\n",
       "    <tr>\n",
       "      <th>262</th>\n",
       "      <td>Yemen, Rep.</td>\n",
       "      <td>YEM</td>\n",
       "      <td>NaN</td>\n",
       "      <td>NaN</td>\n",
       "      <td>NaN</td>\n",
       "      <td>NaN</td>\n",
       "      <td>NaN</td>\n",
       "      <td>NaN</td>\n",
       "      <td>NaN</td>\n",
       "      <td>NaN</td>\n",
       "      <td>...</td>\n",
       "      <td>3.540134e+10</td>\n",
       "      <td>4.041524e+10</td>\n",
       "      <td>4.322859e+10</td>\n",
       "      <td>4.244450e+10</td>\n",
       "      <td>3.131783e+10</td>\n",
       "      <td>2.684223e+10</td>\n",
       "      <td>2.160616e+10</td>\n",
       "      <td>2.188761e+10</td>\n",
       "      <td>1.884051e+10</td>\n",
       "      <td>2.106169e+10</td>\n",
       "    </tr>\n",
       "    <tr>\n",
       "      <th>263</th>\n",
       "      <td>South Africa</td>\n",
       "      <td>ZAF</td>\n",
       "      <td>8.748597e+09</td>\n",
       "      <td>9.225996e+09</td>\n",
       "      <td>9.813996e+09</td>\n",
       "      <td>1.085420e+10</td>\n",
       "      <td>1.195600e+10</td>\n",
       "      <td>1.306899e+10</td>\n",
       "      <td>1.421139e+10</td>\n",
       "      <td>1.582139e+10</td>\n",
       "      <td>...</td>\n",
       "      <td>4.344005e+11</td>\n",
       "      <td>4.008860e+11</td>\n",
       "      <td>3.811989e+11</td>\n",
       "      <td>3.467098e+11</td>\n",
       "      <td>3.235855e+11</td>\n",
       "      <td>3.814488e+11</td>\n",
       "      <td>4.048421e+11</td>\n",
       "      <td>3.879346e+11</td>\n",
       "      <td>3.354421e+11</td>\n",
       "      <td>4.199464e+11</td>\n",
       "    </tr>\n",
       "    <tr>\n",
       "      <th>264</th>\n",
       "      <td>Zambia</td>\n",
       "      <td>ZMB</td>\n",
       "      <td>7.130000e+08</td>\n",
       "      <td>6.962857e+08</td>\n",
       "      <td>6.931429e+08</td>\n",
       "      <td>7.187143e+08</td>\n",
       "      <td>8.394286e+08</td>\n",
       "      <td>1.082857e+09</td>\n",
       "      <td>1.264286e+09</td>\n",
       "      <td>1.368000e+09</td>\n",
       "      <td>...</td>\n",
       "      <td>2.550306e+10</td>\n",
       "      <td>2.803724e+10</td>\n",
       "      <td>2.714102e+10</td>\n",
       "      <td>2.125122e+10</td>\n",
       "      <td>2.095841e+10</td>\n",
       "      <td>2.587360e+10</td>\n",
       "      <td>2.631159e+10</td>\n",
       "      <td>2.330867e+10</td>\n",
       "      <td>1.811063e+10</td>\n",
       "      <td>2.120306e+10</td>\n",
       "    </tr>\n",
       "    <tr>\n",
       "      <th>265</th>\n",
       "      <td>Zimbabwe</td>\n",
       "      <td>ZWE</td>\n",
       "      <td>1.052990e+09</td>\n",
       "      <td>1.096647e+09</td>\n",
       "      <td>1.117602e+09</td>\n",
       "      <td>1.159512e+09</td>\n",
       "      <td>1.217138e+09</td>\n",
       "      <td>1.311436e+09</td>\n",
       "      <td>1.281750e+09</td>\n",
       "      <td>1.397002e+09</td>\n",
       "      <td>...</td>\n",
       "      <td>1.711485e+10</td>\n",
       "      <td>1.909102e+10</td>\n",
       "      <td>1.949552e+10</td>\n",
       "      <td>1.996312e+10</td>\n",
       "      <td>2.054868e+10</td>\n",
       "      <td>1.758489e+10</td>\n",
       "      <td>1.811554e+10</td>\n",
       "      <td>1.928429e+10</td>\n",
       "      <td>1.805117e+10</td>\n",
       "      <td>2.621773e+10</td>\n",
       "    </tr>\n",
       "  </tbody>\n",
       "</table>\n",
       "<p>266 rows × 64 columns</p>\n",
       "</div>"
      ],
      "text/plain": [
       "                    Country Name Country Code          1960          1961  \\\n",
       "0                          Aruba          ABW           NaN           NaN   \n",
       "1    Africa Eastern and Southern          AFE  2.129059e+10  2.180847e+10   \n",
       "2                    Afghanistan          AFG  5.377778e+08  5.488889e+08   \n",
       "3     Africa Western and Central          AFW  1.040414e+10  1.112789e+10   \n",
       "4                         Angola          AGO           NaN           NaN   \n",
       "..                           ...          ...           ...           ...   \n",
       "261                       Kosovo          XKX           NaN           NaN   \n",
       "262                  Yemen, Rep.          YEM           NaN           NaN   \n",
       "263                 South Africa          ZAF  8.748597e+09  9.225996e+09   \n",
       "264                       Zambia          ZMB  7.130000e+08  6.962857e+08   \n",
       "265                     Zimbabwe          ZWE  1.052990e+09  1.096647e+09   \n",
       "\n",
       "             1962          1963          1964          1965          1966  \\\n",
       "0             NaN           NaN           NaN           NaN           NaN   \n",
       "1    2.370702e+10  2.821004e+10  2.611879e+10  2.968217e+10  3.223912e+10   \n",
       "2    5.466667e+08  7.511112e+08  8.000000e+08  1.006667e+09  1.400000e+09   \n",
       "3    1.194319e+10  1.267633e+10  1.383837e+10  1.486223e+10  1.583259e+10   \n",
       "4             NaN           NaN           NaN           NaN           NaN   \n",
       "..            ...           ...           ...           ...           ...   \n",
       "261           NaN           NaN           NaN           NaN           NaN   \n",
       "262           NaN           NaN           NaN           NaN           NaN   \n",
       "263  9.813996e+09  1.085420e+10  1.195600e+10  1.306899e+10  1.421139e+10   \n",
       "264  6.931429e+08  7.187143e+08  8.394286e+08  1.082857e+09  1.264286e+09   \n",
       "265  1.117602e+09  1.159512e+09  1.217138e+09  1.311436e+09  1.281750e+09   \n",
       "\n",
       "             1967  ...          2012          2013          2014  \\\n",
       "0             NaN  ...  2.615084e+09  2.727933e+09  2.791061e+09   \n",
       "1    3.351455e+10  ...  9.730435e+11  9.839370e+11  1.003679e+12   \n",
       "2    1.673333e+09  ...  1.990732e+10  2.014640e+10  2.049713e+10   \n",
       "3    1.442604e+10  ...  7.275704e+11  8.207927e+11  8.649905e+11   \n",
       "4             NaN  ...  1.249982e+11  1.334016e+11  1.372444e+11   \n",
       "..            ...  ...           ...           ...           ...   \n",
       "261           NaN  ...  6.163785e+09  6.735731e+09  7.074658e+09   \n",
       "262           NaN  ...  3.540134e+10  4.041524e+10  4.322859e+10   \n",
       "263  1.582139e+10  ...  4.344005e+11  4.008860e+11  3.811989e+11   \n",
       "264  1.368000e+09  ...  2.550306e+10  2.803724e+10  2.714102e+10   \n",
       "265  1.397002e+09  ...  1.711485e+10  1.909102e+10  1.949552e+10   \n",
       "\n",
       "             2015          2016          2017          2018          2019  \\\n",
       "0    2.963128e+09  2.983799e+09  3.092179e+09  3.202235e+09  3.310056e+09   \n",
       "1    9.242525e+11  8.823551e+11  1.020647e+12  9.910223e+11  9.975340e+11   \n",
       "2    1.913421e+10  1.811656e+10  1.875347e+10  1.805323e+10  1.879945e+10   \n",
       "3    7.607345e+11  6.905464e+11  6.837487e+11  7.416899e+11  7.945430e+11   \n",
       "4    8.721929e+10  4.984049e+10  6.897276e+10  7.779294e+10  6.930910e+10   \n",
       "..            ...           ...           ...           ...           ...   \n",
       "261  6.295820e+09  6.682833e+09  7.180813e+09  7.878509e+09  7.899879e+09   \n",
       "262  4.244450e+10  3.131783e+10  2.684223e+10  2.160616e+10  2.188761e+10   \n",
       "263  3.467098e+11  3.235855e+11  3.814488e+11  4.048421e+11  3.879346e+11   \n",
       "264  2.125122e+10  2.095841e+10  2.587360e+10  2.631159e+10  2.330867e+10   \n",
       "265  1.996312e+10  2.054868e+10  1.758489e+10  1.811554e+10  1.928429e+10   \n",
       "\n",
       "             2020          2021  \n",
       "0    2.496648e+09           NaN  \n",
       "1    9.216459e+11  1.082096e+12  \n",
       "2    2.011614e+10           NaN  \n",
       "3    7.844457e+11  8.358084e+11  \n",
       "4    5.361907e+10  7.254699e+10  \n",
       "..            ...           ...  \n",
       "261  7.716925e+09  9.007159e+09  \n",
       "262  1.884051e+10  2.106169e+10  \n",
       "263  3.354421e+11  4.199464e+11  \n",
       "264  1.811063e+10  2.120306e+10  \n",
       "265  1.805117e+10  2.621773e+10  \n",
       "\n",
       "[266 rows x 64 columns]"
      ]
     },
     "execution_count": 4,
     "metadata": {},
     "output_type": "execute_result"
    }
   ],
   "source": [
    "import pandas as pd\n",
    "import matplotlib.pyplot as plt\n",
    "import numpy as np\n",
    "\n",
    "gdp = pd.read_csv('gdp.csv')            # Read the dataset\n",
    "gdp"
   ]
  },
  {
   "cell_type": "markdown",
   "id": "863269d1",
   "metadata": {},
   "source": [
    "1. In the first step, we select one year from the dataset. Please note that the GDP for some countries are missing, and we will ignore them in the subsequent analysis. \n",
    "\n",
    "**Solution**:"
   ]
  },
  {
   "cell_type": "code",
   "execution_count": 5,
   "id": "e90eba27",
   "metadata": {
    "scrolled": true
   },
   "outputs": [
    {
     "data": {
      "text/plain": [
       "0      2.453631e+09\n",
       "1      8.604783e+11\n",
       "2      1.585668e+10\n",
       "3      5.915958e+11\n",
       "4      8.169956e+10\n",
       "           ...     \n",
       "261    5.344014e+09\n",
       "262    3.090675e+10\n",
       "263    4.173651e+11\n",
       "264    2.026556e+10\n",
       "265    1.204166e+10\n",
       "Name: 2010, Length: 256, dtype: float64"
      ]
     },
     "execution_count": 5,
     "metadata": {},
     "output_type": "execute_result"
    }
   ],
   "source": [
    "year = 2010                             # Choose a year\n",
    "gdp_yearly = gdp[str(year)].dropna()\n",
    "gdp_yearly"
   ]
  },
  {
   "cell_type": "markdown",
   "id": "15c7e035",
   "metadata": {},
   "source": [
    "2. The next step is to retrieve the first digit of the GDP numbers, and calculate the counts (or percentage) of cases with each of the first digits.\n",
    "\n",
    "**Solution**:"
   ]
  },
  {
   "cell_type": "code",
   "execution_count": 6,
   "id": "2c8e0c00",
   "metadata": {},
   "outputs": [
    {
     "data": {
      "text/plain": [
       "0       2453631284.9162\n",
       "1      860478348236.464\n",
       "2       15856678596.148\n",
       "3      591595778367.133\n",
       "4      81699556136.6643\n",
       "             ...       \n",
       "261    5344014317.91065\n",
       "262     30906749533.221\n",
       "263    417365076968.257\n",
       "264    20265559483.8548\n",
       "265       12041655200.0\n",
       "Name: 2010, Length: 256, dtype: object"
      ]
     },
     "execution_count": 6,
     "metadata": {},
     "output_type": "execute_result"
    }
   ],
   "source": [
    "gdp_str = gdp_yearly.astype(str)      # Convert all numbers to strings\n",
    "gdp_str"
   ]
  },
  {
   "cell_type": "code",
   "execution_count": 7,
   "id": "a5901931",
   "metadata": {},
   "outputs": [
    {
     "data": {
      "text/plain": [
       "0      2\n",
       "1      8\n",
       "2      1\n",
       "3      5\n",
       "4      8\n",
       "      ..\n",
       "261    5\n",
       "262    3\n",
       "263    4\n",
       "264    2\n",
       "265    1\n",
       "Name: 2010, Length: 256, dtype: int64"
      ]
     },
     "execution_count": 7,
     "metadata": {},
     "output_type": "execute_result"
    }
   ],
   "source": [
    "first_digit = gdp_str.str[0].astype(int)    # Take the first character of each string\n",
    "first_digit"
   ]
  },
  {
   "cell_type": "code",
   "execution_count": 8,
   "id": "820b5b2e",
   "metadata": {
    "scrolled": true
   },
   "outputs": [
    {
     "data": {
      "text/plain": [
       "1    0.312500\n",
       "2    0.199219\n",
       "4    0.109375\n",
       "3    0.089844\n",
       "5    0.082031\n",
       "6    0.070312\n",
       "7    0.054688\n",
       "9    0.050781\n",
       "8    0.031250\n",
       "Name: 2010, dtype: float64"
      ]
     },
     "execution_count": 8,
     "metadata": {},
     "output_type": "execute_result"
    }
   ],
   "source": [
    "gdp_p = first_digit.value_counts(normalize=True)\n",
    "gdp_p"
   ]
  },
  {
   "cell_type": "markdown",
   "id": "0cc02ae9",
   "metadata": {},
   "source": [
    "3. In this section, we use the equation of Benford's law to calculate the corresponding probability <code>p</code> for all possible first digits <code>d</code>. Note that <code>d</code> can be written as an array running from 1 to 9, and the probability <code>p</code> can be calculated by applying the equation to all elements in the array.\n",
    "\n",
    "**Solution**:"
   ]
  },
  {
   "cell_type": "code",
   "execution_count": 9,
   "id": "5ac67b3e",
   "metadata": {
    "scrolled": true
   },
   "outputs": [
    {
     "name": "stdout",
     "output_type": "stream",
     "text": [
      "[1 2 3 4 5 6 7 8 9]\n",
      "[0.30103    0.17609126 0.12493874 0.09691001 0.07918125 0.06694679\n",
      " 0.05799195 0.05115252 0.04575749]\n"
     ]
    }
   ],
   "source": [
    "d = np.arange(1, 10)\n",
    "p = np.log10(1 + 1/d)\n",
    "\n",
    "print(d)\n",
    "print(p)"
   ]
  },
  {
   "cell_type": "markdown",
   "id": "57ad6650",
   "metadata": {},
   "source": [
    "4. Please plot 1) the curve of the theoretical probability distribution given by the Benford's law; and 2) the actual distribution of the first digit of GDP numbers, in the same chart, so that we can compare the two for verifying the Benford's law. \n",
    "\n",
    "**Solution**:"
   ]
  },
  {
   "cell_type": "code",
   "execution_count": 10,
   "id": "91f30d98",
   "metadata": {
    "scrolled": true
   },
   "outputs": [
    {
     "data": {
      "image/png": "[encoded data removed]",
      "text/plain": [
       "<Figure size 432x288 with 1 Axes>"
      ]
     },
     "metadata": {
      "needs_background": "light"
     },
     "output_type": "display_data"
    }
   ],
   "source": [
    "plt.bar(d, gdp_p[d], width=0.6, \n",
    "        label=f'First digit of GDPs in {year}')\n",
    "plt.plot(d, p, marker='s', color='r', label=\"Benford's law\")\n",
    "\n",
    "plt.xticks(range(1, 10))\n",
    "plt.xlabel('First digits')\n",
    "plt.ylabel('Proabability of occurrence')\n",
    "plt.legend()\n",
    "plt.grid()\n",
    "plt.show()"
   ]
  },
  {
   "cell_type": "markdown",
   "id": "1adaf947",
   "metadata": {},
   "source": [
    "You may change the selected years and rerun the program above, you would find that each bar graph roughly matches the Benford's law curve. You are encourage to download other natural number datasets, such as the global population or the financial data for some companies, to further verify this law. \n",
    "\n",
    "### Applications\n",
    "\n",
    "In fact, the Benford's law was once used to detect the fraudulent financial data of Enron in 2000.\n",
    "\n",
    "<img src=\"https://si.wsj.net/public/resources/images/NA-CD776_NUMBER_9U_20141205130308.jpg\" width=600pt>"
   ]
  },
  {
   "cell_type": "code",
   "execution_count": 11,
   "id": "bd9ca970",
   "metadata": {},
   "outputs": [
    {
     "data": {
      "image/png": "[encoded data removed]",
      "text/plain": [
       "<Figure size 360x324 with 1 Axes>"
      ]
     },
     "metadata": {
      "needs_background": "light"
     },
     "output_type": "display_data"
    }
   ],
   "source": [
    "plt.figure(figsize=(5, 4.5))\n",
    "plt.fill_between(d, p, color='orange', alpha=0.7, label=\"Benford's law\")\n",
    "plt.plot(d, gdp_p[d], color='k', linewidth=2, linestyle=':',\n",
    "         marker='o', markeredgewidth=1.5, markerfacecolor='w',\n",
    "         label=f'First digit of GDPs in {year}')\n",
    "\n",
    "plt.xticks(range(1, 10))\n",
    "plt.xlabel('First digits')\n",
    "plt.ylabel('Proabability of occurrence')\n",
    "plt.legend()\n",
    "plt.grid()\n",
    "plt.show()"
   ]
  },
  {
   "cell_type": "markdown",
   "id": "ca2a550f",
   "metadata": {},
   "source": [
    "## Question 4\n",
    "\n",
    "The dataset `wage` provides information on a number of working individuals in the year of 1976."
   ]
  },
  {
   "cell_type": "code",
   "execution_count": 12,
   "id": "a56e5648",
   "metadata": {
    "scrolled": false
   },
   "outputs": [
    {
     "data": {
      "text/html": [
       "<div>\n",
       "<style scoped>\n",
       "    .dataframe tbody tr th:only-of-type {\n",
       "        vertical-align: middle;\n",
       "    }\n",
       "\n",
       "    .dataframe tbody tr th {\n",
       "        vertical-align: top;\n",
       "    }\n",
       "\n",
       "    .dataframe thead th {\n",
       "        text-align: right;\n",
       "    }\n",
       "</style>\n",
       "<table border=\"1\" class=\"dataframe\">\n",
       "  <thead>\n",
       "    <tr style=\"text-align: right;\">\n",
       "      <th></th>\n",
       "      <th>wage</th>\n",
       "      <th>educ</th>\n",
       "      <th>exper</th>\n",
       "      <th>gender</th>\n",
       "      <th>married</th>\n",
       "    </tr>\n",
       "  </thead>\n",
       "  <tbody>\n",
       "    <tr>\n",
       "      <th>0</th>\n",
       "      <td>3.10</td>\n",
       "      <td>11.0</td>\n",
       "      <td>2.0</td>\n",
       "      <td>F</td>\n",
       "      <td>False</td>\n",
       "    </tr>\n",
       "    <tr>\n",
       "      <th>1</th>\n",
       "      <td>3.24</td>\n",
       "      <td>12.0</td>\n",
       "      <td>22.0</td>\n",
       "      <td>F</td>\n",
       "      <td>True</td>\n",
       "    </tr>\n",
       "    <tr>\n",
       "      <th>2</th>\n",
       "      <td>3.00</td>\n",
       "      <td>11.0</td>\n",
       "      <td>2.0</td>\n",
       "      <td>M</td>\n",
       "      <td>False</td>\n",
       "    </tr>\n",
       "    <tr>\n",
       "      <th>3</th>\n",
       "      <td>6.00</td>\n",
       "      <td>8.0</td>\n",
       "      <td>44.0</td>\n",
       "      <td>M</td>\n",
       "      <td>True</td>\n",
       "    </tr>\n",
       "    <tr>\n",
       "      <th>4</th>\n",
       "      <td>5.30</td>\n",
       "      <td>12.0</td>\n",
       "      <td>7.0</td>\n",
       "      <td>M</td>\n",
       "      <td>True</td>\n",
       "    </tr>\n",
       "    <tr>\n",
       "      <th>...</th>\n",
       "      <td>...</td>\n",
       "      <td>...</td>\n",
       "      <td>...</td>\n",
       "      <td>...</td>\n",
       "      <td>...</td>\n",
       "    </tr>\n",
       "    <tr>\n",
       "      <th>521</th>\n",
       "      <td>15.00</td>\n",
       "      <td>16.0</td>\n",
       "      <td>14.0</td>\n",
       "      <td>F</td>\n",
       "      <td>True</td>\n",
       "    </tr>\n",
       "    <tr>\n",
       "      <th>522</th>\n",
       "      <td>2.27</td>\n",
       "      <td>10.0</td>\n",
       "      <td>2.0</td>\n",
       "      <td>F</td>\n",
       "      <td>False</td>\n",
       "    </tr>\n",
       "    <tr>\n",
       "      <th>523</th>\n",
       "      <td>4.67</td>\n",
       "      <td>15.0</td>\n",
       "      <td>13.0</td>\n",
       "      <td>M</td>\n",
       "      <td>True</td>\n",
       "    </tr>\n",
       "    <tr>\n",
       "      <th>524</th>\n",
       "      <td>11.56</td>\n",
       "      <td>16.0</td>\n",
       "      <td>5.0</td>\n",
       "      <td>M</td>\n",
       "      <td>True</td>\n",
       "    </tr>\n",
       "    <tr>\n",
       "      <th>525</th>\n",
       "      <td>3.50</td>\n",
       "      <td>14.0</td>\n",
       "      <td>5.0</td>\n",
       "      <td>F</td>\n",
       "      <td>False</td>\n",
       "    </tr>\n",
       "  </tbody>\n",
       "</table>\n",
       "<p>526 rows × 5 columns</p>\n",
       "</div>"
      ],
      "text/plain": [
       "      wage  educ  exper gender  married\n",
       "0     3.10  11.0    2.0      F    False\n",
       "1     3.24  12.0   22.0      F     True\n",
       "2     3.00  11.0    2.0      M    False\n",
       "3     6.00   8.0   44.0      M     True\n",
       "4     5.30  12.0    7.0      M     True\n",
       "..     ...   ...    ...    ...      ...\n",
       "521  15.00  16.0   14.0      F     True\n",
       "522   2.27  10.0    2.0      F    False\n",
       "523   4.67  15.0   13.0      M     True\n",
       "524  11.56  16.0    5.0      M     True\n",
       "525   3.50  14.0    5.0      F    False\n",
       "\n",
       "[526 rows x 5 columns]"
      ]
     },
     "execution_count": 12,
     "metadata": {},
     "output_type": "execute_result"
    }
   ],
   "source": [
    "wage = pd.read_csv('wage.csv')\n",
    "wage"
   ]
  },
  {
   "cell_type": "markdown",
   "id": "c5f74cdd",
   "metadata": {},
   "source": [
    "Use histograms to compare the distributions of wages of male workers and female workers. Please note that in order to make a fair comparison, we need to make sure that the two histograms have the same width of bins. You may use the docstring of the `hist()` function to explore how to specify the width of bins. \n",
    "\n",
    "**Solution**:\n",
    "\n",
    "The dataset is split into two subsets for males and females, respectively. "
   ]
  },
  {
   "cell_type": "code",
   "execution_count": 13,
   "id": "e8964aa6",
   "metadata": {},
   "outputs": [],
   "source": [
    "male = wage.loc[wage['gender'] == 'M']\n",
    "female = wage.loc[wage['gender'] == 'F']"
   ]
  },
  {
   "cell_type": "markdown",
   "id": "aba3bf99",
   "metadata": {},
   "source": [
    "As described in the docstring of the `hist` function, the width of the bins can be specified using the `bins` argument.\n",
    "\n",
    "```\n",
    "    bins : int or sequence or str, default: :rc:`hist.bins`\n",
    "        If *bins* is an integer, it defines the number of equal-width bins\n",
    "        in the range.\n",
    "    \n",
    "        If *bins* is a sequence, it defines the bin edges, including the\n",
    "        left edge of the first bin and the right edge of the last bin;\n",
    "        in this case, bins may be unequally spaced.  All but the last\n",
    "        (righthand-most) bin is half-open.  In other words, if *bins* is::\n",
    "    \n",
    "            [1, 2, 3, 4]\n",
    "    \n",
    "        then the first bin is ``[1, 2)`` (including 1, but excluding 2) and\n",
    "        the second ``[2, 3)``.  The last bin, however, is ``[3, 4]``, which\n",
    "        *includes* 4.\n",
    "    \n",
    "        If *bins* is a string, it is one of the binning strategies\n",
    "        supported by `numpy.histogram_bin_edges`: 'auto', 'fd', 'doane',\n",
    "        'scott', 'stone', 'rice', 'sturges', or 'sqrt'.\n",
    "```\n",
    "\n",
    "Therefore, we can specify the bin width of these two histograms using an array."
   ]
  },
  {
   "cell_type": "code",
   "execution_count": 14,
   "id": "197d67cd",
   "metadata": {
    "scrolled": true
   },
   "outputs": [
    {
     "data": {
      "image/png": "[encoded data removed]",
      "text/plain": [
       "<Figure size 432x288 with 1 Axes>"
      ]
     },
     "metadata": {
      "needs_background": "light"
     },
     "output_type": "display_data"
    }
   ],
   "source": [
    "bins = np.arange(0, 26, 1.5)\n",
    "\n",
    "plt.hist(male['wage'], bins=bins, density=True, color='b', alpha=0.5, label='Male')\n",
    "plt.hist(female['wage'], bins=bins, density=True, color='r', alpha=0.5, label='Female')\n",
    "plt.legend(fontsize=12)\n",
    "plt.xlabel('Wage ($)', fontsize=12)\n",
    "plt.ylabel('Proportion', fontsize=12)\n",
    "plt.show()"
   ]
  },
  {
   "cell_type": "markdown",
   "id": "ad8fcf2f",
   "metadata": {},
   "source": [
    "Here, we also set the argument `density` to be `True`, so the heights of bins are the proportions of data occurrences, instead of their actual counts.  "
   ]
  }
 ],
 "metadata": {
  "kernelspec": {
   "display_name": "Python 3 (ipykernel)",
   "language": "python",
   "name": "python3"
  },
  "language_info": {
   "codemirror_mode": {
    "name": "ipython",
    "version": 3
   },
   "file_extension": ".py",
   "mimetype": "text/x-python",
   "name": "python",
   "nbconvert_exporter": "python",
   "pygments_lexer": "ipython3",
   "version": "3.9.13"
  },
  "varInspector": {
   "cols": {
    "lenName": 16,
    "lenType": 16,
    "lenVar": 40
   },
   "kernels_config": {
    "python": {
     "delete_cmd_postfix": "",
     "delete_cmd_prefix": "del ",
     "library": "var_list.py",
     "varRefreshCmd": "print(var_dic_list())"
    },
    "r": {
     "delete_cmd_postfix": ") ",
     "delete_cmd_prefix": "rm(",
     "library": "var_list.r",
     "varRefreshCmd": "cat(var_dic_list()) "
    }
   },
   "types_to_exclude": [
    "module",
    "function",
    "builtin_function_or_method",
    "instance",
    "_Feature"
   ],
   "window_display": false
  }
 },
 "nbformat": 4,
 "nbformat_minor": 5
}
