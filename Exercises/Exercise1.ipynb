{
 "cells": [
  {
   "cell_type": "markdown",
   "id": "0a228e7d",
   "metadata": {},
   "source": [
    "## Take Notes on Jupyter Notebook\n",
    "\n",
    "As we demonstrated in class, the markdown cells of Jupyter Notebook are very powerful as they can be used to present text, bullet points, links and other components. Please use the markdown cells to take notes and share a screenshot of your notes here. Possible options include but not limited to\n",
    "\n",
    "- Notes for a book;\n",
    "- Notes for another module;\n",
    "- Your thoughts on the data visualization applications given in slides: \n",
    "[Map of the blue death](https://www.youtube.com/watch?v=9NVT6iZP2qg) and [How the circle line rogue train was caught with data](https://clubs.ntu.edu.sg/businessanalytics/?p=169).\n",
    "\n",
    "You are not required to include any code. Just try to explore the different features of the markdown cells. "
   ]
  },
  {
   "attachments": {},
   "cell_type": "markdown",
   "id": "4949a044",
   "metadata": {},
   "source": [
    "### Lesson 1: Intro to Python\n",
    "\n",
    "[Course Homepage](https://canvas.nus.edu.sg/courses/38902)\n",
    "\n",
    "<details>\n",
    "<summary>Course Overview</summary>\n",
    "- Python programming and Pythonic coding styles\n",
    "<br>\n",
    "- Analytical and visualization packages\n",
    "<br>\n",
    "- Math and statistics\n",
    "<br>\n",
    "- Practical business insights and problem solving skills\n",
    "</details>\n",
    "\n",
    "*Course Components*\n",
    "1. Class participation: **10%**\n",
    "2. Project report: **20%**\n",
    "3. Project presentation: **15%**\n",
    "4. Final Exam: **55%**\n",
    "\n",
    "> Beautiful is better than ugly. \n",
    "> \n",
    "> Simple is better than complex.\n",
    "\n"
   ]
  },
  {
   "cell_type": "markdown",
   "id": "9244d489",
   "metadata": {},
   "source": []
  }
 ],
 "metadata": {
  "kernelspec": {
   "display_name": "Python 3",
   "language": "python",
   "name": "python3"
  },
  "language_info": {
   "codemirror_mode": {
    "name": "ipython",
    "version": 3
   },
   "file_extension": ".py",
   "mimetype": "text/x-python",
   "name": "python",
   "nbconvert_exporter": "python",
   "pygments_lexer": "ipython3",
   "version": "3.9.1 (v3.9.1:1e5d33e9b9, Dec  7 2020, 12:10:52) \n[Clang 6.0 (clang-600.0.57)]"
  },
  "varInspector": {
   "cols": {
    "lenName": 16,
    "lenType": 16,
    "lenVar": 40
   },
   "kernels_config": {
    "python": {
     "delete_cmd_postfix": "",
     "delete_cmd_prefix": "del ",
     "library": "var_list.py",
     "varRefreshCmd": "print(var_dic_list())"
    },
    "r": {
     "delete_cmd_postfix": ") ",
     "delete_cmd_prefix": "rm(",
     "library": "var_list.r",
     "varRefreshCmd": "cat(var_dic_list()) "
    }
   },
   "types_to_exclude": [
    "module",
    "function",
    "builtin_function_or_method",
    "instance",
    "_Feature"
   ],
   "window_display": false
  },
  "vscode": {
   "interpreter": {
    "hash": "aee8b7b246df8f9039afb4144a1f6fd8d2ca17a180786b69acc140d282b71a49"
   }
  }
 },
 "nbformat": 4,
 "nbformat_minor": 5
}
