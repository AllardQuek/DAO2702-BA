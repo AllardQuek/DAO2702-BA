{
 "cells": [
  {
   "cell_type": "markdown",
   "id": "b21f391b",
   "metadata": {},
   "source": [
    "## Question 1\n",
    "\n",
    "1. The variable `data` is defined to be the data frame below.\n",
    "\n",
    "| |**Employee_Name**|**PayRate**|**Position**|**DOB**|**Sex**|**Married**|\n",
    "|----:|---------------:|-----------:|----------:|------:|-------:|-------:|\n",
    "|**0**| Brown, Mia | 28.5 | Accountant I | 11/24/87 | F | True |\n",
    "|**1**| LaRotonda, William | 23.0 | Accountant I | 04/26/84 | M | False |\n",
    "|**2**| Steans, Tyrone | 29.0 | Account I | 09/01/86 | M | False |\n",
    "|**...**| ... | ... | ... | ... | ... | ... |\n",
    "|**307**| Semizoglou, Jeremiah | 53.8 | Sr. Network Engineer | 02/09/83 | M | True |\n",
    "|**308**| South, Joe | 53.0 | Sr. Network Engineer | 09/09/65 | M | False |\n",
    "|**309**| Warfield, Sarah | 55.2 | Sr. Network Engineer | 05/02/78 | F | False |\n",
    "\n",
    "The column **DOB** gives the date of birth expressed as MM/DD/YY for each individual. Which of the following code segments is correct in creating a new column `Age` that is the age (2022 - birth year) of the individual?\n",
    "\n",
    "    A. \n",
    "---\n",
    "```python\n",
    "data['Age'] = 122 – data['DOB'].astype(str)[-2:].astype(int)\n",
    "```\n",
    "---\n",
    "\n",
    "    B. \n",
    "---\n",
    "```python\n",
    "data['Age'] = 122 – data['DOB'].str.astype(str)[-2:].astype(int)\n",
    "```\n",
    "---\n",
    "\n",
    "    C. \n",
    "---\n",
    "```python\n",
    "data['Age'] = 122 – data['DOB'].str[-2:].astype(int)\n",
    "```\n",
    "---\n",
    "\n",
    "    D.\n",
    "---\n",
    "```python\n",
    "data['Age'] = 122 – str(data['DOB'])[-2:].astype(int)\n",
    "```\n",
    "---"
   ]
  },
  {
   "cell_type": "markdown",
   "id": "500fa55f",
   "metadata": {},
   "source": [
    "## Question 2\n",
    "\n",
    "Considering the following dataset on Singapore private house properties."
   ]
  },
  {
   "cell_type": "code",
   "execution_count": 1,
   "id": "b7a3ab9f",
   "metadata": {
    "scrolled": false
   },
   "outputs": [
    {
     "data": {
      "text/html": [
       "<div>\n",
       "<style scoped>\n",
       "    .dataframe tbody tr th:only-of-type {\n",
       "        vertical-align: middle;\n",
       "    }\n",
       "\n",
       "    .dataframe tbody tr th {\n",
       "        vertical-align: top;\n",
       "    }\n",
       "\n",
       "    .dataframe thead th {\n",
       "        text-align: right;\n",
       "    }\n",
       "</style>\n",
       "<table border=\"1\" class=\"dataframe\">\n",
       "  <thead>\n",
       "    <tr style=\"text-align: right;\">\n",
       "      <th></th>\n",
       "      <th>project</th>\n",
       "      <th>street</th>\n",
       "      <th>type</th>\n",
       "      <th>district</th>\n",
       "      <th>segment</th>\n",
       "      <th>tenure</th>\n",
       "      <th>commence</th>\n",
       "      <th>sale</th>\n",
       "      <th>price</th>\n",
       "      <th>area</th>\n",
       "      <th>level</th>\n",
       "      <th>date</th>\n",
       "    </tr>\n",
       "  </thead>\n",
       "  <tbody>\n",
       "    <tr>\n",
       "      <th>0</th>\n",
       "      <td>PARC CLEMATIS</td>\n",
       "      <td>JALAN LEMPENG</td>\n",
       "      <td>Apartment</td>\n",
       "      <td>5</td>\n",
       "      <td>OCR</td>\n",
       "      <td>99 years</td>\n",
       "      <td>2019.0</td>\n",
       "      <td>New Sale</td>\n",
       "      <td>2567000</td>\n",
       "      <td>1496</td>\n",
       "      <td>11 to 15</td>\n",
       "      <td>Dec-21</td>\n",
       "    </tr>\n",
       "    <tr>\n",
       "      <th>1</th>\n",
       "      <td>ONE PEARL BANK</td>\n",
       "      <td>PEARL BANK</td>\n",
       "      <td>Apartment</td>\n",
       "      <td>3</td>\n",
       "      <td>RCR</td>\n",
       "      <td>99 years</td>\n",
       "      <td>2019.0</td>\n",
       "      <td>New Sale</td>\n",
       "      <td>2986000</td>\n",
       "      <td>1281</td>\n",
       "      <td>16 to 20</td>\n",
       "      <td>Dec-21</td>\n",
       "    </tr>\n",
       "    <tr>\n",
       "      <th>2</th>\n",
       "      <td>ONE PEARL BANK</td>\n",
       "      <td>PEARL BANK</td>\n",
       "      <td>Apartment</td>\n",
       "      <td>3</td>\n",
       "      <td>RCR</td>\n",
       "      <td>99 years</td>\n",
       "      <td>2019.0</td>\n",
       "      <td>New Sale</td>\n",
       "      <td>1835000</td>\n",
       "      <td>700</td>\n",
       "      <td>21 to 25</td>\n",
       "      <td>Dec-21</td>\n",
       "    </tr>\n",
       "    <tr>\n",
       "      <th>3</th>\n",
       "      <td>ONE PEARL BANK</td>\n",
       "      <td>PEARL BANK</td>\n",
       "      <td>Apartment</td>\n",
       "      <td>3</td>\n",
       "      <td>RCR</td>\n",
       "      <td>99 years</td>\n",
       "      <td>2019.0</td>\n",
       "      <td>New Sale</td>\n",
       "      <td>1924000</td>\n",
       "      <td>840</td>\n",
       "      <td>06 to 10</td>\n",
       "      <td>Dec-21</td>\n",
       "    </tr>\n",
       "    <tr>\n",
       "      <th>4</th>\n",
       "      <td>THE CREST</td>\n",
       "      <td>PRINCE CHARLES CRESCENT</td>\n",
       "      <td>Condominium</td>\n",
       "      <td>3</td>\n",
       "      <td>RCR</td>\n",
       "      <td>99 years</td>\n",
       "      <td>2012.0</td>\n",
       "      <td>Resale</td>\n",
       "      <td>1620000</td>\n",
       "      <td>883</td>\n",
       "      <td>11 to 15</td>\n",
       "      <td>Dec-21</td>\n",
       "    </tr>\n",
       "    <tr>\n",
       "      <th>...</th>\n",
       "      <td>...</td>\n",
       "      <td>...</td>\n",
       "      <td>...</td>\n",
       "      <td>...</td>\n",
       "      <td>...</td>\n",
       "      <td>...</td>\n",
       "      <td>...</td>\n",
       "      <td>...</td>\n",
       "      <td>...</td>\n",
       "      <td>...</td>\n",
       "      <td>...</td>\n",
       "      <td>...</td>\n",
       "    </tr>\n",
       "    <tr>\n",
       "      <th>104896</th>\n",
       "      <td>FLORAVILLE</td>\n",
       "      <td>CACTUS ROAD</td>\n",
       "      <td>Apartment</td>\n",
       "      <td>28</td>\n",
       "      <td>OCR</td>\n",
       "      <td>freehold</td>\n",
       "      <td>NaN</td>\n",
       "      <td>New Sale</td>\n",
       "      <td>910000</td>\n",
       "      <td>818</td>\n",
       "      <td>01 to 05</td>\n",
       "      <td>Jan-17</td>\n",
       "    </tr>\n",
       "    <tr>\n",
       "      <th>104897</th>\n",
       "      <td>EUPHONY GARDENS</td>\n",
       "      <td>JALAN MATA AYER</td>\n",
       "      <td>Condominium</td>\n",
       "      <td>27</td>\n",
       "      <td>OCR</td>\n",
       "      <td>99 years</td>\n",
       "      <td>1998.0</td>\n",
       "      <td>Resale</td>\n",
       "      <td>739998</td>\n",
       "      <td>1044</td>\n",
       "      <td>01 to 05</td>\n",
       "      <td>Jan-17</td>\n",
       "    </tr>\n",
       "    <tr>\n",
       "      <th>104898</th>\n",
       "      <td>SYMPHONY SUITES</td>\n",
       "      <td>YISHUN CLOSE</td>\n",
       "      <td>Condominium</td>\n",
       "      <td>27</td>\n",
       "      <td>OCR</td>\n",
       "      <td>99 years</td>\n",
       "      <td>2014.0</td>\n",
       "      <td>New Sale</td>\n",
       "      <td>875000</td>\n",
       "      <td>797</td>\n",
       "      <td>11 to 15</td>\n",
       "      <td>Jan-17</td>\n",
       "    </tr>\n",
       "    <tr>\n",
       "      <th>104899</th>\n",
       "      <td>SYMPHONY SUITES</td>\n",
       "      <td>YISHUN CLOSE</td>\n",
       "      <td>Condominium</td>\n",
       "      <td>27</td>\n",
       "      <td>OCR</td>\n",
       "      <td>99 years</td>\n",
       "      <td>2014.0</td>\n",
       "      <td>New Sale</td>\n",
       "      <td>759000</td>\n",
       "      <td>689</td>\n",
       "      <td>11 to 15</td>\n",
       "      <td>Jan-17</td>\n",
       "    </tr>\n",
       "    <tr>\n",
       "      <th>104900</th>\n",
       "      <td>SELETAR PARK RESIDENCE</td>\n",
       "      <td>SELETAR ROAD</td>\n",
       "      <td>Condominium</td>\n",
       "      <td>28</td>\n",
       "      <td>OCR</td>\n",
       "      <td>99 years</td>\n",
       "      <td>2011.0</td>\n",
       "      <td>Resale</td>\n",
       "      <td>1060000</td>\n",
       "      <td>872</td>\n",
       "      <td>01 to 05</td>\n",
       "      <td>Jan-17</td>\n",
       "    </tr>\n",
       "  </tbody>\n",
       "</table>\n",
       "<p>104901 rows × 12 columns</p>\n",
       "</div>"
      ],
      "text/plain": [
       "                       project                   street         type  \\\n",
       "0                PARC CLEMATIS            JALAN LEMPENG    Apartment   \n",
       "1               ONE PEARL BANK               PEARL BANK    Apartment   \n",
       "2               ONE PEARL BANK               PEARL BANK    Apartment   \n",
       "3               ONE PEARL BANK               PEARL BANK    Apartment   \n",
       "4                    THE CREST  PRINCE CHARLES CRESCENT  Condominium   \n",
       "...                        ...                      ...          ...   \n",
       "104896              FLORAVILLE              CACTUS ROAD    Apartment   \n",
       "104897         EUPHONY GARDENS          JALAN MATA AYER  Condominium   \n",
       "104898         SYMPHONY SUITES             YISHUN CLOSE  Condominium   \n",
       "104899         SYMPHONY SUITES             YISHUN CLOSE  Condominium   \n",
       "104900  SELETAR PARK RESIDENCE             SELETAR ROAD  Condominium   \n",
       "\n",
       "        district segment    tenure  commence      sale    price  area  \\\n",
       "0              5     OCR  99 years    2019.0  New Sale  2567000  1496   \n",
       "1              3     RCR  99 years    2019.0  New Sale  2986000  1281   \n",
       "2              3     RCR  99 years    2019.0  New Sale  1835000   700   \n",
       "3              3     RCR  99 years    2019.0  New Sale  1924000   840   \n",
       "4              3     RCR  99 years    2012.0    Resale  1620000   883   \n",
       "...          ...     ...       ...       ...       ...      ...   ...   \n",
       "104896        28     OCR  freehold       NaN  New Sale   910000   818   \n",
       "104897        27     OCR  99 years    1998.0    Resale   739998  1044   \n",
       "104898        27     OCR  99 years    2014.0  New Sale   875000   797   \n",
       "104899        27     OCR  99 years    2014.0  New Sale   759000   689   \n",
       "104900        28     OCR  99 years    2011.0    Resale  1060000   872   \n",
       "\n",
       "           level    date  \n",
       "0       11 to 15  Dec-21  \n",
       "1       16 to 20  Dec-21  \n",
       "2       21 to 25  Dec-21  \n",
       "3       06 to 10  Dec-21  \n",
       "4       11 to 15  Dec-21  \n",
       "...          ...     ...  \n",
       "104896  01 to 05  Jan-17  \n",
       "104897  01 to 05  Jan-17  \n",
       "104898  11 to 15  Jan-17  \n",
       "104899  11 to 15  Jan-17  \n",
       "104900  01 to 05  Jan-17  \n",
       "\n",
       "[104901 rows x 12 columns]"
      ]
     },
     "execution_count": 1,
     "metadata": {},
     "output_type": "execute_result"
    }
   ],
   "source": [
    "import pandas as pd\n",
    "\n",
    "prop = pd.read_csv('properties2.csv')\n",
    "prop"
   ]
  },
  {
   "cell_type": "markdown",
   "id": "1dde26f7",
   "metadata": {},
   "source": [
    "Details of the variables are given below:\n",
    "- `project`: The name of the property project.\n",
    "- `street`: The street name of the property.\n",
    "- `type`: The type of the property: apartment or condominium.\n",
    "- `district`: Location of the property, given as the district code of Singapore, details can be found [here](https://www.mingproperty.sg/singapore-district-code/).\n",
    "- `segment`: Location of the property, given as the region segment of Singapore: Core Central Region (CCR), Rest of Central Region (RCR), or the Outside Central Region (OCR).\n",
    "- `tenure`: The tenure type of the property: 99 years or freehold.\n",
    "- `commence`: The commencing year of the property.\n",
    "- `sale`: The sales type of the property: new sale or resale.\n",
    "- `price`: The total price (in Singapore Dollars) of the property.\n",
    "- `area`: The area of the property in square feet.\n",
    "- `level`: The levels of the condos.\n",
    "- `date`: The date of the transaction. \n",
    "\n",
    "1. What is the percentage of records that have the commencing year to be missing?"
   ]
  },
  {
   "cell_type": "code",
   "execution_count": null,
   "id": "bfa1f179",
   "metadata": {},
   "outputs": [],
   "source": []
  },
  {
   "cell_type": "markdown",
   "id": "21d23dde",
   "metadata": {},
   "source": [
    "2. Create a new column called `price_psf` that is the per square foot price of these properties, i.e. the total price divided by the area."
   ]
  },
  {
   "cell_type": "code",
   "execution_count": null,
   "id": "5577843d",
   "metadata": {},
   "outputs": [],
   "source": []
  },
  {
   "cell_type": "markdown",
   "id": "e6a85844",
   "metadata": {},
   "source": [
    "3. How many records in the dataset are condos/apartments located in district 5 and their levels are higher than 20?\n",
    "\n",
    "**Solution**:"
   ]
  },
  {
   "cell_type": "code",
   "execution_count": null,
   "id": "ed86daaf",
   "metadata": {},
   "outputs": [],
   "source": []
  },
  {
   "cell_type": "code",
   "execution_count": null,
   "id": "5df0042b",
   "metadata": {},
   "outputs": [],
   "source": []
  },
  {
   "cell_type": "markdown",
   "id": "4cb12858",
   "metadata": {},
   "source": [
    "4. What is the average per square foot price of all condos/apartments located in district 5 and their levels are higher than 20?\n",
    "**Solution**:"
   ]
  },
  {
   "cell_type": "code",
   "execution_count": null,
   "id": "22e4035e",
   "metadata": {
    "scrolled": false
   },
   "outputs": [],
   "source": []
  },
  {
   "cell_type": "code",
   "execution_count": null,
   "id": "dfb7d388",
   "metadata": {
    "scrolled": true
   },
   "outputs": [],
   "source": []
  },
  {
   "cell_type": "markdown",
   "id": "63a381a0",
   "metadata": {},
   "source": [
    "5. Consider all condos/apartments transactions that were done in 2020 or later, what is the median of the areas?\n",
    "\n",
    "**Solution**:"
   ]
  },
  {
   "cell_type": "code",
   "execution_count": null,
   "id": "5fb79281",
   "metadata": {
    "scrolled": false
   },
   "outputs": [],
   "source": []
  },
  {
   "cell_type": "code",
   "execution_count": null,
   "id": "1008073b",
   "metadata": {
    "scrolled": false
   },
   "outputs": [],
   "source": []
  },
  {
   "cell_type": "markdown",
   "id": "2953cfa8",
   "metadata": {},
   "source": [
    "6. Consider all transactions that were done in 2020 or later, what is the percentage of condos/apartments that are located in the RCR region?\n",
    "\n",
    "**Solution**:"
   ]
  },
  {
   "cell_type": "code",
   "execution_count": null,
   "id": "fa792067",
   "metadata": {
    "scrolled": false
   },
   "outputs": [],
   "source": []
  },
  {
   "cell_type": "code",
   "execution_count": null,
   "id": "c70cd7d5",
   "metadata": {},
   "outputs": [],
   "source": []
  },
  {
   "cell_type": "markdown",
   "id": "1b306477",
   "metadata": {},
   "source": [
    "7. Consider transaction records that are 1) resale condos with a 99-year tenure; 2) with a total price between 2,000,000 and 2,200,000; and 3) sold in the year of 2021, use data visualization to show how the commencing years affect the per square foot prices.\n",
    "\n",
    "**Solution**:"
   ]
  },
  {
   "cell_type": "code",
   "execution_count": null,
   "id": "6fb56dc0",
   "metadata": {
    "scrolled": false
   },
   "outputs": [],
   "source": []
  },
  {
   "cell_type": "code",
   "execution_count": null,
   "id": "543998c7",
   "metadata": {
    "scrolled": true
   },
   "outputs": [],
   "source": []
  },
  {
   "cell_type": "code",
   "execution_count": null,
   "id": "e20f91b9",
   "metadata": {
    "scrolled": true
   },
   "outputs": [],
   "source": []
  },
  {
   "cell_type": "markdown",
   "id": "d78f3845",
   "metadata": {},
   "source": [
    "## Question 3\n",
    "\n",
    "In the research paper [*Chocolate Consumption, Cognitive Function, and Nobel Laureates*](https://www.nejm.org/doi/full/10.1056/nejmon1211064) published on *New England Journal of Medicine*, the author is trying to prove that chocolate consumption may improve cognitive function not only in individuals but in whole populations. The main evidence is shown by the following figure.\n",
    "\n",
    "<img src=\"https://github.com/XiongPengNUS/dao_resources/blob/main/choco_nobel.png?raw=true\" width=600>\n",
    "\n",
    "Do you agree that the data visual above is sufficient in proving that consuming chocolate will improve the cognitive function of the whole population?\n",
    "\n",
    "**Solution**:"
   ]
  },
  {
   "cell_type": "code",
   "execution_count": null,
   "id": "cf8edec3",
   "metadata": {},
   "outputs": [],
   "source": []
  }
 ],
 "metadata": {
  "kernelspec": {
   "display_name": "Python 3 (ipykernel)",
   "language": "python",
   "name": "python3"
  },
  "language_info": {
   "codemirror_mode": {
    "name": "ipython",
    "version": 3
   },
   "file_extension": ".py",
   "mimetype": "text/x-python",
   "name": "python",
   "nbconvert_exporter": "python",
   "pygments_lexer": "ipython3",
   "version": "3.9.13"
  },
  "varInspector": {
   "cols": {
    "lenName": 16,
    "lenType": 16,
    "lenVar": 40
   },
   "kernels_config": {
    "python": {
     "delete_cmd_postfix": "",
     "delete_cmd_prefix": "del ",
     "library": "var_list.py",
     "varRefreshCmd": "print(var_dic_list())"
    },
    "r": {
     "delete_cmd_postfix": ") ",
     "delete_cmd_prefix": "rm(",
     "library": "var_list.r",
     "varRefreshCmd": "cat(var_dic_list()) "
    }
   },
   "types_to_exclude": [
    "module",
    "function",
    "builtin_function_or_method",
    "instance",
    "_Feature"
   ],
   "window_display": false
  }
 },
 "nbformat": 4,
 "nbformat_minor": 5
}
