{
 "cells": [
  {
   "cell_type": "markdown",
   "id": "4994908d",
   "metadata": {},
   "source": [
    "## Question 1\n",
    "\n",
    "1. \tA sample of n households is selected as part of a study on electricity usage in March. In a very large study in March of the previous year it was found that the population standard deviation of the usage was $\\sigma = 81\\text{kWh}$. Given a $99\\%$ confidence interval for the mean usage, as the code below,\n",
    "\n",
    "---\n",
    "```python\n",
    "from scipy.stats import norm\n",
    "\n",
    "sigma = 81\n",
    "alpha = 0.01\n",
    "```\n",
    "---\n",
    "\n",
    "which of the following code calculates the minimum sample size n (no need to round to an integer) such that the width of the confidence interval is no larger than $50\\text{kWh}$? (Ans: D)\n",
    "\n",
    "    A. \n",
    "---\n",
    "```python\n",
    "z = norm.ppf(1 - alpha/2)\n",
    "n = (z*sigma/50) ** 2\n",
    "```\n",
    "---\n",
    "\n",
    "    B.\n",
    "---\n",
    "```python\n",
    "z = norm.ppf(1 - alpha)\n",
    "n = (z*sigma/50) ** 2\n",
    "```\n",
    "---\n",
    "\n",
    "    C. \n",
    "---\n",
    "```python\n",
    "z = norm.ppf(1 - alpha)\n",
    "n = (2*z*sigma/50) ** 2\n",
    "```\n",
    "---\n",
    "\n",
    "    D.\n",
    "---\n",
    "```python\n",
    "z = norm.ppf(1 - alpha/2)\n",
    "n = (2*z*sigma/50) ** 2\n",
    "```\n",
    "---\n",
    "\n",
    "<br>\n",
    "\n",
    "2. Given the parameters defined below,\n",
    "\n",
    "---\n",
    "```python\n",
    "from scipy.stats import norm\n",
    "\n",
    "alpha = 0.05            # The confidence level 1 - alpha\n",
    "sigma = 1               # Population standard deviation\n",
    "n = 20                  # Sample size n\n",
    "x_bar = 20              # Sample mean\n",
    "\n",
    "se = sigma / n**0.5\n",
    "```\n",
    "---\n",
    "\n",
    "The sample size is `n`, and the sample mean is `x_bar`. The population standard deviation is known to be `sigma`. How to calculate the upper bound of the confidence interval of the population mean? (Ans: A)\n",
    "\n",
    "    A. \n",
    "---\n",
    "```python\n",
    "upper = x_bar + norm.ppf(1 - alpha/2)*se\n",
    "```\n",
    "---\n",
    "\n",
    "    B. \n",
    "---\n",
    "```python\n",
    "upper = x_bar + norm.ppf((1-alpha)/2)*se\n",
    "```\n",
    "---\n",
    "\n",
    "    C.\n",
    "---\n",
    "```python\n",
    "upper = x_bar + norm.ppf(-alpha/2)*se\n",
    "```\n",
    "---\n",
    "\n",
    "    D.\n",
    "---\n",
    "```python\n",
    "upper = x_bar - norm.ppf(1-alpha/2)*se\n",
    "```\n",
    "---"
   ]
  },
  {
   "cell_type": "markdown",
   "id": "0f5d18db",
   "metadata": {},
   "source": [
    " "
   ]
  },
  {
   "cell_type": "markdown",
   "id": "276a78d1",
   "metadata": {},
   "source": [
    "## Question 2\n",
    "\n",
    "We toss a die 65 times, and the results are given in the following table.\n",
    "\n",
    "Tossed number | Number of appearances\n",
    ":------------:|:---------------------:\n",
    "1 | 12\n",
    "2 | 7\n",
    "3 | 11\n",
    "4 | 9\n",
    "5 | 15\n",
    "6 | 11\n",
    "\n",
    "1. What is the sample mean of the tossed numbers?\n",
    "\n",
    "**Solution**:\n",
    "\n",
    "The sample mean is calculated by\n",
    "\\begin{align}\n",
    "\\bar{x} = \\frac{1}{65}\\sum\\limits_{i=1}^{65} x_i = \\frac{1\\times 12 + 2\\times 7 + 3\\times 11 + 4 \\times 9 + 5\\times 15 + 6\\times 11}{65} = 3.63, \n",
    "\\end{align}\n",
    "because among all $x_i$, there are 12 ones, 7 twos, 11 threes, 9 fours, 15 fives, and 11 sixes. "
   ]
  },
  {
   "cell_type": "code",
   "execution_count": 2,
   "id": "fd5f3cb0",
   "metadata": {},
   "outputs": [
    {
     "data": {
      "text/plain": [
       "3.6307692307692307"
      ]
     },
     "execution_count": 2,
     "metadata": {},
     "output_type": "execute_result"
    }
   ],
   "source": [
    "n = 65\n",
    "mean_s = (1*12 + 2*7 + 3*11 + 4*9 + 5*15 + 6*11) / n\n",
    "mean_s"
   ]
  },
  {
   "cell_type": "markdown",
   "id": "5746a204",
   "metadata": {},
   "source": [
    "2. What is the sample deviation of the tossed number?\n",
    "\n",
    "**Solution**:\n",
    "\n",
    "The sample standard deviation can be calculated as\n",
    "\\begin{align}\n",
    "s =& \\sqrt{\\frac{1}{65-1}\\sum\\limits_{i=1}^{65}(x_i - \\bar{x})^2} \\\\\n",
    "=& \\sqrt{\\frac{(1 - \\bar{x})^2\\times 12 + (2-\\bar{x})^2\\times 7 + (3-\\bar{x})^2\\times 11 + (4-\\bar{x})^2 \\times 9 + (5-\\bar{x})^2\\times 15 + (6-\\bar{x})^2\\times 11}{64}} = 1.755, \n",
    "\\end{align}"
   ]
  },
  {
   "cell_type": "code",
   "execution_count": 16,
   "id": "fd856dc0",
   "metadata": {
    "scrolled": true
   },
   "outputs": [
    {
     "data": {
      "text/plain": [
       "1.2659984330639296"
      ]
     },
     "execution_count": 16,
     "metadata": {},
     "output_type": "execute_result"
    }
   ],
   "source": [
    "var_s = ((1-3.63)**2*12 + (2-3.63)**2*7 + (3-3.63)**2*11 + (4-3.63)**2*9 + (5-3.63)**2*15 + (6-3.63)**2*11) / (n-1)\n",
    "std_s = var_s ** 0.5\n",
    "std_s"
   ]
  },
  {
   "cell_type": "markdown",
   "id": "983ffcab",
   "metadata": {},
   "source": [
    "3. Write down the Python code for calculating the confidence interval of the population mean in terms of the lower and upper bounds, assuming $\\alpha=0.05$"
   ]
  },
  {
   "cell_type": "code",
   "execution_count": 17,
   "id": "01321ad2",
   "metadata": {},
   "outputs": [],
   "source": [
    "# Use mean_s to denote the sample mean\n",
    "# Use std_s to denote the sample standard deviation\n",
    "# Use lower to represent the lower bound\n",
    "# Use upper to represent the upper bound\n",
    "\n",
    "n = 65\n",
    "alpha = 0.05"
   ]
  },
  {
   "cell_type": "markdown",
   "id": "6f6516d7",
   "metadata": {},
   "source": [
    "**Solution**:\n",
    "\n",
    "The confidence interval of the population mean can be expressed as $\\bar{x} \\pm t_{\\alpha/2} \\cdot \\frac{s}{\\sqrt{n}}$, so the python code is given below."
   ]
  },
  {
   "cell_type": "code",
   "execution_count": 18,
   "id": "16ac710e",
   "metadata": {},
   "outputs": [],
   "source": [
    "from scipy.stats import t\n",
    "\n",
    "t_alpha2 = t.ppf(1-alpha/2, n-1)\n",
    "moe = t_alpha2 * (std_s/n**0.5)\n",
    "\n",
    "lower = mean_s - moe\n",
    "upper = mean_s + moe"
   ]
  },
  {
   "cell_type": "markdown",
   "id": "7686b37d",
   "metadata": {},
   "source": [
    "The code above gives the solutions below."
   ]
  },
  {
   "cell_type": "code",
   "execution_count": 19,
   "id": "a64dc22b",
   "metadata": {},
   "outputs": [
    {
     "name": "stdout",
     "output_type": "stream",
     "text": [
      "CI: [3.317070178948471, 3.9444682825899906]\n"
     ]
    }
   ],
   "source": [
    "print(f'CI: [{lower}, {upper}]')"
   ]
  },
  {
   "cell_type": "markdown",
   "id": "28c91838",
   "metadata": {},
   "source": [
    "4. Based on the given data, can we conclude that the mean tossed number is different from 3.5? Answer this question using the hypothesis testing (P-value), with the significance level to be $\\alpha=0.05$\n",
    "\n",
    "#### Part (a)\n",
    "What are the null and alternative hypotheses.\n",
    "\n",
    "**Solution**:\n",
    "\n",
    "Let $\\mu$ be the population mean, then we have hypotheses to be:\n",
    "- Null hypothesis $H_0:~ \\mu = 3.5$\n",
    "- Alternative hypothesis $H_a:~ \\mu \\not= 3.5$"
   ]
  },
  {
   "cell_type": "markdown",
   "id": "256e7a72",
   "metadata": {},
   "source": [
    "#### Part (b)\n",
    "Use Python to calculate the $P$-value."
   ]
  },
  {
   "cell_type": "code",
   "execution_count": 20,
   "id": "47265eac",
   "metadata": {},
   "outputs": [],
   "source": [
    "# Use mean_s to denote the sample mean\n",
    "# Use std_s to denote the sample standard deviation\n",
    "# Use p_value to represent the P-value\n",
    "\n",
    "n = 65\n",
    "alpha = 0.05"
   ]
  },
  {
   "cell_type": "markdown",
   "id": "035ac1e8",
   "metadata": {},
   "source": [
    "#### Solution: \n",
    "The standardized $t$ value is expressed as\n",
    "\\begin{align}\n",
    "t = \\frac{\\bar{x} - 3.5}{s/\\sqrt{n}}.\n",
    "\\end{align}\n",
    "Note that this is a two-tailed test, the $P$-value can be calculated by the following code cell."
   ]
  },
  {
   "cell_type": "code",
   "execution_count": 21,
   "id": "e8f265e8",
   "metadata": {
    "scrolled": false
   },
   "outputs": [
    {
     "data": {
      "text/plain": [
       "0.40806710230746446"
      ]
     },
     "execution_count": 21,
     "metadata": {},
     "output_type": "execute_result"
    }
   ],
   "source": [
    "t_value = (mean_s - 3.5) / (std_s/n**0.5)\n",
    "p_value = 2 * (1 - t.cdf(abs(t_value), n-1))\n",
    "p_value"
   ]
  },
  {
   "cell_type": "code",
   "execution_count": 22,
   "id": "288ee1cd",
   "metadata": {},
   "outputs": [
    {
     "data": {
      "text/plain": [
       "0.8327776847690874"
      ]
     },
     "execution_count": 22,
     "metadata": {},
     "output_type": "execute_result"
    }
   ],
   "source": [
    "t_value"
   ]
  },
  {
   "cell_type": "code",
   "execution_count": 23,
   "id": "5d686e53",
   "metadata": {},
   "outputs": [
    {
     "data": {
      "text/plain": [
       "0.40806710230746446"
      ]
     },
     "execution_count": 23,
     "metadata": {},
     "output_type": "execute_result"
    }
   ],
   "source": [
    "t_value = (mean_s - 3.5) / (std_s/n**0.5)\n",
    "p_value = 2 * (t.cdf(-abs(t_value), n-1))\n",
    "p_value"
   ]
  },
  {
   "cell_type": "markdown",
   "id": "35f4b7c9",
   "metadata": {},
   "source": [
    "#### Part (c)\n",
    "What is the interpretation of the $P$-value (how the P-value affects your conclusion)? \n",
    "\n",
    "**Solution**:\n",
    "\n",
    "If $P$-value is larger than $\\alpha$, there is insufficient evidence to reject the null hypothesis under the given significance level. In other words, we do not have sufficient evidence to support the conclusion that the mean of the tossed number is different from 3.5. \n",
    "\n",
    "If $P$-value is lower than $\\alpha$, we reject the null hypothesis in favor of the alternative hypothesis, which implies that the mean of the tossed number is different from 3.5. "
   ]
  },
  {
   "cell_type": "markdown",
   "id": "8d0faaa5",
   "metadata": {},
   "source": [
    " "
   ]
  },
  {
   "cell_type": "markdown",
   "id": "d746e191",
   "metadata": {},
   "source": [
    "## Question 2\n",
    "\n",
    "A research paper [Adult persistence of head-turning asymmetry](https://www.nature.com/articles/421711a) studied humans' behavioural asymmetry in terms turning head toward left or right. "
   ]
  },
  {
   "cell_type": "code",
   "execution_count": 11,
   "id": "22f8a785",
   "metadata": {},
   "outputs": [],
   "source": [
    "import matplotlib.pyplot as plt\n",
    "import numpy as np\n",
    "from numpy import random as rd\n",
    "from scipy.stats import norm\n",
    "from scipy.stats import binom"
   ]
  },
  {
   "cell_type": "markdown",
   "id": "825f4206",
   "metadata": {},
   "source": [
    "1. It is assumed that the probability of right-turning preference among all human beings is $p=0.20$. For a sample with $n=15$ observations, plot the sampling distribution of the sample proportion $\\hat{p}$. \n",
    "\n",
    "**Solution**:"
   ]
  },
  {
   "cell_type": "code",
   "execution_count": 24,
   "id": "5e7da5f5",
   "metadata": {
    "scrolled": true
   },
   "outputs": [
    {
     "data": {
      "image/png": "[encoded data removed]",
      "text/plain": [
       "<Figure size 500x300 with 1 Axes>"
      ]
     },
     "metadata": {},
     "output_type": "display_data"
    }
   ],
   "source": [
    "def samp_dist(n, p):\n",
    "    plt.figure(figsize=(5, 3))\n",
    "    m = np.arange(0, n + 1)             # m is the sum of X_i\n",
    "    pmf = binom.pmf(m, n, p)            # Proability of each m value\n",
    "\n",
    "    plt.vlines(m/n, ymin=0, ymax=pmf)   # Plot the distribution\n",
    "    plt.xlabel('Sample proportion')     # Label for x axis\n",
    "    plt.ylabel('Probabilities')         # Label for y axis\n",
    "    \n",
    "    plt.title('Sample size n={0}'.format(n))\n",
    "    plt.show()\n",
    "\n",
    "samp_dist(n=15, p=0.20)"
   ]
  },
  {
   "cell_type": "markdown",
   "id": "8a980908",
   "metadata": {},
   "source": [
    "How about we change the sample size $n$ to $25$, $50$, and $100$?"
   ]
  },
  {
   "cell_type": "code",
   "execution_count": 13,
   "id": "602451fd",
   "metadata": {},
   "outputs": [
    {
     "data": {
      "image/png": "[encoded data removed]",
      "text/plain": [
       "<Figure size 500x300 with 1 Axes>"
      ]
     },
     "metadata": {},
     "output_type": "display_data"
    },
    {
     "data": {
      "image/png": "[encoded data removed]",
      "text/plain": [
       "<Figure size 500x300 with 1 Axes>"
      ]
     },
     "metadata": {},
     "output_type": "display_data"
    },
    {
     "data": {
      "image/png": "[encoded data removed]",
      "text/plain": [
       "<Figure size 500x300 with 1 Axes>"
      ]
     },
     "metadata": {},
     "output_type": "display_data"
    }
   ],
   "source": [
    "samp_dist(n=25, p=0.20)\n",
    "samp_dist(n=50, p=0.20)\n",
    "samp_dist(n=100, p=0.20)"
   ]
  },
  {
   "cell_type": "markdown",
   "id": "3310c4dc",
   "metadata": {},
   "source": [
    "2. In fact, authors of the paper [Adult persistence of head-turning asymmetry](https://www.nature.com/articles/421711a) collected a sample containing $124$ records, where 80 (64.5%) of them suggest right-turning preference, and 44 (35.5%) of them show left-turning preference. Identify the confidence interval for the parameter $p$, assuming confidence level $1-\\alpha=0.95$.\n",
    "\n",
    "**Solution**:"
   ]
  },
  {
   "cell_type": "code",
   "execution_count": 26,
   "id": "8f1f4c6a",
   "metadata": {},
   "outputs": [
    {
     "name": "stdout",
     "output_type": "stream",
     "text": [
      "Estimate: 0.6451612903225806\n",
      "Confidence interval: [0.5609467863424813, 0.72937579430268]\n"
     ]
    }
   ],
   "source": [
    "n = 124                             # Sample size n\n",
    "m = 80                              # Right-turing cases in the sample\n",
    "est = m / n                         # Estimate of the proportion\n",
    "print(f\"Estimate: {est}\")\n",
    "std = (est*(1-est)/n) ** 0.5        # The standard deviation of the estimate (margin of error)\n",
    "\n",
    "alpha = 0.05                        # Confidence level alpha\n",
    "z = norm.ppf(1 - alpha/2)           # z_{alpha/2} value\n",
    "\n",
    "lower = est - z * std               # Lower bound of the interval\n",
    "upper = est + z * std               # Upper bound of the interval\n",
    "\n",
    "print(f\"Confidence interval: [{lower}, {upper}]\")"
   ]
  },
  {
   "cell_type": "markdown",
   "id": "bc5c7133",
   "metadata": {},
   "source": [
    "We can be $95\\%$ confident that the true population proportion $\\mu$ lies in the interval \\[0.56095, 0.72938\\]. Note that the lower bound 0.56095 is larger than 0.5, so the case that people have \"left-turning bias\" ($\\mu<0.5$) is out of our $95\\%$ confidence interval, thus the chance is below 0.05. It appears to be a good support of a \"right-turning\" tendency. "
   ]
  },
  {
   "cell_type": "markdown",
   "id": "6abbc8c2",
   "metadata": {},
   "source": [
    "3. Use hypothesis testing to show that humans have a preference of turning heads toward the right, assuming significance level $\\alpha=0.05$. \n",
    "\n",
    "**Solution**: \n",
    "\n",
    "The null and alternative hypotheses are respectively $H_0$ and $H_a$. \n",
    "$$\n",
    "\\begin{align}\n",
    "&H_0: p \\leq p_0=0.5 \\\\\n",
    "&H_a: p > p_0=0.5\n",
    "\\end{align}\n",
    "$$\n",
    "\n",
    "The sample mean is $p_0=0.5$, and the standard deviation is $\\sqrt{p_0(1-p_0)}$. We can then calculate the $Z$ value of the sample as the previous example.\n",
    "$$\n",
    "Z = \\frac{\\hat{p} - p_0}{\\sqrt{p_0(1-p_0)/n}} = \\frac{80/124 - 0.5}{\\sqrt{0.5 \\times 0.5/124}} = 3.239\n",
    "$$\n",
    "\n",
    "Because the $Z$ value follows a standard normal distribution (zero mean and standard deviation to be one), we therefore find the probability $P\\left\\{Z > 3.239\\right\\} = 0.00061$ as the $P$-value is for a right-tailed test. \n",
    "\n",
    "<img src=\"https://github.com/XiongPengNUS/dao_resources/blob/main/p_values_test_types.png?raw=true\">"
   ]
  },
  {
   "cell_type": "code",
   "execution_count": 15,
   "id": "ffef8a76",
   "metadata": {
    "scrolled": true
   },
   "outputs": [
    {
     "name": "stdout",
     "output_type": "stream",
     "text": [
      "P-value: 0.0006127120353353055\n"
     ]
    }
   ],
   "source": [
    "n = 124                                     # Sample size\n",
    "p_0 = 0.5                                   # Proportion of the null hypothesis\n",
    "alpha = 0.05                                # Significance level\n",
    "est = 80 / 124                              # Estimate\n",
    "Z = (est - p_0) / (p_0*(1-p_0)/n)**0.5      # Z-value \n",
    "p_value = 1 - norm.cdf(Z)                   # P-value\n",
    "\n",
    "print(f\"P-value: {p_value}\")"
   ]
  },
  {
   "cell_type": "code",
   "execution_count": null,
   "id": "00653022",
   "metadata": {},
   "outputs": [],
   "source": []
  }
 ],
 "metadata": {
  "kernelspec": {
   "display_name": "Python 3 (ipykernel)",
   "language": "python",
   "name": "python3"
  },
  "language_info": {
   "codemirror_mode": {
    "name": "ipython",
    "version": 3
   },
   "file_extension": ".py",
   "mimetype": "text/x-python",
   "name": "python",
   "nbconvert_exporter": "python",
   "pygments_lexer": "ipython3",
   "version": "3.8.11"
  },
  "varInspector": {
   "cols": {
    "lenName": 16,
    "lenType": 16,
    "lenVar": 40
   },
   "kernels_config": {
    "python": {
     "delete_cmd_postfix": "",
     "delete_cmd_prefix": "del ",
     "library": "var_list.py",
     "varRefreshCmd": "print(var_dic_list())"
    },
    "r": {
     "delete_cmd_postfix": ") ",
     "delete_cmd_prefix": "rm(",
     "library": "var_list.r",
     "varRefreshCmd": "cat(var_dic_list()) "
    }
   },
   "types_to_exclude": [
    "module",
    "function",
    "builtin_function_or_method",
    "instance",
    "_Feature"
   ],
   "window_display": false
  }
 },
 "nbformat": 4,
 "nbformat_minor": 5
}
