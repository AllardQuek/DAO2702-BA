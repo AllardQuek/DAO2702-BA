{
 "cells": [
  {
   "cell_type": "markdown",
   "id": "4994908d",
   "metadata": {},
   "source": [
    "## Question 1\n",
    "\n",
    "1. \tA sample of n households is selected as part of a study on electricity usage in March. In a very large study in March of the previous year it was found that the population standard deviation of the usage was $\\sigma = 81\\text{kWh}$. Given a $99\\%$ confidence interval for the mean usage, as the code below,\n",
    "\n",
    "---\n",
    "```python\n",
    "from scipy.stats import norm\n",
    "\n",
    "sigma = 81\n",
    "alpha = 0.01\n",
    "```\n",
    "---\n",
    "\n",
    "which of the following code calculates the minimum sample size n (no need to round to an integer) such that the width of the confidence interval is no larger than $50\\text{kWh}$?\n",
    "\n",
    "    A. \n",
    "---\n",
    "```python\n",
    "z = norm.ppf(1 - alpha/2)\n",
    "n = (z*sigma/50) ** 2\n",
    "```\n",
    "---\n",
    "\n",
    "    B.\n",
    "---\n",
    "```python\n",
    "z = norm.ppf(1 - alpha)\n",
    "n = (z*sigma/50) ** 2\n",
    "```\n",
    "---\n",
    "\n",
    "    C. \n",
    "---\n",
    "```python\n",
    "z = norm.ppf(1 - alpha)\n",
    "n = (2*z*sigma/50) ** 2\n",
    "```\n",
    "---\n",
    "\n",
    "    D.\n",
    "---\n",
    "```python\n",
    "z = norm.ppf(1 - alpha/2)\n",
    "n = (2*z*sigma/50) ** 2\n",
    "```\n",
    "---\n",
    "\n",
    "<br>\n",
    "\n",
    "2. Given the parameters defined below,\n",
    "\n",
    "---\n",
    "```python\n",
    "from scipy.stats import norm\n",
    "\n",
    "alpha = 0.05            # The confidence level 1 - alpha\n",
    "sigma = 1               # Population standard deviation\n",
    "n = 20                  # Sample size n\n",
    "x_bar = 20              # Sample mean\n",
    "\n",
    "se = sigma / n**0.5\n",
    "```\n",
    "---\n",
    "\n",
    "The sample size is `n`, and the sample mean is `x_bar`. The population standard deviation is known to be sigma. How to calculate the upper bound of the confidence interval of the population mean?\n",
    "\n",
    "    A. \n",
    "---\n",
    "```python\n",
    "upper = x_bar + norm.ppf(1 - alpha/2)*se\n",
    "```\n",
    "---\n",
    "\n",
    "    B. \n",
    "---\n",
    "```python\n",
    "upper = x_bar + norm.ppf((1-alpha)/2)*se\n",
    "```\n",
    "---\n",
    "\n",
    "    C.\n",
    "---\n",
    "```python\n",
    "upper = x_bar + norm.ppf(-alpha/2)*se\n",
    "```\n",
    "---\n",
    "\n",
    "    D.\n",
    "---\n",
    "```python\n",
    "upper = x_bar - norm.ppf(1-alpha/2)*se\n",
    "```\n",
    "---"
   ]
  },
  {
   "cell_type": "markdown",
   "id": "0f5d18db",
   "metadata": {},
   "source": [
    " "
   ]
  },
  {
   "cell_type": "markdown",
   "id": "276a78d1",
   "metadata": {},
   "source": [
    "## Question 2\n",
    "\n",
    "We toss a die 65 times, and the results are given in the following table.\n",
    "\n",
    "Tossed number | Number of appearances\n",
    ":------------:|:---------------------:\n",
    "1 | 12\n",
    "2 | 7\n",
    "3 | 11\n",
    "4 | 9\n",
    "5 | 15\n",
    "6 | 11\n",
    "\n",
    "1. What is the sample mean of the tossed numbers?\n",
    "\n",
    "**Solution**:\n"
   ]
  },
  {
   "cell_type": "code",
   "execution_count": null,
   "id": "fd5f3cb0",
   "metadata": {},
   "outputs": [],
   "source": []
  },
  {
   "cell_type": "markdown",
   "id": "5746a204",
   "metadata": {},
   "source": [
    "2. What is the sample deviation of the tossed number?\n",
    "\n",
    "**Solution**:"
   ]
  },
  {
   "cell_type": "code",
   "execution_count": null,
   "id": "fd856dc0",
   "metadata": {
    "scrolled": true
   },
   "outputs": [],
   "source": []
  },
  {
   "cell_type": "markdown",
   "id": "983ffcab",
   "metadata": {},
   "source": [
    "3. Write down the Python code for calculating the confidence interval of the population mean in terms of the lower and upper bounds, assuming $\\alpha=0.05$"
   ]
  },
  {
   "cell_type": "code",
   "execution_count": 1,
   "id": "01321ad2",
   "metadata": {},
   "outputs": [],
   "source": [
    "# Use mean_s to denote the sample mean\n",
    "# Use std_s to denote the sample standard deviation\n",
    "# Use lower to represent the lower bound\n",
    "# Use upper to represent the upper bound\n",
    "\n",
    "n = 65\n",
    "alpha = 0.05"
   ]
  },
  {
   "cell_type": "markdown",
   "id": "6f6516d7",
   "metadata": {},
   "source": [
    "**Solution**:"
   ]
  },
  {
   "cell_type": "code",
   "execution_count": null,
   "id": "16ac710e",
   "metadata": {},
   "outputs": [],
   "source": []
  },
  {
   "cell_type": "markdown",
   "id": "28c91838",
   "metadata": {},
   "source": [
    "4. Based on the given data, can we conclude that the mean tossed number is different from 3.5? Answer this question using the hypothesis testing (P-value), with the significance level to be $\\alpha=0.05$\n",
    "\n",
    "#### Part (a)\n",
    "What are the null and alternative hypotheses.\n",
    "\n",
    "**Solution**:"
   ]
  },
  {
   "cell_type": "markdown",
   "id": "256e7a72",
   "metadata": {},
   "source": [
    "#### Part (b)\n",
    "Use Python to calculate the $P$-value."
   ]
  },
  {
   "cell_type": "code",
   "execution_count": 2,
   "id": "47265eac",
   "metadata": {},
   "outputs": [],
   "source": [
    "# Use mean_s to denote the sample mean\n",
    "# Use std_s to denote the sample standard deviation\n",
    "# Use p_value to represent the P-value\n",
    "\n",
    "n = 65\n",
    "alpha = 0.05"
   ]
  },
  {
   "cell_type": "markdown",
   "id": "035ac1e8",
   "metadata": {},
   "source": [
    "#### Solution: "
   ]
  },
  {
   "cell_type": "code",
   "execution_count": null,
   "id": "e8f265e8",
   "metadata": {
    "scrolled": false
   },
   "outputs": [],
   "source": []
  },
  {
   "cell_type": "code",
   "execution_count": null,
   "id": "7e7b429e",
   "metadata": {},
   "outputs": [],
   "source": []
  },
  {
   "cell_type": "markdown",
   "id": "35f4b7c9",
   "metadata": {},
   "source": [
    "#### Part (c)\n",
    "What is the interpretation of the $P$-value (how the P-value affects your conclusion)? \n",
    "\n",
    "**Solution**:\n"
   ]
  },
  {
   "cell_type": "markdown",
   "id": "8d0faaa5",
   "metadata": {},
   "source": [
    " "
   ]
  },
  {
   "cell_type": "markdown",
   "id": "d746e191",
   "metadata": {},
   "source": [
    "## Question 3\n",
    "\n",
    "A research paper [Adult persistence of head-turning asymmetry](https://www.nature.com/articles/421711a) studied humans' behavioural asymmetry in terms turning head toward left or right. "
   ]
  },
  {
   "cell_type": "code",
   "execution_count": null,
   "id": "22f8a785",
   "metadata": {},
   "outputs": [],
   "source": [
    "import matplotlib.pyplot as plt\n",
    "import numpy as np\n",
    "from numpy import random as rd\n",
    "from scipy.stats import norm\n",
    "from scipy.stats import binom"
   ]
  },
  {
   "cell_type": "markdown",
   "id": "825f4206",
   "metadata": {},
   "source": [
    "1. It is assumed that the probability of right-turning preference among all human beings is $p=0.20$. For a sample with $n=15$ observations, plot the sampling distribution of the sample proportion $\\hat{p}$. \n",
    "\n",
    "**Solution**:"
   ]
  },
  {
   "cell_type": "code",
   "execution_count": null,
   "id": "5e7da5f5",
   "metadata": {
    "scrolled": true
   },
   "outputs": [],
   "source": []
  },
  {
   "cell_type": "markdown",
   "id": "3310c4dc",
   "metadata": {},
   "source": [
    "2. In fact, authors of the paper [Adult persistence of head-turning asymmetry](https://www.nature.com/articles/421711a) collected a sample containing $124$ records, where 80 (64.5%) of them suggest right-turning preference, and 44 (35.5%) of them show left-turning preference. Identify the confidence interval for the parameter $p$, assuming confidence level $1-\\alpha=0.95$.\n",
    "\n",
    "**Solution**:"
   ]
  },
  {
   "cell_type": "code",
   "execution_count": null,
   "id": "8f1f4c6a",
   "metadata": {},
   "outputs": [],
   "source": []
  },
  {
   "cell_type": "markdown",
   "id": "6abbc8c2",
   "metadata": {},
   "source": [
    "3. Use hypothesis testing to show that humans have a preference of turning heads toward the right, assuming significance level $\\alpha=0.05$. \n",
    "\n",
    "**Solution**: "
   ]
  },
  {
   "cell_type": "code",
   "execution_count": null,
   "id": "ffef8a76",
   "metadata": {
    "scrolled": true
   },
   "outputs": [],
   "source": []
  }
 ],
 "metadata": {
  "kernelspec": {
   "display_name": "Python 3 (ipykernel)",
   "language": "python",
   "name": "python3"
  },
  "language_info": {
   "codemirror_mode": {
    "name": "ipython",
    "version": 3
   },
   "file_extension": ".py",
   "mimetype": "text/x-python",
   "name": "python",
   "nbconvert_exporter": "python",
   "pygments_lexer": "ipython3",
   "version": "3.9.13"
  },
  "varInspector": {
   "cols": {
    "lenName": 16,
    "lenType": 16,
    "lenVar": 40
   },
   "kernels_config": {
    "python": {
     "delete_cmd_postfix": "",
     "delete_cmd_prefix": "del ",
     "library": "var_list.py",
     "varRefreshCmd": "print(var_dic_list())"
    },
    "r": {
     "delete_cmd_postfix": ") ",
     "delete_cmd_prefix": "rm(",
     "library": "var_list.r",
     "varRefreshCmd": "cat(var_dic_list()) "
    }
   },
   "types_to_exclude": [
    "module",
    "function",
    "builtin_function_or_method",
    "instance",
    "_Feature"
   ],
   "window_display": false
  }
 },
 "nbformat": 4,
 "nbformat_minor": 5
}
