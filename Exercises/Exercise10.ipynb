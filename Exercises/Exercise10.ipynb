{
 "cells": [
  {
   "cell_type": "markdown",
   "id": "8b92408d",
   "metadata": {},
   "source": [
    "## Question 1\n",
    "\n",
    "1. It is assumed that in Singapore, the proportion of people who prefer Coke over Pepsi among the overall population is p=0.4. We are doing a survey on 20 randomly selected people, and what is the probability that at least 10 of them prefer Coke?\n",
    "\n",
    "    A. \n",
    "---\n",
    "```python\n",
    "1 - binom.ppf(9, 20, 0.4)\n",
    "```\n",
    "---\n",
    "\n",
    "    B.\n",
    "---\n",
    "```python\n",
    "binom.cdf(10, 20, 0.4)\n",
    "```\n",
    "---\n",
    "\n",
    "    C.\n",
    "---\n",
    "```python\n",
    "1 - binom.cdf(9, 20, 0.4)\n",
    "```\n",
    "---\n",
    "\n",
    "    D.\n",
    "---\n",
    "```python\n",
    "binom.ppf(10, 20, 0.4)\n",
    "```\n",
    "---\n",
    "\n",
    "<br>\n",
    "\n",
    "2. \tIn the Pepsi and Coke case, suppose that the population proportion of people preferring Coke is $p$. Let variable $X_i$ be the choice of the $i$th person interviewed, where $X_i=1$ if this person selects Coke, and $X_i=0$ if otherwise. For a sample of only two independent interviews $X_1$ and $X_2$, what is the variance of $X_1+X_1-X_2$?\n",
    "\n",
    "    A. $p(1-p)$\n",
    "    \n",
    "    B. $3p(1-p)$\n",
    "    \n",
    "    C. $5p(1-p)$\n",
    "    \n",
    "    D. $9p(1-p)$"
   ]
  },
  {
   "cell_type": "markdown",
   "id": "f62f16c9",
   "metadata": {},
   "source": [
    "## Question 2\n",
    "\n",
    "The table below shows the joint probability for the number of credit cards owned by card holders ($X$) and the number of credit card purchases made in a week by them ($Y$).\n",
    "\n",
    "|| $$Y=0$$ | $$Y=1$$ | $$Y=2$$ | $$Y=3$$ | $$Y=4$$ |\n",
    "|---:|---:|---:|----:|---:|----:|\n",
    "|$X=1$|0.08 |0.13|0.09|0.06|0.03|\n",
    "|$X=2$|0.03 |0.08|0.08|0.09|0.07|\n",
    "|$X=3$|0.01 |0.03|0.06|0.08|0.08|\n",
    "\n",
    "The joint distribution is also given as the two-dimensional array below."
   ]
  },
  {
   "cell_type": "code",
   "execution_count": 1,
   "id": "2b73108c",
   "metadata": {
    "scrolled": false
   },
   "outputs": [
    {
     "data": {
      "text/plain": [
       "array([[0.08, 0.13, 0.09, 0.06, 0.03],\n",
       "       [0.03, 0.08, 0.08, 0.09, 0.07],\n",
       "       [0.01, 0.03, 0.06, 0.08, 0.08]])"
      ]
     },
     "execution_count": 1,
     "metadata": {},
     "output_type": "execute_result"
    }
   ],
   "source": [
    "import numpy as np\n",
    "\n",
    "distr = np.array([[0.08, 0.13, 0.09, 0.06, 0.03],\n",
    "                  [0.03, 0.08, 0.08, 0.09, 0.07],\n",
    "                  [0.01, 0.03, 0.06, 0.08, 0.08]])\n",
    "distr"
   ]
  },
  {
   "cell_type": "markdown",
   "id": "f93620de",
   "metadata": {},
   "source": [
    "1. What is the mean value of cards held by a person from this group?\n",
    "\n",
    "**Solution**:"
   ]
  },
  {
   "cell_type": "code",
   "execution_count": null,
   "id": "865246c5",
   "metadata": {},
   "outputs": [],
   "source": []
  },
  {
   "cell_type": "markdown",
   "id": "fdd6e498",
   "metadata": {},
   "source": [
    "2. What is the variance of purchases made by a person from this group?\n",
    "\n",
    "**Solution**:"
   ]
  },
  {
   "cell_type": "code",
   "execution_count": null,
   "id": "4c5598dc",
   "metadata": {},
   "outputs": [],
   "source": []
  },
  {
   "cell_type": "code",
   "execution_count": null,
   "id": "6552bac4",
   "metadata": {},
   "outputs": [],
   "source": []
  },
  {
   "cell_type": "markdown",
   "id": "4a8d4b51",
   "metadata": {},
   "source": [
    "3. What is the probability that a person made at least three purchases in this week?\n",
    "\n",
    "**Solution**:"
   ]
  },
  {
   "cell_type": "code",
   "execution_count": null,
   "id": "be2abf34",
   "metadata": {
    "scrolled": true
   },
   "outputs": [],
   "source": []
  },
  {
   "cell_type": "code",
   "execution_count": null,
   "id": "6305aca0",
   "metadata": {},
   "outputs": [],
   "source": []
  },
  {
   "cell_type": "markdown",
   "id": "ceb30f24",
   "metadata": {},
   "source": [
    "## Question 3\n",
    "\n",
    "For investors, stocks are risky but they generate high returns. Bonds are safer but they offer proportionally less returns. It is thus preferred to combine these asset classes in a portfolio to achieve a better trade off between mean returns and risks. Particularly, in cases where the stocks and bonds are negatively correlated, combining these assets in a portfolio can actually increase returns without increasing risk. \n",
    "\n",
    "Suppose that the means and standard deviations of the return rates of bonds and stocks, together with the covariance between the bond and stock returns, are given in the following code cell."
   ]
  },
  {
   "cell_type": "code",
   "execution_count": 2,
   "id": "0a292f14",
   "metadata": {},
   "outputs": [],
   "source": [
    "mean_s = 0.0819         # Mean of the stock return\n",
    "std_s = 0.1791          # Standard deviation of the stock return\n",
    "\n",
    "mean_b = 0.0490         # Mean of the bonds return\n",
    "std_b = 0.0416          # Standard deviation of the bonds return\n",
    "\n",
    "cov = -0.00244          # Covariance between the the bonds and the stocks"
   ]
  },
  {
   "cell_type": "markdown",
   "id": "56239938",
   "metadata": {},
   "source": [
    "1. The classic [60/40 portfolio](https://portfoliocharts.com/portfolio/classic-60-40/) allocates $60\\%$ of the budget in stocks and $40\\%$ in bonds. It is usually served as a benchmark when analyzing other investment strategies. Use the mean values, standard deviations, and covariance given above to calculate the mean return and standard deviation of the 60/40 portfolio.\n",
    "\n",
    "**Solution**:"
   ]
  },
  {
   "cell_type": "code",
   "execution_count": null,
   "id": "bfb52b48",
   "metadata": {},
   "outputs": [],
   "source": []
  },
  {
   "cell_type": "markdown",
   "id": "f8d41ea9",
   "metadata": {},
   "source": [
    "2. Let $x$ be the percentage of investment in stocks, which is changing from $0$ to $100\\%$. Show the trade-off between the mean returns and standard deviations of the portfolio. You may refer to [Historical Risk versus Return of Stocks and Bonds](https://engineeredportfolio.com/2016/08/05/historical-risk-return-of-stocks-bonds/) for the digram of showing the trade-off.\n",
    "\n",
    "**Solution**:"
   ]
  },
  {
   "cell_type": "code",
   "execution_count": null,
   "id": "ab1f7568",
   "metadata": {
    "scrolled": true
   },
   "outputs": [],
   "source": []
  },
  {
   "cell_type": "markdown",
   "id": "05497cb6",
   "metadata": {},
   "source": [
    "3. Alternatively, the risk can be expressed as the probability that the return rate is worse than a given value, such as 0, -0.01, or -0.05. Visualize the trade-off between the mean returns and the new risk measure.\n",
    "\n",
    "**Solution**:"
   ]
  },
  {
   "cell_type": "code",
   "execution_count": null,
   "id": "eb979b96",
   "metadata": {
    "scrolled": true
   },
   "outputs": [],
   "source": []
  },
  {
   "cell_type": "code",
   "execution_count": null,
   "id": "911400ea",
   "metadata": {},
   "outputs": [],
   "source": []
  }
 ],
 "metadata": {
  "kernelspec": {
   "display_name": "Python 3 (ipykernel)",
   "language": "python",
   "name": "python3"
  },
  "language_info": {
   "codemirror_mode": {
    "name": "ipython",
    "version": 3
   },
   "file_extension": ".py",
   "mimetype": "text/x-python",
   "name": "python",
   "nbconvert_exporter": "python",
   "pygments_lexer": "ipython3",
   "version": "3.9.13"
  },
  "varInspector": {
   "cols": {
    "lenName": 16,
    "lenType": 16,
    "lenVar": 40
   },
   "kernels_config": {
    "python": {
     "delete_cmd_postfix": "",
     "delete_cmd_prefix": "del ",
     "library": "var_list.py",
     "varRefreshCmd": "print(var_dic_list())"
    },
    "r": {
     "delete_cmd_postfix": ") ",
     "delete_cmd_prefix": "rm(",
     "library": "var_list.r",
     "varRefreshCmd": "cat(var_dic_list()) "
    }
   },
   "types_to_exclude": [
    "module",
    "function",
    "builtin_function_or_method",
    "instance",
    "_Feature"
   ],
   "window_display": false
  }
 },
 "nbformat": 4,
 "nbformat_minor": 5
}
