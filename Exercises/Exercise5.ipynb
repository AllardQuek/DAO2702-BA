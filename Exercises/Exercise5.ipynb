{
 "cells": [
  {
   "cell_type": "markdown",
   "id": "abf3d64c",
   "metadata": {},
   "source": [
    "## Question 1\n",
    "\n",
    "1. The code below\n",
    "\n",
    "---\n",
    "```python\n",
    "a, b = 2.5, 3.9\n",
    "\n",
    "a = a + b\n",
    "b = a - b\n",
    "a = a - b\n",
    "```\n",
    "\n",
    "is equivalent to which of the code segments?\n",
    "\n",
    "    A. \n",
    "---\n",
    "```python\n",
    "a, b = 2.5, 3.9\n",
    "\n",
    "a, b = b, a\n",
    "```\n",
    "---\n",
    "\n",
    "    B. \n",
    "---\n",
    "```python\n",
    "a, b = 2.5, 3.9\n",
    "\n",
    "a, b = a + b, a - b\n",
    "```\n",
    "---\n",
    "\n",
    "    C.\n",
    "---\n",
    "```python\n",
    "a, b = 2.5, 3.9\n",
    "\n",
    "a, b = a - b, a - b\n",
    "```\n",
    "---\n",
    "\n",
    "    D.\n",
    "---\n",
    "```python\n",
    "a, b = 2.5, 3.9\n",
    "\n",
    "b, a = a, a - b\n",
    "```\n",
    "---\n",
    "\n",
    "<br>\n",
    "\n",
    "2. Given the code below, what is the value of the dictionary `d`?\n",
    "\n",
    "---\n",
    "```python\n",
    "d = {1: 'x', 2: 'y', 3: 'z'}\n",
    "s = 'abc'\n",
    "\n",
    "d[3], d[4], d[2] = s[1], s[2], s[0]\n",
    "```\n",
    "---\n",
    "\n",
    "    A. An error message\n",
    "    B. {1: 'x', 2: 'a', 3: 'b', 4: 'c'}\n",
    "    C. {1: 'x', 2: 'y', 3: 'z', 'a': 1, 'b': 2, 'c': 0}\n",
    "    D. {1: 'x', 2: 'y', 3: 'z', 3: 'b', 4: 'c', 2: 'a'}\n",
    "\n",
    "<br>\n",
    "\n",
    "3. The following dictionary provides information on a few courses provided by NUS Business.\n",
    "\n",
    "---\n",
    "```python\n",
    "courses = {'DAO1704': 'Decision Analytics using Spreadsheets',\n",
    "           'MKT1705': 'Principles of Marketing',\n",
    "           'BSP1703': 'Managerial Economics',\n",
    "           'FIN2704': 'Finance',\n",
    "           'DAO2702': 'Programming for Business Analytics',\n",
    "           'DAO2703': 'Operations and Technology Management',\n",
    "           'ACC1701': 'Accounting for Decision Makers'}\n",
    "```\n",
    "---\n",
    "\n",
    "Which of the code segments below is correct in creating a new dictionary `new_dao` that include all DAO courses.\n",
    "\n",
    "    A. \n",
    "---\n",
    "```python\n",
    "all_dao = {}\n",
    "for item, value in courses.items():\n",
    "    if 'DAO' in value:\n",
    "        all_dao.append(item)\n",
    "```\n",
    "---\n",
    "\n",
    "    B.\n",
    "---\n",
    "```python\n",
    "all_dao = {}\n",
    "for item, value in courses.items():\n",
    "    if 'DAO' in value:\n",
    "        all_dao[item] = value\n",
    "```\n",
    "---\n",
    "\n",
    "    C.\n",
    "---\n",
    "```python\n",
    "all_dao = {}\n",
    "for item in courses:\n",
    "    if 'DAO' in item:\n",
    "        all_dao[key] = item\n",
    "```\n",
    "---\n",
    "\n",
    "    D.\n",
    "---\n",
    "```python\n",
    "all_dao = {}\n",
    "for item in courses:\n",
    "    if 'DAO' in item:\n",
    "        all_dao[item] = courses[item]\n",
    "```\n",
    "---"
   ]
  },
  {
   "cell_type": "code",
   "execution_count": 2,
   "id": "0c09e85a",
   "metadata": {},
   "outputs": [
    {
     "name": "stdout",
     "output_type": "stream",
     "text": [
      "3.9 2.5000000000000004\n",
      "3.9 2.5\n"
     ]
    }
   ],
   "source": [
    "# Q1.1: A\n",
    "a, b = 2.5, 3.9\n",
    "\n",
    "a = a + b\n",
    "b = a - b\n",
    "a = a - b\n",
    "print(a, b)\n",
    "\n",
    "a, b = 2.5, 3.9\n",
    "a, b = b, a\n",
    "print(a, b)"
   ]
  },
  {
   "cell_type": "code",
   "execution_count": 3,
   "id": "7b0bfd84",
   "metadata": {},
   "outputs": [
    {
     "name": "stdout",
     "output_type": "stream",
     "text": [
      "{1: 'x', 2: 'a', 3: 'b', 4: 'c'}\n"
     ]
    }
   ],
   "source": [
    "# Q1.2: B\n",
    "d = {1: 'x', 2: 'y', 3: 'z'}\n",
    "s = 'abc'\n",
    "\n",
    "d[3], d[4], d[2] = s[1], s[2], s[0]\n",
    "print(d)"
   ]
  },
  {
   "cell_type": "code",
   "execution_count": 6,
   "id": "4241eb5e",
   "metadata": {},
   "outputs": [
    {
     "name": "stdout",
     "output_type": "stream",
     "text": [
      "{'DAO1704': 'Decision Analytics using Spreadsheets', 'DAO2702': 'Programming for Business Analytics', 'DAO2703': 'Operations and Technology Management'}\n"
     ]
    }
   ],
   "source": [
    "# Q1.3: D\n",
    "courses = {'DAO1704': 'Decision Analytics using Spreadsheets',\n",
    "           'MKT1705': 'Principles of Marketing',\n",
    "           'BSP1703': 'Managerial Economics',\n",
    "           'FIN2704': 'Finance',\n",
    "           'DAO2702': 'Programming for Business Analytics',\n",
    "           'DAO2703': 'Operations and Technology Management',\n",
    "           'ACC1701': 'Accounting for Decision Makers'}\n",
    "\n",
    "all_dao = {}\n",
    "for item in courses:\n",
    "    if 'DAO' in item:\n",
    "        all_dao[item] = courses[item]\n",
    "        \n",
    "print(all_dao)"
   ]
  },
  {
   "cell_type": "markdown",
   "id": "5a4441a6",
   "metadata": {},
   "source": [
    "## Question 2\n",
    "\n",
    "1. Consider the same biased die discussed in **Example 2** of **Lecture 5**, create a dictionary that the keys are the outcomes of the rolled numbers and the values are the corresponding probabilities."
   ]
  },
  {
   "cell_type": "code",
   "execution_count": 13,
   "id": "66ae055c",
   "metadata": {},
   "outputs": [],
   "source": [
    "outcomes = [1, 2, 3, 4, 5, 6]                   # Rolled numbers\n",
    "probs = [0.15, 0.24, 0.18, 0.1, 0.21, 0.12]     # Probabilities"
   ]
  },
  {
   "cell_type": "markdown",
   "id": "56344453",
   "metadata": {},
   "source": [
    "**Solution**:"
   ]
  },
  {
   "cell_type": "code",
   "execution_count": 11,
   "id": "30476b25",
   "metadata": {
    "scrolled": true
   },
   "outputs": [
    {
     "name": "stdout",
     "output_type": "stream",
     "text": [
      "{1: 0.15, 2: 0.24, 3: 0.18, 4: 0.1, 5: 0.21, 6: 0.12}\n"
     ]
    }
   ],
   "source": [
    "biased_outcomes = {}\n",
    "\n",
    "for outcome, probs in zip(outcomes, probs):\n",
    "    biased_outcomes[outcome] = probs\n",
    "    \n",
    "print(biased_outcomes)"
   ]
  },
  {
   "cell_type": "markdown",
   "id": "57d6755a",
   "metadata": {},
   "source": [
    "2. Now we toss two identical biased dice described in **Example 2** of **Lecture 5**, create a dictionary that the keys are the outcomes of rolling these two dice and the values are the corresponding probabilities."
   ]
  },
  {
   "cell_type": "code",
   "execution_count": 14,
   "id": "d0d4cf9b",
   "metadata": {},
   "outputs": [
    {
     "name": "stdout",
     "output_type": "stream",
     "text": [
      "{2: 0.0225, 3: 0.036, 4: 0.027, 5: 0.015, 6: 0.0315, 7: 0.018, 8: 0.0288, 9: 0.021599999999999998, 10: 0.012, 11: 0.025199999999999997, 12: 0.0144}\n"
     ]
    }
   ],
   "source": [
    "roll_twice_outcomes = {}\n",
    "\n",
    "for outcome_1, probs_1 in zip(outcomes, probs):\n",
    "\tfor outcome_2, probs_2 in zip(outcomes, probs):\n",
    "\t\troll_twice_outcomes[outcome_1 + outcome_2] = probs_1 * probs_2\n",
    "\n",
    "print(roll_twice_outcomes)"
   ]
  },
  {
   "cell_type": "markdown",
   "id": "bccbb218",
   "metadata": {},
   "source": [
    "## Question 3\n",
    "\n",
    "An online learning system has valid IDs and passwords of users saved as the keys and values, respectively, of a dictionary called `login`. "
   ]
  },
  {
   "cell_type": "code",
   "execution_count": 2,
   "id": "af480520",
   "metadata": {},
   "outputs": [],
   "source": [
    "login = {'PyHero': '12345',\n",
    "         'Sweet Py': 'abc123',\n",
    "         'Panda Power': 'abcABC'}"
   ]
  },
  {
   "cell_type": "markdown",
   "id": "e1201d34",
   "metadata": {},
   "source": [
    "Write a program that asks user to enter his/her ID and password. The detailed requirements are:\n",
    "- If the entered ID is not valid, display a message \"Invalid ID\", and terminate the program.\n",
    "- If the entered ID is valid, but the password is incorrect, display a message \"Incorrect password\", and ask the user to key in the password again.\n",
    "- The user has at most three chances to key in the password. If he/she used up all chances, display a message \"Unauthorized user\", then terminate the program.\n",
    "- If both the ID and password are correct, print \"Welcome!\", then terminate the program.\n",
    "\n",
    "**Solution**:"
   ]
  },
  {
   "cell_type": "code",
   "execution_count": null,
   "id": "bcc5c54a",
   "metadata": {},
   "outputs": [],
   "source": []
  },
  {
   "cell_type": "markdown",
   "id": "23c3aac7",
   "metadata": {},
   "source": [
    "## Question 4\n",
    "\n",
    "A kopi house is planning to develop a automatic order system for all kopi drinks. In the code cell below, the `dict` type variable `prices` provides the price of each type of drinks sold by the kopi house. The other variable `kopis` uses a letter `K`/`O`/`C`/`S`/`I` to be the key of the dictionary, and the key is used by the customers to order each type of drink."
   ]
  },
  {
   "cell_type": "code",
   "execution_count": 15,
   "id": "3ffec2ec",
   "metadata": {},
   "outputs": [],
   "source": [
    "prices = {'Kopi': 1.8,\n",
    "         'Kopi O': 1.6,\n",
    "         'Kopi C': 2.0, \n",
    "         'Kopi Siew Dai': 1.8, \n",
    "         'Iced Kopi': 2.6}              # Prices for each drink\n",
    "\n",
    "kopis = {'K': 'Kopi',\n",
    "        'O': 'Kopi O',\n",
    "        'C': 'Kopi C', \n",
    "        'S': 'Kopi Siew Dai', \n",
    "        'I': 'Iced Kopi'}               # Keys for ordering different drinks"
   ]
  },
  {
   "cell_type": "markdown",
   "id": "8923c068",
   "metadata": {},
   "source": [
    "1. Write a program that prints all kopi drinks and their prices.\n",
    "\n",
    "**Solution**:"
   ]
  },
  {
   "cell_type": "code",
   "execution_count": 18,
   "id": "cb2ad9fa",
   "metadata": {},
   "outputs": [
    {
     "name": "stdout",
     "output_type": "stream",
     "text": [
      "Kopi: $1.8\n",
      "Kopi O: $1.6\n",
      "Kopi C: $2.0\n",
      "Kopi Siew Dai: $1.8\n",
      "Iced Kopi: $2.6\n"
     ]
    }
   ],
   "source": [
    "for code, name in kopis.items():\n",
    "    print(f\"{name}: ${prices[name]}\")"
   ]
  },
  {
   "cell_type": "markdown",
   "id": "11ad0582",
   "metadata": {},
   "source": [
    "2. Write another program that asks the user to key in 1) the kopi drink (a letter `K`/`O`/`C`/`S`/`I`) and 2) the quantity of ordered drink, then the program prints the 1) the drink; 2) the quantity; and 3) the total price. A sample inputs/outputs is shown below."
   ]
  },
  {
   "cell_type": "raw",
   "id": "e2a9bd80",
   "metadata": {},
   "source": [
    "Select a drink: K/O/C/S/I: C\n",
    "Quantity: 3\n",
    "\n",
    "Your order is: Kopi C x 3\n",
    "The total price: $6.0"
   ]
  },
  {
   "cell_type": "markdown",
   "id": "b009766c",
   "metadata": {},
   "source": [
    "**Solution**:"
   ]
  },
  {
   "cell_type": "code",
   "execution_count": null,
   "id": "2dbe774d",
   "metadata": {
    "scrolled": false
   },
   "outputs": [],
   "source": []
  }
 ],
 "metadata": {
  "kernelspec": {
   "display_name": "Python 3",
   "language": "python",
   "name": "python3"
  },
  "language_info": {
   "codemirror_mode": {
    "name": "ipython",
    "version": 3
   },
   "file_extension": ".py",
   "mimetype": "text/x-python",
   "name": "python",
   "nbconvert_exporter": "python",
   "pygments_lexer": "ipython3",
   "version": "3.9.1"
  },
  "varInspector": {
   "cols": {
    "lenName": 16,
    "lenType": 16,
    "lenVar": 40
   },
   "kernels_config": {
    "python": {
     "delete_cmd_postfix": "",
     "delete_cmd_prefix": "del ",
     "library": "var_list.py",
     "varRefreshCmd": "print(var_dic_list())"
    },
    "r": {
     "delete_cmd_postfix": ") ",
     "delete_cmd_prefix": "rm(",
     "library": "var_list.r",
     "varRefreshCmd": "cat(var_dic_list()) "
    }
   },
   "types_to_exclude": [
    "module",
    "function",
    "builtin_function_or_method",
    "instance",
    "_Feature"
   ],
   "window_display": false
  },
  "vscode": {
   "interpreter": {
    "hash": "aee8b7b246df8f9039afb4144a1f6fd8d2ca17a180786b69acc140d282b71a49"
   }
  }
 },
 "nbformat": 4,
 "nbformat_minor": 5
}
