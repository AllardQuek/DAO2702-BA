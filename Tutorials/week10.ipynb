{
 "cells": [
  {
   "cell_type": "code",
   "execution_count": 1,
   "metadata": {},
   "outputs": [
    {
     "data": {
      "text/plain": [
       "array([[1. , 2. ],\n",
       "       [2. , 3.5],\n",
       "       [5. , 6.5]])"
      ]
     },
     "execution_count": 1,
     "metadata": {},
     "output_type": "execute_result"
    }
   ],
   "source": [
    "import numpy as np\n",
    "\n",
    "array_2d = np.array([[1, 2],\n",
    "\t\t\t\t\t[2, 3.5],\n",
    "                    [5, 6.5]])\n",
    "\n",
    "array_2d"
   ]
  },
  {
   "cell_type": "code",
   "execution_count": 3,
   "metadata": {},
   "outputs": [
    {
     "data": {
      "text/plain": [
       "array([ 8., 12.])"
      ]
     },
     "execution_count": 3,
     "metadata": {},
     "output_type": "execute_result"
    }
   ],
   "source": [
    "# 0 => COLUMN\n",
    "array_2d.sum(axis=0)"
   ]
  },
  {
   "cell_type": "code",
   "execution_count": 14,
   "metadata": {},
   "outputs": [
    {
     "data": {
      "text/plain": [
       "(array([ 8., 12.]), array([2. , 3.5, 6.5]))"
      ]
     },
     "execution_count": 14,
     "metadata": {},
     "output_type": "execute_result"
    }
   ],
   "source": [
    "array_2d.sum(axis=0), array_2d.max(axis=1)"
   ]
  },
  {
   "cell_type": "code",
   "execution_count": 17,
   "metadata": {},
   "outputs": [
    {
     "name": "stdout",
     "output_type": "stream",
     "text": [
      "10.0\n",
      "[8.     5.8125]\n"
     ]
    },
    {
     "data": {
      "text/plain": [
       "2.0"
      ]
     },
     "execution_count": 17,
     "metadata": {},
     "output_type": "execute_result"
    }
   ],
   "source": [
    "import numpy as np\n",
    "\n",
    "x = np.array([[1, 2.25],\n",
    "             [2, 3.25],\n",
    "             [5, 10]])\n",
    "\n",
    "y = np.array([1, 0.375])\n",
    "\n",
    "# z = 10 - [8, a]\n",
    "print(x.max())\n",
    "print((x * y).sum(axis=0))\n",
    "z = x.max() - (x * y).sum(axis=0)\n",
    "z[0]"
   ]
  },
  {
   "attachments": {},
   "cell_type": "markdown",
   "metadata": {},
   "source": [
    "## Practice Questions"
   ]
  },
  {
   "cell_type": "code",
   "execution_count": 6,
   "metadata": {},
   "outputs": [
    {
     "data": {
      "text/plain": [
       "[0, 3, 6, 9, 0, 3, 6, 9]"
      ]
     },
     "execution_count": 6,
     "metadata": {},
     "output_type": "execute_result"
    }
   ],
   "source": [
    "# Q1\n",
    "import numpy as np\n",
    "\n",
    "list(np.arange(4) * 3)* 2"
   ]
  },
  {
   "cell_type": "code",
   "execution_count": 11,
   "metadata": {},
   "outputs": [
    {
     "data": {
      "text/plain": [
       "array([1, 2, 3, 4])"
      ]
     },
     "execution_count": 11,
     "metadata": {},
     "output_type": "execute_result"
    }
   ],
   "source": [
    "# Q2\n",
    "import numpy as np\n",
    "\n",
    "m = [3, 6, 5, 2, 1]\n",
    "n = np.arange(m.pop(), m.pop(2))\n",
    "n"
   ]
  },
  {
   "cell_type": "code",
   "execution_count": 13,
   "metadata": {},
   "outputs": [
    {
     "data": {
      "text/plain": [
       "6.0"
      ]
     },
     "execution_count": 13,
     "metadata": {},
     "output_type": "execute_result"
    }
   ],
   "source": [
    "# Q3\n",
    "\n",
    "import numpy as np\n",
    "\n",
    "x = np.array([0, 1, 2, 3])\n",
    "y = np.array([1, 2, 1, 2])\n",
    "z = 3.5 * x + y * (1 - x)\n",
    "\n",
    "z[2]\n"
   ]
  },
  {
   "cell_type": "code",
   "execution_count": 22,
   "metadata": {},
   "outputs": [
    {
     "name": "stdout",
     "output_type": "stream",
     "text": [
      "[27. 26. 15.]\n",
      "\n",
      "[18. 25. 24. 10. 27. 22.]\n",
      "\n",
      "20.0\n",
      "\n",
      "[[ 5.5 17. ]\n",
      " [26.  15. ]]\n",
      "\n",
      "[[26.  17. ]\n",
      " [21.  21. ]\n",
      " [15.5 12. ]]\n",
      "\n",
      "[15. 26. 27.]\n"
     ]
    }
   ],
   "source": [
    "# Q4\n",
    "\n",
    "\"\"\"\n",
    "5.5\n",
    "26\n",
    "WRONG\n",
    "ANS: 27, 26, 15\n",
    "\n",
    "18\n",
    "25\n",
    "24\n",
    "10\n",
    "27\n",
    "22\n",
    "\n",
    "20\n",
    "\n",
    "5.5, 17\n",
    "26, 15\n",
    "\n",
    "26, 17\n",
    "21, 21\n",
    "15.5, 12\n",
    "\n",
    "17, 5.5, 10\n",
    "15, 26, 27\n",
    "21, 21, 22\n",
    "WRONG: only reverse second last row!\n",
    "ANS: 15, 26, 27\n",
    "\"\"\"\n",
    "array_2d = np.array([[18, 26, 17],\n",
    "\t\t\t\t\t[25, 15.5, 12],\n",
    "                    [24, 27, 20],\n",
    "                    [10, 5.5, 17],\n",
    "                    [27, 26, 15],\n",
    "                    [22, 21, 21]])\n",
    "\n",
    "print(array_2d[3:5][1])\n",
    "print()\n",
    "print(array_2d[:, 0])\n",
    "print()\n",
    "print(array_2d[2][2])\n",
    "print()\n",
    "print(array_2d[3:5, 1:])\n",
    "print()\n",
    "print(array_2d[[0, 5, 1], 1:])\n",
    "print()\n",
    "print(array_2d[-2, ::-1])\n"
   ]
  },
  {
   "cell_type": "code",
   "execution_count": 19,
   "metadata": {},
   "outputs": [
    {
     "name": "stdout",
     "output_type": "stream",
     "text": [
      "[-5 -4 -3]\n",
      "\n",
      "[[1. 2. 3.]\n",
      " [1. 2. 3.]\n",
      " [1. 2. 3.]]\n",
      "\n",
      "[[0 1 2]\n",
      " [1 2 3]\n",
      " [2 3 4]]\n"
     ]
    }
   ],
   "source": [
    "# Q5\n",
    "# [-5, -4, -3]\n",
    "print(np.arange(3) - 5)\n",
    "print()\n",
    "\n",
    "\"\"\"\n",
    "2, 3, 4\n",
    "2, 3, 4\n",
    "2, 3, 4\n",
    "\"\"\"\n",
    "print(np.ones((3,3)) + np.arange(3))\n",
    "print()\n",
    "\n",
    "\"\"\"\n",
    "0\n",
    "1\n",
    "2\n",
    "\n",
    "0, 1, 2\n",
    "\n",
    "0, 1, 2\n",
    "1, 2, 3\n",
    "2, 3, 4\n",
    "\"\"\"\n",
    "print(np.arange(3).reshape((3, 1)) + np.arange(3))"
   ]
  },
  {
   "cell_type": "code",
   "execution_count": null,
   "metadata": {},
   "outputs": [],
   "source": []
  }
 ],
 "metadata": {
  "kernelspec": {
   "display_name": "Python 3",
   "language": "python",
   "name": "python3"
  },
  "language_info": {
   "codemirror_mode": {
    "name": "ipython",
    "version": 3
   },
   "file_extension": ".py",
   "mimetype": "text/x-python",
   "name": "python",
   "nbconvert_exporter": "python",
   "pygments_lexer": "ipython3",
   "version": "3.9.1"
  },
  "orig_nbformat": 4
 },
 "nbformat": 4,
 "nbformat_minor": 2
}
