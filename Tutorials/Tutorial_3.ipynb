{
 "cells": [
  {
   "attachments": {},
   "cell_type": "markdown",
   "id": "93bc79f9",
   "metadata": {},
   "source": [
    "## Problem 1 - list comprehensions\n",
    "\n",
    "Variable `data` stores crude oil prices for January 2023.\n",
    "\n",
    "Create new list containing only prices higher than 80."
   ]
  },
  {
   "cell_type": "code",
   "execution_count": 19,
   "id": "1b362370",
   "metadata": {},
   "outputs": [],
   "source": [
    "# Crude oil prices for Jan 2023 (Jan 01 - Jan 31) - for weekends I just repeated price from friday so there is price for every day\n",
    "data = [78.73, 78.73, 80.57, 77.25, 73.25, 73.97, 73.97, 73.97, 73.47, 74.86, 74.78, 77.7, 78.32, 78.32, 78.32, 80.1, 80.1, 80.97, 79.14, 80.6, 80.6, 80.60, 81.79, 81.62, 80.26, 80.48, 81.22, 81.22, 81.22, 80.04, 77.91]\n",
    "# Your code:"
   ]
  },
  {
   "attachments": {},
   "cell_type": "markdown",
   "id": "6964edc6",
   "metadata": {},
   "source": [
    "Find index of highest price you can use `max(data)` to find the max price and print the index as date (e.g. \"Max price was on Jan 5 2023\")"
   ]
  },
  {
   "cell_type": "code",
   "execution_count": null,
   "id": "743317a2",
   "metadata": {},
   "outputs": [],
   "source": []
  },
  {
   "attachments": {},
   "cell_type": "markdown",
   "id": "fbbe1e76",
   "metadata": {},
   "source": [
    "Create new list containing dates when the price was lower than `75`. Try to format the dates so it looks something like `[\"Jan 5\", \"Jan 6\", ...]`:"
   ]
  },
  {
   "cell_type": "code",
   "execution_count": null,
   "id": "01e85c06",
   "metadata": {},
   "outputs": [],
   "source": []
  },
  {
   "cell_type": "markdown",
   "id": "a8b00cfe",
   "metadata": {},
   "source": [
    "Create new list containing daily differences [price on Jan 2 - price on Jan 1, price on Jan 3 - price on Jan 2, ...]"
   ]
  },
  {
   "cell_type": "code",
   "execution_count": null,
   "id": "18a8f7e2",
   "metadata": {},
   "outputs": [],
   "source": []
  },
  {
   "attachments": {},
   "cell_type": "markdown",
   "id": "e3975576",
   "metadata": {},
   "source": [
    "## Problem 2\n",
    "\n",
    "I would like to introduce method `.split()` which I think it's quite useful.\n",
    "\n",
    "For string there is method `text.split(character)` which splits a string into list of strings using given character (e.g. `text.split(\".\")`). This is often usefult when spliting text into words/sentences...\n",
    "\n",
    "_Try splitting `text` by words and by sentences._\n",
    "\n",
    "There is also method `\"some string\".join(some_list)` which joins a list of string into single string.\n",
    "\n",
    "_Try it to join the words back together with \",\" as delimeter._\n"
   ]
  },
  {
   "cell_type": "code",
   "execution_count": 27,
   "id": "1f0e349c",
   "metadata": {},
   "outputs": [
    {
     "name": "stdout",
     "output_type": "stream",
     "text": [
      "['Hey', 'Jude.', \"don't\", 'make', 'it', 'bad.', 'Take', 'a', 'sad', 'song', 'and', 'make', 'it', 'better.', 'Remember', 'to', 'let', 'her', 'into', 'your', 'heart.', 'Then', 'you', 'can', 'start', 'to', 'make', 'it', 'better.']\n",
      "['Hey Jude', \" don't make it bad\", ' Take a sad song and make it better', ' Remember to let her into your heart', ' Then you can start to make it better', '']\n",
      "Hey, Jude., don't, make, it, bad., Take, a, sad, song, and, make, it, better., Remember, to, let, her, into, your, heart., Then, you, can, start, to, make, it, better.\n"
     ]
    }
   ],
   "source": [
    "text = \"Hey Jude. don't make it bad. Take a sad song and make it better. Remember to let her into your heart. Then you can start to make it better.\"\n",
    "\n",
    "# Split by words:\n",
    "print(text.split())  # Same as: print(text.split(\" \"))\n",
    "# Split by sentences (ended by .)\n",
    "print(text.split(\".\"))\n",
    "\n",
    "# First split text by spaces\n",
    "words = text.split()\n",
    "# Join text by comma and space\n",
    "print(\", \".join(words))"
   ]
  },
  {
   "attachments": {},
   "cell_type": "markdown",
   "id": "e631720d",
   "metadata": {},
   "source": [
    "### Problem 2.1\n",
    "\n",
    "Use `split()` to create list of all words from `text` starting with letter 'a'. Try using list comprehensions\n"
   ]
  },
  {
   "cell_type": "code",
   "execution_count": 11,
   "id": "4acdd268",
   "metadata": {},
   "outputs": [
    {
     "data": {
      "text/plain": [
       "['a', 'and']"
      ]
     },
     "execution_count": 11,
     "metadata": {},
     "output_type": "execute_result"
    }
   ],
   "source": [
    "# Your code:"
   ]
  },
  {
   "attachments": {},
   "cell_type": "markdown",
   "id": "0a1c9411",
   "metadata": {},
   "source": [
    "### Problem 2.2\n",
    "\n",
    "Create list of all sentences from `text` which have more than 5 words\n"
   ]
  },
  {
   "cell_type": "code",
   "execution_count": 24,
   "id": "489699fd",
   "metadata": {},
   "outputs": [],
   "source": [
    "text = \"Hey Jude. don't make it bad. Take a sad song and make it better. Remember to let her into your heart. Then you can start to make it better.\"\n",
    "# Your code:"
   ]
  },
  {
   "attachments": {},
   "cell_type": "markdown",
   "id": "f5828766",
   "metadata": {},
   "source": [
    "## Problem 3\n",
    "\n",
    "Given some list e.g. `[\"apple\", \"banana\", \"coconut\", \"pear\"]` use for loop to find and print the longest word. Print the result as `\"coconut\" is the longes word with 7 letters` (to practice string formatting)\n"
   ]
  },
  {
   "cell_type": "code",
   "execution_count": 8,
   "id": "8ccab7dd",
   "metadata": {},
   "outputs": [],
   "source": [
    "word_list = [\"apple\", \"banana\", \"coconut\", \"pear\"]"
   ]
  },
  {
   "attachments": {},
   "cell_type": "markdown",
   "id": "0f0aad7b",
   "metadata": {},
   "source": [
    "Use `index` and `pop` function to remove longest word from the list"
   ]
  },
  {
   "cell_type": "code",
   "execution_count": null,
   "id": "f6f33340",
   "metadata": {},
   "outputs": [],
   "source": []
  },
  {
   "attachments": {},
   "cell_type": "markdown",
   "id": "859b9aa2",
   "metadata": {},
   "source": [
    "### Advanced\n",
    "You could also use function `sorted(word_list, key=len)` but it requires some extra understanding, because we need to pass function to parameter `key` which determines the value of single element which is then used for sorting. You can imagine that the sort function does `[len(word_list[0]), len(word_list[1]), len(word_list[2]), ...]` and then sort the by the numerical values.\n",
    "\n",
    "Otherwise using just `sorted(word_list)` will sort words by alphabetical order.\n"
   ]
  },
  {
   "cell_type": "code",
   "execution_count": null,
   "id": "3d26163c",
   "metadata": {},
   "outputs": [],
   "source": []
  }
 ],
 "metadata": {
  "kernelspec": {
   "display_name": "Python 3",
   "language": "python",
   "name": "python3"
  },
  "language_info": {
   "codemirror_mode": {
    "name": "ipython",
    "version": 3
   },
   "file_extension": ".py",
   "mimetype": "text/x-python",
   "name": "python",
   "nbconvert_exporter": "python",
   "pygments_lexer": "ipython3",
   "version": "3.9.1"
  },
  "varInspector": {
   "cols": {
    "lenName": 16,
    "lenType": 16,
    "lenVar": 40
   },
   "kernels_config": {
    "python": {
     "delete_cmd_postfix": "",
     "delete_cmd_prefix": "del ",
     "library": "var_list.py",
     "varRefreshCmd": "print(var_dic_list())"
    },
    "r": {
     "delete_cmd_postfix": ") ",
     "delete_cmd_prefix": "rm(",
     "library": "var_list.r",
     "varRefreshCmd": "cat(var_dic_list()) "
    }
   },
   "types_to_exclude": [
    "module",
    "function",
    "builtin_function_or_method",
    "instance",
    "_Feature"
   ],
   "window_display": false
  },
  "vscode": {
   "interpreter": {
    "hash": "aee8b7b246df8f9039afb4144a1f6fd8d2ca17a180786b69acc140d282b71a49"
   }
  }
 },
 "nbformat": 4,
 "nbformat_minor": 5
}
