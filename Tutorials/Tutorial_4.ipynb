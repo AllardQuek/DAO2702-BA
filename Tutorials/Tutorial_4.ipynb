{
 "cells": [
  {
   "attachments": {},
   "cell_type": "markdown",
   "id": "5a4441a6",
   "metadata": {},
   "source": [
    "## Question 1 - Tuple unpacking\n",
    "Iterate over the list of employees - print name and age of all managers. Try using tuple unpacking"
   ]
  },
  {
   "cell_type": "code",
   "execution_count": 11,
   "id": "66ae055c",
   "metadata": {},
   "outputs": [
    {
     "name": "stdout",
     "output_type": "stream",
     "text": [
      "Tom Strong 25\n",
      "Romario Ramsey 34\n",
      "Hareem Weir 54\n",
      "Lennie Wallis 21\n",
      "Tom Webb 41\n",
      "Elyse Liwu 37\n"
     ]
    }
   ],
   "source": [
    "# each employee is tuple: (name, age, work_years, position)\n",
    "employees = [\n",
    "    (\"Tom Strong\", 25, 2, \"manager\"),\n",
    "    (\"Romario Ramsey\", 34, 3, \"manager\"),\n",
    "    (\"Hareem Weir\", 54, 20, \"CEO\"),\n",
    "    (\"Lennie Wallis\", 21, 1, \"assistant\"),\n",
    "    (\"Tom Webb\", 41, 11, \"consultant\"),\n",
    "    (\"Elyse Liwu\", 37, 8, \"manager\")\n",
    "]\n",
    "\n",
    "# Solution:\n",
    "for name, age, work_years, position in employees:\n",
    "    print(name, age)"
   ]
  },
  {
   "attachments": {},
   "cell_type": "markdown",
   "id": "bcbd701f",
   "metadata": {},
   "source": [
    "# Question 2 - zip function\n",
    "Use zip function to print all months where the price is higher than 100:"
   ]
  },
  {
   "cell_type": "code",
   "execution_count": 12,
   "id": "8c6fd322",
   "metadata": {},
   "outputs": [
    {
     "name": "stdout",
     "output_type": "stream",
     "text": [
      "January\n",
      "April\n",
      "May\n",
      "July\n",
      "August\n",
      "December\n"
     ]
    }
   ],
   "source": [
    "months = ['January', 'February', 'March', 'April', 'May', 'June', 'July', 'August', 'September', 'October', 'November', 'December']\n",
    "prices = [128, 85, 19, 135, 107, 64, 121, 130, 70, 58, 45, 103]\n",
    "\n",
    "# Solution:\n",
    "for month, price in zip(months, prices):\n",
    "\tif price > 100:\n",
    "\t\tprint(month)"
   ]
  },
  {
   "attachments": {},
   "cell_type": "markdown",
   "id": "bccbb218",
   "metadata": {},
   "source": [
    "## Question 3 - Kopi example extended\n",
    "Let's imagine that we have limited supply of each drink type (represented by dictionary `supply`). Write program which will:\n",
    "1. Print all available types (more than 1 supply)\n",
    "2. Take users order (type + amount)\n",
    "3. Check if there is enough supply for given type, print summary if success or print fail and take order again\n",
    "4. Update suppply\n",
    "5. Repeat all steps from start (1)"
   ]
  },
  {
   "cell_type": "code",
   "execution_count": 14,
   "id": "af480520",
   "metadata": {},
   "outputs": [],
   "source": [
    "supply = {\n",
    "    'K': 10,\n",
    "    'O': 5,\n",
    "    'C': 5, \n",
    "    'S': 3, \n",
    "    'I': 1,\n",
    "}\n",
    "\n",
    "prices = {\n",
    "    'K': 1.8,\n",
    "    'O': 1.6,\n",
    "    'C': 2.0, \n",
    "    'S': 1.8, \n",
    "    'I': 2.6\n",
    "}\n",
    "\n",
    "kopis = {\n",
    "    'K': 'Kopi',\n",
    "    'O': 'Kopi O',\n",
    "    'C': 'Kopi C', \n",
    "    'S': 'Kopi Siew Dai', \n",
    "    'I': 'Iced Kopi'\n",
    "} "
   ]
  },
  {
   "cell_type": "code",
   "execution_count": 15,
   "id": "0e92dc89",
   "metadata": {},
   "outputs": [
    {
     "name": "stdout",
     "output_type": "stream",
     "text": [
      "K\n",
      "O\n",
      "C\n",
      "S\n"
     ]
    }
   ],
   "source": [
    "# Try implementing each step separately before putting it all together\n",
    "# Solution:\n",
    "def open_kopi(supply, prices, kopis):\n",
    "    for name, qty in supply.items():\n",
    "        if qty > 1:\n",
    "            print(name)\n",
    "\n",
    "open_kopi(supply, prices, kopis)"
   ]
  },
  {
   "attachments": {},
   "cell_type": "markdown",
   "id": "31c0a5e9-2da9-42bd-b97a-25e1e61b0923",
   "metadata": {},
   "source": [
    "# Advanced problem 1 - Flashcards\n",
    "_I will not cover it in tutorial. Just in case you want something more challenging_\n",
    "\n",
    "You probably heard about these spaced repetition systems (Anki or other falshcard apps) where you are tested on different questions. The more difficult questions are tested more frequently. In this problem we will try to implement simple program for testing knowledge about python.\n",
    "\n",
    "Task: Using provided dictionary (key is question and value is a correct answer). At the beginning each equstion has level 0. Using loop we will iterate over all questions asking the question if it has level smaller than 1:\n",
    "  - If user answers CORRECTLY, increase level of question by one (+1)\n",
    "  - If user answers INCORRECTLY, decrease level of question by one (-1)\n",
    "\n",
    "Repeat above process until all question are at level 1.\n",
    "\n",
    "_You can try to make it more advanced_"
   ]
  },
  {
   "cell_type": "code",
   "execution_count": 43,
   "id": "796f1f2c-92d0-42fd-ba45-45ab6ebade5b",
   "metadata": {},
   "outputs": [],
   "source": [
    "questions = {\n",
    "    \"Name of function which gives you number of items in a list?\": \"len\",\n",
    "    \"Using range function generate numbers: [2, 4, 6, 8]\": \"range(2, 9, 2)\",\n",
    "    \"Is tuple mutable?\": \"no\",\n",
    "    \"Is list mutable?\": \"yes\",\n",
    "    \"Is string mutable?\": \"no\",\n",
    "    \"Can you use tuple as key of dictionary?\": \"yes\",\n",
    "    \"Can you use list as key of dictionary?\": \"no\",\n",
    "    \"What's the output of: [i for i in range(6) if i % 2 == 0]\": \"[0, 2, 4]\",\n",
    "    \"What's the output of: print('test'[1])\": 'e'\n",
    "}"
   ]
  },
  {
   "cell_type": "code",
   "execution_count": 3,
   "id": "807551b5-fb80-4be0-9095-a7b89ff6ca12",
   "metadata": {},
   "outputs": [],
   "source": [
    "# Solution:"
   ]
  },
  {
   "attachments": {},
   "cell_type": "markdown",
   "id": "44198622",
   "metadata": {},
   "source": [
    "## Tutorial Examples"
   ]
  },
  {
   "cell_type": "code",
   "execution_count": null,
   "id": "637c71bb",
   "metadata": {},
   "outputs": [],
   "source": [
    "def fun1(name, age):\n",
    "\tprint(f\"Hello, my name is {name} and I am {str(age)} years old.\")"
   ]
  },
  {
   "cell_type": "code",
   "execution_count": 8,
   "metadata": {},
   "outputs": [
    {
     "name": "stdout",
     "output_type": "stream",
     "text": [
      "Hello, my name is Emma and I am 23 years old.\n"
     ]
    }
   ],
   "source": [
    "fun1(\"Emma\", age=23)"
   ]
  },
  {
   "cell_type": "code",
   "execution_count": 9,
   "id": "b36002be",
   "metadata": {},
   "outputs": [
    {
     "ename": "SyntaxError",
     "evalue": "positional argument follows keyword argument (623898708.py, line 1)",
     "output_type": "error",
     "traceback": [
      "\u001b[0;36m  Cell \u001b[0;32mIn[9], line 1\u001b[0;36m\u001b[0m\n\u001b[0;31m    fun1(name=\"Emma\", 23)\u001b[0m\n\u001b[0m                        ^\u001b[0m\n\u001b[0;31mSyntaxError\u001b[0m\u001b[0;31m:\u001b[0m positional argument follows keyword argument\n"
     ]
    }
   ],
   "source": [
    "fun1(name=\"Emma\", 23)"
   ]
  },
  {
   "cell_type": "code",
   "execution_count": 10,
   "id": "96663683",
   "metadata": {},
   "outputs": [
    {
     "data": {
      "text/plain": [
       "14"
      ]
     },
     "execution_count": 10,
     "metadata": {},
     "output_type": "execute_result"
    }
   ],
   "source": [
    "def myfunction(x, y, z=9):\n",
    "    if x < 4:\n",
    "        return x\n",
    "    elif x <= 14:\n",
    "        return y\n",
    "    else:\n",
    "        return z\n",
    "    \n",
    "x, y, z= 29//2, 11%2, 2**2\n",
    "myfunction(y=x, x=z)"
   ]
  },
  {
   "cell_type": "code",
   "execution_count": null,
   "id": "7e2bf365",
   "metadata": {},
   "outputs": [],
   "source": []
  }
 ],
 "metadata": {
  "kernelspec": {
   "display_name": "Python 3",
   "language": "python",
   "name": "python3"
  },
  "language_info": {
   "codemirror_mode": {
    "name": "ipython",
    "version": 3
   },
   "file_extension": ".py",
   "mimetype": "text/x-python",
   "name": "python",
   "nbconvert_exporter": "python",
   "pygments_lexer": "ipython3",
   "version": "3.9.1"
  },
  "varInspector": {
   "cols": {
    "lenName": 16,
    "lenType": 16,
    "lenVar": 40
   },
   "kernels_config": {
    "python": {
     "delete_cmd_postfix": "",
     "delete_cmd_prefix": "del ",
     "library": "var_list.py",
     "varRefreshCmd": "print(var_dic_list())"
    },
    "r": {
     "delete_cmd_postfix": ") ",
     "delete_cmd_prefix": "rm(",
     "library": "var_list.r",
     "varRefreshCmd": "cat(var_dic_list()) "
    }
   },
   "types_to_exclude": [
    "module",
    "function",
    "builtin_function_or_method",
    "instance",
    "_Feature"
   ],
   "window_display": false
  },
  "vscode": {
   "interpreter": {
    "hash": "aee8b7b246df8f9039afb4144a1f6fd8d2ca17a180786b69acc140d282b71a49"
   }
  }
 },
 "nbformat": 4,
 "nbformat_minor": 5
}
