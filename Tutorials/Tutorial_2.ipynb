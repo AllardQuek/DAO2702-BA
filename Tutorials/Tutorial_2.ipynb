{
 "cells": [
  {
   "attachments": {},
   "cell_type": "markdown",
   "metadata": {},
   "source": [
    "\n",
    "### Is String Palindrome?\n",
    "Write code which takes arbitrary string and tells if it is palindrom (meaning that reversed string is same as original string). Try by constructing reversed string using for loop (there exists also more advanced approaches)."
   ]
  },
  {
   "cell_type": "code",
   "execution_count": null,
   "metadata": {},
   "outputs": [],
   "source": [
    "text = \"abba\"\n",
    "# ... determin if text is palindrome\n"
   ]
  },
  {
   "attachments": {},
   "cell_type": "markdown",
   "metadata": {},
   "source": [
    "### Replace all occurences of \"a\" by \"+\"\n",
    "Write code which tekes string and replaces all occureces of character \"a\" by character \"+\". Try to do this using for loop."
   ]
  },
  {
   "cell_type": "code",
   "execution_count": 1,
   "metadata": {},
   "outputs": [],
   "source": [
    "text = \"car on road\"\n",
    "# expected result \"c+r on ro+d\""
   ]
  },
  {
   "attachments": {},
   "cell_type": "markdown",
   "metadata": {},
   "source": [
    "\n",
    "### Is number prime number?\n",
    "Write code which determines if number is prime or not."
   ]
  },
  {
   "cell_type": "code",
   "execution_count": 2,
   "metadata": {},
   "outputs": [],
   "source": [
    "num = 27\n",
    "# ... determin if num is prime"
   ]
  },
  {
   "attachments": {},
   "cell_type": "markdown",
   "metadata": {},
   "source": [
    "### Guess the Number game\n",
    "Computer picks an integer within range 1-100 (at beginning use just variable `random_number = 42`). The player tries to guess the number. If the guess is incorrect, then code tells the player whether the guess was too high or too low. Player wins if he guess correct\n",
    "\n",
    "You should create loop where you always load users guess and then compare it with `random_number` variable."
   ]
  },
  {
   "cell_type": "code",
   "execution_count": 3,
   "metadata": {},
   "outputs": [],
   "source": [
    "random_number = 42\n",
    "## You can uncomment following code to make it more fun by generating random numbers\n",
    "# from random import randint\n",
    "# random_number = randint(1, 100)\n",
    "\n",
    "\n",
    "# Code for taking user input, comparing it..."
   ]
  }
 ],
 "metadata": {
  "kernelspec": {
   "display_name": "Python 3",
   "language": "python",
   "name": "python3"
  },
  "language_info": {
   "codemirror_mode": {
    "name": "ipython",
    "version": 3
   },
   "file_extension": ".py",
   "mimetype": "text/x-python",
   "name": "python",
   "nbconvert_exporter": "python",
   "pygments_lexer": "ipython3",
   "version": "3.9.13"
  },
  "orig_nbformat": 4,
  "vscode": {
   "interpreter": {
    "hash": "ab77f43252819ef0b85beb3e92ee15f5bdee162429efe8fdf70dfc68a725be76"
   }
  }
 },
 "nbformat": 4,
 "nbformat_minor": 2
}
