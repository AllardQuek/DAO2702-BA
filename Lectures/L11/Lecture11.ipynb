{
 "cells": [
  {
   "cell_type": "markdown",
   "id": "5a583f4e",
   "metadata": {},
   "source": [
    "# Random Sampling\n",
    "\n",
    "## Contents\n",
    "\n",
    "- [Imports](#section1)\n",
    "- [Populations and Samples](#section2)\n",
    "- [Monte Carlo Simulations](#section3)\n",
    "    - [Random number generation](#subsection3.1)\n",
    "    - [Simulations with continuous random variables](#subsection3.2)\n",
    "    - [Simulations with discrete random variables](#subsection3.3)\n",
    "    - [Monte Carlo simulations for decision-making](#subsection3.4)\n",
    "- [Sampling Distributions](#section4)\n",
    "    - [Estimate the population mean using the sample average](#subsection4.1)\n",
    "    - [Central limit theorem](#subsection4.2)"
   ]
  },
  {
   "cell_type": "markdown",
   "id": "192a6e79",
   "metadata": {},
   "source": [
    " "
   ]
  },
  {
   "cell_type": "markdown",
   "id": "94121fc9",
   "metadata": {},
   "source": [
    "## Imports <a id=\"section1\"></a>"
   ]
  },
  {
   "cell_type": "code",
   "execution_count": 1,
   "id": "aaf53a0e",
   "metadata": {},
   "outputs": [],
   "source": [
    "import numpy as np\n",
    "import pandas as pd\n",
    "import matplotlib.pyplot as plt\n",
    "import scipy.stats as stats"
   ]
  },
  {
   "cell_type": "markdown",
   "id": "2655c2a4",
   "metadata": {},
   "source": [
    " "
   ]
  },
  {
   "cell_type": "markdown",
   "id": "8c5e3570",
   "metadata": {},
   "source": [
    "## Populations and Samples <a id=\"section2\"></a>\n",
    "\n",
    "<div class=\"alert alert-block alert-danger\">\n",
    "    <b>Notes:</b>  \n",
    "        <li> <b>Population</b>: The collection of all individuals or items under consideration in a statistical study.\n",
    "        <li> <b>Sample</b>: A part of the population from which information is obtained.\n",
    "</div>\n",
    "\n",
    "We provide two other examples below for your reference.\n",
    "1. A study on the percentage of US voters who support Trump in the 2020 election \n",
    "    - **Population**: all US voters\n",
    "    - **Sample**: a poll of 1000 voters\n",
    "2. A study on the average household income of all Singaporeans \n",
    "    - **Population**: all households in Singapore\n",
    "    - **Sample**: a survey of 100 households in Singapore\n",
    "    \n",
    "<img src=\"https://s3-eu-west-1.amazonaws.com/blog.omniconvert.com-media/blog/wp-content/uploads/2019/10/21150245/sample-size-definition.png\" width=450px>\n",
    "\n",
    "A descriptive measure of a population, such as the expected value (mean), the median, and the standard deviation, is usually referred to as a **parameter** of the population. A descriptive measure of a sample is referred to as a **statistic**, as shown in the table below. \n",
    "\n",
    "| |Population Parameters|Sample Statistics|\n",
    "|---:|----:|----:|\n",
    "|mean value | population mean $\\mu$ | sample average $\\bar{X}$|\n",
    "|standard deviation | population standard deviation $\\sigma$ | sample standard deviation $s$ |\n",
    "|Probability | population probability $p$ | sample proportion $\\hat{p}$ |\n",
    "|Distribution | PDF or PMF | histogram or density plot |\n",
    "\n",
    "For various reasons, it is costly or impractical to directly identify population parameters, so instead, we will calculate the statistics of a sufficiently large sample, as the sample statistics may provide good approximations of the population parameters.\n"
   ]
  },
  {
   "cell_type": "markdown",
   "id": "ead520dc",
   "metadata": {},
   "source": [
    " "
   ]
  },
  {
   "cell_type": "markdown",
   "id": "8041c137",
   "metadata": {},
   "source": [
    "## Monte Carlo Simulations <a id=\"section3\"></a>\n",
    "\n",
    "As mentioned in the previous section that the sample statistics can be used to approximate population parameters. This idea inspired the **Monte Carlo methods**. The Monte Carlo methods learn about a system under uncertainty by simulating it with random sampling. \n",
    "\n",
    "### Random number generation <a id=\"subsection3.1\"></a>\n",
    "\n",
    "The `numpy.random` package provides functions for generating random variables for a great variety of continuous and discrete distributions. The syntax of calling these functions can be generalized as follows: \n",
    "\n",
    "<center><b><code>numpy.random.<i>distr</i>(<font color='blue'><i>shape_param_1</i></font>, <font color='blue'><i>shape_param_2</i></font>, ..., <font color='blue'><i>size</i></font> )</code></b></center>\n",
    "\n",
    "- <b><code><i>distr</i></code></b> is the name of the function representing a distribution, such as <code>binom</code> for binomial and <code>normal</code> for normal distributions; \n",
    "- <b><code><font color='blue'><i>shape_param_1</i></font></code></b>, <b><code><font color='blue'><i>shape_param_2</i></font></code></b>, ... are the parameters specifying the shape of the distribution, such as the mean and the standard deviation specify the shape of a normal distribution;\n",
    "- <b><code><font color='blue'><i>size</i></font></code></b> is the shape of the returned array of random numbers.\n",
    "\n",
    "The table below summarizes functions and parameters for a few commonly used distributions.\n",
    "\n",
    "\n",
    "Distribution| Parameters | Random functions | Remarks |\n",
    ":-------:|:-------------------------:|:--------:|:------:|\n",
    "Binomial| `n` as a positive integer <br> `p` as a probability | `binom` | - |\n",
    "Poisson| `lam` as the mean value | `poisson` |  - |\n",
    "Uniform | `low` as the lower bound <br>`high` as the upper bound | `uniform` | `low=0` and `high=1`, by default|\n",
    "Normal | `loc` as the mean value <br>`scale` as the standard deviation | `normal` | `loc=0` and `scale=1`, by default|\n",
    "\n",
    "For example, the following code segment is used to randomly generate a normally distributed sample of `size=1000` records. The mean and standard deviation of the normal distribution is specified to be 5 and 2.5, respectively. "
   ]
  },
  {
   "cell_type": "code",
   "execution_count": 2,
   "id": "c274bb3a",
   "metadata": {
    "scrolled": false
   },
   "outputs": [
    {
     "data": {
      "text/plain": [
       "count    1000.000000\n",
       "mean        5.016930\n",
       "std         2.460069\n",
       "min        -1.523290\n",
       "25%         3.342982\n",
       "50%         5.023708\n",
       "75%         6.659627\n",
       "max        12.680252\n",
       "dtype: float64"
      ]
     },
     "execution_count": 2,
     "metadata": {},
     "output_type": "execute_result"
    }
   ],
   "source": [
    "sample = np.random.normal(5, 2.5, size=1000)   # 1000 records following a normal distribution\n",
    "pd.Series(sample).describe()                   "
   ]
  },
  {
   "cell_type": "markdown",
   "id": "194fd43b",
   "metadata": {},
   "source": [
    "Similarly, we can generate a sample with `size=1000` records and it follows a Poisson distribution with mean and variance to be 20."
   ]
  },
  {
   "cell_type": "code",
   "execution_count": 3,
   "id": "2a760e89",
   "metadata": {},
   "outputs": [
    {
     "data": {
      "text/plain": [
       "count    1000.000000\n",
       "mean       20.002000\n",
       "std         4.722319\n",
       "min         6.000000\n",
       "25%        17.000000\n",
       "50%        20.000000\n",
       "75%        23.000000\n",
       "max        36.000000\n",
       "dtype: float64"
      ]
     },
     "execution_count": 3,
     "metadata": {},
     "output_type": "execute_result"
    }
   ],
   "source": [
    "sample = np.random.poisson(20, size=1000)    # 1000 records following a Poisson distribution\n",
    "pd.Series(sample).describe()"
   ]
  },
  {
   "cell_type": "markdown",
   "id": "a0ff4175",
   "metadata": {},
   "source": [
    "Note that because the samples are randomly generated, the results of the statistics may be slightly different every time we run the code.\n",
    "\n",
    "### Simulations with continuous random variables <a id=\"subsection3.2\"></a>\n",
    "\n",
    "<div class=\"alert alert-block alert-success\">\n",
    "<b>Example 1: </b> Suppose that the daily log returns on a stock are independent and normally distributed with mean 0.001 and standard deviation 0.015. If you buy $\\$1000$ worth of this stock at time $t=1$, use Monte Carlo simulations to answer the following questions:\n",
    "<li>What is the probability that after one trading day, i.e. at time $t=2$, your investment is worth less than $\\$990$?</li>\n",
    "<li>What is the probability that after five trading day, i.e. at time $t=6$, your investment is worth less than $\\$990$?</li>\n",
    "<li>What is the expected value of the investment after five trading day, i.e. at time $t=6$? </li>\n",
    "<li>What is the variance of the investment after five trading day, i.e. at time $t=6$? </li>\n",
    "</div>\n",
    "\n",
    "According to the definition of log returns:\n",
    "\n",
    "$$\n",
    "r_t = \\log\\left(\\frac{Q_t}{Q_{t-1}}\\right),\n",
    "$$\n",
    "\n",
    "where $Q_t$ and $Q_{t-1}$ are the prices of an asset at time $t$ and $t-1$, respectively, we can derive that $r_2 = \\log(Q_2/Q_1)$, which is equivalent to $Q_2 = Q_1\\exp(r_2)$. The distribution of the random variable $r_2$ can be approximated by a sufficiently large random sample `log_returns`, generated by the code cell below."
   ]
  },
  {
   "cell_type": "code",
   "execution_count": 4,
   "id": "ef64926a",
   "metadata": {
    "scrolled": true
   },
   "outputs": [
    {
     "data": {
      "text/plain": [
       "array([ 0.01425781, -0.01682372,  0.01228142, ...,  0.001194  ,\n",
       "        0.00076257, -0.00213527])"
      ]
     },
     "execution_count": 4,
     "metadata": {},
     "output_type": "execute_result"
    }
   ],
   "source": [
    "mean = 0.001\n",
    "std = 0.015\n",
    "smp_size = 100000\n",
    "\n",
    "log_returns = np.random.normal(mean, std, size=smp_size)\n",
    "log_returns"
   ]
  },
  {
   "cell_type": "markdown",
   "id": "55f5f1aa",
   "metadata": {},
   "source": [
    "By using vectorized operation, a sample of the stock price $Q_2$ can be created, and the probability $P(Q_2 < 990)$ is approximated by the proportion of sampled prices that are less than $\\$990$."
   ]
  },
  {
   "cell_type": "code",
   "execution_count": 5,
   "id": "1fcb22ac",
   "metadata": {},
   "outputs": [
    {
     "name": "stdout",
     "output_type": "stream",
     "text": [
      "The probability is 0.23123\n"
     ]
    }
   ],
   "source": [
    "q2 = 1000 * np.exp(log_returns)\n",
    "prob = (q2 < 990).mean()\n",
    "\n",
    "print(f'The probability is {prob}')"
   ]
  },
  {
   "cell_type": "markdown",
   "id": "87a79bcc",
   "metadata": {},
   "source": [
    "In the calculation above, the `mean()` method is applied to a Boolean array, where the `True` values become ones and `False` values become zeros, so the final result is the proportion of `True` values.\n",
    "\n",
    "At time $t=6$, we have \n",
    "\n",
    "$$\n",
    "\\begin{align}\n",
    "r_2 + r_3 + ... + r_6 =& \\log\\left(\\frac{Q_2}{Q_1}\\right) + \\log\\left(\\frac{Q_3}{Q_2}\\right) + ... + \\log\\left(\\frac{Q_6}{Q_5}\\right) \\\\\n",
    "=& \\log\\left(\\frac{Q_2}{Q_1}\\frac{Q_3}{Q_2}...\\frac{Q_6}{Q_5}\\right) = \\log\\left(\\frac{Q_6}{Q_1}\\right),\n",
    "\\end{align}\n",
    "$$\n",
    "\n",
    "so $Q_6 = Q_1\\exp(r_2 + r_3 + ... + r_6)$. Since each random variable $r_i$ is independent and follows the same normal distribution, we can use the following code segment to generate `smp_size=100000` random records (rows) for five days (columns)."
   ]
  },
  {
   "cell_type": "code",
   "execution_count": 6,
   "id": "39a2ceac",
   "metadata": {
    "scrolled": true
   },
   "outputs": [
    {
     "data": {
      "text/plain": [
       "array([[-0.0122218 , -0.00035711,  0.01198139, -0.02649561, -0.02322406],\n",
       "       [ 0.00024997, -0.00144081,  0.00114402,  0.03213475, -0.01793547],\n",
       "       [ 0.04271486, -0.00985444,  0.00737636, -0.01398949,  0.006775  ],\n",
       "       ...,\n",
       "       [ 0.00348449,  0.00240114,  0.03109828, -0.00290766,  0.00071729],\n",
       "       [ 0.00138961,  0.00760929, -0.02374516, -0.00666696, -0.00387912],\n",
       "       [ 0.00125342, -0.00528263,  0.01416019,  0.01346449,  0.01043964]])"
      ]
     },
     "execution_count": 6,
     "metadata": {},
     "output_type": "execute_result"
    }
   ],
   "source": [
    "days = 5\n",
    "\n",
    "log_returns = np.random.normal(mean, std, size=(smp_size, days))\n",
    "log_returns"
   ]
  },
  {
   "cell_type": "markdown",
   "id": "42f9966a",
   "metadata": {},
   "source": [
    "In creating the random samples for $Q_6$, we need to take the summation of the log returns for all five days (all columns). The code is given below for calculating the probability of $Q_6 < 990$, together with the mean and variance of the stock price $Q_6$."
   ]
  },
  {
   "cell_type": "code",
   "execution_count": 7,
   "id": "836a0f77",
   "metadata": {
    "scrolled": false
   },
   "outputs": [
    {
     "name": "stdout",
     "output_type": "stream",
     "text": [
      "The probability is 0.32803\n",
      "The expected worth is 1005.5298791733296\n",
      "The variance is 1148.8183624371156\n"
     ]
    }
   ],
   "source": [
    "q6 = 1000 * np.exp(log_returns.sum(axis=1))\n",
    "prob = (q6 < 990).mean()\n",
    "\n",
    "print(f'The probability is {prob}')\n",
    "print(f'The expected worth is {q6.mean()}')\n",
    "print(f'The variance is {q6.var(ddof=1)}')"
   ]
  },
  {
   "cell_type": "markdown",
   "id": "cc692a0b",
   "metadata": {},
   "source": [
    "Please note that in the default setting of the `var()` (or `std()`) method of NumPy arrays, the method calculates the **population variance** (or population standard deviation). In order to do the calculation for the **sample variance** (or sample standard deviation), we can use either one of the following approaches:\n",
    "\n",
    "- Specify the keyword argument `ddof=1`. Here, the argument `ddof` indicates the **delta degrees of freedom**. \n",
    "- Convert the NumPy array into a series, as shown by the code below. The `var()` (or `std()`) method calculates the sample variance (or sample standard deviation) by default."
   ]
  },
  {
   "cell_type": "code",
   "execution_count": 8,
   "id": "55c31d01",
   "metadata": {
    "scrolled": true
   },
   "outputs": [
    {
     "data": {
      "text/plain": [
       "1148.8183624371156"
      ]
     },
     "execution_count": 8,
     "metadata": {},
     "output_type": "execute_result"
    }
   ],
   "source": [
    "pd.Series(q6).var()"
   ]
  },
  {
   "cell_type": "markdown",
   "id": "e4c11ac6",
   "metadata": {},
   "source": [
    "It can be seen from the example above, the Monte Carlo simulation enables us to calculate some population parameters that are challenging to find out closed-form expressions. Besides, the simulation provides an entire sample distribution, which can be used to approximate the population distribution we are interested in. The distribution of the stock price $Q_6$, for example, can be visualized by the following histogram."
   ]
  },
  {
   "cell_type": "code",
   "execution_count": 9,
   "id": "523adb85",
   "metadata": {
    "scrolled": true
   },
   "outputs": [
    {
     "data": {
      "image/png": "[encoded data removed]",
      "text/plain": [
       "<Figure size 432x288 with 1 Axes>"
      ]
     },
     "metadata": {
      "needs_background": "light"
     },
     "output_type": "display_data"
    }
   ],
   "source": [
    "plt.hist(q6, bins=25, density=True, color='b', alpha=0.4)\n",
    "plt.xlabel('Worth of the investment ($)', fontsize=12)\n",
    "plt.ylabel('Proportion', fontsize=12)\n",
    "plt.show()"
   ]
  },
  {
   "cell_type": "markdown",
   "id": "d44993a7",
   "metadata": {},
   "source": [
    "### Simulations with discrete random variables <a id=\"subsection3.3\"></a>\n",
    "\n",
    "<div class=\"alert alert-block alert-success\">\n",
    "<b>Example 2: </b> We have a few identical dice, and the probabilities of the rolled numbers of each die are provided in the series <span style='font-family:Courier'><b>distr</b></span>. Let $X$ be a random variable representing the summation of five dice rolls.\n",
    "<li>What is the expected value of $X$? </li>\n",
    "<li>What is the variance of $X$? </li>\n",
    "<li>What is the probability that $X$ is larger than 20? </li>\n",
    "<li>What is the expected difference between the maximum and the minimum rolled numbers of the five dice? </li>\n",
    "</div>"
   ]
  },
  {
   "cell_type": "code",
   "execution_count": 10,
   "id": "31de57ef",
   "metadata": {
    "scrolled": false
   },
   "outputs": [
    {
     "data": {
      "text/plain": [
       "1    0.15\n",
       "2    0.24\n",
       "3    0.18\n",
       "4    0.10\n",
       "5    0.21\n",
       "6    0.12\n",
       "dtype: float64"
      ]
     },
     "execution_count": 10,
     "metadata": {},
     "output_type": "execute_result"
    }
   ],
   "source": [
    "distr = pd.Series([0.15, 0.24, 0.18, 0.1, 0.21, 0.12], index=range(1, 7))\n",
    "distr"
   ]
  },
  {
   "cell_type": "markdown",
   "id": "9c636ca6",
   "metadata": {},
   "source": [
    "We are able to derive closed-from solutions for the first two questions."
   ]
  },
  {
   "cell_type": "code",
   "execution_count": 11,
   "id": "a1eda1f8",
   "metadata": {},
   "outputs": [
    {
     "name": "stdout",
     "output_type": "stream",
     "text": [
      "The expected value is 16.7\n"
     ]
    }
   ],
   "source": [
    "outcomes = np.arange(1, 7)\n",
    "probs = distr.values\n",
    "n = 5\n",
    "\n",
    "exp_one = (outcomes * probs).sum()\n",
    "print(f'The expected value is {exp_one * n}')"
   ]
  },
  {
   "cell_type": "code",
   "execution_count": 12,
   "id": "35dcbab9",
   "metadata": {},
   "outputs": [
    {
     "name": "stdout",
     "output_type": "stream",
     "text": [
      "The expected value is 13.721999999999998\n"
     ]
    }
   ],
   "source": [
    "var_one = ((outcomes - exp_one)**2 * probs).sum()\n",
    "print(f'The expected value is {var_one * n}')"
   ]
  },
  {
   "cell_type": "markdown",
   "id": "f17b28cc",
   "metadata": {},
   "source": [
    "Alternatively, we can generate a sample of `smp_size=100000` records (rows) for five dice (columns). The sample statistics calculated below can be used to approximate population parameters."
   ]
  },
  {
   "cell_type": "code",
   "execution_count": 13,
   "id": "7c100c70",
   "metadata": {
    "scrolled": false
   },
   "outputs": [
    {
     "data": {
      "text/plain": [
       "array([[2, 2, 1, 1, 1],\n",
       "       [5, 5, 3, 6, 6],\n",
       "       [1, 1, 4, 1, 6],\n",
       "       ...,\n",
       "       [1, 3, 5, 1, 6],\n",
       "       [1, 3, 1, 6, 5],\n",
       "       [5, 2, 5, 5, 6]])"
      ]
     },
     "execution_count": 13,
     "metadata": {},
     "output_type": "execute_result"
    }
   ],
   "source": [
    "smp_size = 100000\n",
    "rolls = np.random.choice(outcomes, p=probs, size=(smp_size, n))\n",
    "rolls"
   ]
  },
  {
   "cell_type": "code",
   "execution_count": 14,
   "id": "d4f15c83",
   "metadata": {},
   "outputs": [
    {
     "name": "stdout",
     "output_type": "stream",
     "text": [
      "The expected value from simulation is 16.69458\n",
      "The variance from simulation is 13.6856154797548\n",
      "P(X > 20) is 0.15623\n"
     ]
    }
   ],
   "source": [
    "xs = rolls.sum(axis=1)\n",
    "print(f'The expected value from simulation is {xs.mean()}')\n",
    "print(f'The variance from simulation is {xs.var(ddof=1)}')\n",
    "print(f'P(X > 20) is {(xs > 20).mean()}')"
   ]
  },
  {
   "cell_type": "markdown",
   "id": "5cf835c5",
   "metadata": {},
   "source": [
    "The distribution of $X$ estimated using the randomly generated sample is shown below."
   ]
  },
  {
   "cell_type": "code",
   "execution_count": 15,
   "id": "31dc3d99",
   "metadata": {},
   "outputs": [
    {
     "data": {
      "text/plain": [
       "16    0.10387\n",
       "17    0.10372\n",
       "18    0.09638\n",
       "15    0.09453\n",
       "19    0.08548\n",
       "14    0.08401\n",
       "20    0.07400\n",
       "13    0.06932\n",
       "21    0.05574\n",
       "12    0.05278\n",
       "22    0.03972\n",
       "11    0.03517\n",
       "23    0.02704\n",
       "10    0.02236\n",
       "24    0.01644\n",
       "9     0.01242\n",
       "25    0.00960\n",
       "8     0.00671\n",
       "26    0.00441\n",
       "7     0.00245\n",
       "27    0.00215\n",
       "28    0.00093\n",
       "6     0.00050\n",
       "29    0.00019\n",
       "5     0.00007\n",
       "30    0.00001\n",
       "dtype: float64"
      ]
     },
     "execution_count": 15,
     "metadata": {},
     "output_type": "execute_result"
    }
   ],
   "source": [
    "probs_sim = pd.Series(xs).value_counts(normalize=True)\n",
    "probs_sim"
   ]
  },
  {
   "cell_type": "code",
   "execution_count": 16,
   "id": "f03640df",
   "metadata": {
    "scrolled": true
   },
   "outputs": [
    {
     "data": {
      "image/png": "[encoded data removed]",
      "text/plain": [
       "<Figure size 432x288 with 1 Axes>"
      ]
     },
     "metadata": {
      "needs_background": "light"
     },
     "output_type": "display_data"
    }
   ],
   "source": [
    "plt.bar(probs_sim.index, probs_sim, color='b', alpha=0.4)\n",
    "plt.xlabel('Summation of dice rolls', fontsize=12)\n",
    "plt.ylabel('Proportion', fontsize=12)\n",
    "plt.show()"
   ]
  },
  {
   "cell_type": "markdown",
   "id": "065ea3ab",
   "metadata": {},
   "source": [
    "The expected difference between the maximum and minimum rolled numbers can also be approximated by the sample results below, together with the distribution of the difference value."
   ]
  },
  {
   "cell_type": "code",
   "execution_count": 17,
   "id": "4e4be2ac",
   "metadata": {},
   "outputs": [
    {
     "name": "stdout",
     "output_type": "stream",
     "text": [
      "The expected difference is 3.71633\n"
     ]
    }
   ],
   "source": [
    "diff = rolls.max(axis=1) - rolls.min(axis=1)\n",
    "\n",
    "print(f'The expected difference is {diff.mean()}')"
   ]
  },
  {
   "cell_type": "code",
   "execution_count": 18,
   "id": "ff1d329e",
   "metadata": {
    "scrolled": true
   },
   "outputs": [
    {
     "data": {
      "text/plain": [
       "4    0.40168\n",
       "3    0.24085\n",
       "5    0.23458\n",
       "2    0.09298\n",
       "1    0.02820\n",
       "0    0.00171\n",
       "dtype: float64"
      ]
     },
     "execution_count": 18,
     "metadata": {},
     "output_type": "execute_result"
    }
   ],
   "source": [
    "probs_diff = pd.Series(diff).value_counts(normalize=True)\n",
    "probs_diff"
   ]
  },
  {
   "cell_type": "code",
   "execution_count": 19,
   "id": "3d0108d5",
   "metadata": {
    "scrolled": true
   },
   "outputs": [
    {
     "data": {
      "image/png": "[encoded data removed]",
      "text/plain": [
       "<Figure size 432x288 with 1 Axes>"
      ]
     },
     "metadata": {
      "needs_background": "light"
     },
     "output_type": "display_data"
    }
   ],
   "source": [
    "plt.bar(probs_diff.index, probs_diff, color='b', alpha=0.4)\n",
    "plt.xlabel('Range of dice rolls', fontsize=12)\n",
    "plt.ylabel('Proportion', fontsize=12)\n",
    "plt.show()"
   ]
  },
  {
   "cell_type": "markdown",
   "id": "c062afc7",
   "metadata": {},
   "source": [
    "### Monte Carlo simulations for decision-making <a id=\"subsection3.4\"></a>\n",
    "\n",
    "Monte Carlo simulations are frequently used in prescriptive analytics for evaluating the performance of decisions under uncertainty. We can also use this approach to maximize the profit or minimize the cost, via a comparison of all feasible decisions. \n",
    "\n",
    "<div class=\"alert alert-block alert-success\">\n",
    "<b>Example 3: </b> A bakery is making croissants every day. The cost of every croissant is $\\$0.6$ and is sold at a price of $\\$2.5$. Suppose that the daily demand of croissants follows a Poisson distribution with a mean value $\\mu=38.6$, and any unsold croissants will be disposed by the end of the day. What is the optimal number of croissants baked every day, so that the profit of the bakery is maximized?\n",
    "</div>\n",
    "\n",
    "We first generate a random sample to represent the demand of croissants, which follows a Poisson distribution. "
   ]
  },
  {
   "cell_type": "code",
   "execution_count": 20,
   "id": "3ceb6857",
   "metadata": {
    "scrolled": true
   },
   "outputs": [],
   "source": [
    "cost = 0.6\n",
    "price = 2.5\n",
    "mu = 38.6\n",
    "\n",
    "smp_size = 100000\n",
    "demand = np.random.poisson(mu, size=smp_size)"
   ]
  },
  {
   "cell_type": "markdown",
   "id": "989ef292",
   "metadata": {},
   "source": [
    "Then a `for`-loop is used to go through candidate decisions (e.g. integers from 20 to 60), as the numbers of croissants baked every day. There are three steps in each iteration of the loop:\n",
    "1. We use the `np.minimum()` function to identify the minimum value between the demand and the number of croissants baked. The returned value of the function is the number of sold croissants.\n",
    "2. The profits under all sampled demands are calculated altogether using vectorized operation. The average of the profit is then obtained using the `mean()` method. \n",
    "3. The expected profit is appended to the list `profits`, as the expected profit when the number of croissants baked is `decision`. \n",
    "\n",
    "Because the minimum value between the demand and the number of croissants baked is the number of croissants sold, we are using the `np.minimum()` function to identify the minimum between these two values. "
   ]
  },
  {
   "cell_type": "code",
   "execution_count": 21,
   "id": "74eda7f8",
   "metadata": {},
   "outputs": [
    {
     "data": {
      "text/plain": [
       "array([37.99815 , 39.89635 , 41.792675, 43.685875, 45.57425 , 47.45395 ,\n",
       "       49.322275, 51.172775, 52.996225, 54.781475, 56.513375, 58.1824  ,\n",
       "       59.770775, 61.26135 , 62.635025, 63.8818  , 64.989075, 65.9466  ,\n",
       "       66.748975, 67.390525, 67.8758  , 68.205475, 68.39025 , 68.4415  ,\n",
       "       68.37175 , 68.19765 , 67.934625, 67.593625, 67.192625, 66.7423  ,\n",
       "       66.250775, 65.7293  , 65.18455 , 64.623375, 64.0507  , 63.469375,\n",
       "       62.882125, 62.290625, 61.695875, 61.09915 , 60.501375])"
      ]
     },
     "execution_count": 21,
     "metadata": {},
     "output_type": "execute_result"
    }
   ],
   "source": [
    "profits = []\n",
    "decisions = np.arange(20, 61)\n",
    "for decision in decisions:                              # Go through decisions from 20 to 60\n",
    "    sold = np.minimum(demand, decision)                 # An array of sold quantities\n",
    "    exp_profit = (price*sold - cost*decision).mean()    # The average of an array of profits\n",
    "    profits.append(exp_profit)                          # Append the expected profits to the list\n",
    "\n",
    "np.array(profits)"
   ]
  },
  {
   "cell_type": "markdown",
   "id": "2ffda8d9",
   "metadata": {},
   "source": [
    "Besides, we can obtain the same results using broadcasting, and there is no need to use a `for`-loop to iterate the numbers of croissants baked every day, see the code below."
   ]
  },
  {
   "cell_type": "code",
   "execution_count": 22,
   "id": "86e678c1",
   "metadata": {
    "scrolled": true
   },
   "outputs": [
    {
     "data": {
      "text/plain": [
       "array([[20, 21, 22, ..., 42, 42, 42],\n",
       "       [20, 21, 22, ..., 34, 34, 34],\n",
       "       [20, 21, 22, ..., 38, 38, 38],\n",
       "       ...,\n",
       "       [20, 21, 22, ..., 39, 39, 39],\n",
       "       [20, 21, 22, ..., 46, 46, 46],\n",
       "       [20, 21, 22, ..., 34, 34, 34]])"
      ]
     },
     "execution_count": 22,
     "metadata": {},
     "output_type": "execute_result"
    }
   ],
   "source": [
    "solds = np.minimum(demand.reshape((smp_size, 1)), decisions)\n",
    "solds"
   ]
  },
  {
   "cell_type": "code",
   "execution_count": 23,
   "id": "696921c2",
   "metadata": {
    "scrolled": true
   },
   "outputs": [
    {
     "data": {
      "text/plain": [
       "array([37.99815 , 39.89635 , 41.792675, 43.685875, 45.57425 , 47.45395 ,\n",
       "       49.322275, 51.172775, 52.996225, 54.781475, 56.513375, 58.1824  ,\n",
       "       59.770775, 61.26135 , 62.635025, 63.8818  , 64.989075, 65.9466  ,\n",
       "       66.748975, 67.390525, 67.8758  , 68.205475, 68.39025 , 68.4415  ,\n",
       "       68.37175 , 68.19765 , 67.934625, 67.593625, 67.192625, 66.7423  ,\n",
       "       66.250775, 65.7293  , 65.18455 , 64.623375, 64.0507  , 63.469375,\n",
       "       62.882125, 62.290625, 61.695875, 61.09915 , 60.501375])"
      ]
     },
     "execution_count": 23,
     "metadata": {},
     "output_type": "execute_result"
    }
   ],
   "source": [
    "profits = (price*solds - cost*decisions).mean(axis=0)\n",
    "profits"
   ]
  },
  {
   "cell_type": "markdown",
   "id": "26e5a002",
   "metadata": {},
   "source": [
    "The optimal decision can be identified by the following code. Here, the `np.argmax()` function is used to identify the index of the maximum value in the array `profits`. Note that this index is also the index for accessing the optimal number of croissants in the array `decisions`. "
   ]
  },
  {
   "cell_type": "code",
   "execution_count": 24,
   "id": "5c02209e",
   "metadata": {
    "scrolled": true
   },
   "outputs": [
    {
     "name": "stdout",
     "output_type": "stream",
     "text": [
      "The optimal number is 43\n",
      "The maximum profit is 68.44150000011912\n"
     ]
    }
   ],
   "source": [
    "index_max = np.argmax(profits)           # The index of the maximum profit\n",
    "optimal = decisions[index_max]           # Use the index to access the optimal decision\n",
    "\n",
    "print(f'The optimal number is {optimal}')\n",
    "print(f'The maximum profit is {np.max(profits)}')"
   ]
  },
  {
   "cell_type": "markdown",
   "id": "68448294",
   "metadata": {},
   "source": [
    "We can also visualize how the number of croissants baked every day affects the expected profit, shown by the figure below."
   ]
  },
  {
   "cell_type": "code",
   "execution_count": 25,
   "id": "0409296e",
   "metadata": {
    "scrolled": false
   },
   "outputs": [
    {
     "data": {
      "image/png": "[encoded data removed]",
      "text/plain": [
       "<Figure size 432x288 with 1 Axes>"
      ]
     },
     "metadata": {
      "needs_background": "light"
     },
     "output_type": "display_data"
    }
   ],
   "source": [
    "plt.plot(decisions, profits, marker='.')\n",
    "plt.scatter(optimal, profits.max(), s=60, \n",
    "            alpha=0.7, color='r')\n",
    "plt.xlabel('Number of croissants', fontsize=12)\n",
    "plt.ylabel('Expected profit ($)', fontsize=12)\n",
    "plt.show()"
   ]
  },
  {
   "cell_type": "markdown",
   "id": "118741f6",
   "metadata": {},
   "source": [
    "<div class=\"alert alert-block alert-info\">\n",
    "<b>Question 1: </b> The bakery in <b>Example 3</b> is planning to sell croissants at a discount price of $\\$1.5$ in the last two hours each day. Suppose that the demand before the last two hours follows a Poisson distribution with a mean value $\\mu_1=32.6$, and the demand during the last three hours follows a Poisson distribution with a mean value $\\mu_2=16.5$. What is the optimal number of croissants baked every day, so that the profit of the bakery is maximized?\n",
    "</div>"
   ]
  },
  {
   "cell_type": "code",
   "execution_count": null,
   "id": "c0ba79f4",
   "metadata": {},
   "outputs": [],
   "source": []
  },
  {
   "cell_type": "code",
   "execution_count": null,
   "id": "8c07a02c",
   "metadata": {
    "scrolled": true
   },
   "outputs": [],
   "source": []
  },
  {
   "cell_type": "code",
   "execution_count": null,
   "id": "d80de361",
   "metadata": {
    "scrolled": true
   },
   "outputs": [],
   "source": []
  },
  {
   "cell_type": "code",
   "execution_count": null,
   "id": "84826885",
   "metadata": {
    "scrolled": true
   },
   "outputs": [],
   "source": []
  },
  {
   "cell_type": "markdown",
   "id": "d662db56",
   "metadata": {},
   "source": [
    " "
   ]
  },
  {
   "cell_type": "markdown",
   "id": "c6cdb754",
   "metadata": {},
   "source": [
    "## Sampling Distributions <a id=\"section4\"></a>\n",
    "\n",
    "### Estimate the population mean using the the sample average <a id=\"subsection4.1\"></a>\n",
    "\n",
    "<div class=\"alert alert-block alert-success\">\n",
    "<b>Example 4:</b> The lifespans of all bulbs in a batch are recorded in a file called \"bulb.csv\". Consider this batch bulbs as the population, estimate the population mean using a randomly selected a sample with $n=25$ observations. Repeat the sampling experiment 1000 times to find the mean and standard deviation of the sample means. \n",
    "</div>"
   ]
  },
  {
   "cell_type": "code",
   "execution_count": 26,
   "id": "98496e22",
   "metadata": {
    "scrolled": false
   },
   "outputs": [
    {
     "name": "stdout",
     "output_type": "stream",
     "text": [
      "Population mean: 1351.245\n",
      "Population standard deviation: 25.437524255752564\n"
     ]
    }
   ],
   "source": [
    "bulb = pd.read_csv('bulb.csv')\n",
    "print(f'Population mean: {bulb.values.mean()}')\n",
    "print(f'Population standard deviation: {bulb.values.std()}')"
   ]
  },
  {
   "cell_type": "markdown",
   "id": "c0f3b55d",
   "metadata": {},
   "source": [
    "The code above shows that the population mean is $\\mu=1351.245$, and the population standard deviation is $\\sigma=25.438$. The distribution of the population is shown by the histogram below."
   ]
  },
  {
   "cell_type": "code",
   "execution_count": 27,
   "id": "558e4b6a",
   "metadata": {
    "scrolled": false
   },
   "outputs": [
    {
     "data": {
      "image/png": "[encoded data removed]",
      "text/plain": [
       "<Figure size 396x288 with 1 Axes>"
      ]
     },
     "metadata": {
      "needs_background": "light"
     },
     "output_type": "display_data"
    }
   ],
   "source": [
    "plt.figure(figsize=(5.5, 4))\n",
    "plt.hist(bulb['Lifespan'], density=True, bins=20, color='b', alpha=0.4)\n",
    "plt.xlabel('Lifespan (hours)', fontsize=12)\n",
    "plt.ylabel('Proportion', fontsize=12)\n",
    "plt.show()"
   ]
  },
  {
   "cell_type": "markdown",
   "id": "b93c6b24",
   "metadata": {},
   "source": [
    "It can be seen that the lifespans of these bulbs are not normally distributed (as demonstrated by the Q-Q plot below), and the population does not follow any distributions we know."
   ]
  },
  {
   "cell_type": "code",
   "execution_count": 28,
   "id": "2f97b0e9",
   "metadata": {
    "scrolled": true
   },
   "outputs": [
    {
     "data": {
      "image/png": "[encoded data removed]",
      "text/plain": [
       "<Figure size 288x288 with 1 Axes>"
      ]
     },
     "metadata": {
      "needs_background": "light"
     },
     "output_type": "display_data"
    }
   ],
   "source": [
    "plt.figure(figsize=(4, 4))\n",
    "stats.probplot(bulb['Lifespan'], plot=plt)\n",
    "plt.title(f'Q-Q Plot for the Population')\n",
    "plt.show()"
   ]
  },
  {
   "cell_type": "markdown",
   "id": "b5b843ab",
   "metadata": {},
   "source": [
    "In real applications, it is impractical to burn out all bulbs to find their lifespans. Instead, it is more economical to estimate the mean value via testing a sample that contains a small fraction of the overall population. As a simulation, we can use the `sample()` method to randomly select a given number of records from the dataset. In the sample code below, a sample of five records are randomly generated. In order to ensure that each record is selected independently, the keyword argument `replace` is specified to be `True`, meaning that the samples are selected with replacement. "
   ]
  },
  {
   "cell_type": "code",
   "execution_count": 29,
   "id": "eac419f6",
   "metadata": {
    "scrolled": true
   },
   "outputs": [
    {
     "data": {
      "text/plain": [
       "121    1322.039862\n",
       "384    1356.724753\n",
       "381    1339.853857\n",
       "72     1382.189564\n",
       "446    1385.089460\n",
       "Name: Lifespan, dtype: float64"
      ]
     },
     "execution_count": 29,
     "metadata": {},
     "output_type": "execute_result"
    }
   ],
   "source": [
    "bulb['Lifespan'].sample(5, replace=True)"
   ]
  },
  {
   "cell_type": "markdown",
   "id": "01a76659",
   "metadata": {},
   "source": [
    "Similarly, we can randomly select a sample with $n=25$ records, and use the `mean()` method to calculate the sample average value."
   ]
  },
  {
   "cell_type": "code",
   "execution_count": 30,
   "id": "ff12abac",
   "metadata": {
    "scrolled": true
   },
   "outputs": [
    {
     "data": {
      "text/plain": [
       "1356.87963940278"
      ]
     },
     "execution_count": 30,
     "metadata": {},
     "output_type": "execute_result"
    }
   ],
   "source": [
    "sample = bulb['Lifespan'].sample(25, replace=True)\n",
    "sample.mean()"
   ]
  },
  {
   "cell_type": "markdown",
   "id": "879cfc75",
   "metadata": {},
   "source": [
    "Although it is less costly and more practical to obtain the sample data, we cannot expect the sample yield perfectly accurate information about the population. For instance, the sample with $n=25$ records leads to an average very close to the population mean, but it is never the same. Besides, because the randomness involved in generating the sample, the sample average itself is random and varies every time we run the code. \n",
    "\n",
    "It can be seen that the sample average, denoted by $\\bar{X}$, is another random variable. The distribution of $\\bar{X}$ is called the **sampling distribution of the sample mean**. The standard deviation of $\\bar{X}$ is often referred to as the **standard error of the sample mean**, and is written as $\\text{SE}(\\bar{X})$.\n",
    "\n",
    "In order to illustrate the sampling distribution of the sample mean, we repeat the sampling experiments for 1000 times, the histogram of the 1000 sample averages are shown below."
   ]
  },
  {
   "cell_type": "code",
   "execution_count": 31,
   "id": "a14bc56b",
   "metadata": {
    "scrolled": true
   },
   "outputs": [
    {
     "data": {
      "image/png": "[encoded data removed]",
      "text/plain": [
       "<Figure size 432x288 with 1 Axes>"
      ]
     },
     "metadata": {
      "needs_background": "light"
     },
     "output_type": "display_data"
    }
   ],
   "source": [
    "smp_size = 25\n",
    "repeats = 1000\n",
    "\n",
    "averages = []\n",
    "for i in range(repeats):\n",
    "    sample = bulb['Lifespan'].sample(smp_size, replace=True)\n",
    "    averages.append(sample.mean())\n",
    "\n",
    "plt.hist(averages, bins=25, density=True, color='b', alpha=0.4)\n",
    "plt.xlabel('Sample average', fontsize=12)\n",
    "plt.ylabel('Proportion', fontsize=12)\n",
    "plt.show()"
   ]
  },
  {
   "cell_type": "markdown",
   "id": "ce7b763d",
   "metadata": {},
   "source": [
    "The sampling distribution has a shape that is close to the normal distribution, and the Q-Q plot below has further verified that the sampling distribution approximates a normal distribution."
   ]
  },
  {
   "cell_type": "code",
   "execution_count": 32,
   "id": "c704d8cb",
   "metadata": {
    "scrolled": false
   },
   "outputs": [
    {
     "data": {
      "image/png": "[encoded data removed]",
      "text/plain": [
       "<Figure size 288x288 with 1 Axes>"
      ]
     },
     "metadata": {
      "needs_background": "light"
     },
     "output_type": "display_data"
    }
   ],
   "source": [
    "plt.figure(figsize=(4, 4))\n",
    "stats.probplot(averages, plot=plt)\n",
    "plt.title(f'Q-Q Plot for Sample Averges')\n",
    "plt.show()"
   ]
  },
  {
   "cell_type": "markdown",
   "id": "660cee28",
   "metadata": {},
   "source": [
    "Some important statistics of these sample averages are obtained using the `describe()` method."
   ]
  },
  {
   "cell_type": "code",
   "execution_count": 33,
   "id": "e251a209",
   "metadata": {},
   "outputs": [
    {
     "data": {
      "text/plain": [
       "count    1000.000000\n",
       "mean     1351.271096\n",
       "std         5.098160\n",
       "min      1332.964460\n",
       "25%      1347.860072\n",
       "50%      1351.397555\n",
       "75%      1354.733920\n",
       "max      1369.530816\n",
       "dtype: float64"
      ]
     },
     "execution_count": 33,
     "metadata": {},
     "output_type": "execute_result"
    }
   ],
   "source": [
    "pd.Series(averages).describe()"
   ]
  },
  {
   "cell_type": "markdown",
   "id": "c1a916e0",
   "metadata": {},
   "source": [
    "In fact, we can derive the expected value and variance of the sample average $X$. Let $X_i$ be the $i$th record randomly and independently selected from the population. The sample average is written as $\\bar{X}=\\frac{1}{n}\\sum_{i=1}^nX_i$, where $n$ is the sample size, so \n",
    "\n",
    "\\begin{align}\n",
    "\\mathbb{E}(\\bar{X}) = \\mathbb{E}\\left(\\frac{1}{n}\\sum\\limits_{i=1}^nX_i\\right) = \\frac{1}{n}\\sum\\limits_{i=1}^n\\mathbb{E}(X_i) = \\frac{1}{n}\\sum\\limits_{i=1}^n\\mu = \\mu.\n",
    "\\end{align}\n",
    "Note that $\\mathbb{E}(\\bar{X})$ is the same as the actual population mean $\\mu$, the estimator $\\bar{X}$ is thus called **unbiased**.\n",
    "\n",
    "The variance of $\\bar{X}$ can be written as\n",
    "\\begin{align}\n",
    "\\text{Var}(\\bar{X}) = \\text{Var}\\left(\\frac{1}{n}\\sum\\limits_{i=1}^nX_i\\right) = \\frac{1}{n^2}\\sum\\limits_{i=1}^n\\text{Var}(X_i) = \\frac{1}{n^2}n\\sigma^2 = \\frac{\\sigma^2}{n}, \n",
    "\\end{align}\n",
    "so the standard error $\\text{SE}(\\bar{X})=\\sqrt{\\text{Var}(\\bar{X})}=\\sqrt{\\sigma^2/n}=\\frac{\\sigma}{\\sqrt{n}}$. In the example above, we have the sample size to be $n=25$, so $\\text{SE}(\\bar{X})$ is one fifth of the population standard deviation $\\sigma$. \n",
    "\n",
    "### Central limit theorem <a id=\"subsection4.2\"></a>\n",
    "\n",
    "The results in **Example 4** can be generalized for population following other distributions. You could use the website [Programming for Business Analytics](https://appiora.nus.edu.sg/learndao/) to explore these cases and to verify the **Central Limit Theorem (CLT)**.\n",
    "\n",
    "<div class=\"alert alert-block alert-danger\">\n",
    "<b>Notes: The Central Limit Theorem (CLT): </b>  \n",
    "    For a relatively large sample size, the random variable $\\bar{X}=\\frac{1}{n}\\sum_{i=1}^nX_i$ is approximately normally distributed, regardless of the distribution of the population. The approximation becomes better with increased sample size. \n",
    "</div>"
   ]
  },
  {
   "cell_type": "code",
   "execution_count": null,
   "id": "56fb0bea",
   "metadata": {},
   "outputs": [],
   "source": []
  }
 ],
 "metadata": {
  "kernelspec": {
   "display_name": "Python 3 (ipykernel)",
   "language": "python",
   "name": "python3"
  },
  "language_info": {
   "codemirror_mode": {
    "name": "ipython",
    "version": 3
   },
   "file_extension": ".py",
   "mimetype": "text/x-python",
   "name": "python",
   "nbconvert_exporter": "python",
   "pygments_lexer": "ipython3",
   "version": "3.9.13"
  },
  "varInspector": {
   "cols": {
    "lenName": 16,
    "lenType": 16,
    "lenVar": 40
   },
   "kernels_config": {
    "python": {
     "delete_cmd_postfix": "",
     "delete_cmd_prefix": "del ",
     "library": "var_list.py",
     "varRefreshCmd": "print(var_dic_list())"
    },
    "r": {
     "delete_cmd_postfix": ") ",
     "delete_cmd_prefix": "rm(",
     "library": "var_list.r",
     "varRefreshCmd": "cat(var_dic_list()) "
    }
   },
   "types_to_exclude": [
    "module",
    "function",
    "builtin_function_or_method",
    "instance",
    "_Feature"
   ],
   "window_display": false
  }
 },
 "nbformat": 4,
 "nbformat_minor": 5
}
