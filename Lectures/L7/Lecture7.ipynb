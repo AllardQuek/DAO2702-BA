{
 "cells": [
  {
   "cell_type": "markdown",
   "metadata": {},
   "source": [
    "# Lecture 7: Lovely Pandas\n",
    "\n",
    "## Contents\n",
    "- [Imports](#section1)\n",
    "- [Datasets](#section2)\n",
    "    - [Data representation](#subsection2.1)\n",
    "    - [Type of variables](#subsection2.2)\n",
    "- [Pandas for Data Analysis](#section3)\n",
    "    - [The <code>pandas.Series</code> data structure](#subsection3.1)\n",
    "    - [The <code>pandas.DataFrame</code> data structure](#subsection3.2)\n",
    "    - [Read data from files](#subsection3.3)\n",
    "- [Basics of Descriptive Analytics](#section4)\n",
    "    - [Descriptive measures](#subsection4.1)\n",
    "    - [Visualizing data](#subsection4.2)"
   ]
  },
  {
   "cell_type": "markdown",
   "metadata": {},
   "source": [
    " "
   ]
  },
  {
   "cell_type": "markdown",
   "metadata": {},
   "source": [
    "## Imports <a id=\"section1\"></a>\n",
    "\n",
    "As suggested by [PEP 8 Coding Style Guide](https://www.python.org/dev/peps/pep-0008/#imports), the import statements should be placed at the top of the code file. Packages used in this lecture are imported in the first code cell. "
   ]
  },
  {
   "cell_type": "code",
   "execution_count": 1,
   "metadata": {},
   "outputs": [],
   "source": [
    "import pandas as pd\n",
    "import matplotlib.pyplot as plt"
   ]
  },
  {
   "cell_type": "markdown",
   "metadata": {},
   "source": [
    " "
   ]
  },
  {
   "cell_type": "markdown",
   "metadata": {},
   "source": [
    "## Datasets <a id=\"section2\"></a>\n",
    "\n",
    "### Data representation <a id=\"subsection2.1\"></a>\n",
    "A dataset is a collection, or a table of data. \n",
    "\n",
    "<div class=\"alert alert-block alert-success\">\n",
    "<b>Example 1:</b> The following table contains a cross-sectional dataset on a number of working individuals for the year 1976. Columns of the data table are summarized as follows.\n",
    "  <li><b>wage</b>: average hourly earnings (in dollars)</li>\n",
    "  <li><b>educ</b>: years of education</li>\n",
    "  <li><b>exper</b>: years of potential experience</li>\n",
    "  <li><b>gender</b>: genders of these working individuals</li>\n",
    "    <li><b>married</b>: <span style='font-family:Courier'><b>True</b></span> if married, and <span style='font-family:Courier'><b>False</b></span> otherwise</li>\n",
    "</div> \n",
    "\n",
    "| $ $ |wage\t| educ\t| exper\t| gender | married |\n",
    "|:---:|:---:|:-----:|:-----:|:------:|:-------:|\n",
    "|<b>0</b> |\t3.10 |\t11.0 |\t2.0 | \tF | <code>False</code>|\n",
    "|<b>1</b> |\t3.24 |\t12.0 |\t22.0|\tF | <code>True</code> |\n",
    "|<b>2</b> |\t3.00 |\t11.0 |\t2.0 |\tM\t| <code>False</code> |\n",
    "|<b>3</b> |\t6.00 |\t8.0  |\t44.0|\tM\t| <code>True</code> |\n",
    "|<b>4</b> |\t5.30 |\t12.0 |\t7.0 |\tM | <code>True</code> |\n",
    "|<b>5</b> |\t8.75 |\t16.0 |\t9.0 |\tM | <code>True</code>|\n",
    "\n",
    "Typically a **dataset** is organized data as a rectangular array, with **variables** in **columns** and **observations** in **rows**. \n",
    "\n",
    "A **variable** (or **field**) is a characteristic of each individual in the dataset. In this case, four companies are represented by four variables. An **observation** (or **record**) is a collection of all variable values for an individual of the dataset. As you can see that the example above contains 6 observations.\n",
    "\n",
    "### Types of variables <a id=\"subsection2.2\"></a>\n",
    "You may notice that in the dataset above, we usually have two different variable types: \n",
    "1. **Numerical data**: wages, years of education and potential experience\n",
    "2. **Categorical data**: gender, and marriage status\n",
    "\n",
    "There may be other types of variables, such as strings (like names), or dates that make the dataset into a time series.\n",
    "\n",
    "In Python and many other programming languages, the Boolean status <code>True</code> has a numeric value <code>1</code>, and <code>False</code> has a value of <code>0</code>. The numeric values can be obtained by data type conversions, as shown by the code below. "
   ]
  },
  {
   "cell_type": "code",
   "execution_count": 2,
   "metadata": {
    "scrolled": true
   },
   "outputs": [
    {
     "name": "stdout",
     "output_type": "stream",
     "text": [
      "1\n",
      "0\n"
     ]
    }
   ],
   "source": [
    "print(int(True))    # Convert True to its numeric value\n",
    "print(int(False))   # Convert False to its numeric value"
   ]
  },
  {
   "cell_type": "markdown",
   "metadata": {},
   "source": [
    " "
   ]
  },
  {
   "cell_type": "markdown",
   "metadata": {},
   "source": [
    "## Pandas for Data Analysis <a id=\"section3\"></a>\n",
    "\n",
    "Pandas is a Python package that provides fast, flexible, and expressive data structures designed to make working with \"relational\" or \"labeled\" data both easy and intuitive. It aims to be the fundamental high-level building block for doing practical, real world data analysis in Python. \n",
    "\n",
    "In this lecture, we will introduce two data types imported from the Pandas package: `Series` used for representing one-dimensional data, and `DataFrame` as a two-dimensional data table.\n",
    "\n",
    "\n",
    "### The `pandas.Series` data structure <a id=\"subsection3.1\"></a>\n",
    "#### Create a `pandas.Series` type object\n",
    "A `pandas.Series` is a one-dimensional array of **indexed data**. It can be created from another one-dimensional array-like object, such as a `list` or a `tuple`, using the constructor `pandas.Series()`."
   ]
  },
  {
   "cell_type": "code",
   "execution_count": 3,
   "metadata": {
    "scrolled": true
   },
   "outputs": [
    {
     "name": "stdout",
     "output_type": "stream",
     "text": [
      "0    3.10\n",
      "1    3.24\n",
      "2    3.00\n",
      "3    6.00\n",
      "4    5.30\n",
      "5    8.75\n",
      "dtype: float64\n"
     ]
    }
   ],
   "source": [
    "wage = pd.Series([3.10, 3.24, 3.00, 6.00, 5.30, 8.75])\n",
    "print(wage)"
   ]
  },
  {
   "cell_type": "code",
   "execution_count": 4,
   "metadata": {
    "scrolled": false
   },
   "outputs": [
    {
     "name": "stdout",
     "output_type": "stream",
     "text": [
      "0    11.0\n",
      "1    12.0\n",
      "2    11.0\n",
      "3     8.0\n",
      "4    12.0\n",
      "5    16.0\n",
      "dtype: float64\n"
     ]
    }
   ],
   "source": [
    "educ = pd.Series((11.0, 12.0, 11.0, 8.0, 12.0, 16.0))\n",
    "print(educ)"
   ]
  },
  {
   "cell_type": "markdown",
   "metadata": {},
   "source": [
    "#### Attributes of series\n",
    "\n",
    "It can be seen from the code segment above, the printed message of a series shows\n",
    "- The values of data elements;\n",
    "- The indexes of data elements;\n",
    "- The data type of all data elements. \n",
    "\n",
    "These properties are called **attributes** of a series. Each attribute can be accessed via the `.` operator (similar to methods, but without parentheses because attributes are not functions). For example, the values of data elements can be accessed as the `values` attribute. "
   ]
  },
  {
   "cell_type": "code",
   "execution_count": 5,
   "metadata": {
    "scrolled": true
   },
   "outputs": [
    {
     "data": {
      "text/plain": [
       "array([3.1 , 3.24, 3.  , 6.  , 5.3 , 8.75])"
      ]
     },
     "execution_count": 5,
     "metadata": {},
     "output_type": "execute_result"
    }
   ],
   "source": [
    "wage.values"
   ]
  },
  {
   "cell_type": "code",
   "execution_count": 6,
   "metadata": {
    "scrolled": true
   },
   "outputs": [
    {
     "data": {
      "text/plain": [
       "array([11., 12., 11.,  8., 12., 16.])"
      ]
     },
     "execution_count": 6,
     "metadata": {},
     "output_type": "execute_result"
    }
   ],
   "source": [
    "educ.values"
   ]
  },
  {
   "cell_type": "markdown",
   "metadata": {},
   "source": [
    "The indexes of a series can be accessed as the `index` attribute."
   ]
  },
  {
   "cell_type": "code",
   "execution_count": 7,
   "metadata": {},
   "outputs": [
    {
     "name": "stdout",
     "output_type": "stream",
     "text": [
      "RangeIndex(start=0, stop=6, step=1)\n",
      "RangeIndex(start=0, stop=6, step=1)\n"
     ]
    }
   ],
   "source": [
    "print(wage.index)\n",
    "print(educ.index)"
   ]
  },
  {
   "cell_type": "markdown",
   "metadata": {},
   "source": [
    "The default indexes of a series is a `RangeIndex` type object, which is very similar to the `range` type data structure, which is specified by the values of **start**, **stop**, and **step**. The indexes can also be specified to be other values using the keyword argument `index` when calling the `pandas.Series()` function. "
   ]
  },
  {
   "cell_type": "code",
   "execution_count": 8,
   "metadata": {
    "scrolled": false
   },
   "outputs": [
    {
     "name": "stdout",
     "output_type": "stream",
     "text": [
      "Mary      2.0\n",
      "Ann      22.0\n",
      "John      2.0\n",
      "David    44.0\n",
      "Frank     7.0\n",
      "Ben       9.0\n",
      "dtype: float64\n"
     ]
    }
   ],
   "source": [
    "index = ['Mary', 'Ann', 'John', 'David', 'Frank', 'Ben']\n",
    "exper = pd.Series([2.0, 22.0, 2.0, 44.0, 7.0, 9.0],\n",
    "                  index=index)  # Specify series indexes\n",
    "print(exper)"
   ]
  },
  {
   "cell_type": "code",
   "execution_count": 9,
   "metadata": {
    "scrolled": false
   },
   "outputs": [
    {
     "name": "stdout",
     "output_type": "stream",
     "text": [
      "Index(['Mary', 'Ann', 'John', 'David', 'Frank', 'Ben'], dtype='object')\n"
     ]
    }
   ],
   "source": [
    "print(exper.index)"
   ]
  },
  {
   "cell_type": "markdown",
   "metadata": {},
   "source": [
    "The data type of all data elements is given as the `dtype` attributes."
   ]
  },
  {
   "cell_type": "code",
   "execution_count": 10,
   "metadata": {},
   "outputs": [
    {
     "name": "stdout",
     "output_type": "stream",
     "text": [
      "float64\n",
      "float64\n"
     ]
    }
   ],
   "source": [
    "print(wage.dtype)\n",
    "print(educ.dtype)"
   ]
  },
  {
   "cell_type": "markdown",
   "metadata": {},
   "source": [
    "Please note that built-in Python types, like `int`, `float`, or `str`, may take different names as the Pandas `dtype` or `dtypes` attributes, as summarized in the table below.\n",
    "\n",
    "Pandas `dtype` | Built-in Python types \n",
    ":--------------|:---------------------\n",
    "`object` | `str` or mixed types\n",
    "`int64` | `int` \n",
    "`float64` | `float`\n",
    "`bool` | `bool`\n",
    "\n",
    "Similar to other data objects, data type conversion can be applied to items in series or data frames. As shown by the sample code below, the data type conversion can be conducted for all items in a series using the `astype()` method. "
   ]
  },
  {
   "cell_type": "code",
   "execution_count": 11,
   "metadata": {
    "scrolled": false
   },
   "outputs": [
    {
     "name": "stdout",
     "output_type": "stream",
     "text": [
      "0    11\n",
      "1    12\n",
      "2    11\n",
      "3     8\n",
      "4    12\n",
      "5    16\n",
      "dtype: int64\n"
     ]
    }
   ],
   "source": [
    "educ_int = educ.astype(int)  # Define educ_int using the astype method\n",
    "print(educ_int)              # All data items of educ_int are integers"
   ]
  },
  {
   "cell_type": "code",
   "execution_count": 12,
   "metadata": {
    "scrolled": true
   },
   "outputs": [
    {
     "name": "stdout",
     "output_type": "stream",
     "text": [
      "0    11.0\n",
      "1    12.0\n",
      "2    11.0\n",
      "3     8.0\n",
      "4    12.0\n",
      "5    16.0\n",
      "dtype: object\n"
     ]
    }
   ],
   "source": [
    "educ_str = educ.astype(str)  # Define educ_int using the astype method\n",
    "print(educ_str)              # All data items of educ_int are strings"
   ]
  },
  {
   "cell_type": "markdown",
   "metadata": {},
   "source": [
    "#### Indexing and slicing of `pandas.Series` objects via `iloc[]` and `loc[]` indexers\n",
    "\n",
    "Items in a <code>pandas.Series</code> object can be accessed via two sets of indexing systems:\n",
    "- **Label based indexes**, which can be retrieved via the <code>index</code> attribute of the series. The label-based indexes can be either integers, or strings.\n",
    "- **Integer-position based indexes**, which always uses integers 0, 1, 2, ..., to mark the position of each item. \n",
    "\n",
    "<img src=\"https://github.com/XiongPengNUS/dao_resources/blob/main/series_position_label_index.png?raw=true\" width=650>\n",
    "\n",
    "Pandas provides some special indexer attributes that explicitly indicate which indexing scheme we are using. Among these special indexers, `iloc[]` is aimed for integer-position based indexing and slicing expressions. "
   ]
  },
  {
   "cell_type": "code",
   "execution_count": 13,
   "metadata": {
    "scrolled": false
   },
   "outputs": [
    {
     "name": "stdout",
     "output_type": "stream",
     "text": [
      "22.0 \n",
      "\n",
      "Mary     2.0\n",
      "Ann     22.0\n",
      "John     2.0\n",
      "dtype: float64 \n",
      "\n",
      "Mary    2.0\n",
      "John    2.0\n",
      "dtype: float64 \n",
      "\n",
      "Mary     2.0\n",
      "John     2.0\n",
      "Frank    7.0\n",
      "dtype: float64\n"
     ]
    }
   ],
   "source": [
    "print(exper.iloc[1], '\\n')\n",
    "print(exper.iloc[:3], '\\n')\n",
    "print(exper.iloc[[0, 2]], '\\n')\n",
    "print(exper.iloc[::2])"
   ]
  },
  {
   "cell_type": "markdown",
   "metadata": {},
   "source": [
    "It can be seen that the `iloc[]` indexer always refers to the integer-position based indexes, regardless of the values of the label based indexes. \n",
    "\n",
    "The label based indexes can be referred to using the `loc[]` indexer, as shown by the following sample code."
   ]
  },
  {
   "cell_type": "code",
   "execution_count": 14,
   "metadata": {},
   "outputs": [
    {
     "name": "stdout",
     "output_type": "stream",
     "text": [
      "22.0 \n",
      "\n",
      "Mary     2.0\n",
      "Ann     22.0\n",
      "John     2.0\n",
      "dtype: float64 \n",
      "\n",
      "Mary    2.0\n",
      "John    2.0\n",
      "dtype: float64 \n",
      "\n",
      "Mary     2.0\n",
      "John     2.0\n",
      "Frank    7.0\n",
      "dtype: float64\n"
     ]
    }
   ],
   "source": [
    "print(exper.loc['Ann'], '\\n')\n",
    "print(exper.loc[:'John'], '\\n')\n",
    "print(exper.loc[['Mary', 'John']], '\\n')\n",
    "print(exper.loc[::2])"
   ]
  },
  {
   "cell_type": "markdown",
   "metadata": {},
   "source": [
    "<div class=\"alert alert-block alert-danger\">\n",
    "<b>Notes</b>:  In the slicing expressions for label based indexes, the item indexed by <b>stop</b> are included in the selection. This is different from the list style slicing syntax we learned before. \n",
    "</div>\n",
    "\n",
    "The syntax of indexers `iloc[]` and `loc[]` is summarized below:\n",
    "- The indexer `iloc[]` is for integer-position based indexes, the **stop** index is exclusive of the selection. \n",
    "- The indexer `loc[]` is for label based indexes, the **stop** index is inclusive of the selection.\n",
    "\n",
    "In the following sample code where the label based indexes are exactly the same as the integer-position based indexes, please be very careful that the **stop** index is included in the `loc` slicing expression but excluded from the `iloc` slicing expression. "
   ]
  },
  {
   "cell_type": "code",
   "execution_count": 17,
   "metadata": {
    "scrolled": true
   },
   "outputs": [
    {
     "name": "stdout",
     "output_type": "stream",
     "text": [
      "0    3.10\n",
      "1    3.24\n",
      "dtype: float64\n",
      "\n",
      "\n",
      "0    3.10\n",
      "1    3.24\n",
      "2    3.00\n",
      "dtype: float64\n"
     ]
    }
   ],
   "source": [
    "print(wage.iloc[:2])        # Index 2 as the stop is excluded\n",
    "print('\\n')                 # Create an empty line\n",
    "print(wage.loc[:2])         # Index 2 as the stop is included"
   ]
  },
  {
   "cell_type": "markdown",
   "metadata": {},
   "source": [
    "### The `pandas.DataFrame` data structure <a id=\"subsection3.2\"></a>\n",
    "\n",
    "The next fundamental structure in Pandas is the `pandas.DataFrame`. A `pandas.DataFrame` object, or a data frame, is a two-dimensional data structure, where the columns represent different variables (fields), and the observations (records) are represented by rows.\n",
    "\n",
    "#### Create a `pandas.DataFrame` object\n",
    "A `pandas.DataFrame` object can be created from a dictionary, as shown by the example below."
   ]
  },
  {
   "cell_type": "code",
   "execution_count": 18,
   "metadata": {
    "scrolled": true
   },
   "outputs": [
    {
     "data": {
      "text/html": [
       "<div>\n",
       "<style scoped>\n",
       "    .dataframe tbody tr th:only-of-type {\n",
       "        vertical-align: middle;\n",
       "    }\n",
       "\n",
       "    .dataframe tbody tr th {\n",
       "        vertical-align: top;\n",
       "    }\n",
       "\n",
       "    .dataframe thead th {\n",
       "        text-align: right;\n",
       "    }\n",
       "</style>\n",
       "<table border=\"1\" class=\"dataframe\">\n",
       "  <thead>\n",
       "    <tr style=\"text-align: right;\">\n",
       "      <th></th>\n",
       "      <th>wage</th>\n",
       "      <th>educ</th>\n",
       "      <th>exper</th>\n",
       "      <th>gender</th>\n",
       "      <th>married</th>\n",
       "    </tr>\n",
       "  </thead>\n",
       "  <tbody>\n",
       "    <tr>\n",
       "      <th>0</th>\n",
       "      <td>3.10</td>\n",
       "      <td>11.0</td>\n",
       "      <td>2.0</td>\n",
       "      <td>F</td>\n",
       "      <td>False</td>\n",
       "    </tr>\n",
       "    <tr>\n",
       "      <th>1</th>\n",
       "      <td>3.24</td>\n",
       "      <td>12.0</td>\n",
       "      <td>22.0</td>\n",
       "      <td>F</td>\n",
       "      <td>True</td>\n",
       "    </tr>\n",
       "    <tr>\n",
       "      <th>2</th>\n",
       "      <td>3.00</td>\n",
       "      <td>11.0</td>\n",
       "      <td>2.0</td>\n",
       "      <td>M</td>\n",
       "      <td>False</td>\n",
       "    </tr>\n",
       "    <tr>\n",
       "      <th>3</th>\n",
       "      <td>6.00</td>\n",
       "      <td>8.0</td>\n",
       "      <td>44.0</td>\n",
       "      <td>M</td>\n",
       "      <td>True</td>\n",
       "    </tr>\n",
       "    <tr>\n",
       "      <th>4</th>\n",
       "      <td>5.30</td>\n",
       "      <td>12.0</td>\n",
       "      <td>7.0</td>\n",
       "      <td>M</td>\n",
       "      <td>True</td>\n",
       "    </tr>\n",
       "    <tr>\n",
       "      <th>5</th>\n",
       "      <td>8.75</td>\n",
       "      <td>16.0</td>\n",
       "      <td>9.0</td>\n",
       "      <td>M</td>\n",
       "      <td>True</td>\n",
       "    </tr>\n",
       "  </tbody>\n",
       "</table>\n",
       "</div>"
      ],
      "text/plain": [
       "   wage  educ  exper gender  married\n",
       "0  3.10  11.0    2.0      F    False\n",
       "1  3.24  12.0   22.0      F     True\n",
       "2  3.00  11.0    2.0      M    False\n",
       "3  6.00   8.0   44.0      M     True\n",
       "4  5.30  12.0    7.0      M     True\n",
       "5  8.75  16.0    9.0      M     True"
      ]
     },
     "execution_count": 18,
     "metadata": {},
     "output_type": "execute_result"
    }
   ],
   "source": [
    "data_dict = {'wage': [3.10, 3.24, 3.00, 6.00, 5.30, 8.75],\n",
    "             'educ': [11.0, 12.0, 11.0, 8.0, 12.0, 16.0],\n",
    "             'exper': [2.0, 22.0, 2.0, 44.0, 7.0, 9.0],\n",
    "             'gender': ['F', 'F', 'M', 'M', 'M', 'M'],\n",
    "             'married': [False, True, False, True, True, True]}\n",
    "\n",
    "data_frame = pd.DataFrame(data_dict)        # Create a DataFrame object\n",
    "data_frame                                  # Display the DataFrame"
   ]
  },
  {
   "cell_type": "markdown",
   "metadata": {},
   "source": [
    "It can be seen that a data frame is created by the function `DataFrame()` from the `dict` type variable `data_dict`, where the dictionary keys become the names of variables, and the dictionary values, as lists of data items, become the values of each variable. \n",
    "\n",
    "You may verify the data types of these two variables by the following code."
   ]
  },
  {
   "cell_type": "code",
   "execution_count": 19,
   "metadata": {
    "scrolled": true
   },
   "outputs": [
    {
     "name": "stdout",
     "output_type": "stream",
     "text": [
      "<class 'dict'>\n",
      "<class 'pandas.core.frame.DataFrame'>\n"
     ]
    }
   ],
   "source": [
    "print(type(data_dict))\n",
    "print(type(data_frame))"
   ]
  },
  {
   "cell_type": "code",
   "execution_count": 22,
   "metadata": {},
   "outputs": [
    {
     "data": {
      "text/html": [
       "<div>\n",
       "<style scoped>\n",
       "    .dataframe tbody tr th:only-of-type {\n",
       "        vertical-align: middle;\n",
       "    }\n",
       "\n",
       "    .dataframe tbody tr th {\n",
       "        vertical-align: top;\n",
       "    }\n",
       "\n",
       "    .dataframe thead th {\n",
       "        text-align: right;\n",
       "    }\n",
       "</style>\n",
       "<table border=\"1\" class=\"dataframe\">\n",
       "  <thead>\n",
       "    <tr style=\"text-align: right;\">\n",
       "      <th></th>\n",
       "      <th>wage</th>\n",
       "      <th>educ</th>\n",
       "      <th>exper</th>\n",
       "    </tr>\n",
       "  </thead>\n",
       "  <tbody>\n",
       "    <tr>\n",
       "      <th>count</th>\n",
       "      <td>6.000000</td>\n",
       "      <td>6.000000</td>\n",
       "      <td>6.000000</td>\n",
       "    </tr>\n",
       "    <tr>\n",
       "      <th>mean</th>\n",
       "      <td>4.898333</td>\n",
       "      <td>11.666667</td>\n",
       "      <td>14.333333</td>\n",
       "    </tr>\n",
       "    <tr>\n",
       "      <th>std</th>\n",
       "      <td>2.271479</td>\n",
       "      <td>2.581989</td>\n",
       "      <td>16.280868</td>\n",
       "    </tr>\n",
       "    <tr>\n",
       "      <th>min</th>\n",
       "      <td>3.000000</td>\n",
       "      <td>8.000000</td>\n",
       "      <td>2.000000</td>\n",
       "    </tr>\n",
       "    <tr>\n",
       "      <th>25%</th>\n",
       "      <td>3.135000</td>\n",
       "      <td>11.000000</td>\n",
       "      <td>3.250000</td>\n",
       "    </tr>\n",
       "    <tr>\n",
       "      <th>50%</th>\n",
       "      <td>4.270000</td>\n",
       "      <td>11.500000</td>\n",
       "      <td>8.000000</td>\n",
       "    </tr>\n",
       "    <tr>\n",
       "      <th>75%</th>\n",
       "      <td>5.825000</td>\n",
       "      <td>12.000000</td>\n",
       "      <td>18.750000</td>\n",
       "    </tr>\n",
       "    <tr>\n",
       "      <th>max</th>\n",
       "      <td>8.750000</td>\n",
       "      <td>16.000000</td>\n",
       "      <td>44.000000</td>\n",
       "    </tr>\n",
       "  </tbody>\n",
       "</table>\n",
       "</div>"
      ],
      "text/plain": [
       "           wage       educ      exper\n",
       "count  6.000000   6.000000   6.000000\n",
       "mean   4.898333  11.666667  14.333333\n",
       "std    2.271479   2.581989  16.280868\n",
       "min    3.000000   8.000000   2.000000\n",
       "25%    3.135000  11.000000   3.250000\n",
       "50%    4.270000  11.500000   8.000000\n",
       "75%    5.825000  12.000000  18.750000\n",
       "max    8.750000  16.000000  44.000000"
      ]
     },
     "metadata": {},
     "output_type": "display_data"
    },
    {
     "data": {
      "text/plain": [
       "11.666666666666666"
      ]
     },
     "execution_count": 22,
     "metadata": {},
     "output_type": "execute_result"
    }
   ],
   "source": [
    "display(data_frame.describe())\n",
    "\n",
    "# NOT the way to get the mean of wage\n",
    "data_frame.describe().iloc[1,1]\n"
   ]
  },
  {
   "cell_type": "code",
   "execution_count": 31,
   "metadata": {},
   "outputs": [
    {
     "name": "stdout",
     "output_type": "stream",
     "text": [
      "CORRECT\n",
      "    educ\n",
      "1  12.0\n",
      "\n",
      "WRONG\n",
      " 1    12.0\n",
      "2    11.0\n",
      "Name: educ, dtype: float64\n"
     ]
    }
   ],
   "source": [
    "# Get value 12\n",
    "print(\"CORRECT\\n\", data_frame.iloc[1:2, 1:2])\n",
    "print()\n",
    "print(\"WRONG\\n\", data_frame.loc[1:2, 'educ'])"
   ]
  },
  {
   "cell_type": "markdown",
   "metadata": {},
   "source": [
    "#### Attributes of data frames\n",
    "\n",
    "As a two-dimensional data structure, the `pandas.DataFrame` type object has two sets of indexes:\n",
    "- Column indexes (labels): names of variables/fields, and can be accessed by the `columns` attribute of the data frame. \n",
    "- Row indexes (labels): indexes of observations/records, and can be accessed by the `index` attribute of the data frame."
   ]
  },
  {
   "cell_type": "code",
   "execution_count": 32,
   "metadata": {},
   "outputs": [
    {
     "name": "stdout",
     "output_type": "stream",
     "text": [
      "Index(['wage', 'educ', 'exper', 'gender', 'married'], dtype='object')\n",
      "RangeIndex(start=0, stop=6, step=1)\n"
     ]
    }
   ],
   "source": [
    "print(data_frame.columns)\n",
    "print(data_frame.index)"
   ]
  },
  {
   "cell_type": "markdown",
   "metadata": {},
   "source": [
    "Notice that the `index` attribute (row labels) of the data frame has the same default values as a series, and similar to series, the index of a data frame can be specified by the keyword argument `index` when calling the `pandas.DataFrame()` function in creating a data frame. "
   ]
  },
  {
   "cell_type": "code",
   "execution_count": 33,
   "metadata": {
    "scrolled": true
   },
   "outputs": [
    {
     "data": {
      "text/html": [
       "<div>\n",
       "<style scoped>\n",
       "    .dataframe tbody tr th:only-of-type {\n",
       "        vertical-align: middle;\n",
       "    }\n",
       "\n",
       "    .dataframe tbody tr th {\n",
       "        vertical-align: top;\n",
       "    }\n",
       "\n",
       "    .dataframe thead th {\n",
       "        text-align: right;\n",
       "    }\n",
       "</style>\n",
       "<table border=\"1\" class=\"dataframe\">\n",
       "  <thead>\n",
       "    <tr style=\"text-align: right;\">\n",
       "      <th></th>\n",
       "      <th>wage</th>\n",
       "      <th>educ</th>\n",
       "      <th>exper</th>\n",
       "      <th>gender</th>\n",
       "      <th>married</th>\n",
       "    </tr>\n",
       "  </thead>\n",
       "  <tbody>\n",
       "    <tr>\n",
       "      <th>Mary</th>\n",
       "      <td>3.10</td>\n",
       "      <td>11.0</td>\n",
       "      <td>2.0</td>\n",
       "      <td>F</td>\n",
       "      <td>False</td>\n",
       "    </tr>\n",
       "    <tr>\n",
       "      <th>Ann</th>\n",
       "      <td>3.24</td>\n",
       "      <td>12.0</td>\n",
       "      <td>22.0</td>\n",
       "      <td>F</td>\n",
       "      <td>True</td>\n",
       "    </tr>\n",
       "    <tr>\n",
       "      <th>John</th>\n",
       "      <td>3.00</td>\n",
       "      <td>11.0</td>\n",
       "      <td>2.0</td>\n",
       "      <td>M</td>\n",
       "      <td>False</td>\n",
       "    </tr>\n",
       "    <tr>\n",
       "      <th>David</th>\n",
       "      <td>6.00</td>\n",
       "      <td>8.0</td>\n",
       "      <td>44.0</td>\n",
       "      <td>M</td>\n",
       "      <td>True</td>\n",
       "    </tr>\n",
       "    <tr>\n",
       "      <th>Frank</th>\n",
       "      <td>5.30</td>\n",
       "      <td>12.0</td>\n",
       "      <td>7.0</td>\n",
       "      <td>M</td>\n",
       "      <td>True</td>\n",
       "    </tr>\n",
       "    <tr>\n",
       "      <th>Ben</th>\n",
       "      <td>8.75</td>\n",
       "      <td>16.0</td>\n",
       "      <td>9.0</td>\n",
       "      <td>M</td>\n",
       "      <td>True</td>\n",
       "    </tr>\n",
       "  </tbody>\n",
       "</table>\n",
       "</div>"
      ],
      "text/plain": [
       "       wage  educ  exper gender  married\n",
       "Mary   3.10  11.0    2.0      F    False\n",
       "Ann    3.24  12.0   22.0      F     True\n",
       "John   3.00  11.0    2.0      M    False\n",
       "David  6.00   8.0   44.0      M     True\n",
       "Frank  5.30  12.0    7.0      M     True\n",
       "Ben    8.75  16.0    9.0      M     True"
      ]
     },
     "execution_count": 33,
     "metadata": {},
     "output_type": "execute_result"
    }
   ],
   "source": [
    "index = ['Mary', 'Ann', 'John', 'David', 'Frank', 'Ben']\n",
    "data_frame_new = pd.DataFrame(data_dict, index=index)  \n",
    "\n",
    "data_frame_new"
   ]
  },
  {
   "cell_type": "code",
   "execution_count": 34,
   "metadata": {
    "scrolled": false
   },
   "outputs": [
    {
     "name": "stdout",
     "output_type": "stream",
     "text": [
      "Index(['wage', 'educ', 'exper', 'gender', 'married'], dtype='object')\n",
      "Index(['Mary', 'Ann', 'John', 'David', 'Frank', 'Ben'], dtype='object')\n"
     ]
    }
   ],
   "source": [
    "print(data_frame_new.columns)\n",
    "print(data_frame_new.index)"
   ]
  },
  {
   "cell_type": "markdown",
   "metadata": {},
   "source": [
    "The data frame also has a `dtypes` attribute that shows the data type of each column."
   ]
  },
  {
   "cell_type": "code",
   "execution_count": 35,
   "metadata": {},
   "outputs": [
    {
     "data": {
      "text/plain": [
       "wage       float64\n",
       "educ       float64\n",
       "exper      float64\n",
       "gender      object\n",
       "married       bool\n",
       "dtype: object"
      ]
     },
     "execution_count": 35,
     "metadata": {},
     "output_type": "execute_result"
    }
   ],
   "source": [
    "data_frame.dtypes"
   ]
  },
  {
   "cell_type": "markdown",
   "metadata": {},
   "source": [
    "#### Indexing and slicing of `pandas.DataFrame` objects via `iloc[]` and `loc[]` indexers\n",
    "\n",
    "Similar to the series cases, data items in a data frame can be selected using the either the integer-position based or label based indexes. The main difference is that a data frame is a two-dimensional data structure, so the selection requires specifying both the row and column indexes, see the figure below.\n",
    "\n",
    "<img src=\"https://github.com/XiongPengNUS/dao_resources/blob/main/pd_position_label_index.png?raw=true\" width=600>\n",
    "\n",
    "For selections via the integer-position based indexes, we can use the same `iloc[]` indexer, which ignores the label based indexes of the rows or columns. "
   ]
  },
  {
   "cell_type": "code",
   "execution_count": 36,
   "metadata": {
    "scrolled": false
   },
   "outputs": [
    {
     "name": "stdout",
     "output_type": "stream",
     "text": [
      "   educ  exper\n",
      "1  12.0   22.0\n",
      "2  11.0    2.0\n"
     ]
    }
   ],
   "source": [
    "data_subset = data_frame.iloc[1:3, 1:3] \n",
    "print(data_subset)"
   ]
  },
  {
   "cell_type": "code",
   "execution_count": 37,
   "metadata": {},
   "outputs": [
    {
     "name": "stdout",
     "output_type": "stream",
     "text": [
      "      educ  exper\n",
      "Ann   12.0   22.0\n",
      "John  11.0    2.0\n"
     ]
    }
   ],
   "source": [
    "data_new_subset = data_frame_new.iloc[1:3, 1:3]\n",
    "print(data_new_subset)"
   ]
  },
  {
   "cell_type": "markdown",
   "metadata": {},
   "source": [
    "If the the all rows are selected, we could use `:` to specify the row indexes. "
   ]
  },
  {
   "cell_type": "code",
   "execution_count": 38,
   "metadata": {
    "scrolled": true
   },
   "outputs": [
    {
     "name": "stdout",
     "output_type": "stream",
     "text": [
      "0     2.0\n",
      "1    22.0\n",
      "2     2.0\n",
      "3    44.0\n",
      "4     7.0\n",
      "5     9.0\n",
      "Name: exper, dtype: float64\n"
     ]
    }
   ],
   "source": [
    "cols = data_frame.iloc[:, 2] \n",
    "print(cols)"
   ]
  },
  {
   "cell_type": "markdown",
   "metadata": {},
   "source": [
    "Similarly, the `:` operator could be used to select all columns, or we can leave the column indexer unspecified and all columns are selected by default. "
   ]
  },
  {
   "cell_type": "code",
   "execution_count": 39,
   "metadata": {},
   "outputs": [
    {
     "name": "stdout",
     "output_type": "stream",
     "text": [
      "       wage  educ  exper gender  married\n",
      "John    3.0  11.0    2.0      M    False\n",
      "David   6.0   8.0   44.0      M     True\n",
      "Frank   5.3  12.0    7.0      M     True\n"
     ]
    }
   ],
   "source": [
    "rows = data_frame_new.iloc[2:5, :]  \n",
    "print(rows)"
   ]
  },
  {
   "cell_type": "code",
   "execution_count": 40,
   "metadata": {},
   "outputs": [
    {
     "name": "stdout",
     "output_type": "stream",
     "text": [
      "       wage  educ  exper gender  married\n",
      "John    3.0  11.0    2.0      M    False\n",
      "David   6.0   8.0   44.0      M     True\n",
      "Frank   5.3  12.0    7.0      M     True\n"
     ]
    }
   ],
   "source": [
    "rows = data_frame_new.iloc[2:5]  \n",
    "print(rows)"
   ]
  },
  {
   "cell_type": "markdown",
   "metadata": {},
   "source": [
    "Likewise, the <code>loc[]</code> indexers specify rows and columns via label-based indexes."
   ]
  },
  {
   "cell_type": "code",
   "execution_count": 43,
   "metadata": {
    "scrolled": true
   },
   "outputs": [
    {
     "data": {
      "text/html": [
       "<div>\n",
       "<style scoped>\n",
       "    .dataframe tbody tr th:only-of-type {\n",
       "        vertical-align: middle;\n",
       "    }\n",
       "\n",
       "    .dataframe tbody tr th {\n",
       "        vertical-align: top;\n",
       "    }\n",
       "\n",
       "    .dataframe thead th {\n",
       "        text-align: right;\n",
       "    }\n",
       "</style>\n",
       "<table border=\"1\" class=\"dataframe\">\n",
       "  <thead>\n",
       "    <tr style=\"text-align: right;\">\n",
       "      <th></th>\n",
       "      <th>wage</th>\n",
       "      <th>educ</th>\n",
       "      <th>exper</th>\n",
       "      <th>gender</th>\n",
       "      <th>married</th>\n",
       "    </tr>\n",
       "  </thead>\n",
       "  <tbody>\n",
       "    <tr>\n",
       "      <th>0</th>\n",
       "      <td>3.10</td>\n",
       "      <td>11.0</td>\n",
       "      <td>2.0</td>\n",
       "      <td>F</td>\n",
       "      <td>False</td>\n",
       "    </tr>\n",
       "    <tr>\n",
       "      <th>1</th>\n",
       "      <td>3.24</td>\n",
       "      <td>12.0</td>\n",
       "      <td>22.0</td>\n",
       "      <td>F</td>\n",
       "      <td>True</td>\n",
       "    </tr>\n",
       "    <tr>\n",
       "      <th>2</th>\n",
       "      <td>3.00</td>\n",
       "      <td>11.0</td>\n",
       "      <td>2.0</td>\n",
       "      <td>M</td>\n",
       "      <td>False</td>\n",
       "    </tr>\n",
       "    <tr>\n",
       "      <th>3</th>\n",
       "      <td>6.00</td>\n",
       "      <td>8.0</td>\n",
       "      <td>44.0</td>\n",
       "      <td>M</td>\n",
       "      <td>True</td>\n",
       "    </tr>\n",
       "    <tr>\n",
       "      <th>4</th>\n",
       "      <td>5.30</td>\n",
       "      <td>12.0</td>\n",
       "      <td>7.0</td>\n",
       "      <td>M</td>\n",
       "      <td>True</td>\n",
       "    </tr>\n",
       "    <tr>\n",
       "      <th>5</th>\n",
       "      <td>8.75</td>\n",
       "      <td>16.0</td>\n",
       "      <td>9.0</td>\n",
       "      <td>M</td>\n",
       "      <td>True</td>\n",
       "    </tr>\n",
       "  </tbody>\n",
       "</table>\n",
       "</div>"
      ],
      "text/plain": [
       "   wage  educ  exper gender  married\n",
       "0  3.10  11.0    2.0      F    False\n",
       "1  3.24  12.0   22.0      F     True\n",
       "2  3.00  11.0    2.0      M    False\n",
       "3  6.00   8.0   44.0      M     True\n",
       "4  5.30  12.0    7.0      M     True\n",
       "5  8.75  16.0    9.0      M     True"
      ]
     },
     "metadata": {},
     "output_type": "display_data"
    },
    {
     "name": "stdout",
     "output_type": "stream",
     "text": [
      "   educ  exper\n",
      "1  12.0   22.0\n",
      "2  11.0    2.0\n"
     ]
    }
   ],
   "source": [
    "display(data_frame)\n",
    "data_subset = data_frame.loc[1:2, 'educ':'exper']\n",
    "print(data_subset)"
   ]
  },
  {
   "cell_type": "code",
   "execution_count": 44,
   "metadata": {},
   "outputs": [
    {
     "data": {
      "text/html": [
       "<div>\n",
       "<style scoped>\n",
       "    .dataframe tbody tr th:only-of-type {\n",
       "        vertical-align: middle;\n",
       "    }\n",
       "\n",
       "    .dataframe tbody tr th {\n",
       "        vertical-align: top;\n",
       "    }\n",
       "\n",
       "    .dataframe thead th {\n",
       "        text-align: right;\n",
       "    }\n",
       "</style>\n",
       "<table border=\"1\" class=\"dataframe\">\n",
       "  <thead>\n",
       "    <tr style=\"text-align: right;\">\n",
       "      <th></th>\n",
       "      <th>wage</th>\n",
       "      <th>educ</th>\n",
       "      <th>exper</th>\n",
       "      <th>gender</th>\n",
       "      <th>married</th>\n",
       "    </tr>\n",
       "  </thead>\n",
       "  <tbody>\n",
       "    <tr>\n",
       "      <th>Mary</th>\n",
       "      <td>3.10</td>\n",
       "      <td>11.0</td>\n",
       "      <td>2.0</td>\n",
       "      <td>F</td>\n",
       "      <td>False</td>\n",
       "    </tr>\n",
       "    <tr>\n",
       "      <th>Ann</th>\n",
       "      <td>3.24</td>\n",
       "      <td>12.0</td>\n",
       "      <td>22.0</td>\n",
       "      <td>F</td>\n",
       "      <td>True</td>\n",
       "    </tr>\n",
       "    <tr>\n",
       "      <th>John</th>\n",
       "      <td>3.00</td>\n",
       "      <td>11.0</td>\n",
       "      <td>2.0</td>\n",
       "      <td>M</td>\n",
       "      <td>False</td>\n",
       "    </tr>\n",
       "    <tr>\n",
       "      <th>David</th>\n",
       "      <td>6.00</td>\n",
       "      <td>8.0</td>\n",
       "      <td>44.0</td>\n",
       "      <td>M</td>\n",
       "      <td>True</td>\n",
       "    </tr>\n",
       "    <tr>\n",
       "      <th>Frank</th>\n",
       "      <td>5.30</td>\n",
       "      <td>12.0</td>\n",
       "      <td>7.0</td>\n",
       "      <td>M</td>\n",
       "      <td>True</td>\n",
       "    </tr>\n",
       "    <tr>\n",
       "      <th>Ben</th>\n",
       "      <td>8.75</td>\n",
       "      <td>16.0</td>\n",
       "      <td>9.0</td>\n",
       "      <td>M</td>\n",
       "      <td>True</td>\n",
       "    </tr>\n",
       "  </tbody>\n",
       "</table>\n",
       "</div>"
      ],
      "text/plain": [
       "       wage  educ  exper gender  married\n",
       "Mary   3.10  11.0    2.0      F    False\n",
       "Ann    3.24  12.0   22.0      F     True\n",
       "John   3.00  11.0    2.0      M    False\n",
       "David  6.00   8.0   44.0      M     True\n",
       "Frank  5.30  12.0    7.0      M     True\n",
       "Ben    8.75  16.0    9.0      M     True"
      ]
     },
     "metadata": {},
     "output_type": "display_data"
    },
    {
     "name": "stdout",
     "output_type": "stream",
     "text": [
      "      educ  exper\n",
      "Ann   12.0   22.0\n",
      "John  11.0    2.0\n"
     ]
    }
   ],
   "source": [
    "display(data_frame_new)\n",
    "data_new_subset = data_frame_new.loc['Ann':'John', 'educ':'exper']\n",
    "print(data_new_subset)"
   ]
  },
  {
   "cell_type": "markdown",
   "metadata": {},
   "source": [
    "<div class=\"alert alert-block alert-danger\">\n",
    "<b>Notes</b>:  In the slicing expressions for label based indexes, the item indexed by <b>stop</b> are included in the selection. This is different from the list style slicing syntax we learned before. \n",
    "</div>\n",
    "\n",
    "Similar to the cases of `iloc[]` indexers, we can use the `:` operator to select all rows or columns, or leave the column indexes to be unspecified so that all columns are selected by default. "
   ]
  },
  {
   "cell_type": "code",
   "execution_count": 45,
   "metadata": {
    "scrolled": false
   },
   "outputs": [
    {
     "name": "stdout",
     "output_type": "stream",
     "text": [
      "0     2.0\n",
      "1    22.0\n",
      "2     2.0\n",
      "3    44.0\n",
      "4     7.0\n",
      "5     9.0\n",
      "Name: exper, dtype: float64\n"
     ]
    }
   ],
   "source": [
    "cols = data_frame.loc[:, 'exper'] \n",
    "print(cols)"
   ]
  },
  {
   "cell_type": "code",
   "execution_count": 46,
   "metadata": {
    "scrolled": false
   },
   "outputs": [
    {
     "name": "stdout",
     "output_type": "stream",
     "text": [
      "       wage  educ  exper gender  married\n",
      "John   3.00  11.0    2.0      M    False\n",
      "David  6.00   8.0   44.0      M     True\n",
      "Frank  5.30  12.0    7.0      M     True\n",
      "Ben    8.75  16.0    9.0      M     True\n"
     ]
    }
   ],
   "source": [
    "rows = data_frame_new.loc['John':'Ben', :]  \n",
    "print(rows)"
   ]
  },
  {
   "cell_type": "code",
   "execution_count": 47,
   "metadata": {
    "scrolled": true
   },
   "outputs": [
    {
     "name": "stdout",
     "output_type": "stream",
     "text": [
      "       wage  educ  exper gender  married\n",
      "John   3.00  11.0    2.0      M    False\n",
      "David  6.00   8.0   44.0      M     True\n",
      "Frank  5.30  12.0    7.0      M     True\n",
      "Ben    8.75  16.0    9.0      M     True\n"
     ]
    }
   ],
   "source": [
    "rows = data_frame_new.loc['John':'Ben']  \n",
    "print(rows)"
   ]
  },
  {
   "cell_type": "markdown",
   "metadata": {},
   "source": [
    "Besides using the `iloc[]` and `loc[]` indexers to access a subset of the data frame, we can directly use the `[]` to select a column of the dataset, as demonstrated by the code cells below."
   ]
  },
  {
   "cell_type": "code",
   "execution_count": 48,
   "metadata": {
    "scrolled": true
   },
   "outputs": [
    {
     "data": {
      "text/plain": [
       "0    11.0\n",
       "1    12.0\n",
       "2    11.0\n",
       "3     8.0\n",
       "4    12.0\n",
       "5    16.0\n",
       "Name: educ, dtype: float64"
      ]
     },
     "execution_count": 48,
     "metadata": {},
     "output_type": "execute_result"
    }
   ],
   "source": [
    "data_frame['educ']"
   ]
  },
  {
   "cell_type": "code",
   "execution_count": 49,
   "metadata": {
    "scrolled": true
   },
   "outputs": [
    {
     "data": {
      "text/plain": [
       "Mary     11.0\n",
       "Ann      12.0\n",
       "John     11.0\n",
       "David     8.0\n",
       "Frank    12.0\n",
       "Ben      16.0\n",
       "Name: educ, dtype: float64"
      ]
     },
     "execution_count": 49,
     "metadata": {},
     "output_type": "execute_result"
    }
   ],
   "source": [
    "data_frame_new['educ']"
   ]
  },
  {
   "cell_type": "markdown",
   "metadata": {},
   "source": [
    "Please note that data type of the selecting a column directly using `[]` is `pandas.Series`."
   ]
  },
  {
   "cell_type": "code",
   "execution_count": 50,
   "metadata": {
    "scrolled": false
   },
   "outputs": [
    {
     "name": "stdout",
     "output_type": "stream",
     "text": [
      "<class 'pandas.core.series.Series'>\n",
      "<class 'pandas.core.series.Series'>\n"
     ]
    }
   ],
   "source": [
    "print(type(data_frame['educ']))\n",
    "print(type(data_frame_new['educ']))"
   ]
  },
  {
   "cell_type": "markdown",
   "metadata": {},
   "source": [
    "#### Change `pandas.DataFrame` objects in-place <a id=\"subsection2.5\"></a>\n",
    "Similar to mutable data types like `list` or `dict`, the `pandas.DataFrame` objects are also mutable, and we can change a part of a data frame in-place. The syntax of change data frame content is similar to other mutable data types: applying assignment statement on a subset of data selected by indexing or slicing. \n",
    "\n",
    "Consider the variable `data_frame`."
   ]
  },
  {
   "cell_type": "code",
   "execution_count": 51,
   "metadata": {
    "scrolled": false
   },
   "outputs": [
    {
     "name": "stdout",
     "output_type": "stream",
     "text": [
      "   wage  educ  exper gender  married\n",
      "0  3.10  11.0    2.0      F    False\n",
      "1  3.24  12.0   22.0      F     True\n",
      "2  3.00  11.0    2.0      M    False\n",
      "3  6.00   8.0   44.0      M     True\n",
      "4  5.30  12.0    7.0      M     True\n",
      "5  8.75  16.0    9.0      M     True\n"
     ]
    }
   ],
   "source": [
    "print(data_frame)"
   ]
  },
  {
   "cell_type": "markdown",
   "metadata": {},
   "source": [
    "Changes are applied to data items selected via the `loc[]` and `iloc[]` indexers. "
   ]
  },
  {
   "cell_type": "code",
   "execution_count": 52,
   "metadata": {
    "scrolled": false
   },
   "outputs": [
    {
     "data": {
      "text/html": [
       "<div>\n",
       "<style scoped>\n",
       "    .dataframe tbody tr th:only-of-type {\n",
       "        vertical-align: middle;\n",
       "    }\n",
       "\n",
       "    .dataframe tbody tr th {\n",
       "        vertical-align: top;\n",
       "    }\n",
       "\n",
       "    .dataframe thead th {\n",
       "        text-align: right;\n",
       "    }\n",
       "</style>\n",
       "<table border=\"1\" class=\"dataframe\">\n",
       "  <thead>\n",
       "    <tr style=\"text-align: right;\">\n",
       "      <th></th>\n",
       "      <th>wage</th>\n",
       "      <th>educ</th>\n",
       "      <th>exper</th>\n",
       "      <th>gender</th>\n",
       "      <th>married</th>\n",
       "    </tr>\n",
       "  </thead>\n",
       "  <tbody>\n",
       "    <tr>\n",
       "      <th>0</th>\n",
       "      <td>3.10</td>\n",
       "      <td>11.0</td>\n",
       "      <td>2.0</td>\n",
       "      <td>F</td>\n",
       "      <td>False</td>\n",
       "    </tr>\n",
       "    <tr>\n",
       "      <th>1</th>\n",
       "      <td>3.24</td>\n",
       "      <td>12.0</td>\n",
       "      <td>22.0</td>\n",
       "      <td>F</td>\n",
       "      <td>True</td>\n",
       "    </tr>\n",
       "    <tr>\n",
       "      <th>2</th>\n",
       "      <td>3.00</td>\n",
       "      <td>9.0</td>\n",
       "      <td>2.0</td>\n",
       "      <td>M</td>\n",
       "      <td>False</td>\n",
       "    </tr>\n",
       "    <tr>\n",
       "      <th>3</th>\n",
       "      <td>6.00</td>\n",
       "      <td>9.0</td>\n",
       "      <td>44.0</td>\n",
       "      <td>M</td>\n",
       "      <td>True</td>\n",
       "    </tr>\n",
       "    <tr>\n",
       "      <th>4</th>\n",
       "      <td>5.30</td>\n",
       "      <td>12.0</td>\n",
       "      <td>7.0</td>\n",
       "      <td>M</td>\n",
       "      <td>True</td>\n",
       "    </tr>\n",
       "    <tr>\n",
       "      <th>5</th>\n",
       "      <td>8.75</td>\n",
       "      <td>16.0</td>\n",
       "      <td>9.0</td>\n",
       "      <td>M</td>\n",
       "      <td>True</td>\n",
       "    </tr>\n",
       "  </tbody>\n",
       "</table>\n",
       "</div>"
      ],
      "text/plain": [
       "   wage  educ  exper gender  married\n",
       "0  3.10  11.0    2.0      F    False\n",
       "1  3.24  12.0   22.0      F     True\n",
       "2  3.00   9.0    2.0      M    False\n",
       "3  6.00   9.0   44.0      M     True\n",
       "4  5.30  12.0    7.0      M     True\n",
       "5  8.75  16.0    9.0      M     True"
      ]
     },
     "execution_count": 52,
     "metadata": {},
     "output_type": "execute_result"
    }
   ],
   "source": [
    "data_frame.loc[2:3, 'educ'] = 9.0  \n",
    "data_frame"
   ]
  },
  {
   "cell_type": "code",
   "execution_count": 53,
   "metadata": {
    "scrolled": true
   },
   "outputs": [
    {
     "data": {
      "text/html": [
       "<div>\n",
       "<style scoped>\n",
       "    .dataframe tbody tr th:only-of-type {\n",
       "        vertical-align: middle;\n",
       "    }\n",
       "\n",
       "    .dataframe tbody tr th {\n",
       "        vertical-align: top;\n",
       "    }\n",
       "\n",
       "    .dataframe thead th {\n",
       "        text-align: right;\n",
       "    }\n",
       "</style>\n",
       "<table border=\"1\" class=\"dataframe\">\n",
       "  <thead>\n",
       "    <tr style=\"text-align: right;\">\n",
       "      <th></th>\n",
       "      <th>wage</th>\n",
       "      <th>educ</th>\n",
       "      <th>exper</th>\n",
       "      <th>gender</th>\n",
       "      <th>married</th>\n",
       "    </tr>\n",
       "  </thead>\n",
       "  <tbody>\n",
       "    <tr>\n",
       "      <th>0</th>\n",
       "      <td>3.10</td>\n",
       "      <td>11.0</td>\n",
       "      <td>2.0</td>\n",
       "      <td>F</td>\n",
       "      <td>False</td>\n",
       "    </tr>\n",
       "    <tr>\n",
       "      <th>1</th>\n",
       "      <td>3.24</td>\n",
       "      <td>12.0</td>\n",
       "      <td>22.0</td>\n",
       "      <td>F</td>\n",
       "      <td>True</td>\n",
       "    </tr>\n",
       "    <tr>\n",
       "      <th>2</th>\n",
       "      <td>3.00</td>\n",
       "      <td>1.0</td>\n",
       "      <td>1.0</td>\n",
       "      <td>M</td>\n",
       "      <td>False</td>\n",
       "    </tr>\n",
       "    <tr>\n",
       "      <th>3</th>\n",
       "      <td>6.00</td>\n",
       "      <td>9.0</td>\n",
       "      <td>44.0</td>\n",
       "      <td>M</td>\n",
       "      <td>True</td>\n",
       "    </tr>\n",
       "    <tr>\n",
       "      <th>4</th>\n",
       "      <td>5.30</td>\n",
       "      <td>12.0</td>\n",
       "      <td>7.0</td>\n",
       "      <td>M</td>\n",
       "      <td>True</td>\n",
       "    </tr>\n",
       "    <tr>\n",
       "      <th>5</th>\n",
       "      <td>8.75</td>\n",
       "      <td>16.0</td>\n",
       "      <td>9.0</td>\n",
       "      <td>M</td>\n",
       "      <td>True</td>\n",
       "    </tr>\n",
       "  </tbody>\n",
       "</table>\n",
       "</div>"
      ],
      "text/plain": [
       "   wage  educ  exper gender  married\n",
       "0  3.10  11.0    2.0      F    False\n",
       "1  3.24  12.0   22.0      F     True\n",
       "2  3.00   1.0    1.0      M    False\n",
       "3  6.00   9.0   44.0      M     True\n",
       "4  5.30  12.0    7.0      M     True\n",
       "5  8.75  16.0    9.0      M     True"
      ]
     },
     "execution_count": 53,
     "metadata": {},
     "output_type": "execute_result"
    }
   ],
   "source": [
    "data_frame.iloc[2, 1:3] = 1.0   \n",
    "data_frame"
   ]
  },
  {
   "cell_type": "markdown",
   "metadata": {},
   "source": [
    "The <code>loc[]</code> indexer can even by used to create new columns. As demonstrated by the following example, the index `'remarks'` is not a label of the old data frame, then a new field named `'remarks'` is appended as the last column to the data frame. "
   ]
  },
  {
   "cell_type": "code",
   "execution_count": 54,
   "metadata": {
    "scrolled": true
   },
   "outputs": [
    {
     "data": {
      "text/html": [
       "<div>\n",
       "<style scoped>\n",
       "    .dataframe tbody tr th:only-of-type {\n",
       "        vertical-align: middle;\n",
       "    }\n",
       "\n",
       "    .dataframe tbody tr th {\n",
       "        vertical-align: top;\n",
       "    }\n",
       "\n",
       "    .dataframe thead th {\n",
       "        text-align: right;\n",
       "    }\n",
       "</style>\n",
       "<table border=\"1\" class=\"dataframe\">\n",
       "  <thead>\n",
       "    <tr style=\"text-align: right;\">\n",
       "      <th></th>\n",
       "      <th>wage</th>\n",
       "      <th>educ</th>\n",
       "      <th>exper</th>\n",
       "      <th>gender</th>\n",
       "      <th>married</th>\n",
       "      <th>remarks</th>\n",
       "    </tr>\n",
       "  </thead>\n",
       "  <tbody>\n",
       "    <tr>\n",
       "      <th>0</th>\n",
       "      <td>3.10</td>\n",
       "      <td>11.0</td>\n",
       "      <td>2.0</td>\n",
       "      <td>F</td>\n",
       "      <td>False</td>\n",
       "      <td>none</td>\n",
       "    </tr>\n",
       "    <tr>\n",
       "      <th>1</th>\n",
       "      <td>3.24</td>\n",
       "      <td>12.0</td>\n",
       "      <td>22.0</td>\n",
       "      <td>F</td>\n",
       "      <td>True</td>\n",
       "      <td>none</td>\n",
       "    </tr>\n",
       "    <tr>\n",
       "      <th>2</th>\n",
       "      <td>3.00</td>\n",
       "      <td>1.0</td>\n",
       "      <td>1.0</td>\n",
       "      <td>M</td>\n",
       "      <td>False</td>\n",
       "      <td>none</td>\n",
       "    </tr>\n",
       "    <tr>\n",
       "      <th>3</th>\n",
       "      <td>6.00</td>\n",
       "      <td>9.0</td>\n",
       "      <td>44.0</td>\n",
       "      <td>M</td>\n",
       "      <td>True</td>\n",
       "      <td>none</td>\n",
       "    </tr>\n",
       "    <tr>\n",
       "      <th>4</th>\n",
       "      <td>5.30</td>\n",
       "      <td>12.0</td>\n",
       "      <td>7.0</td>\n",
       "      <td>M</td>\n",
       "      <td>True</td>\n",
       "      <td>none</td>\n",
       "    </tr>\n",
       "    <tr>\n",
       "      <th>5</th>\n",
       "      <td>8.75</td>\n",
       "      <td>16.0</td>\n",
       "      <td>9.0</td>\n",
       "      <td>M</td>\n",
       "      <td>True</td>\n",
       "      <td>none</td>\n",
       "    </tr>\n",
       "  </tbody>\n",
       "</table>\n",
       "</div>"
      ],
      "text/plain": [
       "   wage  educ  exper gender  married remarks\n",
       "0  3.10  11.0    2.0      F    False    none\n",
       "1  3.24  12.0   22.0      F     True    none\n",
       "2  3.00   1.0    1.0      M    False    none\n",
       "3  6.00   9.0   44.0      M     True    none\n",
       "4  5.30  12.0    7.0      M     True    none\n",
       "5  8.75  16.0    9.0      M     True    none"
      ]
     },
     "execution_count": 54,
     "metadata": {},
     "output_type": "execute_result"
    }
   ],
   "source": [
    "data_frame.loc[:, 'remarks'] = 'none'\n",
    "data_frame"
   ]
  },
  {
   "cell_type": "markdown",
   "metadata": {},
   "source": [
    "#### Boolean series and boolean indexing <a id=\"subsection2.6\"></a>\n",
    "\n",
    "**Boolean indexing** is typically used for filtering or segmenting data according to given conditions. The boolean indexing operations are conducted with a boolean type series, created by boolean statements and logical operators. "
   ]
  },
  {
   "cell_type": "code",
   "execution_count": 55,
   "metadata": {},
   "outputs": [
    {
     "data": {
      "text/plain": [
       "0    False\n",
       "1     True\n",
       "2    False\n",
       "3     True\n",
       "4     True\n",
       "5     True\n",
       "Name: married, dtype: bool"
      ]
     },
     "execution_count": 55,
     "metadata": {},
     "output_type": "execute_result"
    }
   ],
   "source": [
    "data_frame['married']"
   ]
  },
  {
   "cell_type": "code",
   "execution_count": 56,
   "metadata": {
    "scrolled": true
   },
   "outputs": [
    {
     "name": "stdout",
     "output_type": "stream",
     "text": [
      "0     True\n",
      "1     True\n",
      "2    False\n",
      "3    False\n",
      "4    False\n",
      "5    False\n",
      "Name: gender, dtype: bool\n"
     ]
    }
   ],
   "source": [
    "is_female = data_frame['gender'] == 'F'     # True if the record is a female\n",
    "print(is_female)"
   ]
  },
  {
   "cell_type": "code",
   "execution_count": 57,
   "metadata": {
    "scrolled": false
   },
   "outputs": [
    {
     "name": "stdout",
     "output_type": "stream",
     "text": [
      "0    False\n",
      "1    False\n",
      "2    False\n",
      "3     True\n",
      "4     True\n",
      "5     True\n",
      "Name: wage, dtype: bool\n"
     ]
    }
   ],
   "source": [
    "is_high_wage = data_frame['wage'] > 4       # True if the hourly wage is larger than 4 dollars\n",
    "print(is_high_wage)"
   ]
  },
  {
   "cell_type": "code",
   "execution_count": 58,
   "metadata": {},
   "outputs": [
    {
     "name": "stdout",
     "output_type": "stream",
     "text": [
      "0    False\n",
      "1    False\n",
      "2     True\n",
      "3     True\n",
      "4     True\n",
      "5     True\n",
      "Name: gender, dtype: bool\n"
     ]
    }
   ],
   "source": [
    "not_female = data_frame['gender'] != 'F'\n",
    "print(not_female)"
   ]
  },
  {
   "cell_type": "markdown",
   "metadata": {},
   "source": [
    "In addition, the following bitwise operators can be used to create more complicated logics for boolean series. \n",
    "\n",
    "- The bitwise \"and\" logic: `&`\n",
    "- The bitwise \"or\" logic: `|`\n",
    "- The bitwise \"not\" logic: `~`"
   ]
  },
  {
   "cell_type": "code",
   "execution_count": 59,
   "metadata": {
    "scrolled": false
   },
   "outputs": [
    {
     "name": "stdout",
     "output_type": "stream",
     "text": [
      "0    False\n",
      "1     True\n",
      "2    False\n",
      "3    False\n",
      "4    False\n",
      "5    False\n",
      "dtype: bool\n"
     ]
    }
   ],
   "source": [
    "cond1 = data_frame['gender']=='F'\n",
    "cond2 = data_frame['married']\n",
    "is_wife = cond1 & cond2\n",
    "print(is_wife)"
   ]
  },
  {
   "cell_type": "code",
   "execution_count": 60,
   "metadata": {
    "scrolled": true
   },
   "outputs": [
    {
     "name": "stdout",
     "output_type": "stream",
     "text": [
      "0     True\n",
      "1     True\n",
      "2    False\n",
      "3     True\n",
      "4     True\n",
      "5     True\n",
      "dtype: bool\n"
     ]
    }
   ],
   "source": [
    "cond1 = data_frame['educ']>9\n",
    "cond2 = data_frame['exper']>3\n",
    "is_skillful = cond1 | cond2\n",
    "print(is_skillful)"
   ]
  },
  {
   "cell_type": "markdown",
   "metadata": {},
   "source": [
    "In the code above, the bitwise operators are applied to the whole boolean series, instead of a single value of `True` or `False`. This is different from the `and`, `or`, and `not` operators we learned before. "
   ]
  },
  {
   "cell_type": "markdown",
   "metadata": {},
   "source": [
    "Such boolean series can be used as the row indexes in the `loc[]` indexer to access or to modify a subset of rows that satisfy some given conditions. For example, we may be able to achieve a data frame that contains only female records."
   ]
  },
  {
   "cell_type": "code",
   "execution_count": 61,
   "metadata": {
    "scrolled": true
   },
   "outputs": [
    {
     "name": "stdout",
     "output_type": "stream",
     "text": [
      "   wage  educ  exper gender  married remarks\n",
      "0  3.10  11.0    2.0      F    False    none\n",
      "1  3.24  12.0   22.0      F     True    none\n"
     ]
    }
   ],
   "source": [
    "is_female = data_frame['gender'] == 'F'     # A boolean Series \n",
    "females = data_frame.loc[is_female]         # Select rows indicated by True\n",
    "print(females)"
   ]
  },
  {
   "cell_type": "markdown",
   "metadata": {},
   "source": [
    "In the sample code below, we are using boolean indexing to make changes on some records of the `remarks` filed. "
   ]
  },
  {
   "cell_type": "code",
   "execution_count": 65,
   "metadata": {
    "scrolled": true
   },
   "outputs": [
    {
     "name": "stdout",
     "output_type": "stream",
     "text": [
      "   wage  educ  exper gender  married remarks\n",
      "0  3.10  11.0    2.0      F    False    none\n",
      "1  3.24  12.0   22.0      F     True    Wife\n",
      "2  3.00   1.0    1.0      M    False    none\n",
      "3  6.00   9.0   44.0      M     True    none\n",
      "4  5.30  12.0    7.0      M     True    none\n",
      "5  8.75  16.0    9.0      M     True    none\n"
     ]
    }
   ],
   "source": [
    "cond1 = data_frame['gender']=='F'\n",
    "cond2 = data_frame['married']\n",
    "is_wife = cond1 & cond2\n",
    "data_frame.loc[is_wife, 'remarks'] = 'Wife'   \n",
    "print(data_frame)"
   ]
  },
  {
   "cell_type": "markdown",
   "metadata": {},
   "source": [
    "<div class=\"alert alert-block alert-info\">\n",
    "<b>Question 1:</b>  \n",
    "Make changes to the data frame above such that:\n",
    "    <li> Values for married male in the column <span style='font-family:Courier'><b>'remarks'</b></span> is changed to the string <span style='font-family:Courier'><b>'Husband'</b></span>.</li>\n",
    "    <li> Values for unmarried male or unmarried female in the column <span style='font-family:Courier'><b>'remarks'</b></span> is changed to the string <span style='font-family:Courier'><b>'Single'</b></span>.</li>\n",
    "</div>"
   ]
  },
  {
   "cell_type": "code",
   "execution_count": 69,
   "metadata": {},
   "outputs": [
    {
     "name": "stdout",
     "output_type": "stream",
     "text": [
      "   wage  educ  exper gender  married  remarks\n",
      "0  3.10  11.0    2.0      F    False     none\n",
      "1  3.24  12.0   22.0      F     True     Wife\n",
      "2  3.00   1.0    1.0      M    False     none\n",
      "3  6.00   9.0   44.0      M     True  Husband\n",
      "4  5.30  12.0    7.0      M     True  Husband\n",
      "5  8.75  16.0    9.0      M     True  Husband\n"
     ]
    }
   ],
   "source": [
    "# We need the brackets around each sub-condition\n",
    "is_husband = (data_frame['gender'] == 'M') & (data_frame['married'])\n",
    "data_frame.loc[is_husband, 'remarks'] = 'Husband'\n",
    "print(data_frame)"
   ]
  },
  {
   "cell_type": "markdown",
   "metadata": {},
   "source": [
    "### Read data from files <a id=\"subsection3.3\"></a>\n",
    "\n",
    "In fact, the method introduced in the previous section is rarely used in creating <code>pandas.DataFrame</code> data structures, because directly typing in the data into a dictionary is inefficient and tedious. In practical implementation, it is more common to read data from a file, as the example below."
   ]
  },
  {
   "cell_type": "code",
   "execution_count": 70,
   "metadata": {
    "scrolled": false
   },
   "outputs": [
    {
     "data": {
      "text/html": [
       "<div>\n",
       "<style scoped>\n",
       "    .dataframe tbody tr th:only-of-type {\n",
       "        vertical-align: middle;\n",
       "    }\n",
       "\n",
       "    .dataframe tbody tr th {\n",
       "        vertical-align: top;\n",
       "    }\n",
       "\n",
       "    .dataframe thead th {\n",
       "        text-align: right;\n",
       "    }\n",
       "</style>\n",
       "<table border=\"1\" class=\"dataframe\">\n",
       "  <thead>\n",
       "    <tr style=\"text-align: right;\">\n",
       "      <th></th>\n",
       "      <th>wage</th>\n",
       "      <th>educ</th>\n",
       "      <th>exper</th>\n",
       "      <th>gender</th>\n",
       "      <th>married</th>\n",
       "    </tr>\n",
       "  </thead>\n",
       "  <tbody>\n",
       "    <tr>\n",
       "      <th>0</th>\n",
       "      <td>3.10</td>\n",
       "      <td>11.0</td>\n",
       "      <td>2.0</td>\n",
       "      <td>F</td>\n",
       "      <td>False</td>\n",
       "    </tr>\n",
       "    <tr>\n",
       "      <th>1</th>\n",
       "      <td>3.24</td>\n",
       "      <td>12.0</td>\n",
       "      <td>22.0</td>\n",
       "      <td>F</td>\n",
       "      <td>True</td>\n",
       "    </tr>\n",
       "    <tr>\n",
       "      <th>2</th>\n",
       "      <td>3.00</td>\n",
       "      <td>11.0</td>\n",
       "      <td>2.0</td>\n",
       "      <td>M</td>\n",
       "      <td>False</td>\n",
       "    </tr>\n",
       "    <tr>\n",
       "      <th>3</th>\n",
       "      <td>6.00</td>\n",
       "      <td>8.0</td>\n",
       "      <td>44.0</td>\n",
       "      <td>M</td>\n",
       "      <td>True</td>\n",
       "    </tr>\n",
       "    <tr>\n",
       "      <th>4</th>\n",
       "      <td>5.30</td>\n",
       "      <td>12.0</td>\n",
       "      <td>7.0</td>\n",
       "      <td>M</td>\n",
       "      <td>True</td>\n",
       "    </tr>\n",
       "    <tr>\n",
       "      <th>...</th>\n",
       "      <td>...</td>\n",
       "      <td>...</td>\n",
       "      <td>...</td>\n",
       "      <td>...</td>\n",
       "      <td>...</td>\n",
       "    </tr>\n",
       "    <tr>\n",
       "      <th>521</th>\n",
       "      <td>15.00</td>\n",
       "      <td>16.0</td>\n",
       "      <td>14.0</td>\n",
       "      <td>F</td>\n",
       "      <td>True</td>\n",
       "    </tr>\n",
       "    <tr>\n",
       "      <th>522</th>\n",
       "      <td>2.27</td>\n",
       "      <td>10.0</td>\n",
       "      <td>2.0</td>\n",
       "      <td>F</td>\n",
       "      <td>False</td>\n",
       "    </tr>\n",
       "    <tr>\n",
       "      <th>523</th>\n",
       "      <td>4.67</td>\n",
       "      <td>15.0</td>\n",
       "      <td>13.0</td>\n",
       "      <td>M</td>\n",
       "      <td>True</td>\n",
       "    </tr>\n",
       "    <tr>\n",
       "      <th>524</th>\n",
       "      <td>11.56</td>\n",
       "      <td>16.0</td>\n",
       "      <td>5.0</td>\n",
       "      <td>M</td>\n",
       "      <td>True</td>\n",
       "    </tr>\n",
       "    <tr>\n",
       "      <th>525</th>\n",
       "      <td>3.50</td>\n",
       "      <td>14.0</td>\n",
       "      <td>5.0</td>\n",
       "      <td>F</td>\n",
       "      <td>False</td>\n",
       "    </tr>\n",
       "  </tbody>\n",
       "</table>\n",
       "<p>526 rows × 5 columns</p>\n",
       "</div>"
      ],
      "text/plain": [
       "      wage  educ  exper gender  married\n",
       "0     3.10  11.0    2.0      F    False\n",
       "1     3.24  12.0   22.0      F     True\n",
       "2     3.00  11.0    2.0      M    False\n",
       "3     6.00   8.0   44.0      M     True\n",
       "4     5.30  12.0    7.0      M     True\n",
       "..     ...   ...    ...    ...      ...\n",
       "521  15.00  16.0   14.0      F     True\n",
       "522   2.27  10.0    2.0      F    False\n",
       "523   4.67  15.0   13.0      M     True\n",
       "524  11.56  16.0    5.0      M     True\n",
       "525   3.50  14.0    5.0      F    False\n",
       "\n",
       "[526 rows x 5 columns]"
      ]
     },
     "execution_count": 70,
     "metadata": {},
     "output_type": "execute_result"
    }
   ],
   "source": [
    "data = pd.read_csv('wage.csv')  # Read data from a file \"wage.csv\"\n",
    "data"
   ]
  },
  {
   "cell_type": "markdown",
   "metadata": {},
   "source": [
    "We often display the first a few rows of the data frame using the `head()` method, to show the column labels and typical values of each variable."
   ]
  },
  {
   "cell_type": "code",
   "execution_count": 71,
   "metadata": {
    "scrolled": true
   },
   "outputs": [
    {
     "name": "stdout",
     "output_type": "stream",
     "text": [
      "   wage  educ  exper gender  married\n",
      "0  3.10  11.0    2.0      F    False\n",
      "1  3.24  12.0   22.0      F     True\n",
      "2  3.00  11.0    2.0      M    False\n",
      "3  6.00   8.0   44.0      M     True\n",
      "4  5.30  12.0    7.0      M     True\n",
      "5  8.75  16.0    9.0      M     True\n"
     ]
    }
   ],
   "source": [
    "print(data.head(6))                 # Return the first six rows of data"
   ]
  },
  {
   "cell_type": "markdown",
   "metadata": {},
   "source": [
    " "
   ]
  },
  {
   "cell_type": "markdown",
   "metadata": {},
   "source": [
    "## Basics of Descriptive Analytics <a id=\"section4\"></a>\n",
    "\n",
    "### Descriptive measures <a id=\"subsection4.1\"></a>\n",
    "**Descriptive analytics** creates a summary of historical data to yield useful information and possibly prepare the data for further analysis. Such information may include some basic descriptive measures of data and graphs showing important insights.\n",
    "\n",
    "#### Centers, variations, and extreme points\n",
    "Please note that some descriptive measures can only be applied to numerical variables, so before calling methods for calculating such measures, we need to drop columns that are not numerical. This step is required in the new version of Pandas package, and you may receive a warning message if non-numerical variables present in the data frame. According to the [Official website of Pandas](https://pandas.pydata.org/pandas-docs/dev/whatsnew/v1.3.0.html#deprecated-dropping-nuisance-columns-in-dataframe-reductions-and-dataframegroupby-operations), there will be a type error raised in future version of Pandas if calculations are conducted on non-numerical variables."
   ]
  },
  {
   "cell_type": "code",
   "execution_count": 72,
   "metadata": {
    "scrolled": true
   },
   "outputs": [
    {
     "data": {
      "text/html": [
       "<div>\n",
       "<style scoped>\n",
       "    .dataframe tbody tr th:only-of-type {\n",
       "        vertical-align: middle;\n",
       "    }\n",
       "\n",
       "    .dataframe tbody tr th {\n",
       "        vertical-align: top;\n",
       "    }\n",
       "\n",
       "    .dataframe thead th {\n",
       "        text-align: right;\n",
       "    }\n",
       "</style>\n",
       "<table border=\"1\" class=\"dataframe\">\n",
       "  <thead>\n",
       "    <tr style=\"text-align: right;\">\n",
       "      <th></th>\n",
       "      <th>wage</th>\n",
       "      <th>educ</th>\n",
       "      <th>exper</th>\n",
       "      <th>married</th>\n",
       "    </tr>\n",
       "  </thead>\n",
       "  <tbody>\n",
       "    <tr>\n",
       "      <th>0</th>\n",
       "      <td>3.10</td>\n",
       "      <td>11.0</td>\n",
       "      <td>2.0</td>\n",
       "      <td>False</td>\n",
       "    </tr>\n",
       "    <tr>\n",
       "      <th>1</th>\n",
       "      <td>3.24</td>\n",
       "      <td>12.0</td>\n",
       "      <td>22.0</td>\n",
       "      <td>True</td>\n",
       "    </tr>\n",
       "    <tr>\n",
       "      <th>2</th>\n",
       "      <td>3.00</td>\n",
       "      <td>11.0</td>\n",
       "      <td>2.0</td>\n",
       "      <td>False</td>\n",
       "    </tr>\n",
       "    <tr>\n",
       "      <th>3</th>\n",
       "      <td>6.00</td>\n",
       "      <td>8.0</td>\n",
       "      <td>44.0</td>\n",
       "      <td>True</td>\n",
       "    </tr>\n",
       "    <tr>\n",
       "      <th>4</th>\n",
       "      <td>5.30</td>\n",
       "      <td>12.0</td>\n",
       "      <td>7.0</td>\n",
       "      <td>True</td>\n",
       "    </tr>\n",
       "    <tr>\n",
       "      <th>...</th>\n",
       "      <td>...</td>\n",
       "      <td>...</td>\n",
       "      <td>...</td>\n",
       "      <td>...</td>\n",
       "    </tr>\n",
       "    <tr>\n",
       "      <th>521</th>\n",
       "      <td>15.00</td>\n",
       "      <td>16.0</td>\n",
       "      <td>14.0</td>\n",
       "      <td>True</td>\n",
       "    </tr>\n",
       "    <tr>\n",
       "      <th>522</th>\n",
       "      <td>2.27</td>\n",
       "      <td>10.0</td>\n",
       "      <td>2.0</td>\n",
       "      <td>False</td>\n",
       "    </tr>\n",
       "    <tr>\n",
       "      <th>523</th>\n",
       "      <td>4.67</td>\n",
       "      <td>15.0</td>\n",
       "      <td>13.0</td>\n",
       "      <td>True</td>\n",
       "    </tr>\n",
       "    <tr>\n",
       "      <th>524</th>\n",
       "      <td>11.56</td>\n",
       "      <td>16.0</td>\n",
       "      <td>5.0</td>\n",
       "      <td>True</td>\n",
       "    </tr>\n",
       "    <tr>\n",
       "      <th>525</th>\n",
       "      <td>3.50</td>\n",
       "      <td>14.0</td>\n",
       "      <td>5.0</td>\n",
       "      <td>False</td>\n",
       "    </tr>\n",
       "  </tbody>\n",
       "</table>\n",
       "<p>526 rows × 4 columns</p>\n",
       "</div>"
      ],
      "text/plain": [
       "      wage  educ  exper  married\n",
       "0     3.10  11.0    2.0    False\n",
       "1     3.24  12.0   22.0     True\n",
       "2     3.00  11.0    2.0    False\n",
       "3     6.00   8.0   44.0     True\n",
       "4     5.30  12.0    7.0     True\n",
       "..     ...   ...    ...      ...\n",
       "521  15.00  16.0   14.0     True\n",
       "522   2.27  10.0    2.0    False\n",
       "523   4.67  15.0   13.0     True\n",
       "524  11.56  16.0    5.0     True\n",
       "525   3.50  14.0    5.0    False\n",
       "\n",
       "[526 rows x 4 columns]"
      ]
     },
     "execution_count": 72,
     "metadata": {},
     "output_type": "execute_result"
    }
   ],
   "source": [
    "data = pd.read_csv('wage.csv')           # Read data from a file \"wage.csv\"\n",
    "data_num = data.drop(columns='gender')   # Create a data frame with only numerical variables\n",
    "data_num"
   ]
  },
  {
   "cell_type": "markdown",
   "metadata": {},
   "source": [
    "Typical center measures, such as the average and median values, can be calculated using the `mean()` and `median()` methods, respectively. "
   ]
  },
  {
   "cell_type": "code",
   "execution_count": 73,
   "metadata": {
    "scrolled": true
   },
   "outputs": [
    {
     "name": "stdout",
     "output_type": "stream",
     "text": [
      "wage        5.896103\n",
      "educ       12.562738\n",
      "exper      17.017110\n",
      "married     0.608365\n",
      "dtype: float64\n",
      "\n",
      "\n",
      "wage        4.65\n",
      "educ       12.00\n",
      "exper      13.50\n",
      "married     1.00\n",
      "dtype: float64\n"
     ]
    }
   ],
   "source": [
    "means = data_num.mean()\n",
    "print(means)\n",
    "\n",
    "print('\\n')\n",
    "\n",
    "medians = data_num.median()\n",
    "print(medians)"
   ]
  },
  {
   "cell_type": "code",
   "execution_count": 74,
   "metadata": {
    "scrolled": true
   },
   "outputs": [
    {
     "name": "stdout",
     "output_type": "stream",
     "text": [
      "<class 'pandas.core.series.Series'>\n",
      "<class 'pandas.core.series.Series'>\n"
     ]
    }
   ],
   "source": [
    "print(type(means))\n",
    "print(type(medians))"
   ]
  },
  {
   "cell_type": "markdown",
   "metadata": {},
   "source": [
    "Please note that the mean/median value of each column is stored in a `pandas.Series` type object, where the indexes are variable names, rather than the integer positions. \n",
    "\n",
    "Also notice that in the case of the categorical variable `married`, the mean value $0.608365$ is the proportion of observations in the dataset labeled as \"married\". This is because the `True` or `False` boolean values are converted to numeric values: ones or zeros, so that the mean value is the same as the proportion of `True`s (ones).\n",
    "\n",
    "Similarly, the measures of variances and standard deviations can be calculated by the corresponding methods."
   ]
  },
  {
   "cell_type": "code",
   "execution_count": 75,
   "metadata": {},
   "outputs": [
    {
     "data": {
      "text/plain": [
       "wage        13.638884\n",
       "educ         7.667485\n",
       "exper      184.203516\n",
       "married      0.238711\n",
       "dtype: float64"
      ]
     },
     "execution_count": 75,
     "metadata": {},
     "output_type": "execute_result"
    }
   ],
   "source": [
    "data_num.var()         # Sample Variance of each column"
   ]
  },
  {
   "cell_type": "code",
   "execution_count": 76,
   "metadata": {},
   "outputs": [
    {
     "data": {
      "text/plain": [
       "wage        3.693086\n",
       "educ        2.769022\n",
       "exper      13.572160\n",
       "married     0.488580\n",
       "dtype: float64"
      ]
     },
     "execution_count": 76,
     "metadata": {},
     "output_type": "execute_result"
    }
   ],
   "source": [
    "data_num.std()         # Sample Standard deviation of each column"
   ]
  },
  {
   "cell_type": "markdown",
   "metadata": {},
   "source": [
    "The maximum and minimum points in the dataset can also be found."
   ]
  },
  {
   "cell_type": "code",
   "execution_count": 77,
   "metadata": {},
   "outputs": [
    {
     "data": {
      "text/plain": [
       "wage       24.98\n",
       "educ        18.0\n",
       "exper       51.0\n",
       "gender         M\n",
       "married     True\n",
       "dtype: object"
      ]
     },
     "execution_count": 77,
     "metadata": {},
     "output_type": "execute_result"
    }
   ],
   "source": [
    "data.max()         # Maximum value of each column"
   ]
  },
  {
   "cell_type": "code",
   "execution_count": 78,
   "metadata": {},
   "outputs": [
    {
     "data": {
      "text/plain": [
       "wage        0.53\n",
       "educ         0.0\n",
       "exper        1.0\n",
       "gender         F\n",
       "married    False\n",
       "dtype: object"
      ]
     },
     "execution_count": 78,
     "metadata": {},
     "output_type": "execute_result"
    }
   ],
   "source": [
    "data.min()         # Minimum value of each colum"
   ]
  },
  {
   "cell_type": "markdown",
   "metadata": {},
   "source": [
    "All the methods above can also be applied to each column (a series) to achieve the statistical measure of a variable, as shown by the following examples."
   ]
  },
  {
   "cell_type": "code",
   "execution_count": 79,
   "metadata": {},
   "outputs": [
    {
     "name": "stdout",
     "output_type": "stream",
     "text": [
      "4.65\n",
      "51.0\n",
      "0.5209125475285171\n"
     ]
    }
   ],
   "source": [
    "print(data['wage'].median())\n",
    "print(data['exper'].max())\n",
    "print((data['gender']=='M').mean())"
   ]
  },
  {
   "cell_type": "markdown",
   "metadata": {},
   "source": [
    "Please note that the last line of code calculates the proportion of males in the dataset. An alternative way to calculate the proportion of each value of a categorical variable is by using the method `value_counts()`. By default, the `value_counts()` function returns a series showing the counts of each unique value of a given series, such as for the series `data['gender']`, the `value_counts()` method returns the counts of values `'M'` and `'F'`. "
   ]
  },
  {
   "cell_type": "code",
   "execution_count": 82,
   "metadata": {},
   "outputs": [
    {
     "data": {
      "text/plain": [
       "M    274\n",
       "F    252\n",
       "Name: gender, dtype: int64"
      ]
     },
     "execution_count": 82,
     "metadata": {},
     "output_type": "execute_result"
    }
   ],
   "source": [
    "data['gender'].value_counts()               # Numbers of males and females"
   ]
  },
  {
   "cell_type": "markdown",
   "metadata": {},
   "source": [
    "The counts can be normalized into proportions by specifying the keyword argument `normalize` to be `True`. "
   ]
  },
  {
   "cell_type": "code",
   "execution_count": 83,
   "metadata": {},
   "outputs": [
    {
     "data": {
      "text/plain": [
       "M    0.520913\n",
       "F    0.479087\n",
       "Name: gender, dtype: float64"
      ]
     },
     "execution_count": 83,
     "metadata": {},
     "output_type": "execute_result"
    }
   ],
   "source": [
    "data['gender'].value_counts(normalize=True) # Proportions of males and females"
   ]
  },
  {
   "cell_type": "markdown",
   "metadata": {},
   "source": [
    "#### The `corr()` and `cov()` methods\n",
    "\n",
    "The `corr()` method returns a data frame that shows the correlation between each pair of variables. "
   ]
  },
  {
   "cell_type": "code",
   "execution_count": 84,
   "metadata": {},
   "outputs": [
    {
     "data": {
      "text/html": [
       "<div>\n",
       "<style scoped>\n",
       "    .dataframe tbody tr th:only-of-type {\n",
       "        vertical-align: middle;\n",
       "    }\n",
       "\n",
       "    .dataframe tbody tr th {\n",
       "        vertical-align: top;\n",
       "    }\n",
       "\n",
       "    .dataframe thead th {\n",
       "        text-align: right;\n",
       "    }\n",
       "</style>\n",
       "<table border=\"1\" class=\"dataframe\">\n",
       "  <thead>\n",
       "    <tr style=\"text-align: right;\">\n",
       "      <th></th>\n",
       "      <th>wage</th>\n",
       "      <th>educ</th>\n",
       "      <th>exper</th>\n",
       "      <th>married</th>\n",
       "    </tr>\n",
       "  </thead>\n",
       "  <tbody>\n",
       "    <tr>\n",
       "      <th>wage</th>\n",
       "      <td>1.000000</td>\n",
       "      <td>0.405903</td>\n",
       "      <td>0.112903</td>\n",
       "      <td>0.228817</td>\n",
       "    </tr>\n",
       "    <tr>\n",
       "      <th>educ</th>\n",
       "      <td>0.405903</td>\n",
       "      <td>1.000000</td>\n",
       "      <td>-0.299542</td>\n",
       "      <td>0.068881</td>\n",
       "    </tr>\n",
       "    <tr>\n",
       "      <th>exper</th>\n",
       "      <td>0.112903</td>\n",
       "      <td>-0.299542</td>\n",
       "      <td>1.000000</td>\n",
       "      <td>0.316984</td>\n",
       "    </tr>\n",
       "    <tr>\n",
       "      <th>married</th>\n",
       "      <td>0.228817</td>\n",
       "      <td>0.068881</td>\n",
       "      <td>0.316984</td>\n",
       "      <td>1.000000</td>\n",
       "    </tr>\n",
       "  </tbody>\n",
       "</table>\n",
       "</div>"
      ],
      "text/plain": [
       "             wage      educ     exper   married\n",
       "wage     1.000000  0.405903  0.112903  0.228817\n",
       "educ     0.405903  1.000000 -0.299542  0.068881\n",
       "exper    0.112903 -0.299542  1.000000  0.316984\n",
       "married  0.228817  0.068881  0.316984  1.000000"
      ]
     },
     "execution_count": 84,
     "metadata": {},
     "output_type": "execute_result"
    }
   ],
   "source": [
    "data.corr()"
   ]
  },
  {
   "cell_type": "markdown",
   "metadata": {},
   "source": [
    "Similarly the `cov()` method returns the covariance between each pair of variables."
   ]
  },
  {
   "cell_type": "code",
   "execution_count": 85,
   "metadata": {},
   "outputs": [
    {
     "data": {
      "text/html": [
       "<div>\n",
       "<style scoped>\n",
       "    .dataframe tbody tr th:only-of-type {\n",
       "        vertical-align: middle;\n",
       "    }\n",
       "\n",
       "    .dataframe tbody tr th {\n",
       "        vertical-align: top;\n",
       "    }\n",
       "\n",
       "    .dataframe thead th {\n",
       "        text-align: right;\n",
       "    }\n",
       "</style>\n",
       "<table border=\"1\" class=\"dataframe\">\n",
       "  <thead>\n",
       "    <tr style=\"text-align: right;\">\n",
       "      <th></th>\n",
       "      <th>wage</th>\n",
       "      <th>educ</th>\n",
       "      <th>exper</th>\n",
       "      <th>married</th>\n",
       "    </tr>\n",
       "  </thead>\n",
       "  <tbody>\n",
       "    <tr>\n",
       "      <th>wage</th>\n",
       "      <td>13.638884</td>\n",
       "      <td>4.150864</td>\n",
       "      <td>5.659076</td>\n",
       "      <td>0.412871</td>\n",
       "    </tr>\n",
       "    <tr>\n",
       "      <th>educ</th>\n",
       "      <td>4.150864</td>\n",
       "      <td>7.667485</td>\n",
       "      <td>-11.257266</td>\n",
       "      <td>0.093188</td>\n",
       "    </tr>\n",
       "    <tr>\n",
       "      <th>exper</th>\n",
       "      <td>5.659076</td>\n",
       "      <td>-11.257266</td>\n",
       "      <td>184.203516</td>\n",
       "      <td>2.101952</td>\n",
       "    </tr>\n",
       "    <tr>\n",
       "      <th>married</th>\n",
       "      <td>0.412871</td>\n",
       "      <td>0.093188</td>\n",
       "      <td>2.101952</td>\n",
       "      <td>0.238711</td>\n",
       "    </tr>\n",
       "  </tbody>\n",
       "</table>\n",
       "</div>"
      ],
      "text/plain": [
       "              wage       educ       exper   married\n",
       "wage     13.638884   4.150864    5.659076  0.412871\n",
       "educ      4.150864   7.667485  -11.257266  0.093188\n",
       "exper     5.659076 -11.257266  184.203516  2.101952\n",
       "married   0.412871   0.093188    2.101952  0.238711"
      ]
     },
     "execution_count": 85,
     "metadata": {},
     "output_type": "execute_result"
    }
   ],
   "source": [
    "data.cov()"
   ]
  },
  {
   "cell_type": "markdown",
   "metadata": {},
   "source": [
    "#### The `describe()` method\n",
    "\n",
    "For `pandas.DataFrame` and `pandas.Series`, the method `describe()` is a convenient tool to summarize some key measures altogether."
   ]
  },
  {
   "cell_type": "code",
   "execution_count": 86,
   "metadata": {},
   "outputs": [
    {
     "name": "stdout",
     "output_type": "stream",
     "text": [
      "             wage        educ      exper\n",
      "count  526.000000  526.000000  526.00000\n",
      "mean     5.896103   12.562738   17.01711\n",
      "std      3.693086    2.769022   13.57216\n",
      "min      0.530000    0.000000    1.00000\n",
      "25%      3.330000   12.000000    5.00000\n",
      "50%      4.650000   12.000000   13.50000\n",
      "75%      6.880000   14.000000   26.00000\n",
      "max     24.980000   18.000000   51.00000\n"
     ]
    }
   ],
   "source": [
    "wage_summary = data.describe()  # Obtain the key descriptive measures \n",
    "print(wage_summary)             # Display these measures as a table"
   ]
  },
  {
   "cell_type": "markdown",
   "metadata": {},
   "source": [
    "The variable `wage_summary` is a `pandas.DataFrame` type object where the row labels are the names of the descriptive measures. \n",
    "\n",
    "Note that rows `25%`, `50%`, and `75%` represent the first (Q1), second(Q2), and third quartiles(Q3), respectively. The value Q3 - Q1 is called the interquartile range (IQR). \n",
    "\n",
    "<img src=\"http://www.brainfuse.com/quizUpload/c_83740/quartiles2.gif\" width=450>\n",
    "\n",
    "Besides methods mentioned above, there are many other methods available for you to calculate descriptive measures via one line of code. You may check [Essential Basic Functionality](https://pandas.pydata.org/pandas-docs/stable/basics.html#descriptive-statistics)\n",
    "\n",
    "### Visualizing data <a id=\"subsection4.2\"></a>\n",
    "\n",
    "In addition to `describe()` and other methods to obtain these numerical measures, Python also provides convenient tools for graphical representations of data characteristics. \n",
    "\n",
    "For example, we may use a boxplot to display the distribution of data based on a five-value summary:\n",
    "1. The \"minimum\" value: Q1 -1.5*IQR, or the actual minimum value\n",
    "2. The first quartile: Q1\n",
    "3. The second quartile, or the median: Q2, \n",
    "4. The third quartile: Q3\n",
    "5. The “maximum” value: Q3 + 1.5*IQR, or the actual maximum value\n",
    "\n",
    "Additionally, it can also show outliers and their values. One illustrative example is given below. An illustration of these five values for a normal distribution case is provided below.\n",
    "<img src=\"https://cdn-images-1.medium.com/max/1600/1*NRlqiZGQdsIyAu0KzP7LaQ.png\" width=500>\n",
    "\n",
    "For the wage data case, we may draw the box plot via the following code."
   ]
  },
  {
   "cell_type": "code",
   "execution_count": 87,
   "metadata": {},
   "outputs": [
    {
     "data": {
      "image/png": "[encoded data removed]",
      "text/plain": [
       "<Figure size 640x480 with 1 Axes>"
      ]
     },
     "metadata": {},
     "output_type": "display_data"
    }
   ],
   "source": [
    "plt.boxplot(data['wage'], vert=False)       # Create a horizontal boxplot\n",
    "plt.xlabel('Hourly wages ($)', fontsize=14) # Label of the x axis\n",
    "plt.show()"
   ]
  },
  {
   "cell_type": "markdown",
   "metadata": {},
   "source": [
    "<div class=\"alert alert-block alert-danger\">\n",
    "<b>Notes:</b>  \n",
    "    </ul>\n",
    "        <li> The \"minimum\" and \"maximum\" in the boxplot may not be the actual minimum and maximum values in the data set. They could be calculated according to the $1.5\\times$IQR rule.</li>\n",
    "        <li> Observations or samples outside of the $1.5\\times$IQR ranges are recognized as \"outliers\", as they are too distant from the other observations. </li>\n",
    "        <li> An outlier may be due to variability in the measurement or it may indicate experimental error; the latter are sometimes excluded from the data set. </li>\n",
    "    </ul>\n",
    "</div>\n",
    "\n",
    "You may compare the box plot and the histogram of the wages below, and see if you can relate each value of the box plot with the distribution of the data set."
   ]
  },
  {
   "cell_type": "code",
   "execution_count": 88,
   "metadata": {
    "scrolled": true
   },
   "outputs": [
    {
     "data": {
      "image/png": "[encoded data removed]",
      "text/plain": [
       "<Figure size 640x480 with 1 Axes>"
      ]
     },
     "metadata": {},
     "output_type": "display_data"
    }
   ],
   "source": [
    "plt.hist(data['wage'], bins=20,     # Histogram of wages with 20 bins\n",
    "         color='b', alpha=0.3);     # Color is blue, opacity is 0.3  \n",
    "plt.xlabel('Hourly wages ($)', fontsize=14)\n",
    "plt.ylabel('Frequency', fontsize=14)\n",
    "plt.show()"
   ]
  },
  {
   "cell_type": "markdown",
   "metadata": {},
   "source": [
    "Besides, we can also visualize the relations between variables using scatter plots. The code cell below shows how the workers' eduction backgrounds affect their hourly wages."
   ]
  },
  {
   "cell_type": "code",
   "execution_count": 89,
   "metadata": {},
   "outputs": [
    {
     "data": {
      "image/png": "[encoded data removed]",
      "text/plain": [
       "<Figure size 640x480 with 1 Axes>"
      ]
     },
     "metadata": {},
     "output_type": "display_data"
    }
   ],
   "source": [
    "plt.scatter(data['educ'], data['wage'], color='b', alpha=0.4)\n",
    "\n",
    "plt.xlabel('Education (Years)', fontsize=14)\n",
    "plt.ylabel('Hourly Salary (Dollars)', fontsize=14)\n",
    "plt.show()"
   ]
  },
  {
   "cell_type": "markdown",
   "metadata": {},
   "source": [
    "<div class=\"alert alert-block alert-info\">\n",
    "<b>Question 2:</b>  \n",
    "    <li> Visualize how workers' potential experiences affect their hourly wages.</li>\n",
    "    <li> Visualize how married male workers' education backgrounds affect their hourly salaries.</li>\n",
    "    <li> Visualize the distribution of female workers' wages.</li>\n",
    "</div>"
   ]
  },
  {
   "cell_type": "code",
   "execution_count": null,
   "metadata": {},
   "outputs": [],
   "source": []
  },
  {
   "cell_type": "code",
   "execution_count": null,
   "metadata": {
    "scrolled": true
   },
   "outputs": [],
   "source": []
  },
  {
   "cell_type": "code",
   "execution_count": null,
   "metadata": {
    "scrolled": true
   },
   "outputs": [],
   "source": []
  }
 ],
 "metadata": {
  "kernelspec": {
   "display_name": "Python 3 (ipykernel)",
   "language": "python",
   "name": "python3"
  },
  "language_info": {
   "codemirror_mode": {
    "name": "ipython",
    "version": 3
   },
   "file_extension": ".py",
   "mimetype": "text/x-python",
   "name": "python",
   "nbconvert_exporter": "python",
   "pygments_lexer": "ipython3",
   "version": "3.9.1"
  },
  "varInspector": {
   "cols": {
    "lenName": 16,
    "lenType": 16,
    "lenVar": 40
   },
   "kernels_config": {
    "python": {
     "delete_cmd_postfix": "",
     "delete_cmd_prefix": "del ",
     "library": "var_list.py",
     "varRefreshCmd": "print(var_dic_list())"
    },
    "r": {
     "delete_cmd_postfix": ") ",
     "delete_cmd_prefix": "rm(",
     "library": "var_list.r",
     "varRefreshCmd": "cat(var_dic_list()) "
    }
   },
   "types_to_exclude": [
    "module",
    "function",
    "builtin_function_or_method",
    "instance",
    "_Feature"
   ],
   "window_display": false
  }
 },
 "nbformat": 4,
 "nbformat_minor": 2
}
