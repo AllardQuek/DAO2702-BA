{
 "cells": [
  {
   "cell_type": "markdown",
   "id": "9d3faaf4",
   "metadata": {},
   "source": [
    "# Sweet NumPy\n",
    "\n",
    "## Contents\n",
    "\n",
    "- [Imports](#section1)\n",
    "- [Array-Representation of Data](#section2)\n",
    "- [The Basics of NumPy Arrays](#section3)\n",
    "    - [Introduction to NumPy arrays](#subsection3.1)\n",
    "    - [Create NumPy arrays](#subsection3.2)\n",
    "    - [Indexing and slicing of arrays](#subsection3.3)\n",
    "- [Array Operations](#section4)\n",
    "    - [Vectorized operations](#subsection4.1)\n",
    "    - [Broadcasting](#subsection4.2)\n",
    "    - [Functions and array methods](#subsection4.3)"
   ]
  },
  {
   "cell_type": "markdown",
   "id": "42a96134",
   "metadata": {},
   "source": [
    " "
   ]
  },
  {
   "cell_type": "markdown",
   "id": "4f86d78a",
   "metadata": {},
   "source": [
    "\n",
    "## Imports <a id=\"section1\"></a>"
   ]
  },
  {
   "cell_type": "code",
   "execution_count": 1,
   "id": "536cdda5",
   "metadata": {},
   "outputs": [],
   "source": [
    "import pandas as pd\n",
    "import matplotlib.pyplot as plt\n",
    "import numpy as np"
   ]
  },
  {
   "cell_type": "markdown",
   "id": "f3a4536c",
   "metadata": {},
   "source": [
    " "
   ]
  },
  {
   "cell_type": "markdown",
   "id": "4acd5f58",
   "metadata": {},
   "source": [
    "## Array-Representation of Data <a id=\"section2\"></a>\n",
    "\n",
    "In computer science, an array data structure, or simply an **array**, is a data structure consisting of a collection of elements (values or variables). These elements can be accessed via array indexes or keys. Apparently, compound data types like `range`, `list`, `tuple`, and `dict` fall into this category and in Python they are also referred to as **array-like** objects. For other data types, like `int`, `float`, `bool`, each object has only a single value. These data types are referred to as **scalars**.\n",
    "\n",
    "The table below is an example of a **one-dimensional** array which represents the stock price of Amazon (AMZN) in six days. \n",
    "\n",
    "|0|1|2|3|4|5|\n",
    "|---:|---:|---:|---:|---:|---:|\n",
    "|170.40| 167.52| 164.36| 163.25| 162.55| 161.49|\n",
    "\n",
    "\n",
    "The characteristics of one-dimensional arrays are summarized as follows:\n",
    "- The shape of the array is determined by the length, which is six.\n",
    "- The number of data items in the array is the same as the length.\n",
    "- Data items in the array can be accessed by one integer index or one slicing expression. \n",
    "\n",
    "Such a data array structure can be extended to a **two-dimensional** case. The table below is a two-dimensional array, which shows the stock prices of Amazon, Google, and Tesla in six days. \n",
    "\n",
    "| |0|1|2|\n",
    "---:|---:|---:|---:|\n",
    "**0**|170.40|2901.49|1199.78|\n",
    "**1**|167.52|2888.33|1149.59|\n",
    "**2**|164.36|2753.07|1088.12|\n",
    "**3**|163.36|2751.02|1064.70|\n",
    "**4**|162.55|2740.09|1026.96|\n",
    "**5**|161.49|2771.48|1058.12|\n",
    "\n",
    "Similar to the one-dimensional case, the characteristics of two-dimensional arrays are:\n",
    "- The shape of the array is indicated by the row number and column number of the array.\n",
    "- The number of data items is expressed as the row number times the column number. \n",
    "- Data items in the array are accessed by the row indexes and the column indexes. \n",
    "\n",
    "From these two examples, we generalize the features of an N-dimensional array below.\n",
    "\n",
    "|Dimension Number | Shape | Indexing | Number of Items |\n",
    "|:----|:------|:------|:-----|\n",
    "| 1 | length | one index | length |\n",
    "| 2 | rows and columns | row index and column index | row $\\times$ column |\n",
    "| 3 | height and width and thickness | indexes for height, width, and thickness | height $\\times$ width $\\times$ thickness |\n",
    "| $\\vdots$ | $\\vdots$ | $\\vdots$ | $\\vdots$|\n",
    "\n",
    "The structure of an N-dimensional array can be summarized as:\n",
    "- The shape of the array is expressed as N integers. \n",
    "- The number of data items is calculated as the product of all dimension integers. \n",
    "- Data items in the array are accessed by N indexes. \n",
    "\n",
    "Please note that these N dimensions are also referred to as N **axes**, so they are named as axis 0, axis 1, axis 2, ..., as shown by the graph below. \n",
    "\n",
    "<img src=\"https://predictivehacks.com/wp-content/uploads/2020/08/numpy_arrays.png\" width=500>\n",
    "\n",
    "## The Basics of NumPy Arrays <a id=\"section3\"></a>\n",
    "\n",
    "### Introduction to NumPy arrays <a id=\"subsection3.1\"></a>\n",
    "NumPy (short for Numerical Python) is a widely used package for scientific computing and it provides\n",
    "a data type called `numpy.ndarray` to efficiently store and operate data formatted as arrays of any dimension. \n",
    "\n",
    "Data structures like the series and data frames imported from the Pandas package are built on top of NumPy arrays, that is why these arrays are like Pandas data objects with their labels stripped. \n",
    "\n",
    "<div class=\"alert alert-block alert-success\" style='text-height:1.2'>\n",
    "<b>Example 1:</b> The \"stocks2.csv\" dataset provides the daily market prices of five stocks in the first six days of 2022. Explore the price data as one and two-dimensional arrays.\n",
    "</div>"
   ]
  },
  {
   "cell_type": "code",
   "execution_count": 2,
   "id": "b4cd74f0",
   "metadata": {
    "scrolled": true
   },
   "outputs": [
    {
     "data": {
      "text/html": [
       "<div>\n",
       "<style scoped>\n",
       "    .dataframe tbody tr th:only-of-type {\n",
       "        vertical-align: middle;\n",
       "    }\n",
       "\n",
       "    .dataframe tbody tr th {\n",
       "        vertical-align: top;\n",
       "    }\n",
       "\n",
       "    .dataframe thead th {\n",
       "        text-align: right;\n",
       "    }\n",
       "</style>\n",
       "<table border=\"1\" class=\"dataframe\">\n",
       "  <thead>\n",
       "    <tr style=\"text-align: right;\">\n",
       "      <th></th>\n",
       "      <th>AAPL</th>\n",
       "      <th>AMZN</th>\n",
       "      <th>GOOG</th>\n",
       "      <th>TSLA</th>\n",
       "      <th>NFLX</th>\n",
       "    </tr>\n",
       "  </thead>\n",
       "  <tbody>\n",
       "    <tr>\n",
       "      <th>0</th>\n",
       "      <td>181.51</td>\n",
       "      <td>170.40</td>\n",
       "      <td>2901.49</td>\n",
       "      <td>1199.78</td>\n",
       "      <td>597.37</td>\n",
       "    </tr>\n",
       "    <tr>\n",
       "      <th>1</th>\n",
       "      <td>179.21</td>\n",
       "      <td>167.52</td>\n",
       "      <td>2888.33</td>\n",
       "      <td>1149.59</td>\n",
       "      <td>591.15</td>\n",
       "    </tr>\n",
       "    <tr>\n",
       "      <th>2</th>\n",
       "      <td>174.44</td>\n",
       "      <td>164.36</td>\n",
       "      <td>2753.07</td>\n",
       "      <td>1088.12</td>\n",
       "      <td>567.52</td>\n",
       "    </tr>\n",
       "    <tr>\n",
       "      <th>3</th>\n",
       "      <td>171.53</td>\n",
       "      <td>163.25</td>\n",
       "      <td>2751.02</td>\n",
       "      <td>1064.70</td>\n",
       "      <td>553.29</td>\n",
       "    </tr>\n",
       "    <tr>\n",
       "      <th>4</th>\n",
       "      <td>171.70</td>\n",
       "      <td>162.55</td>\n",
       "      <td>2740.09</td>\n",
       "      <td>1026.96</td>\n",
       "      <td>541.06</td>\n",
       "    </tr>\n",
       "    <tr>\n",
       "      <th>5</th>\n",
       "      <td>171.72</td>\n",
       "      <td>161.49</td>\n",
       "      <td>2771.48</td>\n",
       "      <td>1058.12</td>\n",
       "      <td>539.85</td>\n",
       "    </tr>\n",
       "  </tbody>\n",
       "</table>\n",
       "</div>"
      ],
      "text/plain": [
       "     AAPL    AMZN     GOOG     TSLA    NFLX\n",
       "0  181.51  170.40  2901.49  1199.78  597.37\n",
       "1  179.21  167.52  2888.33  1149.59  591.15\n",
       "2  174.44  164.36  2753.07  1088.12  567.52\n",
       "3  171.53  163.25  2751.02  1064.70  553.29\n",
       "4  171.70  162.55  2740.09  1026.96  541.06\n",
       "5  171.72  161.49  2771.48  1058.12  539.85"
      ]
     },
     "execution_count": 2,
     "metadata": {},
     "output_type": "execute_result"
    }
   ],
   "source": [
    "stocks = pd.read_csv('stocks2.csv')\n",
    "stocks"
   ]
  },
  {
   "cell_type": "markdown",
   "id": "7c17f5fa",
   "metadata": {},
   "source": [
    "In previous lectures, we learned that a series is a one-dimensional data structure, so here we take one column of the dataset and use the `values` attribute to access the data as a one-dimensional array."
   ]
  },
  {
   "cell_type": "code",
   "execution_count": 3,
   "id": "e48fecae",
   "metadata": {},
   "outputs": [
    {
     "data": {
      "text/plain": [
       "array([170.4 , 167.52, 164.36, 163.25, 162.55, 161.49])"
      ]
     },
     "execution_count": 3,
     "metadata": {},
     "output_type": "execute_result"
    }
   ],
   "source": [
    "data_1d = stocks['AMZN'].values\n",
    "data_1d"
   ]
  },
  {
   "cell_type": "markdown",
   "id": "1971143b",
   "metadata": {},
   "source": [
    "Similarly, values in the data frame as a two-dimensional data structure can be accessed via the `values` attribute, where the result is a two-dimensional array. "
   ]
  },
  {
   "cell_type": "code",
   "execution_count": 4,
   "id": "255af593",
   "metadata": {
    "scrolled": false
   },
   "outputs": [
    {
     "data": {
      "text/plain": [
       "array([[ 181.51,  170.4 , 2901.49, 1199.78,  597.37],\n",
       "       [ 179.21,  167.52, 2888.33, 1149.59,  591.15],\n",
       "       [ 174.44,  164.36, 2753.07, 1088.12,  567.52],\n",
       "       [ 171.53,  163.25, 2751.02, 1064.7 ,  553.29],\n",
       "       [ 171.7 ,  162.55, 2740.09, 1026.96,  541.06],\n",
       "       [ 171.72,  161.49, 2771.48, 1058.12,  539.85]])"
      ]
     },
     "execution_count": 4,
     "metadata": {},
     "output_type": "execute_result"
    }
   ],
   "source": [
    "data_2d = stocks.values\n",
    "data_2d"
   ]
  },
  {
   "cell_type": "markdown",
   "id": "b5df5dc3",
   "metadata": {},
   "source": [
    "Both arrays are `numpy.ndarray` type objects, as shown by the following code segment. "
   ]
  },
  {
   "cell_type": "code",
   "execution_count": 5,
   "id": "f3379fa7",
   "metadata": {
    "scrolled": true
   },
   "outputs": [
    {
     "name": "stdout",
     "output_type": "stream",
     "text": [
      "<class 'numpy.ndarray'>\n",
      "<class 'numpy.ndarray'>\n"
     ]
    }
   ],
   "source": [
    "print(type(data_1d))\n",
    "print(type(data_2d))"
   ]
  },
  {
   "cell_type": "markdown",
   "id": "effed620",
   "metadata": {},
   "source": [
    "It can be seen that a one-dimensional array is similar to a list, while a two-dimensional array has a nested structure that consists of rows and each row is a one-dimensional array. \n",
    "\n",
    "We further compare one and two-dimensional arrays according to a few key attributes."
   ]
  },
  {
   "cell_type": "code",
   "execution_count": 6,
   "id": "0053979b",
   "metadata": {
    "cell_style": "split",
    "scrolled": false
   },
   "outputs": [
    {
     "name": "stdout",
     "output_type": "stream",
     "text": [
      "Array dimensions: 1\n",
      "Array shape:      (6,)\n",
      "Array size:       6\n",
      "Array data type:  float64\n"
     ]
    }
   ],
   "source": [
    "print(f'Array dimensions: {data_1d.ndim}')\n",
    "print(f'Array shape:      {data_1d.shape}')\n",
    "print(f'Array size:       {data_1d.size}')\n",
    "print(f'Array data type:  {data_1d.dtype}')"
   ]
  },
  {
   "cell_type": "code",
   "execution_count": 7,
   "id": "46b00b6b",
   "metadata": {
    "cell_style": "split"
   },
   "outputs": [
    {
     "name": "stdout",
     "output_type": "stream",
     "text": [
      "Array dimensions: 2\n",
      "Array shape:      (6, 5)\n",
      "Array size:       30\n",
      "Array data type:  float64\n"
     ]
    }
   ],
   "source": [
    "print(f'Array dimensions: {data_2d.ndim}')\n",
    "print(f'Array shape:      {data_2d.shape}')\n",
    "print(f'Array size:       {data_2d.size}')\n",
    "print(f'Array data type:  {data_2d.dtype}')"
   ]
  },
  {
   "cell_type": "markdown",
   "id": "32787d79",
   "metadata": {},
   "source": [
    "These attributes provide important information on data arrays, in terms of:\n",
    "- `ndim`: the dimension number of the array.\n",
    "- `shape`: the shape of the array, given as a tuple.\n",
    "- `size`: the total number of data items. \n",
    "- `dtype`: the data type of all data items. Here, `float64` is almost equivalent to `float`, indicates floating point numbers.\n",
    "\n",
    "Please note that the NumPy arrays are homogeneous (similar to Pandas series), so the data type `dtype` applies to all data items. \n",
    "\n",
    "Also note that the Pandas series and data frames are data structures built on top of NumPy arrays, so the attributes `ndim`, `shape`, and `size` also apply to series and data frames."
   ]
  },
  {
   "cell_type": "code",
   "execution_count": 8,
   "id": "4f1f274f",
   "metadata": {
    "scrolled": false
   },
   "outputs": [
    {
     "name": "stdout",
     "output_type": "stream",
     "text": [
      "Array dimensions: 1\n",
      "Array shape:      (6,)\n",
      "Array size:       6\n"
     ]
    }
   ],
   "source": [
    "print(f'Array dimensions: {stocks[\"AMZN\"].ndim}')\n",
    "print(f'Array shape:      {stocks[\"AMZN\"].shape}')\n",
    "print(f'Array size:       {stocks[\"AMZN\"].size}')"
   ]
  },
  {
   "cell_type": "code",
   "execution_count": 9,
   "id": "dc328735",
   "metadata": {},
   "outputs": [
    {
     "name": "stdout",
     "output_type": "stream",
     "text": [
      "Array dimensions: 2\n",
      "Array shape:      (6, 5)\n",
      "Array size:       30\n"
     ]
    }
   ],
   "source": [
    "print(f'Array dimensions: {stocks.ndim}')\n",
    "print(f'Array shape:      {stocks.shape}')\n",
    "print(f'Array size:       {stocks.size}')"
   ]
  },
  {
   "cell_type": "markdown",
   "id": "43b080bc",
   "metadata": {},
   "source": [
    "### Create NumPy arrays <a id=\"subsection3.2\"></a>\n",
    "\n",
    "#### Function `numpy.array()`\n",
    "\n",
    "NumPy arrays can be created using the `numpy.array()` function from any iterable type objects, such as a list, or a tuple. The following code cell creates a one-dimensional array and a two-dimensional array."
   ]
  },
  {
   "cell_type": "code",
   "execution_count": 10,
   "id": "e7125320",
   "metadata": {},
   "outputs": [],
   "source": [
    "array_1d = np.array([61, 52.5, 71, 32.5, 68, 64])   # This is a 1D array\n",
    "array_2d = np.array([[18, 26, 17], \n",
    "                     [25, 15.5, 12], \n",
    "                     [24, 27, 20],\n",
    "                     [10, 5.5, 17],\n",
    "                     [27, 26, 15],\n",
    "                     [22, 21, 21]])                 # This is a 2D array"
   ]
  },
  {
   "cell_type": "markdown",
   "id": "edb06824",
   "metadata": {},
   "source": [
    "Note that the two dimensional array is created from a nested list, where each row of the array is represented by each inner list. Check the key attribute below."
   ]
  },
  {
   "cell_type": "code",
   "execution_count": 11,
   "id": "ad1d17d9",
   "metadata": {
    "cell_style": "split"
   },
   "outputs": [
    {
     "name": "stdout",
     "output_type": "stream",
     "text": [
      "Array dimensions: 1\n",
      "Array shape:      (6,)\n",
      "Array size:       6\n",
      "Array data type:  float64\n"
     ]
    }
   ],
   "source": [
    "print(f'Array dimensions: {array_1d.ndim}')\n",
    "print(f'Array shape:      {array_1d.shape}')\n",
    "print(f'Array size:       {array_1d.size}')\n",
    "print(f'Array data type:  {array_1d.dtype}')"
   ]
  },
  {
   "cell_type": "code",
   "execution_count": 12,
   "id": "7601cc92",
   "metadata": {
    "cell_style": "split"
   },
   "outputs": [
    {
     "name": "stdout",
     "output_type": "stream",
     "text": [
      "Array dimensions: 2\n",
      "Array shape:      (6, 3)\n",
      "Array size:       18\n",
      "Array data type:  float64\n"
     ]
    }
   ],
   "source": [
    "print(f'Array dimensions: {array_2d.ndim}')\n",
    "print(f'Array shape:      {array_2d.shape}')\n",
    "print(f'Array size:       {array_2d.size}')\n",
    "print(f'Array data type:  {array_2d.dtype}')"
   ]
  },
  {
   "cell_type": "markdown",
   "id": "09fd86ac",
   "metadata": {},
   "source": [
    "#### Arrays of ones and zeros\n",
    "\n",
    "In some applications, we may want to create arrays with all items to be ones or zeros. Such arrays can be created by the `ones()` and `zeros()` functions imported from the `numpy` package. "
   ]
  },
  {
   "cell_type": "code",
   "execution_count": 13,
   "id": "e74ae89d",
   "metadata": {},
   "outputs": [
    {
     "data": {
      "text/plain": [
       "array([1., 1., 1., 1., 1.])"
      ]
     },
     "execution_count": 13,
     "metadata": {},
     "output_type": "execute_result"
    }
   ],
   "source": [
    "ones_1d = np.ones(5)\n",
    "ones_1d"
   ]
  },
  {
   "cell_type": "code",
   "execution_count": 14,
   "id": "4407a664",
   "metadata": {
    "scrolled": true
   },
   "outputs": [
    {
     "data": {
      "text/plain": [
       "array([[0., 0., 0., 0.],\n",
       "       [0., 0., 0., 0.],\n",
       "       [0., 0., 0., 0.]])"
      ]
     },
     "execution_count": 14,
     "metadata": {},
     "output_type": "execute_result"
    }
   ],
   "source": [
    "zeros_2d = np.zeros((3, 4))\n",
    "zeros_2d"
   ]
  },
  {
   "cell_type": "markdown",
   "id": "7ebd01f3",
   "metadata": {},
   "source": [
    "For both functions, we need to use the first argument `shape` to specify the shape of the created array. \n",
    "\n",
    "#### Function `arange()`\n",
    "\n",
    "The `arange()` function imported from the `numpy` package creates sequences of numbers. The `arange()` function is very similar to the `range` function we learned in previous lectures. A sequence of numbers are generated according to the values of the `start`, `stop`, and `step` arguments, and the same default values could be applied to these arguments if they are unspecified. The only differences are 1) the output is an `numpy.ndarray` type object; and 2) numbers in the array could be fractional numbers but the `range` function only allows integers. Check the examples below."
   ]
  },
  {
   "cell_type": "code",
   "execution_count": 15,
   "id": "630c2c4f",
   "metadata": {
    "scrolled": true
   },
   "outputs": [
    {
     "data": {
      "text/plain": [
       "array([2. , 2.5, 3. , 3.5, 4. , 4.5])"
      ]
     },
     "execution_count": 15,
     "metadata": {},
     "output_type": "execute_result"
    }
   ],
   "source": [
    "range_array = np.arange(2, 5, 0.5)\n",
    "range_array"
   ]
  },
  {
   "cell_type": "markdown",
   "id": "b6126b6e",
   "metadata": {},
   "source": [
    "The `np.arange()` number sequences are typically used in data visualization. We will discuss such examples in the next section.\n",
    "\n",
    "### Indexing and slicing of arrays <a id=\"subsection3.3\"></a>\n",
    "\n",
    "The indexing and slicing of one-dimensional arrays are very similar to Python lists. Check the examples below."
   ]
  },
  {
   "cell_type": "code",
   "execution_count": 16,
   "id": "9ba5a72a",
   "metadata": {},
   "outputs": [],
   "source": [
    "array_1d = np.array([61, 52.5, 71, 32.5, 68, 64])"
   ]
  },
  {
   "cell_type": "code",
   "execution_count": 17,
   "id": "b3b3a5c3",
   "metadata": {},
   "outputs": [
    {
     "name": "stdout",
     "output_type": "stream",
     "text": [
      "52.5\n",
      "[71.  32.5 68.  64. ]\n",
      "[61.  32.5]\n"
     ]
    }
   ],
   "source": [
    "print(array_1d[1])\n",
    "print(array_1d[2:])\n",
    "print(array_1d[::3])"
   ]
  },
  {
   "cell_type": "markdown",
   "id": "4823dd98",
   "metadata": {},
   "source": [
    "For N-dimensional arrays, we need N indexes or slicing expressions in the same brackets separated by commas to access items in the array. Take the two-dimensional array below for example, items in the array are accessed by the row and column indexes. "
   ]
  },
  {
   "cell_type": "code",
   "execution_count": 18,
   "id": "aa6d3732",
   "metadata": {},
   "outputs": [],
   "source": [
    "array_2d = np.array([[18, 26, 17], \n",
    "                     [25, 15.5, 12], \n",
    "                     [24, 27, 20],\n",
    "                     [10, 5.5, 17],\n",
    "                     [27, 26, 15],\n",
    "                     [22, 21, 21]])"
   ]
  },
  {
   "cell_type": "code",
   "execution_count": 19,
   "id": "339fc256",
   "metadata": {},
   "outputs": [
    {
     "name": "stdout",
     "output_type": "stream",
     "text": [
      "[[ 5.5 17. ]\n",
      " [26.  15. ]]\n",
      "[[26.  17. ]\n",
      " [27.  20. ]\n",
      " [15.5 12. ]]\n",
      "[[15. 26. 27.]\n",
      " [21. 21. 22.]]\n"
     ]
    }
   ],
   "source": [
    "print(array_2d[3:5, 1:])\n",
    "print(array_2d[[0, 2, 1], 1:])\n",
    "print(array_2d[-2:, ::-1])"
   ]
  },
  {
   "cell_type": "markdown",
   "id": "02a82da3",
   "metadata": {},
   "source": [
    "Note that the NumPy arrays are similar to Pandas data frames: if the column index is not specified, the indexing or slicing expression takes all columns. "
   ]
  },
  {
   "cell_type": "code",
   "execution_count": 20,
   "id": "a5ec689b",
   "metadata": {},
   "outputs": [
    {
     "name": "stdout",
     "output_type": "stream",
     "text": [
      "[[24. 27. 20.]]\n"
     ]
    }
   ],
   "source": [
    "print(array_2d[2:3])"
   ]
  },
  {
   "cell_type": "markdown",
   "id": "8fd057e4",
   "metadata": {},
   "source": [
    "Besides, NumPy arrays are mutable, so we can change the values of a selected subset of arrays. \n",
    "\n",
    "## Array Operations <a id=\"section4\"></a>\n",
    "\n",
    "### Vectorized operations <a id=\"subsection4.1\"></a>\n",
    "\n",
    "In previous lectures, we used `for` loops to conduct repeated calculations on data items in an iterable data object. However, this method is hard to read and takes more execution time. The NumPy package provides a convenient interface known as **vectorized operations** for performing repeated operations on all elements in an array without using loops. Check the examples below. "
   ]
  },
  {
   "cell_type": "code",
   "execution_count": 21,
   "id": "9e1698cf",
   "metadata": {},
   "outputs": [],
   "source": [
    "array_2d = np.array([[1, 2],    \n",
    "                     [2, 3.5],     \n",
    "                     [5, 6.5]])"
   ]
  },
  {
   "cell_type": "code",
   "execution_count": 22,
   "id": "0c6eec4b",
   "metadata": {
    "scrolled": true
   },
   "outputs": [
    {
     "name": "stdout",
     "output_type": "stream",
     "text": [
      "[[4.  5. ]\n",
      " [5.  6.5]\n",
      " [8.  9.5]]\n",
      "[[ 2.  4.]\n",
      " [ 4.  7.]\n",
      " [10. 13.]]\n",
      "[[ 2.  4.]\n",
      " [ 4.  7.]\n",
      " [10. 13.]]\n",
      "[[ 1.    4.  ]\n",
      " [ 4.   12.25]\n",
      " [25.   42.25]]\n"
     ]
    }
   ],
   "source": [
    "print(array_2d + 3)             # Add one scalar to each element\n",
    "print(array_2d * 2)             # Each element is multiplied by a scalar\n",
    "print(array_2d + array_2d)      # Element-wise addition\n",
    "print(array_2d * array_2d)      # Element-wise multiplication"
   ]
  },
  {
   "cell_type": "markdown",
   "id": "025ce64d",
   "metadata": {},
   "source": [
    "It can be seen that the arithmetic operations are automatically applied to all elements in the given arrays, though no `for` loop is used here. More specifically:\n",
    "- The calculation between a scalar and an array is equivalent to the calculation between the scalar and each element in the array.\n",
    "- The calculation between an array and another array is equivalent to element-wise calculation, i.e., calculations between elements at the same position in these two arrays. \n",
    "\n",
    "<div class=\"alert alert-block alert-success\" style='text-height:1.2'>\n",
    "    <b>Example 2:</b> <span style='font-family:Courier'><b>usd</b></span> is a list containing four money transactions in US dollars. Transfer each transaction into Singapore dollars. \n",
    "</div>"
   ]
  },
  {
   "cell_type": "code",
   "execution_count": 23,
   "id": "d5c40a86",
   "metadata": {},
   "outputs": [],
   "source": [
    "usd = [2, 3.60, 2.05, 13.50]\n",
    "exchange_rate = 1.37"
   ]
  },
  {
   "cell_type": "markdown",
   "id": "383ec8b2",
   "metadata": {},
   "source": [
    "Besides using a `for` loop, we could also create an array of money transactions, and then multiply items in the array using vectorized calculation. "
   ]
  },
  {
   "cell_type": "code",
   "execution_count": 24,
   "id": "db00434e",
   "metadata": {},
   "outputs": [
    {
     "name": "stdout",
     "output_type": "stream",
     "text": [
      "[ 2.74    4.932   2.8085 18.495 ]\n"
     ]
    }
   ],
   "source": [
    "usd_array = np.array(usd)               # Create an array from the list\n",
    "sgd_array = usd_array * exchange_rate   # Element-wise multiplication\n",
    "\n",
    "print(sgd_array)"
   ]
  },
  {
   "cell_type": "markdown",
   "id": "01f0e58f",
   "metadata": {},
   "source": [
    "Compared with using a `for` loop or list comprehension, as we discussed in previous lectures, using NumPy arrays is:\n",
    "\n",
    "- More concise;\n",
    "- Easier to read;\n",
    "- Faster to execute, especially for arrays with huge number of items.\n",
    "\n",
    "<div class=\"alert alert-block alert-success\" style='text-height:1.2'>\n",
    "    <b>Example 3:</b> Use the data file \"simpson.csv\" to plot the <b>clustered bar chart</b> for the fatality rates of Covid-19 in China and Italy.\n",
    "</div>"
   ]
  },
  {
   "cell_type": "code",
   "execution_count": 25,
   "id": "673f85c8",
   "metadata": {},
   "outputs": [
    {
     "data": {
      "text/html": [
       "<div>\n",
       "<style scoped>\n",
       "    .dataframe tbody tr th:only-of-type {\n",
       "        vertical-align: middle;\n",
       "    }\n",
       "\n",
       "    .dataframe tbody tr th {\n",
       "        vertical-align: top;\n",
       "    }\n",
       "\n",
       "    .dataframe thead th {\n",
       "        text-align: right;\n",
       "    }\n",
       "</style>\n",
       "<table border=\"1\" class=\"dataframe\">\n",
       "  <thead>\n",
       "    <tr style=\"text-align: right;\">\n",
       "      <th></th>\n",
       "      <th>Age group</th>\n",
       "      <th>China</th>\n",
       "      <th>Italy</th>\n",
       "    </tr>\n",
       "  </thead>\n",
       "  <tbody>\n",
       "    <tr>\n",
       "      <th>0</th>\n",
       "      <td>0-9</td>\n",
       "      <td>0.000000</td>\n",
       "      <td>0.000000</td>\n",
       "    </tr>\n",
       "    <tr>\n",
       "      <th>1</th>\n",
       "      <td>Oct-19</td>\n",
       "      <td>0.182149</td>\n",
       "      <td>0.000000</td>\n",
       "    </tr>\n",
       "    <tr>\n",
       "      <th>2</th>\n",
       "      <td>20-29</td>\n",
       "      <td>0.193424</td>\n",
       "      <td>0.000000</td>\n",
       "    </tr>\n",
       "    <tr>\n",
       "      <th>3</th>\n",
       "      <td>30-39</td>\n",
       "      <td>0.236842</td>\n",
       "      <td>0.000000</td>\n",
       "    </tr>\n",
       "    <tr>\n",
       "      <th>4</th>\n",
       "      <td>40-49</td>\n",
       "      <td>0.443356</td>\n",
       "      <td>0.112233</td>\n",
       "    </tr>\n",
       "    <tr>\n",
       "      <th>5</th>\n",
       "      <td>50-59</td>\n",
       "      <td>1.298961</td>\n",
       "      <td>0.206469</td>\n",
       "    </tr>\n",
       "    <tr>\n",
       "      <th>6</th>\n",
       "      <td>60-69</td>\n",
       "      <td>3.600140</td>\n",
       "      <td>2.515296</td>\n",
       "    </tr>\n",
       "    <tr>\n",
       "      <th>7</th>\n",
       "      <td>70-79</td>\n",
       "      <td>7.963247</td>\n",
       "      <td>6.386555</td>\n",
       "    </tr>\n",
       "    <tr>\n",
       "      <th>8</th>\n",
       "      <td>80+</td>\n",
       "      <td>14.772727</td>\n",
       "      <td>13.185379</td>\n",
       "    </tr>\n",
       "    <tr>\n",
       "      <th>9</th>\n",
       "      <td>total</td>\n",
       "      <td>2.290025</td>\n",
       "      <td>4.448044</td>\n",
       "    </tr>\n",
       "  </tbody>\n",
       "</table>\n",
       "</div>"
      ],
      "text/plain": [
       "  Age group      China      Italy\n",
       "0       0-9   0.000000   0.000000\n",
       "1    Oct-19   0.182149   0.000000\n",
       "2     20-29   0.193424   0.000000\n",
       "3     30-39   0.236842   0.000000\n",
       "4     40-49   0.443356   0.112233\n",
       "5     50-59   1.298961   0.206469\n",
       "6     60-69   3.600140   2.515296\n",
       "7     70-79   7.963247   6.386555\n",
       "8       80+  14.772727  13.185379\n",
       "9     total   2.290025   4.448044"
      ]
     },
     "execution_count": 25,
     "metadata": {},
     "output_type": "execute_result"
    }
   ],
   "source": [
    "simpson = pd.read_csv('simpson.csv')\n",
    "simpson"
   ]
  },
  {
   "cell_type": "code",
   "execution_count": 26,
   "id": "18c032b8",
   "metadata": {},
   "outputs": [
    {
     "data": {
      "image/png": "[encoded data removed]",
      "text/plain": [
       "<Figure size 700x400 with 1 Axes>"
      ]
     },
     "metadata": {},
     "output_type": "display_data"
    }
   ],
   "source": [
    "xdata = np.arange(simpson.shape[0])\n",
    "width = 0.4\n",
    "\n",
    "plt.figure(figsize=(7, 4))\n",
    "plt.title('Case fatality rates (CFRs) by age group', fontsize=14)\n",
    "plt.bar(xdata - width*0.5, simpson['China'], \n",
    "        width=width, label='China, 17 February')\n",
    "plt.bar(xdata + width*0.5, simpson['Italy'], \n",
    "        width=width, label='Italy, 9 March')\n",
    "plt.xticks(xdata, simpson['Age group'])\n",
    "plt.legend(fontsize=12)\n",
    "plt.xlabel('Age groups', fontsize=14)\n",
    "plt.ylabel('Fatality rate (%)', fontsize=14)\n",
    "plt.show()"
   ]
  },
  {
   "cell_type": "markdown",
   "id": "43f8850a",
   "metadata": {},
   "source": [
    "The steps for creating the clustered bar chart above:\n",
    "1. Creating an array of the x-data using the `np.arange()` function.\n",
    "2. Plot the bar charts for both (or all) groups with proper values of shifts.\n",
    "3. Replace the numerical x-ticks by an array of labels.\n",
    "\n",
    "<div class=\"alert alert-block alert-info\" style=\"text-height:1.2\">\n",
    "    <b>Question 1:</b> Given the two-dimensional array <span style='font-family:Courier'><b>price</b></span>, calculate the daily rate of return of each stock. The daily rate of return is expressed as: <br>\n",
    "    $$R_{ti} = \\frac{p_{ti}-p_{(t-1)i}}{p_{(t-1)i}} \\times 100\\%,$$\n",
    "    where the subscript $t$ is index of days, and $i$ is the index of stocks. \n",
    "</div>"
   ]
  },
  {
   "cell_type": "code",
   "execution_count": 27,
   "id": "8a3c95a6",
   "metadata": {
    "scrolled": true
   },
   "outputs": [
    {
     "name": "stdout",
     "output_type": "stream",
     "text": [
      "[[ 181.51  170.4  2901.49 1199.78  597.37]\n",
      " [ 179.21  167.52 2888.33 1149.59  591.15]\n",
      " [ 174.44  164.36 2753.07 1088.12  567.52]\n",
      " [ 171.53  163.25 2751.02 1064.7   553.29]\n",
      " [ 171.7   162.55 2740.09 1026.96  541.06]\n",
      " [ 171.72  161.49 2771.48 1058.12  539.85]]\n"
     ]
    }
   ],
   "source": [
    "price = stocks.values\n",
    "print(price)"
   ]
  },
  {
   "cell_type": "code",
   "execution_count": null,
   "id": "e9f59f32",
   "metadata": {
    "scrolled": true
   },
   "outputs": [],
   "source": []
  },
  {
   "cell_type": "markdown",
   "id": "fbe66c87",
   "metadata": {},
   "source": [
    "### Broadcasting <a id=\"subsection4.2\"></a>\n",
    "\n",
    "In the previous subsection, we have discussed arithmetic operations on \n",
    "1. A scalar and an arbitrary shape array;\n",
    "2. Two arrays with the same shape.\n",
    "\n",
    "Some special cases of arithmetic operations between arrays with different shapes are allowed in NumPy. Such operations follow the rules referred to as **broadcasting**. You can think broadcasting as to duplicate or to \"broadcast\" the smaller array across the larger array so that they have compatible shapes, then the element-wise calculations can be conducted. A few examples are given below.\n",
    "\n",
    "<img src=\"https://www.astroml.org/_images/fig_broadcast_visual_1.png\" width=500pt>"
   ]
  },
  {
   "cell_type": "code",
   "execution_count": 28,
   "id": "cdf02375",
   "metadata": {},
   "outputs": [
    {
     "data": {
      "text/plain": [
       "array([5, 6, 7])"
      ]
     },
     "execution_count": 28,
     "metadata": {},
     "output_type": "execute_result"
    }
   ],
   "source": [
    "np.arange(3) + 5"
   ]
  },
  {
   "cell_type": "code",
   "execution_count": 29,
   "id": "153ca00c",
   "metadata": {},
   "outputs": [
    {
     "data": {
      "text/plain": [
       "array([[1., 2., 3.],\n",
       "       [1., 2., 3.],\n",
       "       [1., 2., 3.]])"
      ]
     },
     "execution_count": 29,
     "metadata": {},
     "output_type": "execute_result"
    }
   ],
   "source": [
    "np.ones((3, 3)) + np.arange(3)"
   ]
  },
  {
   "cell_type": "code",
   "execution_count": 30,
   "id": "9f0420d2",
   "metadata": {
    "scrolled": true
   },
   "outputs": [
    {
     "data": {
      "text/plain": [
       "array([[0, 1, 2],\n",
       "       [1, 2, 3],\n",
       "       [2, 3, 4]])"
      ]
     },
     "execution_count": 30,
     "metadata": {},
     "output_type": "execute_result"
    }
   ],
   "source": [
    "np.arange(3).reshape((3, 1)) + np.arange(3)"
   ]
  },
  {
   "cell_type": "markdown",
   "id": "2b3e39ef",
   "metadata": {},
   "source": [
    "Besides the addition operator, the idea of broadcasting can be applied to other arithmetic operators such as multiplication, division, power, etc. \n",
    "\n",
    "In the code segment above, the `reshape()` method is used to create a new array with the same element values but different shape. Check the examples below."
   ]
  },
  {
   "cell_type": "code",
   "execution_count": 31,
   "id": "44834fa0",
   "metadata": {
    "scrolled": true
   },
   "outputs": [
    {
     "name": "stdout",
     "output_type": "stream",
     "text": [
      "[0 1 2 3 4 5 6 7 8 9]\n",
      "(10,)\n"
     ]
    }
   ],
   "source": [
    "x_array = np.arange(10)\n",
    "print(x_array)\n",
    "print(x_array.shape)"
   ]
  },
  {
   "cell_type": "code",
   "execution_count": 32,
   "id": "e07af499",
   "metadata": {},
   "outputs": [
    {
     "name": "stdout",
     "output_type": "stream",
     "text": [
      "[[0 1 2 3 4]\n",
      " [5 6 7 8 9]]\n",
      "(2, 5)\n"
     ]
    }
   ],
   "source": [
    "y_array = x_array.reshape((2, 5))\n",
    "print(y_array)\n",
    "print(y_array.shape)"
   ]
  },
  {
   "cell_type": "markdown",
   "id": "14087d7d",
   "metadata": {},
   "source": [
    "Apparently, we need to make sure that the array after reshaping must have the same size (same number of elements) as the one before reshaping, otherwise NumPy raises an error message.\n",
    "\n",
    "A summary of broadcasting rules:\n",
    "\n",
    "- If the two arrays differ in their number of dimensions, the shape of the one with fewer dimensions is padded with ones on its **leading (left)** side.\n",
    "- If the shape of the two arrays does not match in any dimension, the array with shape equal to 1 in that dimension is stretched to match the other shape.\n",
    "- If in any dimension the shape items disagree and neither is equal to 1, an error is raised.\n",
    "\n",
    "You may also notice that the operation between a scalar and an array is a special case of broadcasting. \n",
    "\n",
    "### Functions and array methods <a id=\"subsection4.3\"></a>\n",
    "\n",
    "The NumPy package provides many commonly used mathematical functions, such as `exp()` for exponential function, `log()` for natural logarithm, `square()` for squares, `power()` for powers etc. Like the basic arithmetic operations, these functions also work element-wise on arrays, as shown by the following examples."
   ]
  },
  {
   "cell_type": "code",
   "execution_count": 33,
   "id": "186a1286",
   "metadata": {},
   "outputs": [
    {
     "name": "stdout",
     "output_type": "stream",
     "text": [
      "1.0986122886681098\n",
      "[ 2.71828183  4.48168907  7.3890561  12.18249396]\n",
      "[0 1 4]\n",
      "[1 2 4]\n"
     ]
    }
   ],
   "source": [
    "print(np.log(3))                    # Natural logarithm of 3\n",
    "print(np.exp(np.arange(1, 3, 0.5))) # Natural exponentials of 1, 1.5, 2, 2.5\n",
    "print(np.square(np.arange(3)))      # Squares of 0, 1, 2\n",
    "print(np.power(2, np.arange(3)))    # 2 to the power of 0, 1, 2"
   ]
  },
  {
   "cell_type": "markdown",
   "id": "ce8ef519",
   "metadata": {},
   "source": [
    "<div class=\"alert alert-block alert-info\">\n",
    "<b>Question 2:</b> It is shown in the paper <b><i>Drawing an elephant with four complex parameters</i></b> that we can draw an elephant according to the following equations,\n",
    "$$\n",
    "\\begin{cases}\n",
    "x = -30\\sin(t) + 8\\sin(2t) - 10\\sin(3t) - 60\\cos(t) \\\\\n",
    "y = -50\\sin(t) - 18\\sin(2t) - 12\\cos(3t) + 14\\cos(5t)\n",
    "\\end{cases}\n",
    "$$\n",
    "where $t$ is an array of numbers continuously changing from 0 to 2$\\pi$. Draw an elephant according to the equations above. \n",
    "</div>"
   ]
  },
  {
   "cell_type": "code",
   "execution_count": null,
   "id": "2a224013",
   "metadata": {},
   "outputs": [],
   "source": []
  },
  {
   "cell_type": "markdown",
   "id": "c19988ad",
   "metadata": {},
   "source": [
    "Similar to other Python data types, there are also many methods associated with NumPy arrays. Frequently used ones are:\n",
    "- Method `sum()` for calculating the summation of items.\n",
    "- Method `max()`/`min()` for identifying the maximum/minimum items in the array.\n",
    "- Method `mean()` for calculating the mean of item values. \n",
    "- Method `var()`/`std()` for calculating the variance/standard deviation. \n",
    "\n",
    "Please note that unlike the `var()`/`std()` method of Pandas series or data frame objects that calculate the **sample** variance/standard deviation by default, the NumPy version of `var()`/`std()` method calculates the **population** variance/standard deviation by default. The difference between the two will be discussed in **Lecture 11**."
   ]
  },
  {
   "cell_type": "code",
   "execution_count": 34,
   "id": "d2f410c2",
   "metadata": {
    "scrolled": true
   },
   "outputs": [
    {
     "name": "stdout",
     "output_type": "stream",
     "text": [
      "20.0\n",
      "6.5\n",
      "1.0\n",
      "3.3333333333333335\n"
     ]
    }
   ],
   "source": [
    "array_2d = np.array([[1, 2],    \n",
    "                     [2, 3.5],     \n",
    "                     [5, 6.5]])\n",
    "\n",
    "print(array_2d.sum())          # Sum of all items\n",
    "print(array_2d.max())          # The maximum item in the array\n",
    "print(array_2d.min())          # The minimum item in the array\n",
    "print(array_2d.mean())         # The average of all numbers"
   ]
  },
  {
   "cell_type": "markdown",
   "id": "0780cb1e",
   "metadata": {},
   "source": [
    "Besides calculations on all items in the array (default case), we can also specify an axis along which these measures are calculated. Some examples are given as follows."
   ]
  },
  {
   "cell_type": "code",
   "execution_count": 35,
   "id": "61245a46",
   "metadata": {},
   "outputs": [
    {
     "name": "stdout",
     "output_type": "stream",
     "text": [
      "[ 8. 12.]\n",
      "[ 3.   5.5 11.5]\n",
      "[5.  6.5]\n",
      "[1. 2. 5.]\n"
     ]
    }
   ],
   "source": [
    "array_2d = np.array([[1, 2],    \n",
    "                     [2, 3.5],     \n",
    "                     [5, 6.5]])\n",
    "\n",
    "print(array_2d.sum(axis=0))    # For each column, sum of elements along rows\n",
    "print(array_2d.sum(axis=1))    # For each row, sum of elements along columns\n",
    "print(array_2d.max(axis=0))    # The maximum elements of each column (along rows)\n",
    "print(array_2d.min(axis=1))    # The minimum elements of each row (along columns)"
   ]
  },
  {
   "cell_type": "markdown",
   "id": "95d17945",
   "metadata": {},
   "source": [
    "<div class=\"alert alert-block alert-success\" style='text-height:1.2'>\n",
    "    <b>Example 4:</b> Given the two-dimensional array <span style='font-family:Courier'><b>price</b></span>, calculate the average price and <b>range</b> of each stock. The range is expressed as the distance between the maximum and minimum values.\n",
    "</div>"
   ]
  },
  {
   "cell_type": "code",
   "execution_count": 36,
   "id": "0ea8e018",
   "metadata": {
    "scrolled": true
   },
   "outputs": [
    {
     "name": "stdout",
     "output_type": "stream",
     "text": [
      "[[ 181.51  170.4  2901.49 1199.78  597.37]\n",
      " [ 179.21  167.52 2888.33 1149.59  591.15]\n",
      " [ 174.44  164.36 2753.07 1088.12  567.52]\n",
      " [ 171.53  163.25 2751.02 1064.7   553.29]\n",
      " [ 171.7   162.55 2740.09 1026.96  541.06]\n",
      " [ 171.72  161.49 2771.48 1058.12  539.85]]\n"
     ]
    }
   ],
   "source": [
    "price = stocks.values\n",
    "print(price)"
   ]
  },
  {
   "cell_type": "code",
   "execution_count": 37,
   "id": "e5be24e5",
   "metadata": {
    "scrolled": true
   },
   "outputs": [
    {
     "name": "stdout",
     "output_type": "stream",
     "text": [
      "[ 175.01833333  164.92833333 2800.91333333 1097.87833333  565.04      ]\n"
     ]
    }
   ],
   "source": [
    "avg_price = price.mean(axis=0)\n",
    "print(avg_price)"
   ]
  },
  {
   "cell_type": "code",
   "execution_count": 38,
   "id": "df57c897",
   "metadata": {
    "scrolled": true
   },
   "outputs": [
    {
     "name": "stdout",
     "output_type": "stream",
     "text": [
      "[  9.98   8.91 161.4  172.82  57.52]\n"
     ]
    }
   ],
   "source": [
    "range_price = price.max(axis=0) - price.min(axis=0)\n",
    "print(range_price)"
   ]
  },
  {
   "cell_type": "code",
   "execution_count": null,
   "id": "5e27c01b",
   "metadata": {},
   "outputs": [],
   "source": []
  }
 ],
 "metadata": {
  "kernelspec": {
   "display_name": "Python 3 (ipykernel)",
   "language": "python",
   "name": "python3"
  },
  "language_info": {
   "codemirror_mode": {
    "name": "ipython",
    "version": 3
   },
   "file_extension": ".py",
   "mimetype": "text/x-python",
   "name": "python",
   "nbconvert_exporter": "python",
   "pygments_lexer": "ipython3",
   "version": "3.9.1"
  },
  "varInspector": {
   "cols": {
    "lenName": 16,
    "lenType": 16,
    "lenVar": 40
   },
   "kernels_config": {
    "python": {
     "delete_cmd_postfix": "",
     "delete_cmd_prefix": "del ",
     "library": "var_list.py",
     "varRefreshCmd": "print(var_dic_list())"
    },
    "r": {
     "delete_cmd_postfix": ") ",
     "delete_cmd_prefix": "rm(",
     "library": "var_list.r",
     "varRefreshCmd": "cat(var_dic_list()) "
    }
   },
   "position": {
    "height": "226.852px",
    "left": "1068px",
    "right": "20px",
    "top": "120px",
    "width": "352px"
   },
   "types_to_exclude": [
    "module",
    "function",
    "builtin_function_or_method",
    "instance",
    "_Feature"
   ],
   "window_display": false
  }
 },
 "nbformat": 4,
 "nbformat_minor": 5
}
