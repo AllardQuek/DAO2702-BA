{
 "cells": [
  {
   "cell_type": "markdown",
   "id": "cc3ac24f",
   "metadata": {},
   "source": [
    "# Review of Probability Theory\n",
    "\n",
    "## Contents\n",
    "\n",
    "- [Imports](#section1)\n",
    "- [General Probability Rules](#section2)\n",
    "- [Random Variables](#section3)\n",
    "    - [Discrete random variables](#subsection3.1)\n",
    "    - [Continuous random variables](#subsection3.2)\n",
    "- [The `scipy.stats` Module](#section4)\n",
    "- [Expected Values and Variances](#section5)\n",
    "    - [Definitions](#subsection5.1)\n",
    "    - [Expected values and variances of commonly used distributions](#subsection5.2)\n",
    "    - [Properties of expected values and variances](#subsection5.3)"
   ]
  },
  {
   "cell_type": "markdown",
   "id": "a857dd75",
   "metadata": {},
   "source": [
    " "
   ]
  },
  {
   "cell_type": "markdown",
   "id": "f4785bd3",
   "metadata": {},
   "source": [
    "## Imports <a id=\"section1\"></a>"
   ]
  },
  {
   "cell_type": "code",
   "execution_count": 1,
   "id": "17229dd2",
   "metadata": {},
   "outputs": [],
   "source": [
    "import numpy as np\n",
    "import matplotlib.pyplot as plt\n",
    "\n",
    "from scipy.stats import binom\n",
    "from scipy.stats import norm\n",
    "from scipy.stats import poisson"
   ]
  },
  {
   "cell_type": "markdown",
   "id": "adf97b87",
   "metadata": {},
   "source": [
    " "
   ]
  },
  {
   "cell_type": "markdown",
   "id": "a3c0910f",
   "metadata": {},
   "source": [
    "## General Probability Rules <a id=\"section2\"></a>\n",
    "\n",
    "<div class=\"alert alert-block alert-danger\">\n",
    "<b>Notes: Rule of Complements: </b> If $A$ is any event, then we have\n",
    "$$\n",
    "P(A) = 1 - P(A^c),\n",
    "$$\n",
    "where $A^c$ is the <b>complement</b> of $A$, i.e. the event that $A$ does not occur.\n",
    "</div>\n",
    "\n",
    "<div class=\"alert alert-block alert-danger\">\n",
    "<b>Notes: General Addition Rule: </b> For events $A_1$ and $A_2$, \n",
    "$$\n",
    "P(A_1\\text{ or }A_2) = P(A_1) + P(A_2) - P(A_1 \\text{ and } A_2).\n",
    "$$\n",
    "</div>\n",
    "\n",
    "If events $A_1$ and $A_2$ are **mutually exclusive**, meaning that at most one of them can occur, then $P(A_1 \\text{ and } A_2)=0$, so \n",
    "\n",
    "$$\n",
    "P(A_1\\text{ or }A_2) = P(A_1) + P(A_2).\n",
    "$$\n",
    "\n",
    "The addition rule can be generalized to $n$ mutually exclusive events $A_1$, ..., $A_n$, such that $P(\\text{one of }A_1\\text{ through }A_n) = P(A_1) + P(A_2) + ... + P(A_n)$. \n",
    "\n",
    "<div class=\"alert alert-block alert-danger\">\n",
    "<b>Notes: Conditional Probability: </b> The <b>conditional probability</b> of $A$ given $B$ is expressed as\n",
    "$$\n",
    "P(A|B) = \\frac{P(A \\text{ and } B)}{P(B)}.\n",
    "$$\n",
    "It also implies that \n",
    "$$\n",
    "P(A \\text{ and } B) = P(A|B)P(B).\n",
    "$$\n",
    "</div>\n",
    "\n",
    "<div class=\"alert alert-block alert-danger\">\n",
    "<b>Notes: Multiplication Rule for Independent Events: </b> If events $A$ and $B$ are <b>probabilistically independent</b>, then\n",
    "$$\n",
    "P(A\\text{ and }B) = P(A)P(B).\n",
    "$$\n",
    "</div>"
   ]
  },
  {
   "cell_type": "markdown",
   "id": "f41103a2",
   "metadata": {},
   "source": [
    " "
   ]
  },
  {
   "cell_type": "markdown",
   "id": "648a0eff",
   "metadata": {},
   "source": [
    "## Random Variables <a id=\"section3\"></a>\n",
    "### Discrete random variables <a id=\"subsection3.1\"></a>\n",
    "A random variable $X$ is defined to be **discrete** if its possible outcomes are finite or countable. A few examples are given below.\n",
    "1. The result of rolling a die\n",
    "2. The preference of one randomly selected customer for Coke or Pepsi (Bernoulli distribution)\n",
    "3. Among 10 randomly selected customers, the number of people who prefer Coke over Pepsi (binomial distribution) \n",
    "4. The number of patients arriving in an emergency room within a fixed time interval (Poisson distribution)\n",
    "\n",
    "<div class=\"alert alert-block alert-danger\">\n",
    "    <b>Notes: </b> For a discrete random variable $X$ with $k$ possible outcomes $x_j$, $j=1, 2, ..., k$, the <b>probability mass function (PMF)</b> is given as:\n",
    "    \\begin{align}\n",
    "    P(X=x_j) = p_j, \\text{   for each }j=1, 2, ..., k,\n",
    "    \\end{align}\n",
    "where $p_j$ is the probability of the outcome $x_j$ and all $p_j$ must satisfy \n",
    "    \\begin{cases}\n",
    "    0\\leq p_j \\leq 1 \\text{  for each }j=1, 2, ..., k\\\\\n",
    "    \\sum_{j=1}^kp_j = 1\n",
    "    \\end{cases}\n",
    "</div>\n",
    "\n",
    "<div class=\"alert alert-block alert-success\">\n",
    "<b>Example 1:</b> Suppose that in Singapore, the percentage of customers who prefer Coke is $p=65\\%$, and the remaining $1-p=35\\%$ customers prefer Pepsi. Now we randomly survey $n=10$ customers, and the number of surveyed customers who prefer Coke is $X$. What is the probability that $X=8$?\n",
    "</div>\n",
    "\n",
    "It is obvious that the random variable $X$ follows a binomial distribution because:\n",
    "- There are totally $n=10$ independent experiments;\n",
    "- Each experiment has two different outcomes: Coke or Pepsi;\n",
    "- Each outcome has a fixed probability: $p=65\\%$ or $1-p=35\\%$.\n",
    "\n",
    "Calculations related to the binomial distribution can be conducted by using the `binom` object imported from the `scipy.stats` module. Here, the probability $P(X=8)$ is the calculated by the code below, where the `pmf()` method refers to the probability mass function."
   ]
  },
  {
   "cell_type": "code",
   "execution_count": 2,
   "id": "c9956bb3",
   "metadata": {},
   "outputs": [
    {
     "name": "stdout",
     "output_type": "stream",
     "text": [
      "The probability is 0.1756529531059573\n"
     ]
    }
   ],
   "source": [
    "x = 8                                # The number of customers who prefer Coke\n",
    "n = 10                               # Total number of customers\n",
    "p = 0.65                             # Probability of people who prefer Coke\n",
    "\n",
    "pmf = binom.pmf(x, n, p)\n",
    "print(f'The probability is {pmf}')"
   ]
  },
  {
   "cell_type": "markdown",
   "id": "76e1d149",
   "metadata": {},
   "source": [
    "<div class=\"alert alert-block alert-success\">\n",
    "    <b>Example 2:</b> Let $X$ denote the random variable representing the number of surveyed customers who prefer Coke in <b>Example 1</b>. Plot the discrete probability distribution of $X$.\n",
    "</div>"
   ]
  },
  {
   "cell_type": "code",
   "execution_count": 3,
   "id": "d77bae41",
   "metadata": {
    "scrolled": true
   },
   "outputs": [
    {
     "data": {
      "image/png": "[encoded data removed]",
      "text/plain": [
       "<Figure size 432x288 with 1 Axes>"
      ]
     },
     "metadata": {
      "needs_background": "light"
     },
     "output_type": "display_data"
    }
   ],
   "source": [
    "n = 10                                     # Total number of customers\n",
    "p = 0.65                                   # Probability of people who prefer Coke\n",
    "x = np.arange(n+1)                         # All possible numbers of customers who prefer Coke\n",
    "\n",
    "pmfs = binom.pmf(x, n, p)                  # The PMF of the random variable X\n",
    "\n",
    "plt.bar(x, pmfs, color='b', alpha=0.4)     # Bar chart for showing the distribution\n",
    "\n",
    "plt.xlabel('X', fontsize=12)\n",
    "plt.ylabel('Probability', fontsize=12)\n",
    "plt.show()"
   ]
  },
  {
   "cell_type": "markdown",
   "id": "1c05efa2",
   "metadata": {},
   "source": [
    "In this example, the random variable $X$ is taking an array of integers from zero (all guesses are incorrect) to ten (all guesses are correct) in calculating the PMF values. The `pmf()` method returns the PMF value of each element in the array.\n",
    "\n",
    "<div class=\"alert alert-block alert-danger\">\n",
    "    <b>Notes: </b> The <b>cumulative distribution function (CDF)</b> of a random variable $X$ is defined as \n",
    "    \\begin{align}\n",
    "    F(x) = P(X\\leq x).\n",
    "    \\end{align}\n",
    "</div>\n",
    "\n",
    "<div class=\"alert alert-block alert-success\">\n",
    "<b>Example 3:</b> Consider the survey in <b>Example 1</b>, what is the probability that the majority of the surveyed customers prefer Coke.\n",
    "</div>\n",
    "\n",
    "The probability that the majority of surveyed customers prefer Coke can be written as $P(X \\geq 6) = 1 - P(X \\leq 5) = 1- F(5)$. Here, $F(\\cdot)$ is the cumulative distribution function, and its value can be calculated using the `cdf()` method of the `binom` object. "
   ]
  },
  {
   "cell_type": "code",
   "execution_count": 4,
   "id": "fa9243a2",
   "metadata": {},
   "outputs": [
    {
     "name": "stdout",
     "output_type": "stream",
     "text": [
      "The probability is 0.7514955091185547\n"
     ]
    }
   ],
   "source": [
    "x = 5                                # The number of customers who prefer Coke\n",
    "n = 10                               # Total number of customers\n",
    "p = 0.65                             # Probability of people who prefer Coke\n",
    "\n",
    "prob = 1 - binom.cdf(x, n, p)        # Calculate the probability\n",
    "print(f'The probability is {prob}')"
   ]
  },
  {
   "cell_type": "markdown",
   "id": "cb9fc0b9",
   "metadata": {},
   "source": [
    "<div class=\"alert alert-block alert-info\">\n",
    "<b>Question 1:</b> Plot the CDF of the random variable $X$ described in <b>Example 1</b>. \n",
    "</div>"
   ]
  },
  {
   "cell_type": "code",
   "execution_count": null,
   "id": "152a76cc",
   "metadata": {
    "scrolled": true
   },
   "outputs": [],
   "source": []
  },
  {
   "cell_type": "markdown",
   "id": "89573811",
   "metadata": {},
   "source": [
    "In example above, the proportion of customers who prefer Coke was fixed to be $65\\%$, and the number of customers is fixed to be 10. You may use the [Programming for Business Analytics](https://appiora.nus.edu.sg/learndao/) website (**Topic: Review of Probability Theory**) to explore how these parameters affect the shape of the binomial distribution.  \n",
    "\n",
    "### Continuous random variables <a id=\"subsection3.2\"></a>\n",
    "A variable $X$ is a **continuous random variable** if takes all values in an interval of numbers. Random variables following uniform, normal (Gaussian) and exponential distributions are all continuous variables.  \n",
    "\n",
    "For continuous random variables, there is no PMF as the discrete random variables, because $P(X=x)=0$ for all values of $x$. Only intervals of values have positive probabilities, such as $P(0 \\leq x \\leq 10)$. The CDF for a continuous random variable has the same definition as the discrete case, which is $F(x)=P(X\\leq x)$. Based on the CDF, we have other definitions listed as follows.\n",
    "\n",
    "<div class=\"alert alert-block alert-danger\">\n",
    "    <b>Notes: </b> Let $F(x) = P(X\\leq x)$ be the CDF of a continuous random variable $X$, then\n",
    "    <li> The derivative $f(x) = \\frac{d F(x)}{dx}$ of the CDF $F(x)$ is called the <b>probability density function (PDF)</b> of $X$. This definition also implies that $F(x) = \\int_{-\\infty}^{x}f(t)dt$.\n",
    "    <li> The inverse of CDF $F(x)$, denoted by $F^{-1}(q)$, is called the <b>Percent Point Function (PPF)</b>, where $q$ is the given cumulative probability. This function is sometimes referred to as the <b>inverse cumulative distribution function</b> or the <b>quantile function</b>.\n",
    "</div>\n",
    "\n",
    "In the [Programming for Business Analytics](https://appiora.nus.edu.sg/learndao/) website (**Topic: Review of Probability Theory**), we are using a standard normal distribution as an example to illustrate the definition of CDF, PDF, and PPF. You are encouraged to play with the interactive data visuals to better understand the definition of these functions.\n",
    "\n",
    "Another important property of the CDF is given below.\n",
    "\n",
    "<div class=\"alert alert-block alert-danger\">\n",
    "    <b>Notes: </b> For a continuous random variable $X$ and given values $x_1 \\leq x_2$, then the probability \n",
    "    \\begin{align}\n",
    "    P(x_1 \\leq X \\leq x_2) = P(X \\leq x_2) - P(X \\leq x_1) = F(x_2) - F(x_1).\n",
    "    \\end{align}\n",
    "</div>\n",
    "\n",
    "<div class=\"alert alert-block alert-success\">\n",
    "    <b>Example 4: </b> The annual returns of an emerging markets exchange-traded fund (ETF) have an expected return of $20.60\\%$ and a standard deviation of $30.85\\%$. Assume the returns are normally distributed. \n",
    "<li>What is the probability that returns are worse than $−30\\%$?</li>\n",
    "<li>An investor is interested in finding the value of $x$, such that the probability of having a return worse than $x$ is no larger than a given probability $\\alpha=0.01$. What is the value of $x$?\n",
    "</div>\n",
    "\n",
    "Let $X$ be a random variable indicating the ETF returns, then the probability that $X\\leq-30\\%$ can be written as $P(R\\leq 30\\%) = F(-30\\%)$, where $F(\\cdot)$ denotes the CDF of the normally distributed variable. "
   ]
  },
  {
   "cell_type": "code",
   "execution_count": 5,
   "id": "b909a566",
   "metadata": {},
   "outputs": [
    {
     "name": "stdout",
     "output_type": "stream",
     "text": [
      "The probability is 0.05048236736066858\n"
     ]
    }
   ],
   "source": [
    "mean = 20.60                  # Expected return\n",
    "std = 30.85                   # Standard deviation of the return\n",
    "x = - 30                          \n",
    "\n",
    "prob = norm.cdf(x, mean, std) # Probability of the return worse than -30%\n",
    "print(f'The probability is {prob}')"
   ]
  },
  {
   "cell_type": "markdown",
   "id": "d91ada57",
   "metadata": {},
   "source": [
    "Notice that the value of $x$ should satisfy $P(X\\leq x) = F(x) = \\alpha$, or $x = F^{-1}(\\alpha)$, where $F^{-1}(\\cdot)$ is the inverse distribution function or the percent point function. It can be calculated using the `ppf()` method of the `norm` object, where the second argument `loc` and the third argument `scale` respectively specify the mean and standard deviation of the normal distribution. "
   ]
  },
  {
   "cell_type": "code",
   "execution_count": 6,
   "id": "c8371df7",
   "metadata": {
    "scrolled": true
   },
   "outputs": [
    {
     "name": "stdout",
     "output_type": "stream",
     "text": [
      "The value of x is -51.16783191415994\n"
     ]
    }
   ],
   "source": [
    "mean = 20.60                  # Expected return\n",
    "std = 30.85                   # Standard deviation of the return\n",
    "alpha = 0.01                   \n",
    "\n",
    "x = norm.ppf(alpha, mean, std)\n",
    "print(f'The value of x is {x}')"
   ]
  },
  {
   "cell_type": "markdown",
   "id": "7d4aec89",
   "metadata": {},
   "source": [
    "Here, the value of $x$ is referred to as the **value-at-risk** or **VaR** with $1-\\alpha=0.99$ confidence."
   ]
  },
  {
   "cell_type": "markdown",
   "id": "f3fb3b70",
   "metadata": {},
   "source": [
    " "
   ]
  },
  {
   "cell_type": "markdown",
   "id": "3894db00",
   "metadata": {},
   "source": [
    "## The `scipy.stats` Module <a id=\"section4\"></a>\n",
    "\n",
    "In previous sections, we used objects imported from the `scipy.stats` module to conduct calculations for different distributions. The syntax of calling computing tools of these objects can be generalized as follows: \n",
    "\n",
    "<center><b><code><i>object.method</i>(<font color='blue'><i>value</i></font>, <font color='blue'><i>shape_param_1</i></font>, <font color='blue'><i>shape_param_2</i></font>, ... )</code></b></center>\n",
    "\n",
    "- <b><code><i>object</i></code></b> is the object of a specific type of distribution, such as <code>binom</code> for binomial and <code>norm</code> for normal distributions; \n",
    "- <b><code><i>method</i></code></b> specifies the distributional function, such as `pdf()` for PDF, `pmf()` for PMF, `cdf()` for CDF, and `ppf()` for PPF;\n",
    "- <b><code><font color='blue'><i>value</i></font></code></b> is the value(s) of the random variable <b><code><i>method</i></code></b>;\n",
    "- <b><code><font color='blue'><i>shape_param_1</i></font></code></b>, <b><code><font color='blue'><i>shape_param_2</i></font></code></b>, ... are the parameters specifying the shape of the distribution, such as the mean and the standard deviation specify the shape of a normal distribution.\n",
    "\n",
    "<div class=\"alert alert-block alert-success\">\n",
    "<b>Example 5: </b> The records of a hospital show that the number of patients arriving between 6:00 P.M. and 7:00 P.M. has a Poisson distribution with parameter $\\mu = 6.9$. Determine the probability that between 6:00 P.M. and 7: P.M., \n",
    "<li> The number of patients arriving at the hospital is exactly four. </li>\n",
    "<li> The number of patients arriving at the hospital is between four and ten, inclusive. </li>\n",
    "<li> Let $X$ denote the number of patients arriving at the hospital. Plot the distribution of $X$, as $X$ is between zero and 20, inclusive. </li>\n",
    "</div>\n",
    "\n",
    "Because the random variable follows Poisson distribution, we use the `poisson` object imported from the `scipy.stats` module to do the calculation. The shape of the Poisson distribution is specified by the mean value, which is $\\mu=6.9$, in this example."
   ]
  },
  {
   "cell_type": "code",
   "execution_count": 7,
   "id": "dac50665",
   "metadata": {},
   "outputs": [
    {
     "name": "stdout",
     "output_type": "stream",
     "text": [
      "P(X=4) = 0.09518164275949798\n"
     ]
    }
   ],
   "source": [
    "mu = 6.9\n",
    "prob = poisson.pmf(4, mu)\n",
    "print(f'P(X=4) = {prob}')"
   ]
  },
  {
   "cell_type": "code",
   "execution_count": 8,
   "id": "b42b486d",
   "metadata": {},
   "outputs": [
    {
     "name": "stdout",
     "output_type": "stream",
     "text": [
      "P(4 <= X <= 10) = 0.8212956204866553\n"
     ]
    }
   ],
   "source": [
    "mu = 6.9\n",
    "prob = poisson.cdf(10, mu) - poisson.cdf(3, mu)\n",
    "print(f'P(4 <= X <= 10) = {prob}')"
   ]
  },
  {
   "cell_type": "code",
   "execution_count": 9,
   "id": "3f65b623",
   "metadata": {
    "scrolled": false
   },
   "outputs": [
    {
     "data": {
      "image/png": "[encoded data removed]",
      "text/plain": [
       "<Figure size 432x288 with 1 Axes>"
      ]
     },
     "metadata": {
      "needs_background": "light"
     },
     "output_type": "display_data"
    }
   ],
   "source": [
    "mu = 6.9\n",
    "x = np.arange(21)\n",
    "\n",
    "pmfs = poisson.pmf(x, mu)\n",
    "plt.bar(x, pmfs, color='b', alpha=0.4)\n",
    "plt.xlabel('Number of arriving patients', fontsize=12)\n",
    "plt.ylabel('Probability', fontsize=12)\n",
    "plt.show()"
   ]
  },
  {
   "cell_type": "markdown",
   "id": "6d5b8adb",
   "metadata": {},
   "source": [
    "In this example, the `pmf()` and `cdf()` methods are used to calculate the PMFs and CDFs of Poisson distributed random variable $X$, just like in the case of normal and binomial distribution. The same syntax can be applied to many other discrete and continuous distributions, as described at [<code>scipy.stats</code>](https://docs.scipy.org/doc/scipy/reference/stats.html)."
   ]
  },
  {
   "cell_type": "markdown",
   "id": "b4faed77",
   "metadata": {},
   "source": [
    " "
   ]
  },
  {
   "cell_type": "markdown",
   "id": "040925db",
   "metadata": {},
   "source": [
    "## Expected Values and Variances <a id=\"section5\"></a>\n",
    "\n",
    "### Definitions <a id=\"subsection5.1\"></a>\n",
    "\n",
    "In this lecture, we use $\\mathbb{E}(\\cdot)$ and $\\text{Var}(\\cdot)$ to respectively denote the expected value (also known as the mean) and variance of a random variable or random expression. \n",
    "\n",
    "For a discrete random variable $X$ that has $k$ outcomes $x_1$, $x_2$, ..., $x_k$, and the corresponding probabilities are $p_1$, $p_2$, ..., $p_k$, \n",
    "\n",
    "$$\n",
    "\\begin{cases}\n",
    "\\mathbb{E}(X) = \\sum\\limits_{i=1}^kx_ip_i \\\\\n",
    "\\text{Var}(X) = \\sum\\limits_{i=1}^k(x_i - \\mathbb{E}(X))^2p_i. \\\\\n",
    "\\end{cases}\n",
    "$$\n",
    "\n",
    "For a continuous random variable $X$ that defined in the interval $\\mathcal{X}$, we have\n",
    "$$\n",
    "\\begin{cases}\n",
    "\\mathbb{E}(X) = \\int_{x\\in\\mathcal{X}} x f(x) dx \\\\\n",
    "\\text{Var}(X) = \\int_{x\\in\\mathcal{X}}(x - \\mathbb{E}(X))^2f(x) dx. \\\\\n",
    "\\end{cases}\n",
    "$$\n",
    "\n",
    "### Expected values and variances of commonly used distributions <a id=\"subsection5.2\"></a>\n",
    "\n",
    "The expected values and variances of several commonly used distributions are given in the following table.\n",
    "\n",
    "Distribution| Parameters | Expected value | Variance | SciPy object | Remarks |\n",
    ":-------:|:-------------------------:|:--------:|:---------:|:----:|:------:\n",
    "Binomial| $n$ as a positive integer <br>$0 < p < 1$ as a probability | $np$ | $$np(1-p)$$ | `binom` | - \n",
    "Poisson| $\\mu>0$ | $\\mu$ | $\\mu$ | `poisson` |  - \n",
    "Uniform | $a$ as the lower bound <br>$b$ as the upper bound | $\\frac{a+b}{2}$ | $\\frac{1}{12}(b-a)^2$ | `uniform` | $a=0$ and $b=1$, by default\n",
    "Normal | $\\mu$ as the mean value <br>$\\sigma>0$ as the standard deviation | $\\mu$ | $\\sigma^2$ | `norm` | $\\mu=0$ and $\\sigma=1$, by default\n",
    "\n",
    "<div class=\"alert alert-block alert-success\">\n",
    "<b>Example 6: </b> Use the definition of expected values and variances to verify that for the binomial distribution described in <b>Example 1</b>, the expected value is $np=6.5$ and the variance is $np(1-p)=2.275$.\n",
    "</div>\n",
    "\n",
    "We can create two NumPy arrays to respectively represent all outcomes of the discrete distribution and their probabilities, then use the definition to verify the expected value and variance. "
   ]
  },
  {
   "cell_type": "code",
   "execution_count": 10,
   "id": "ce7707ac",
   "metadata": {
    "scrolled": true
   },
   "outputs": [
    {
     "name": "stdout",
     "output_type": "stream",
     "text": [
      "Expected value: 6.50000\n",
      "Variance: 2.27500\n"
     ]
    }
   ],
   "source": [
    "n = 10\n",
    "p = 0.65\n",
    "\n",
    "x = np.arange(n+1)\n",
    "pmfs = binom.pmf(x, n, p)\n",
    "\n",
    "exp = (x * pmfs).sum()\n",
    "var = ((x - exp)**2 * pmfs).sum()\n",
    "\n",
    "print(f'Expected value: {exp:.5f}') # The .5f expression specifies 5 decimal places to display\n",
    "print(f'Variance: {var:.5f}')       # The .5f expression specifies 5 decimal places to display"
   ]
  },
  {
   "cell_type": "markdown",
   "id": "543d30c6",
   "metadata": {},
   "source": [
    "Note that we used element-wise operations of NumPy arrays here, so there is no need to create a loop to go through all possible outcomes. \n",
    "\n",
    "### Properties of expected values and variances <a id=\"subsection5.3\"></a>\n",
    "\n",
    "Let $X$ be an arbitrary random variable, and $a$ and $c$ are two constants, then we have\n",
    "- $\\mathbb{E}(c) = c$;\n",
    "- $\\mathbb{E}(aX+c) = a\\mathbb{E}(X) + c$.\n",
    "\n",
    "If $\\{a_1, a_2, ..., a_n\\}$ is a sequence of constants, and $\\{X_1, X_2, ..., X_n\\}$ is a sequence of random variables, then we have\n",
    "- $\\mathbb{E}\\left(\\sum\\limits_{i=1}^na_iX_i\\right) = \\sum\\limits_{i=1}^na_i\\mathbb{E}(X_i)$.\n",
    "\n",
    "As a special case that each $a_i=1$, then the equation above can be written as $\\mathbb{E}\\left(\\sum_{i=1}^nX_i\\right)=\\sum_{i=1}^n\\mathbb{E}(X_i)$.\n",
    "\n",
    "Let $X$ and $Y$ be two random variables, and $a$, $b$, and $c$ are three constants, then we have\n",
    "- $\\text{Var}(c) = 0$;\n",
    "- $\\text{Var}(aX+c) = a^2\\text{Var}(X)$;\n",
    "- $\\text{Var}(aX+bY+c) = a^2\\text{Var}(X) + b^2\\text{Var}(Y) + 2ab\\text{Cov}(X, Y)$.\n",
    "\n",
    "In a special case that $X$ and $Y$ are uncorrelated, the covariance between $X$ and $Y$ is zero, so the last equation can be written as $\\text{Var}(aX+bY+c) = a^2\\text{Var}(X) + b^2\\text{Var}(Y)$. Such a result can be extend to the following case\n",
    "- $\\text{Var}\\left(\\sum\\limits_{i=1}^na_iX_i\\right) = \\sum\\limits_{i=1}^na_i^2\\text{Var}(X_i)$,\n",
    "\n",
    "where $\\{a_1, a_2, ..., a_n\\}$ is a sequence of constants, and $\\{X_1, X_2, ..., X_n\\}$ is a sequence of **pairwise uncorrelated** random variables.\n",
    "\n",
    "<div class=\"alert alert-block alert-info\">\n",
    "<b>Question 2: </b> Two retail chains COURTS and Challenger are planning to sell Apple iPads. Demands at these two retail chains are represented by random variables $X$ and $Y$, respectively. Suppose that both variables are normally distributed and their means are $\\mu_X=800$ and $\\mu_Y=160$, and their standard deviations are $\\sigma_X=500$ and $\\sigma_Y=100$. The correlation between $X$ and $Y$ is $\\text{Corr}(X, Y)=0.23$.\n",
    "<li>Both retail chains would like to stock enough iPads so that the probability of supplying the demands is at least $98\\%$. What is the minimum number of iPads that COURTS and Challenger need to stock per day?</li>\n",
    "<li>If COURTS and Challenger decide to combine their warehouse to supply the total demand for iPads, what is the minimum number of iPads the combined warehouse needs to stock so that the total demand can be satisfied with a probability of $98\\%$?</li>    \n",
    "</div>"
   ]
  },
  {
   "cell_type": "code",
   "execution_count": null,
   "id": "4998124e",
   "metadata": {
    "scrolled": true
   },
   "outputs": [],
   "source": []
  },
  {
   "cell_type": "code",
   "execution_count": null,
   "id": "588e4fe2",
   "metadata": {
    "scrolled": true
   },
   "outputs": [],
   "source": []
  },
  {
   "cell_type": "code",
   "execution_count": null,
   "id": "e3d03174",
   "metadata": {},
   "outputs": [],
   "source": []
  },
  {
   "cell_type": "markdown",
   "id": "6b929d19",
   "metadata": {},
   "source": [
    "<div class=\"alert alert-block alert-success\">\n",
    "<b>Example 7: </b> The <b>log return</b>, denoted by $r_t$, is defined as\n",
    "    \n",
    "$$\n",
    "r_t = \\log\\left(\\frac{Q_t}{Q_{t-1}}\\right),\n",
    "$$\n",
    "where $Q_t$ and $Q_{t-1}$ are prices of an asset at time $t$ and $t-1$, respectively, and the $\\log(\\cdot)$ is the natural logarithm function. Suppose that the daily log returns on a stock are independent and normally distributed with mean 0.001 and standard deviation 0.015. \n",
    "<li>If you buy $\\$1000$ worth of this stock at time $t=1$, what is the probability that after one trading day, i.e. at time $t=2$, your investment is worth less than $\\$990$?</li>\n",
    "<li>If you buy $\\$1000$ worth of this stock at time $t=1$, what is the probability that after five trading day, i.e. at time $t=6$, your investment is worth less than $\\$990$?</li>\n",
    "</div>\n",
    "\n",
    "Note that the probability $P(Q_2 \\leq 990) = P(r_2 \\leq \\log(990/1000)) = P(r_2 \\leq \\log(0.99))$. Also note that the log returns are normally distributed with mean 0.001 and standard deviation 0.015, then the probability can be calculated by the code segment below."
   ]
  },
  {
   "cell_type": "code",
   "execution_count": 11,
   "id": "032985d9",
   "metadata": {
    "scrolled": true
   },
   "outputs": [
    {
     "name": "stdout",
     "output_type": "stream",
     "text": [
      "The probability is 0.23065573155475771\n"
     ]
    }
   ],
   "source": [
    "mean = 0.001\n",
    "std = 0.015\n",
    "\n",
    "prob = norm.cdf(np.log(0.99), mean, std)\n",
    "print(f'The probability is {prob}')"
   ]
  },
  {
   "cell_type": "markdown",
   "id": "b06fa2e0",
   "metadata": {},
   "source": [
    "Notice that the summation of the log returns of these five days are\n",
    "\n",
    "$$\n",
    "\\begin{align}\n",
    "r_2 + r_3 + ... + r_6 =& \\log\\left(\\frac{Q_2}{Q_1}\\right) + \\log\\left(\\frac{Q_3}{Q_2}\\right) + ... + \\log\\left(\\frac{Q_6}{Q_5}\\right) \\\\\n",
    "=& \\log\\left(\\frac{Q_2}{Q_1}\\frac{Q_3}{Q_2}...\\frac{Q_6}{Q_5}\\right) = \\log\\left(\\frac{Q_6}{Q_1}\\right),\n",
    "\\end{align}\n",
    "$$\n",
    "\n",
    "so let $z=r_2 + r_3 + ... + r_6 = \\log(Q_6/Q_1)$, then $P(Q_6 \\leq 990) = P(z \\leq \\log(990/1000)) = P(z \\leq \\log(0.99))$, where the random variable $z$ as the summation of five log returns, and each one follows an identical normal distribution. The mean and variance of $z$ are calculated as follows."
   ]
  },
  {
   "cell_type": "code",
   "execution_count": 12,
   "id": "9e35ec74",
   "metadata": {},
   "outputs": [],
   "source": [
    "mean_z = mean * 5\n",
    "std_z = std * (5**0.5)"
   ]
  },
  {
   "cell_type": "markdown",
   "id": "db421626",
   "metadata": {},
   "source": [
    "The probability is thus calculated as the CDF expression below."
   ]
  },
  {
   "cell_type": "code",
   "execution_count": 13,
   "id": "f99e2903",
   "metadata": {
    "scrolled": false
   },
   "outputs": [
    {
     "name": "stdout",
     "output_type": "stream",
     "text": [
      "The probability is 0.3268188763247845\n"
     ]
    }
   ],
   "source": [
    "prob = norm.cdf(np.log(0.99), mean_z, std_z)\n",
    "print(f'The probability is {prob}')"
   ]
  },
  {
   "cell_type": "code",
   "execution_count": 14,
   "id": "36b92f60",
   "metadata": {},
   "outputs": [
    {
     "data": {
      "text/plain": [
       "0.017838090355605504"
      ]
     },
     "execution_count": 14,
     "metadata": {},
     "output_type": "execute_result"
    }
   ],
   "source": [
    "binom.pmf(0.5, 10, 0.4)"
   ]
  },
  {
   "cell_type": "code",
   "execution_count": null,
   "id": "b6934f96",
   "metadata": {},
   "outputs": [],
   "source": []
  }
 ],
 "metadata": {
  "kernelspec": {
   "display_name": "Python 3 (ipykernel)",
   "language": "python",
   "name": "python3"
  },
  "language_info": {
   "codemirror_mode": {
    "name": "ipython",
    "version": 3
   },
   "file_extension": ".py",
   "mimetype": "text/x-python",
   "name": "python",
   "nbconvert_exporter": "python",
   "pygments_lexer": "ipython3",
   "version": "3.9.13"
  },
  "varInspector": {
   "cols": {
    "lenName": 16,
    "lenType": 16,
    "lenVar": 40
   },
   "kernels_config": {
    "python": {
     "delete_cmd_postfix": "",
     "delete_cmd_prefix": "del ",
     "library": "var_list.py",
     "varRefreshCmd": "print(var_dic_list())"
    },
    "r": {
     "delete_cmd_postfix": ") ",
     "delete_cmd_prefix": "rm(",
     "library": "var_list.r",
     "varRefreshCmd": "cat(var_dic_list()) "
    }
   },
   "types_to_exclude": [
    "module",
    "function",
    "builtin_function_or_method",
    "instance",
    "_Feature"
   ],
   "window_display": false
  }
 },
 "nbformat": 4,
 "nbformat_minor": 5
}
