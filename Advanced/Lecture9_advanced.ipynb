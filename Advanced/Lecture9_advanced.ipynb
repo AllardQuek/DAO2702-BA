{
 "cells": [
  {
   "cell_type": "markdown",
   "id": "df35cca1",
   "metadata": {},
   "source": [
    "# Advanced Topics for Lecture 9\n",
    "\n",
    "## RSOME for optimization modeling\n",
    "\n",
    "### Introduction to Robust Stochastic Optimization Made Easy (RSOME)\n",
    "Among many packages capable of formulating and solving optimization problems, RSOME might be the most convenient one because it is compatible with NumPy N-dimensional arrays. \n",
    "\n",
    "<img src=\"https://github.com/XiongPengNUS/dao_resources/blob/main/rsome_intro.png?raw=true\" width=900 style=\"border: 2.5px dashed #ccc\"></img>\n",
    "\n",
    "The package is installed by the following command."
   ]
  },
  {
   "cell_type": "code",
   "execution_count": 1,
   "id": "b217d187",
   "metadata": {
    "scrolled": false
   },
   "outputs": [
    {
     "name": "stdout",
     "output_type": "stream",
     "text": [
      "Collecting rsome\n",
      "  Using cached rsome-1.1.3-py3-none-any.whl (64 kB)\n",
      "Requirement already satisfied: numpy>=1.20.0 in /Users/pengxiong/miniforge3/lib/python3.9/site-packages (from rsome) (1.22.4)\n",
      "Requirement already satisfied: scipy>=1.2.1 in /Users/pengxiong/miniforge3/lib/python3.9/site-packages (from rsome) (1.9.0)\n",
      "Requirement already satisfied: pandas>=0.25.0 in /Users/pengxiong/miniforge3/lib/python3.9/site-packages (from rsome) (1.4.2)\n",
      "Requirement already satisfied: pytz>=2020.1 in /Users/pengxiong/miniforge3/lib/python3.9/site-packages (from pandas>=0.25.0->rsome) (2022.1)\n",
      "Requirement already satisfied: python-dateutil>=2.8.1 in /Users/pengxiong/miniforge3/lib/python3.9/site-packages (from pandas>=0.25.0->rsome) (2.8.2)\n",
      "Requirement already satisfied: six>=1.5 in /Users/pengxiong/miniforge3/lib/python3.9/site-packages (from python-dateutil>=2.8.1->pandas>=0.25.0->rsome) (1.15.0)\n",
      "Installing collected packages: rsome\n",
      "Successfully installed rsome-1.1.3\n"
     ]
    }
   ],
   "source": [
    "!pip install rsome"
   ]
  },
  {
   "cell_type": "markdown",
   "id": "7ada45a6",
   "metadata": {},
   "source": [
    "The RSOME modeling tools are imported by the following code segment."
   ]
  },
  {
   "cell_type": "code",
   "execution_count": 1,
   "id": "689f3204",
   "metadata": {},
   "outputs": [],
   "source": [
    "from rsome import ro\n",
    "import pandas as pd\n",
    "import numpy as np"
   ]
  },
  {
   "cell_type": "markdown",
   "id": "d3993565",
   "metadata": {},
   "source": [
    "The package was developed and maintained by staffs at the Department of Analytics and Operations, NUS Business School. You may find the source code at [RSOME GitHub](https://github.com/XiongPengNUS/rsome), and detailed User Guide, as well as many application examples at the official website: [RSOME in Python](https://xiongpengnus.github.io/rsome/). Steps of using RSOME to solve optimization problems are summarized below:\n",
    "1. Create an RSOME model.\n",
    "2. Define variables associated with the created model.\n",
    "3. Define the objective and constraints of the created model.\n",
    "4. Solve the model using the selected solver.\n",
    "\n",
    "<div class=\"alert alert-block alert-success\" style=\"text-height:1.2\">\n",
    "<b>Example 5:</b>  \n",
    "    Solve the linear programming problem:\n",
    "\\begin{align}\n",
    "\\text{max}~&3x_1 + 4x_2   \\\\\n",
    "\\text{s.t.}~& 2.5x_1 +x_2 \\leq 20 \\\\\n",
    "& 5x_1 + 3x_2 \\leq 30 \\\\\n",
    "& x_1 + 2x_2 \\leq 16. \\\\\n",
    "\\end{align}\n",
    "</div>\n",
    "\n",
    "##### Method 1:"
   ]
  },
  {
   "cell_type": "code",
   "execution_count": 2,
   "id": "7528cf9d",
   "metadata": {},
   "outputs": [
    {
     "name": "stdout",
     "output_type": "stream",
     "text": [
      "Being solved by the default LP solver...\n",
      "Solution status: 0\n",
      "Running time: 0.0017s\n"
     ]
    }
   ],
   "source": [
    "model = ro.Model()\n",
    "\n",
    "x1 = model.dvar()                   # Define a decision variable x1\n",
    "x2 = model.dvar()                   # Define a decision variable x2\n",
    "\n",
    "model.max(3*x1 + 4*x2)              # Maximize the objective function\n",
    "model.st(2.5*x1 + x2 <= 20)         # Specify the 1st constraints\n",
    "model.st(5*x1 + 3*x2 <= 30)         # Specify the 2nd constraints\n",
    "model.st(x1 + 2*x2 <= 16)           # Specify the 3rd constraints\n",
    "\n",
    "model.solve()                       # Solve the model"
   ]
  },
  {
   "cell_type": "markdown",
   "id": "da71369d",
   "metadata": {},
   "source": [
    "We may then retrieve the optimal objective value and the optimal solution using the `get()` method."
   ]
  },
  {
   "cell_type": "code",
   "execution_count": 3,
   "id": "f1fb317d",
   "metadata": {
    "scrolled": true
   },
   "outputs": [
    {
     "data": {
      "text/plain": [
       "33.714285714285715"
      ]
     },
     "execution_count": 3,
     "metadata": {},
     "output_type": "execute_result"
    }
   ],
   "source": [
    "model.get()"
   ]
  },
  {
   "cell_type": "code",
   "execution_count": 4,
   "id": "5d5c017d",
   "metadata": {},
   "outputs": [
    {
     "data": {
      "text/plain": [
       "(1.7142857142857144, 7.142857142857142)"
      ]
     },
     "execution_count": 4,
     "metadata": {},
     "output_type": "execute_result"
    }
   ],
   "source": [
    "x1.get(), x2.get()"
   ]
  },
  {
   "cell_type": "markdown",
   "id": "78567b92",
   "metadata": {},
   "source": [
    "The RSOME package also provides analyzing and debugging tools such as export the model formulation as Pandas data frames."
   ]
  },
  {
   "cell_type": "code",
   "execution_count": 5,
   "id": "bf67e0f7",
   "metadata": {
    "scrolled": false
   },
   "outputs": [
    {
     "data": {
      "text/plain": [
       "Conic program object:\n",
       "=============================================\n",
       "Number of variables:           3\n",
       "Continuous/binaries/integers:  3/0/0\n",
       "---------------------------------------------\n",
       "Number of linear constraints:  4\n",
       "Inequalities/equalities:       4/0\n",
       "Number of coefficients:        9\n",
       "---------------------------------------------\n",
       "Number of SOC constraints:     0\n",
       "---------------------------------------------\n",
       "Number of ExpCone constraints: 0"
      ]
     },
     "execution_count": 5,
     "metadata": {},
     "output_type": "execute_result"
    }
   ],
   "source": [
    "model.do_math()"
   ]
  },
  {
   "cell_type": "code",
   "execution_count": 6,
   "id": "316b80e3",
   "metadata": {
    "scrolled": true
   },
   "outputs": [
    {
     "data": {
      "text/html": [
       "<div>\n",
       "<style scoped>\n",
       "    .dataframe tbody tr th:only-of-type {\n",
       "        vertical-align: middle;\n",
       "    }\n",
       "\n",
       "    .dataframe tbody tr th {\n",
       "        vertical-align: top;\n",
       "    }\n",
       "\n",
       "    .dataframe thead th {\n",
       "        text-align: right;\n",
       "    }\n",
       "</style>\n",
       "<table border=\"1\" class=\"dataframe\">\n",
       "  <thead>\n",
       "    <tr style=\"text-align: right;\">\n",
       "      <th></th>\n",
       "      <th>x1</th>\n",
       "      <th>x2</th>\n",
       "      <th>x3</th>\n",
       "      <th>sense</th>\n",
       "      <th>constant</th>\n",
       "    </tr>\n",
       "  </thead>\n",
       "  <tbody>\n",
       "    <tr>\n",
       "      <th>Obj</th>\n",
       "      <td>1.0</td>\n",
       "      <td>0.0</td>\n",
       "      <td>0.0</td>\n",
       "      <td>-</td>\n",
       "      <td>-</td>\n",
       "    </tr>\n",
       "    <tr>\n",
       "      <th>LC1</th>\n",
       "      <td>0.0</td>\n",
       "      <td>2.5</td>\n",
       "      <td>1.0</td>\n",
       "      <td>&lt;=</td>\n",
       "      <td>20.0</td>\n",
       "    </tr>\n",
       "    <tr>\n",
       "      <th>LC2</th>\n",
       "      <td>0.0</td>\n",
       "      <td>5.0</td>\n",
       "      <td>3.0</td>\n",
       "      <td>&lt;=</td>\n",
       "      <td>30.0</td>\n",
       "    </tr>\n",
       "    <tr>\n",
       "      <th>LC3</th>\n",
       "      <td>0.0</td>\n",
       "      <td>1.0</td>\n",
       "      <td>2.0</td>\n",
       "      <td>&lt;=</td>\n",
       "      <td>16.0</td>\n",
       "    </tr>\n",
       "    <tr>\n",
       "      <th>LC4</th>\n",
       "      <td>-1.0</td>\n",
       "      <td>-3.0</td>\n",
       "      <td>-4.0</td>\n",
       "      <td>&lt;=</td>\n",
       "      <td>-0.0</td>\n",
       "    </tr>\n",
       "    <tr>\n",
       "      <th>UB</th>\n",
       "      <td>inf</td>\n",
       "      <td>inf</td>\n",
       "      <td>inf</td>\n",
       "      <td>-</td>\n",
       "      <td>-</td>\n",
       "    </tr>\n",
       "    <tr>\n",
       "      <th>LB</th>\n",
       "      <td>-inf</td>\n",
       "      <td>-inf</td>\n",
       "      <td>-inf</td>\n",
       "      <td>-</td>\n",
       "      <td>-</td>\n",
       "    </tr>\n",
       "    <tr>\n",
       "      <th>Type</th>\n",
       "      <td>C</td>\n",
       "      <td>C</td>\n",
       "      <td>C</td>\n",
       "      <td>-</td>\n",
       "      <td>-</td>\n",
       "    </tr>\n",
       "  </tbody>\n",
       "</table>\n",
       "</div>"
      ],
      "text/plain": [
       "       x1   x2   x3 sense constant\n",
       "Obj   1.0  0.0  0.0     -        -\n",
       "LC1   0.0  2.5  1.0    <=     20.0\n",
       "LC2   0.0  5.0  3.0    <=     30.0\n",
       "LC3   0.0  1.0  2.0    <=     16.0\n",
       "LC4  -1.0 -3.0 -4.0    <=     -0.0\n",
       "UB    inf  inf  inf     -        -\n",
       "LB   -inf -inf -inf     -        -\n",
       "Type    C    C    C     -        -"
      ]
     },
     "execution_count": 6,
     "metadata": {},
     "output_type": "execute_result"
    }
   ],
   "source": [
    "model.do_math().show()"
   ]
  },
  {
   "cell_type": "markdown",
   "id": "5db5254b",
   "metadata": {},
   "source": [
    "##### Method 2:\n",
    "\n",
    "We can also define variables $x_1$ and $x_2$ as an array $\\pmb{x}=(x_1, x_2)$."
   ]
  },
  {
   "cell_type": "code",
   "execution_count": 7,
   "id": "af33604b",
   "metadata": {},
   "outputs": [
    {
     "name": "stdout",
     "output_type": "stream",
     "text": [
      "Being solved by the default LP solver...\n",
      "Solution status: 0\n",
      "Running time: 0.0016s\n"
     ]
    }
   ],
   "source": [
    "model = ro.Model()\n",
    "\n",
    "x = model.dvar(2)                   # Define a variable as a 2-element array\n",
    "\n",
    "model.max(3*x[0] + 4*x[1])          # Maximize the objective function\n",
    "model.st(2.5*x[0] + x[1] <= 20)     # Specify the 1st constraints\n",
    "model.st(5*x[0] + 3*x[1] <= 30)     # Specify the 2nd constraints\n",
    "model.st(x[0] + 2*x[1] <= 16)       # Specify the 3rd constraints\n",
    "\n",
    "model.solve()                       # Solve the model by OR-Tools"
   ]
  },
  {
   "cell_type": "markdown",
   "id": "cfe1ac19",
   "metadata": {},
   "source": [
    "The optimal value and solution are the same as ***Method1***."
   ]
  },
  {
   "cell_type": "code",
   "execution_count": 8,
   "id": "555f6562",
   "metadata": {},
   "outputs": [
    {
     "data": {
      "text/plain": [
       "33.714285714285715"
      ]
     },
     "execution_count": 8,
     "metadata": {},
     "output_type": "execute_result"
    }
   ],
   "source": [
    "model.get()"
   ]
  },
  {
   "cell_type": "code",
   "execution_count": 9,
   "id": "ad3710d0",
   "metadata": {},
   "outputs": [
    {
     "data": {
      "text/plain": [
       "array([1.71428571, 7.14285714])"
      ]
     },
     "execution_count": 9,
     "metadata": {},
     "output_type": "execute_result"
    }
   ],
   "source": [
    "x.get()"
   ]
  },
  {
   "cell_type": "markdown",
   "id": "4a3cfd91",
   "metadata": {},
   "source": [
    "##### Method 3:\n",
    "\n",
    "A third method is to define all model parameters as arrays, and the linear programming problem is specified by NumPy-style array operations. "
   ]
  },
  {
   "cell_type": "code",
   "execution_count": 10,
   "id": "b08abf4a",
   "metadata": {},
   "outputs": [],
   "source": [
    "c = np.array([3, 4])            # Coefficient of the objective function\n",
    "b = np.array([20, 30, 16])      # Right-hand-side coefficients of constraints\n",
    "A = np.array([[2.5, 1],\n",
    "              [5, 3],\n",
    "              [1, 2]])          # Left-hand-side coefficients of constraints"
   ]
  },
  {
   "cell_type": "code",
   "execution_count": 11,
   "id": "f84e0c6a",
   "metadata": {
    "scrolled": true
   },
   "outputs": [
    {
     "name": "stdout",
     "output_type": "stream",
     "text": [
      "Being solved by the default LP solver...\n",
      "Solution status: 0\n",
      "Running time: 0.0012s\n"
     ]
    }
   ],
   "source": [
    "model = ro.Model()\n",
    "\n",
    "x = model.dvar(2)\n",
    "\n",
    "model.max((c*x).sum())\n",
    "model.st((A*x).sum(axis=1) <= b)\n",
    "\n",
    "model.solve()"
   ]
  },
  {
   "cell_type": "markdown",
   "id": "e2042ca1",
   "metadata": {},
   "source": [
    "The optimal value and solution are given below."
   ]
  },
  {
   "cell_type": "code",
   "execution_count": 12,
   "id": "330ff541",
   "metadata": {},
   "outputs": [
    {
     "data": {
      "text/plain": [
       "33.714285714285715"
      ]
     },
     "execution_count": 12,
     "metadata": {},
     "output_type": "execute_result"
    }
   ],
   "source": [
    "model.get()"
   ]
  },
  {
   "cell_type": "code",
   "execution_count": 13,
   "id": "d85c82c3",
   "metadata": {},
   "outputs": [
    {
     "data": {
      "text/plain": [
       "array([1.71428571, 7.14285714])"
      ]
     },
     "execution_count": 13,
     "metadata": {},
     "output_type": "execute_result"
    }
   ],
   "source": [
    "x.get()"
   ]
  },
  {
   "cell_type": "markdown",
   "id": "5d02fe74",
   "metadata": {},
   "source": [
    "### Application cases \n",
    "\n",
    "<div class=\"alert alert-block alert-success\" style=\"text-height=1.2\">\n",
    "<b>Example 1:</b>  \n",
    "The following table provides the cost and nutrition values of four different types of food. Find a minimum-cost diet that contains at least 1) 500 calories; 2) 6 grams of chocolate; 3) 10 grams of sugar; and 4) 8 grams of fat. \n",
    "</div>"
   ]
  },
  {
   "cell_type": "code",
   "execution_count": 14,
   "id": "773ce515",
   "metadata": {},
   "outputs": [
    {
     "data": {
      "text/html": [
       "<div>\n",
       "<style scoped>\n",
       "    .dataframe tbody tr th:only-of-type {\n",
       "        vertical-align: middle;\n",
       "    }\n",
       "\n",
       "    .dataframe tbody tr th {\n",
       "        vertical-align: top;\n",
       "    }\n",
       "\n",
       "    .dataframe thead th {\n",
       "        text-align: right;\n",
       "    }\n",
       "</style>\n",
       "<table border=\"1\" class=\"dataframe\">\n",
       "  <thead>\n",
       "    <tr style=\"text-align: right;\">\n",
       "      <th></th>\n",
       "      <th>Brownies</th>\n",
       "      <th>Ice Cream</th>\n",
       "      <th>Cola</th>\n",
       "      <th>Cheese Cake</th>\n",
       "    </tr>\n",
       "  </thead>\n",
       "  <tbody>\n",
       "    <tr>\n",
       "      <th>Calories</th>\n",
       "      <td>400.0</td>\n",
       "      <td>200.0</td>\n",
       "      <td>150.0</td>\n",
       "      <td>500.0</td>\n",
       "    </tr>\n",
       "    <tr>\n",
       "      <th>Chocolate</th>\n",
       "      <td>3.0</td>\n",
       "      <td>2.0</td>\n",
       "      <td>0.0</td>\n",
       "      <td>0.0</td>\n",
       "    </tr>\n",
       "    <tr>\n",
       "      <th>Sugar</th>\n",
       "      <td>2.0</td>\n",
       "      <td>2.0</td>\n",
       "      <td>4.0</td>\n",
       "      <td>4.0</td>\n",
       "    </tr>\n",
       "    <tr>\n",
       "      <th>Fat</th>\n",
       "      <td>2.0</td>\n",
       "      <td>4.0</td>\n",
       "      <td>1.0</td>\n",
       "      <td>5.0</td>\n",
       "    </tr>\n",
       "    <tr>\n",
       "      <th>Cost</th>\n",
       "      <td>0.5</td>\n",
       "      <td>0.2</td>\n",
       "      <td>0.3</td>\n",
       "      <td>0.8</td>\n",
       "    </tr>\n",
       "  </tbody>\n",
       "</table>\n",
       "</div>"
      ],
      "text/plain": [
       "           Brownies  Ice Cream   Cola  Cheese Cake\n",
       "Calories      400.0      200.0  150.0        500.0\n",
       "Chocolate       3.0        2.0    0.0          0.0\n",
       "Sugar           2.0        2.0    4.0          4.0\n",
       "Fat             2.0        4.0    1.0          5.0\n",
       "Cost            0.5        0.2    0.3          0.8"
      ]
     },
     "execution_count": 14,
     "metadata": {},
     "output_type": "execute_result"
    }
   ],
   "source": [
    "diet_dict = {'Brownies': [400, 3, 2, 2, 0.5],\n",
    "             'Ice Cream': [200, 2, 2, 4, 0.2], \n",
    "             'Cola': [150, 0, 4, 1, 0.3],\n",
    "             'Cheese Cake': [500, 0, 4, 5, 0.8]}\n",
    "diet = pd.DataFrame(diet_dict, \n",
    "                    index=['Calories', 'Chocolate', 'Sugar', 'Fat', 'Cost'])\n",
    "diet"
   ]
  },
  {
   "cell_type": "markdown",
   "id": "b7a439c7",
   "metadata": {},
   "source": [
    "Coefficients given in the data frame above are extract as an array `A`. "
   ]
  },
  {
   "cell_type": "code",
   "execution_count": 15,
   "id": "0cf06b10",
   "metadata": {},
   "outputs": [
    {
     "data": {
      "text/plain": [
       "array([[4.0e+02, 2.0e+02, 1.5e+02, 5.0e+02],\n",
       "       [3.0e+00, 2.0e+00, 0.0e+00, 0.0e+00],\n",
       "       [2.0e+00, 2.0e+00, 4.0e+00, 4.0e+00],\n",
       "       [2.0e+00, 4.0e+00, 1.0e+00, 5.0e+00],\n",
       "       [5.0e-01, 2.0e-01, 3.0e-01, 8.0e-01]])"
      ]
     },
     "execution_count": 15,
     "metadata": {},
     "output_type": "execute_result"
    }
   ],
   "source": [
    "A = diet.values             \n",
    "A"
   ]
  },
  {
   "cell_type": "markdown",
   "id": "9ab11eec",
   "metadata": {},
   "source": [
    "The nutrition requirements are defined as a one-dimensional array `b`. "
   ]
  },
  {
   "cell_type": "code",
   "execution_count": 16,
   "id": "5ad01204",
   "metadata": {},
   "outputs": [
    {
     "data": {
      "text/plain": [
       "array([500,   6,  10,   8])"
      ]
     },
     "execution_count": 16,
     "metadata": {},
     "output_type": "execute_result"
    }
   ],
   "source": [
    "b = np.array([500, 6, 10, 8])\n",
    "b"
   ]
  },
  {
   "cell_type": "markdown",
   "id": "2fecd9b0",
   "metadata": {},
   "source": [
    "The diet problem can be formulated as\n",
    "\\begin{align}\n",
    "\\min~&A_{41}x_1 + A_{42}x_2 + A_{43}x_3 + A_{44}x_4 \\\\\n",
    "\\text{s.t.}~&A_{01}x_1 + A_{02}x_2 + A_{03}x_3 + A_{04}x_4 \\geq b_0 \\\\\n",
    "&A_{11}x_1 + A_{12}x_2 + A_{13}x_3 + A_{14}x_4 \\geq b_1 \\\\\n",
    "&A_{21}x_1 + A_{22}x_2 + A_{23}x_3 + A_{24}x_4 \\geq b_2 \\\\\n",
    "&A_{31}x_1 + A_{32}x_2 + A_{33}x_3 + A_{34}x_4 \\geq b_3 \\\\\n",
    "&x_1, x_2, x_3, x_4 \\geq 0.\n",
    "\\end{align}\n",
    "where $x_i$ is the quantity of the $i$th food. Such a linear programming problem can be solved by the following code. "
   ]
  },
  {
   "cell_type": "code",
   "execution_count": 17,
   "id": "0f9b5196",
   "metadata": {
    "scrolled": true
   },
   "outputs": [
    {
     "name": "stdout",
     "output_type": "stream",
     "text": [
      "Being solved by the default LP solver...\n",
      "Solution status: 0\n",
      "Running time: 0.0033s\n"
     ]
    }
   ],
   "source": [
    "model = ro.Model()\n",
    "\n",
    "x = model.dvar(4)                   # Define decision variables\n",
    "\n",
    "model.min((A[-1, :]*x).sum())\n",
    "model.st((A[:-1, :]*x).sum(axis=1) >= b)\n",
    "model.st(x >= 0)\n",
    "model.solve()"
   ]
  },
  {
   "cell_type": "markdown",
   "id": "5f1ed3d0",
   "metadata": {},
   "source": [
    "The optimal solution is presented below."
   ]
  },
  {
   "cell_type": "code",
   "execution_count": 18,
   "id": "17842446",
   "metadata": {},
   "outputs": [
    {
     "data": {
      "text/plain": [
       "Brownies       0.0\n",
       "Ice Cream      3.0\n",
       "Cola           1.0\n",
       "Cheese Cake    0.0\n",
       "dtype: float64"
      ]
     },
     "execution_count": 18,
     "metadata": {},
     "output_type": "execute_result"
    }
   ],
   "source": [
    "pd.Series(x.get(), index=diet.columns)"
   ]
  },
  {
   "cell_type": "markdown",
   "id": "31cf1077",
   "metadata": {},
   "source": [
    "<div class=\"alert alert-block alert-success\" style=\"text-height=1.2\">\n",
    "<b>Example 2:</b>  \n",
    "A furniture company is producing four types furniture: chairs, tables, stools, and shelves. All furniture products involves three operations: plaining, assembling, and painting. The profits of each type of furniture, and the required working minutes for each operation is presented in the table <span style='font-family:Courier'><b>furniture</b></span>. It is assumed that the due to a license issue, this company can at most produce 1200 shelf per month, and the maximum working minutes for each operation is given in the series <span style='font-family:Courier'><b>cap</b></span>. \n",
    "    <li>Write the formula of the linear programming model which maximizes the total profit.</li>\n",
    "    <li>Use RSOME to implement the model.</li>\n",
    "</div>"
   ]
  },
  {
   "cell_type": "code",
   "execution_count": 19,
   "id": "5e4b0ae1",
   "metadata": {
    "scrolled": true
   },
   "outputs": [
    {
     "data": {
      "text/html": [
       "<div>\n",
       "<style scoped>\n",
       "    .dataframe tbody tr th:only-of-type {\n",
       "        vertical-align: middle;\n",
       "    }\n",
       "\n",
       "    .dataframe tbody tr th {\n",
       "        vertical-align: top;\n",
       "    }\n",
       "\n",
       "    .dataframe thead th {\n",
       "        text-align: right;\n",
       "    }\n",
       "</style>\n",
       "<table border=\"1\" class=\"dataframe\">\n",
       "  <thead>\n",
       "    <tr style=\"text-align: right;\">\n",
       "      <th></th>\n",
       "      <th>Chair</th>\n",
       "      <th>Table</th>\n",
       "      <th>Stool</th>\n",
       "      <th>Shelf</th>\n",
       "    </tr>\n",
       "  </thead>\n",
       "  <tbody>\n",
       "    <tr>\n",
       "      <th>Profit</th>\n",
       "      <td>12.0</td>\n",
       "      <td>18.00</td>\n",
       "      <td>16.0</td>\n",
       "      <td>30.0</td>\n",
       "    </tr>\n",
       "    <tr>\n",
       "      <th>Plaining</th>\n",
       "      <td>5.0</td>\n",
       "      <td>10.00</td>\n",
       "      <td>12.0</td>\n",
       "      <td>12.0</td>\n",
       "    </tr>\n",
       "    <tr>\n",
       "      <th>Assembling</th>\n",
       "      <td>6.0</td>\n",
       "      <td>3.00</td>\n",
       "      <td>4.0</td>\n",
       "      <td>5.0</td>\n",
       "    </tr>\n",
       "    <tr>\n",
       "      <th>Painting</th>\n",
       "      <td>5.0</td>\n",
       "      <td>6.25</td>\n",
       "      <td>5.0</td>\n",
       "      <td>12.5</td>\n",
       "    </tr>\n",
       "  </tbody>\n",
       "</table>\n",
       "</div>"
      ],
      "text/plain": [
       "            Chair  Table  Stool  Shelf\n",
       "Profit       12.0  18.00   16.0   30.0\n",
       "Plaining      5.0  10.00   12.0   12.0\n",
       "Assembling    6.0   3.00    4.0    5.0\n",
       "Painting      5.0   6.25    5.0   12.5"
      ]
     },
     "execution_count": 19,
     "metadata": {},
     "output_type": "execute_result"
    }
   ],
   "source": [
    "furniture = pd.DataFrame([[12.0, 18.0, 16.0, 30.0],\n",
    "                          [5, 10, 12, 12],\n",
    "                          [6, 3, 4, 5],\n",
    "                          [5, 6.25, 5, 12.5]], \n",
    "                         index=['Profit', 'Plaining', 'Assembling', 'Painting'], \n",
    "                         columns=['Chair', 'Table', 'Stool', 'Shelf'])\n",
    "furniture"
   ]
  },
  {
   "cell_type": "code",
   "execution_count": 20,
   "id": "3b28dd93",
   "metadata": {
    "scrolled": true
   },
   "outputs": [
    {
     "data": {
      "text/plain": [
       "Plaining      27000.0\n",
       "Assembling    18000.0\n",
       "Painting      25000.0\n",
       "dtype: float64"
      ]
     },
     "execution_count": 20,
     "metadata": {},
     "output_type": "execute_result"
    }
   ],
   "source": [
    "cap = pd.Series([27000.0, 18000.0, 25000.0], \n",
    "                index=['Plaining', 'Assembling', 'Painting'])\n",
    "cap"
   ]
  },
  {
   "cell_type": "markdown",
   "id": "f34283e5",
   "metadata": {},
   "source": [
    "- Let the array $\\pmb{x}$ denote the production quantity of each type of furniture, the model formulation is written as:\n",
    "$$\n",
    "\\begin{align}\n",
    "\\max ~ &\\sum\\limits_{i=1}^3A_{0i}x_i \\\\\n",
    "\\text{s.t.}~&\\sum\\limits_{i=1}^3A_{(j+1)i}x_i \\leq c_j, &&j=0, 1, 2 \\\\\n",
    "&x_3 \\leq 1200 \\\\\n",
    "&x_i \\geq 0, &&i=0, 1, 2, 3\n",
    "\\end{align}\n",
    "$$\n",
    "\n",
    "where $A_{ji}$ is each coefficient in the `furniture` array, and $c_j$ is the element in the `cap` array."
   ]
  },
  {
   "cell_type": "markdown",
   "id": "35a7c191",
   "metadata": {},
   "source": [
    "The optimization model above can be implemented using RSOME."
   ]
  },
  {
   "cell_type": "code",
   "execution_count": 21,
   "id": "77627f79",
   "metadata": {},
   "outputs": [
    {
     "name": "stdout",
     "output_type": "stream",
     "text": [
      "Being solved by the default MILP solver...\n",
      "Solution status: 0\n",
      "Running time: 0.0089s\n"
     ]
    }
   ],
   "source": [
    "A = furniture.values\n",
    "c = cap.values\n",
    "\n",
    "model = ro.Model()\n",
    "\n",
    "x = model.dvar(4, vtype='I')\n",
    "\n",
    "model.max((A[0]*x).sum())\n",
    "model.st((A[1:]*x).sum(axis=1) <= c)\n",
    "model.st(x[-1] <= 1200)\n",
    "model.st(x >= 0)\n",
    "\n",
    "model.solve()"
   ]
  },
  {
   "cell_type": "markdown",
   "id": "20403f04",
   "metadata": {},
   "source": [
    "The maximum profit and the optimal decision are shown below."
   ]
  },
  {
   "cell_type": "code",
   "execution_count": 22,
   "id": "b1a8f15c",
   "metadata": {},
   "outputs": [
    {
     "data": {
      "text/plain": [
       "62076.0"
      ]
     },
     "execution_count": 22,
     "metadata": {},
     "output_type": "execute_result"
    }
   ],
   "source": [
    "model.get()"
   ]
  },
  {
   "cell_type": "code",
   "execution_count": 23,
   "id": "7798f63e",
   "metadata": {},
   "outputs": [
    {
     "data": {
      "text/plain": [
       "Chair    1136.0\n",
       "Table     693.0\n",
       "Stool       0.0\n",
       "Shelf    1199.0\n",
       "dtype: float64"
      ]
     },
     "execution_count": 23,
     "metadata": {},
     "output_type": "execute_result"
    }
   ],
   "source": [
    "pd.Series(x.get(), index=furniture.columns)"
   ]
  },
  {
   "cell_type": "markdown",
   "id": "2abc87df",
   "metadata": {},
   "source": [
    "<div class=\"alert alert-block alert-success\" style=\"text-height=1.2\">\n",
    "<b>Example 3:</b>  \n",
    "    Consider the furniture company in <b>Example 6</b>, if the company is paying workers extra for overtime, and the per minute rates are given in the series <span style='font-family:Courier'><b>overtime</b></span>. Update the linear programming model above and use RSOME to solve it.\n",
    "</div>"
   ]
  },
  {
   "cell_type": "code",
   "execution_count": 24,
   "id": "c9c2ee40",
   "metadata": {},
   "outputs": [
    {
     "data": {
      "text/plain": [
       "Plaining      2.0\n",
       "Assembling    1.8\n",
       "Painting      1.5\n",
       "dtype: float64"
      ]
     },
     "execution_count": 24,
     "metadata": {},
     "output_type": "execute_result"
    }
   ],
   "source": [
    "overtime = pd.Series([2.0, 1.8, 1.5], \n",
    "                     index=['Plaining', 'Assembling', 'Painting'])\n",
    "overtime"
   ]
  },
  {
   "cell_type": "markdown",
   "id": "958887b9",
   "metadata": {},
   "source": [
    "Let $y_j$ be the amount of overtime spent on each step $j$, and $t_j$ be the corresponding cost for overtime, the updated model formulation is:\n",
    "\n",
    "$$\n",
    "\\begin{align}\n",
    "\\max ~ &\\sum\\limits_{i=1}^3A_{0i}x_i - \\sum\\limits_{j=0}^2t_jy_j\\\\\n",
    "\\text{s.t.}~&\\sum\\limits_{i=1}^3A_{(j+1)i}x_i \\leq c_j + y_j, &&j=0, 1, 2 \\\\\n",
    "&x_3 \\leq 1200 \\\\\n",
    "&x_i \\geq 0, &&i=0, 1, 2, 3 \\\\\n",
    "&y_j \\geq 0, &&j=0, 1, 2\n",
    "\\end{align}\n",
    "$$"
   ]
  },
  {
   "cell_type": "markdown",
   "id": "b46b01fc",
   "metadata": {},
   "source": [
    "The updated version is implemented by the following code."
   ]
  },
  {
   "cell_type": "code",
   "execution_count": 25,
   "id": "f331ebee",
   "metadata": {
    "scrolled": true
   },
   "outputs": [
    {
     "name": "stdout",
     "output_type": "stream",
     "text": [
      "Being solved by the default MILP solver...\n",
      "Solution status: 0\n",
      "Running time: 0.0204s\n"
     ]
    }
   ],
   "source": [
    "A = furniture.values\n",
    "c = cap.values\n",
    "t = overtime.values\n",
    "\n",
    "model = ro.Model()\n",
    "\n",
    "x = model.dvar(4, vtype='I')\n",
    "y = model.dvar(3)\n",
    "\n",
    "model.max((A[0]*x).sum() -  (t*y).sum())\n",
    "model.st((A[1:]*x).sum(axis=1) <= c + y)\n",
    "model.st(x[-1] <= 1200)\n",
    "model.st(x >= 0)\n",
    "model.st(y >= 0)\n",
    "\n",
    "model.solve()"
   ]
  },
  {
   "cell_type": "markdown",
   "id": "e9d0df5b",
   "metadata": {},
   "source": [
    "When overtime is allowed, the maximum profit is increased."
   ]
  },
  {
   "cell_type": "code",
   "execution_count": 26,
   "id": "468fe86e",
   "metadata": {},
   "outputs": [
    {
     "data": {
      "text/plain": [
       "62209.875"
      ]
     },
     "execution_count": 26,
     "metadata": {},
     "output_type": "execute_result"
    }
   ],
   "source": [
    "model.get()"
   ]
  },
  {
   "cell_type": "markdown",
   "id": "e94a7dc0",
   "metadata": {},
   "source": [
    "The optimal solution in terms of the production quantities is presented below."
   ]
  },
  {
   "cell_type": "code",
   "execution_count": 27,
   "id": "0e3c0f61",
   "metadata": {},
   "outputs": [
    {
     "data": {
      "text/plain": [
       "Chair    1826.0\n",
       "Table     347.0\n",
       "Stool       0.0\n",
       "Shelf    1200.0\n",
       "dtype: float64"
      ]
     },
     "execution_count": 27,
     "metadata": {},
     "output_type": "execute_result"
    }
   ],
   "source": [
    "pd.Series(x.get(), index=furniture.columns)"
   ]
  },
  {
   "cell_type": "markdown",
   "id": "aa5d7401",
   "metadata": {},
   "source": [
    "The decision on overtime minutes $\\pmb{y}$ is given as follows."
   ]
  },
  {
   "cell_type": "code",
   "execution_count": 28,
   "id": "52c63711",
   "metadata": {
    "scrolled": true
   },
   "outputs": [
    {
     "data": {
      "text/plain": [
       "Plaining         0.00\n",
       "Assembling       0.00\n",
       "Painting      1298.75\n",
       "dtype: float64"
      ]
     },
     "execution_count": 28,
     "metadata": {},
     "output_type": "execute_result"
    }
   ],
   "source": [
    "pd.Series(y.get(), index=overtime.index)"
   ]
  },
  {
   "cell_type": "markdown",
   "id": "96b99fe6",
   "metadata": {},
   "source": []
  }
 ],
 "metadata": {
  "kernelspec": {
   "display_name": "Python 3 (ipykernel)",
   "language": "python",
   "name": "python3"
  },
  "language_info": {
   "codemirror_mode": {
    "name": "ipython",
    "version": 3
   },
   "file_extension": ".py",
   "mimetype": "text/x-python",
   "name": "python",
   "nbconvert_exporter": "python",
   "pygments_lexer": "ipython3",
   "version": "3.9.13"
  },
  "varInspector": {
   "cols": {
    "lenName": 16,
    "lenType": 16,
    "lenVar": 40
   },
   "kernels_config": {
    "python": {
     "delete_cmd_postfix": "",
     "delete_cmd_prefix": "del ",
     "library": "var_list.py",
     "varRefreshCmd": "print(var_dic_list())"
    },
    "r": {
     "delete_cmd_postfix": ") ",
     "delete_cmd_prefix": "rm(",
     "library": "var_list.r",
     "varRefreshCmd": "cat(var_dic_list()) "
    }
   },
   "types_to_exclude": [
    "module",
    "function",
    "builtin_function_or_method",
    "instance",
    "_Feature"
   ],
   "window_display": false
  }
 },
 "nbformat": 4,
 "nbformat_minor": 5
}
