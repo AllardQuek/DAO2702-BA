{
 "cells": [
  {
   "cell_type": "markdown",
   "id": "939917b6",
   "metadata": {},
   "source": [
    "# Advanced Topics for Lecture 6\n",
    "\n",
    "## Self-Practice Using the `ExBook` Package\n",
    "\n",
    "### Introduction to `ExBook`\n",
    "`ExBook` is a Python package provided for students to practice Python programming by themselves. More information on `ExBook` can be found on the GitHub repository [here](https://github.com/XiongPengNUS/exbook). The package is installed by the following command."
   ]
  },
  {
   "cell_type": "code",
   "execution_count": 1,
   "id": "a3242942",
   "metadata": {
    "scrolled": true
   },
   "outputs": [
    {
     "name": "stdout",
     "output_type": "stream",
     "text": [
      "Requirement already satisfied: exbook in /Users/pengxiong/miniforge3/lib/python3.9/site-packages (0.0.5)\r\n"
     ]
    }
   ],
   "source": [
    "!pip install --upgrade exbook"
   ]
  },
  {
   "cell_type": "markdown",
   "id": "561498f2",
   "metadata": {},
   "source": [
    "If the package is successfully installed, you should be able to run the code cell below."
   ]
  },
  {
   "cell_type": "code",
   "execution_count": 2,
   "id": "9637651f",
   "metadata": {},
   "outputs": [
    {
     "data": {
      "text/plain": [
       "36"
      ]
     },
     "execution_count": 2,
     "metadata": {},
     "output_type": "execute_result"
    }
   ],
   "source": [
    "from exbook import book as eb\n",
    "\n",
    "len(eb)"
   ]
  },
  {
   "cell_type": "markdown",
   "id": "91047f3f",
   "metadata": {},
   "source": [
    "The `len()` function returns the number of questions provided by the package.\n",
    "\n",
    "If you are unable to install the package via the `pip` command, you may also use the online version of `ExBook` at: [Programming for Business Analytics](https://nus-biz-dao.herokuapp.com/) (Functions, Modules, and Packages).\n",
    "\n",
    "### Steps of Running `ExBook`\n",
    "\n",
    "1. Each question provided in the `ExBook` package can be accessed by an integer index starting from zero. See the examples below."
   ]
  },
  {
   "cell_type": "code",
   "execution_count": 3,
   "id": "c46eb262",
   "metadata": {
    "scrolled": true
   },
   "outputs": [
    {
     "name": "stdout",
     "output_type": "stream",
     "text": [
      "Define a function with two strings to be the input arguments. The output is \n",
      "the summation of the numerical values of the input strings. For example, if \n",
      "the input strings are \"3.5\"and \"2.7\", then the output is 6.2, as a floating\n",
      "point number.\n"
     ]
    },
    {
     "data": {
      "text/html": [
       "<div>\n",
       "<style scoped>\n",
       "    .dataframe tbody tr th:only-of-type {\n",
       "        vertical-align: middle;\n",
       "    }\n",
       "\n",
       "    .dataframe tbody tr th {\n",
       "        vertical-align: top;\n",
       "    }\n",
       "\n",
       "    .dataframe thead th {\n",
       "        text-align: right;\n",
       "    }\n",
       "</style>\n",
       "<table border=\"1\" class=\"dataframe\">\n",
       "  <thead>\n",
       "    <tr style=\"text-align: right;\">\n",
       "      <th></th>\n",
       "      <th>Input1: str</th>\n",
       "      <th>Input2: str</th>\n",
       "      <th>Output: float</th>\n",
       "    </tr>\n",
       "  </thead>\n",
       "  <tbody>\n",
       "    <tr>\n",
       "      <th>Test 1:</th>\n",
       "      <td>3.5</td>\n",
       "      <td>2.7</td>\n",
       "      <td>6.2</td>\n",
       "    </tr>\n",
       "  </tbody>\n",
       "</table>\n",
       "</div>"
      ],
      "text/plain": [
       "        Input1: str Input2: str Output: float\n",
       "Test 1:         3.5         2.7           6.2"
      ]
     },
     "metadata": {},
     "output_type": "display_data"
    },
    {
     "name": "stdout",
     "output_type": "stream",
     "text": [
      "\n",
      "\u001b[1mData Type Conversion: Easy\u001b[0;0m \n",
      "\n"
     ]
    }
   ],
   "source": [
    "print(eb[0])"
   ]
  },
  {
   "cell_type": "code",
   "execution_count": 4,
   "id": "817c4131",
   "metadata": {},
   "outputs": [
    {
     "name": "stdout",
     "output_type": "stream",
     "text": [
      "Write a function to determine whether an integer is a palindrome. An integer \n",
      "is a palindrome when it reads the same backward as forward. For example, \n",
      "121 is a palindrome so the output is True, 10 is not a palindrome so the\n",
      "output is False.\n"
     ]
    },
    {
     "data": {
      "text/html": [
       "<div>\n",
       "<style scoped>\n",
       "    .dataframe tbody tr th:only-of-type {\n",
       "        vertical-align: middle;\n",
       "    }\n",
       "\n",
       "    .dataframe tbody tr th {\n",
       "        vertical-align: top;\n",
       "    }\n",
       "\n",
       "    .dataframe thead th {\n",
       "        text-align: right;\n",
       "    }\n",
       "</style>\n",
       "<table border=\"1\" class=\"dataframe\">\n",
       "  <thead>\n",
       "    <tr style=\"text-align: right;\">\n",
       "      <th></th>\n",
       "      <th>Input1: int</th>\n",
       "      <th>Output: bool</th>\n",
       "    </tr>\n",
       "  </thead>\n",
       "  <tbody>\n",
       "    <tr>\n",
       "      <th>Test 1:</th>\n",
       "      <td>151</td>\n",
       "      <td>True</td>\n",
       "    </tr>\n",
       "    <tr>\n",
       "      <th>Test 1:</th>\n",
       "      <td>-5</td>\n",
       "      <td>False</td>\n",
       "    </tr>\n",
       "  </tbody>\n",
       "</table>\n",
       "</div>"
      ],
      "text/plain": [
       "        Input1: int Output: bool\n",
       "Test 1:         151         True\n",
       "Test 1:          -5        False"
      ]
     },
     "metadata": {},
     "output_type": "display_data"
    },
    {
     "name": "stdout",
     "output_type": "stream",
     "text": [
      "\n",
      "\u001b[1mPalindrome: Easy\u001b[0;0m \n",
      "\n"
     ]
    }
   ],
   "source": [
    "print(eb[1])"
   ]
  },
  {
   "cell_type": "markdown",
   "id": "8c013720",
   "metadata": {},
   "source": [
    "It can be seen that each question involves:\n",
    "- A description of the question\n",
    "- A sample input/output table, which shows the values and types of the function inputs and outputs.\n",
    "- The difficulty level of the question: easy, medium, hard, and very hard. \n",
    "\n",
    "2. According to the question description, we then define a function. For example, the function for `eb[0]` is defined as follows."
   ]
  },
  {
   "cell_type": "code",
   "execution_count": 5,
   "id": "6178e513",
   "metadata": {},
   "outputs": [],
   "source": [
    "def func(string1, string2):\n",
    "    \n",
    "    return float(string1) + float(string2)"
   ]
  },
  {
   "cell_type": "markdown",
   "id": "20054585",
   "metadata": {},
   "source": [
    "3. The `ExBook` package is able to automatically check the solution of the question in terms of the function defined above, using the `check()` method."
   ]
  },
  {
   "cell_type": "code",
   "execution_count": 6,
   "id": "674adf73",
   "metadata": {},
   "outputs": [
    {
     "name": "stdout",
     "output_type": "stream",
     "text": [
      "You passed 3 of the 3 tests. \n",
      "The solution is correct\n"
     ]
    }
   ],
   "source": [
    "eb[0].check(func)"
   ]
  },
  {
   "cell_type": "markdown",
   "id": "bbff6b49",
   "metadata": {},
   "source": [
    "The `check()` method checks the correctness of the solution via a number of tests. If all tests are passed, then the solution is correct. \n",
    "\n",
    "If the solution fail to pass the all tests, you may use the `cheat=True` option to display the inputs and outputs of all tests, so that you can find out why the solution is not completely correct."
   ]
  },
  {
   "cell_type": "code",
   "execution_count": 7,
   "id": "ff68b716",
   "metadata": {
    "scrolled": true
   },
   "outputs": [
    {
     "data": {
      "text/html": [
       "<div>\n",
       "<style scoped>\n",
       "    .dataframe tbody tr th:only-of-type {\n",
       "        vertical-align: middle;\n",
       "    }\n",
       "\n",
       "    .dataframe tbody tr th {\n",
       "        vertical-align: top;\n",
       "    }\n",
       "\n",
       "    .dataframe thead th {\n",
       "        text-align: right;\n",
       "    }\n",
       "</style>\n",
       "<table border=\"1\" class=\"dataframe\">\n",
       "  <thead>\n",
       "    <tr style=\"text-align: right;\">\n",
       "      <th></th>\n",
       "      <th>Input 1: str</th>\n",
       "      <th>Input 2: str</th>\n",
       "      <th>Your output</th>\n",
       "      <th>Correct output: float</th>\n",
       "      <th>Correct</th>\n",
       "    </tr>\n",
       "  </thead>\n",
       "  <tbody>\n",
       "    <tr>\n",
       "      <th>Test 1:</th>\n",
       "      <td>3.5</td>\n",
       "      <td>2.7</td>\n",
       "      <td>6.2</td>\n",
       "      <td>6.2</td>\n",
       "      <td>True</td>\n",
       "    </tr>\n",
       "    <tr>\n",
       "      <th>Test 2:</th>\n",
       "      <td>1.2</td>\n",
       "      <td>5</td>\n",
       "      <td>6.2</td>\n",
       "      <td>6.2</td>\n",
       "      <td>True</td>\n",
       "    </tr>\n",
       "    <tr>\n",
       "      <th>Test 3:</th>\n",
       "      <td>2</td>\n",
       "      <td>4</td>\n",
       "      <td>6.0</td>\n",
       "      <td>6</td>\n",
       "      <td>True</td>\n",
       "    </tr>\n",
       "  </tbody>\n",
       "</table>\n",
       "</div>"
      ],
      "text/plain": [
       "        Input 1: str Input 2: str Your output Correct output: float Correct\n",
       "Test 1:          3.5          2.7         6.2                   6.2    True\n",
       "Test 2:          1.2            5         6.2                   6.2    True\n",
       "Test 3:            2            4         6.0                     6    True"
      ]
     },
     "metadata": {},
     "output_type": "display_data"
    },
    {
     "name": "stdout",
     "output_type": "stream",
     "text": [
      "You passed 3 of the 3 tests. \n",
      "The solution is correct\n"
     ]
    }
   ],
   "source": [
    "eb[0].check(func, cheat=True)"
   ]
  },
  {
   "cell_type": "markdown",
   "id": "92a6bc72",
   "metadata": {},
   "source": [
    "You may now work on other questions using other question indexes 1, 2, ..."
   ]
  },
  {
   "cell_type": "code",
   "execution_count": null,
   "id": "a183f088",
   "metadata": {},
   "outputs": [],
   "source": []
  }
 ],
 "metadata": {
  "kernelspec": {
   "display_name": "Python 3 (ipykernel)",
   "language": "python",
   "name": "python3"
  },
  "language_info": {
   "codemirror_mode": {
    "name": "ipython",
    "version": 3
   },
   "file_extension": ".py",
   "mimetype": "text/x-python",
   "name": "python",
   "nbconvert_exporter": "python",
   "pygments_lexer": "ipython3",
   "version": "3.9.13"
  },
  "varInspector": {
   "cols": {
    "lenName": 16,
    "lenType": 16,
    "lenVar": 40
   },
   "kernels_config": {
    "python": {
     "delete_cmd_postfix": "",
     "delete_cmd_prefix": "del ",
     "library": "var_list.py",
     "varRefreshCmd": "print(var_dic_list())"
    },
    "r": {
     "delete_cmd_postfix": ") ",
     "delete_cmd_prefix": "rm(",
     "library": "var_list.r",
     "varRefreshCmd": "cat(var_dic_list()) "
    }
   },
   "types_to_exclude": [
    "module",
    "function",
    "builtin_function_or_method",
    "instance",
    "_Feature"
   ],
   "window_display": false
  }
 },
 "nbformat": 4,
 "nbformat_minor": 5
}
