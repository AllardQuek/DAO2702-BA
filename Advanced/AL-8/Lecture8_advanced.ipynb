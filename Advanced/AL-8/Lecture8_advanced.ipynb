{
 "cells": [
  {
   "cell_type": "markdown",
   "id": "41bee0bc",
   "metadata": {},
   "source": [
    "# Advanced Topics for Lecture 8\n",
    "\n",
    "## Code for Creating Data Visuals in the Lecture Notes\n",
    "\n",
    "The code for creating the data visuals in the lecture notes are presented below.\n",
    "\n",
    "### Question 1\n",
    "\n",
    "#### Data preparation"
   ]
  },
  {
   "cell_type": "code",
   "execution_count": 1,
   "id": "b0431257",
   "metadata": {},
   "outputs": [
    {
     "data": {
      "text/html": [
       "<div>\n",
       "<style scoped>\n",
       "    .dataframe tbody tr th:only-of-type {\n",
       "        vertical-align: middle;\n",
       "    }\n",
       "\n",
       "    .dataframe tbody tr th {\n",
       "        vertical-align: top;\n",
       "    }\n",
       "\n",
       "    .dataframe thead th {\n",
       "        text-align: right;\n",
       "    }\n",
       "</style>\n",
       "<table border=\"1\" class=\"dataframe\">\n",
       "  <thead>\n",
       "    <tr style=\"text-align: right;\">\n",
       "      <th></th>\n",
       "      <th>1999</th>\n",
       "      <th>2000</th>\n",
       "      <th>2001</th>\n",
       "      <th>2002</th>\n",
       "      <th>2003</th>\n",
       "      <th>2004</th>\n",
       "      <th>2005</th>\n",
       "      <th>2006</th>\n",
       "      <th>2007</th>\n",
       "      <th>2008</th>\n",
       "      <th>...</th>\n",
       "      <th>2011</th>\n",
       "      <th>2012</th>\n",
       "      <th>2013</th>\n",
       "      <th>2014</th>\n",
       "      <th>2015</th>\n",
       "      <th>2016</th>\n",
       "      <th>2017</th>\n",
       "      <th>2018</th>\n",
       "      <th>2019</th>\n",
       "      <th>2020</th>\n",
       "    </tr>\n",
       "    <tr>\n",
       "      <th>Country Code</th>\n",
       "      <th></th>\n",
       "      <th></th>\n",
       "      <th></th>\n",
       "      <th></th>\n",
       "      <th></th>\n",
       "      <th></th>\n",
       "      <th></th>\n",
       "      <th></th>\n",
       "      <th></th>\n",
       "      <th></th>\n",
       "      <th></th>\n",
       "      <th></th>\n",
       "      <th></th>\n",
       "      <th></th>\n",
       "      <th></th>\n",
       "      <th></th>\n",
       "      <th></th>\n",
       "      <th></th>\n",
       "      <th></th>\n",
       "      <th></th>\n",
       "      <th></th>\n",
       "    </tr>\n",
       "  </thead>\n",
       "  <tbody>\n",
       "    <tr>\n",
       "      <th>BRN</th>\n",
       "      <td>4.600000e+09</td>\n",
       "      <td>6.001153e+09</td>\n",
       "      <td>5.601091e+09</td>\n",
       "      <td>5.843329e+09</td>\n",
       "      <td>6.557333e+09</td>\n",
       "      <td>7.872333e+09</td>\n",
       "      <td>9.531403e+09</td>\n",
       "      <td>1.147070e+10</td>\n",
       "      <td>1.224769e+10</td>\n",
       "      <td>1.439310e+10</td>\n",
       "      <td>...</td>\n",
       "      <td>1.852532e+10</td>\n",
       "      <td>1.904794e+10</td>\n",
       "      <td>1.809383e+10</td>\n",
       "      <td>1.709834e+10</td>\n",
       "      <td>1.293039e+10</td>\n",
       "      <td>1.140085e+10</td>\n",
       "      <td>1.212810e+10</td>\n",
       "      <td>1.356735e+10</td>\n",
       "      <td>1.346942e+10</td>\n",
       "      <td>1.200583e+10</td>\n",
       "    </tr>\n",
       "    <tr>\n",
       "      <th>KHM</th>\n",
       "      <td>3.517242e+09</td>\n",
       "      <td>3.654032e+09</td>\n",
       "      <td>3.984001e+09</td>\n",
       "      <td>4.284028e+09</td>\n",
       "      <td>4.658247e+09</td>\n",
       "      <td>5.337833e+09</td>\n",
       "      <td>6.293046e+09</td>\n",
       "      <td>7.274596e+09</td>\n",
       "      <td>8.639236e+09</td>\n",
       "      <td>1.035191e+10</td>\n",
       "      <td>...</td>\n",
       "      <td>1.282954e+10</td>\n",
       "      <td>1.405444e+10</td>\n",
       "      <td>1.522799e+10</td>\n",
       "      <td>1.670261e+10</td>\n",
       "      <td>1.804995e+10</td>\n",
       "      <td>2.001675e+10</td>\n",
       "      <td>2.217720e+10</td>\n",
       "      <td>2.457175e+10</td>\n",
       "      <td>2.708939e+10</td>\n",
       "      <td>2.587280e+10</td>\n",
       "    </tr>\n",
       "    <tr>\n",
       "      <th>IDN</th>\n",
       "      <td>1.400014e+11</td>\n",
       "      <td>1.650210e+11</td>\n",
       "      <td>1.604469e+11</td>\n",
       "      <td>1.956606e+11</td>\n",
       "      <td>2.347725e+11</td>\n",
       "      <td>2.568369e+11</td>\n",
       "      <td>2.858686e+11</td>\n",
       "      <td>3.645705e+11</td>\n",
       "      <td>4.322167e+11</td>\n",
       "      <td>5.102286e+11</td>\n",
       "      <td>...</td>\n",
       "      <td>8.929691e+11</td>\n",
       "      <td>9.178699e+11</td>\n",
       "      <td>9.125241e+11</td>\n",
       "      <td>8.908148e+11</td>\n",
       "      <td>8.608542e+11</td>\n",
       "      <td>9.318774e+11</td>\n",
       "      <td>1.015619e+12</td>\n",
       "      <td>1.042272e+12</td>\n",
       "      <td>1.119100e+12</td>\n",
       "      <td>1.058689e+12</td>\n",
       "    </tr>\n",
       "    <tr>\n",
       "      <th>LAO</th>\n",
       "      <td>1.454431e+09</td>\n",
       "      <td>1.731198e+09</td>\n",
       "      <td>1.768619e+09</td>\n",
       "      <td>1.758177e+09</td>\n",
       "      <td>2.023324e+09</td>\n",
       "      <td>2.366398e+09</td>\n",
       "      <td>2.735559e+09</td>\n",
       "      <td>3.455031e+09</td>\n",
       "      <td>4.223152e+09</td>\n",
       "      <td>5.446434e+09</td>\n",
       "      <td>...</td>\n",
       "      <td>8.750107e+09</td>\n",
       "      <td>1.019285e+10</td>\n",
       "      <td>1.198325e+10</td>\n",
       "      <td>1.327925e+10</td>\n",
       "      <td>1.442638e+10</td>\n",
       "      <td>1.591250e+10</td>\n",
       "      <td>1.707116e+10</td>\n",
       "      <td>1.814165e+10</td>\n",
       "      <td>1.874056e+10</td>\n",
       "      <td>1.898180e+10</td>\n",
       "    </tr>\n",
       "    <tr>\n",
       "      <th>MYS</th>\n",
       "      <td>7.914842e+10</td>\n",
       "      <td>9.378974e+10</td>\n",
       "      <td>9.278395e+10</td>\n",
       "      <td>1.008455e+11</td>\n",
       "      <td>1.102024e+11</td>\n",
       "      <td>1.247495e+11</td>\n",
       "      <td>1.435341e+11</td>\n",
       "      <td>1.626912e+11</td>\n",
       "      <td>1.935478e+11</td>\n",
       "      <td>2.308139e+11</td>\n",
       "      <td>...</td>\n",
       "      <td>2.979520e+11</td>\n",
       "      <td>3.144431e+11</td>\n",
       "      <td>3.232772e+11</td>\n",
       "      <td>3.380620e+11</td>\n",
       "      <td>3.013548e+11</td>\n",
       "      <td>3.012554e+11</td>\n",
       "      <td>3.191121e+11</td>\n",
       "      <td>3.587915e+11</td>\n",
       "      <td>3.652764e+11</td>\n",
       "      <td>3.370060e+11</td>\n",
       "    </tr>\n",
       "    <tr>\n",
       "      <th>MMR</th>\n",
       "      <td>5.643819e+09</td>\n",
       "      <td>6.849322e+09</td>\n",
       "      <td>6.220271e+09</td>\n",
       "      <td>6.110633e+09</td>\n",
       "      <td>7.754647e+09</td>\n",
       "      <td>9.390855e+09</td>\n",
       "      <td>1.058843e+10</td>\n",
       "      <td>1.186302e+10</td>\n",
       "      <td>1.559118e+10</td>\n",
       "      <td>2.301302e+10</td>\n",
       "      <td>...</td>\n",
       "      <td>5.411860e+10</td>\n",
       "      <td>5.831868e+10</td>\n",
       "      <td>6.057226e+10</td>\n",
       "      <td>6.326489e+10</td>\n",
       "      <td>6.304531e+10</td>\n",
       "      <td>6.029174e+10</td>\n",
       "      <td>6.144939e+10</td>\n",
       "      <td>6.714473e+10</td>\n",
       "      <td>6.869776e+10</td>\n",
       "      <td>7.893026e+10</td>\n",
       "    </tr>\n",
       "    <tr>\n",
       "      <th>PHL</th>\n",
       "      <td>8.564013e+10</td>\n",
       "      <td>8.366969e+10</td>\n",
       "      <td>7.892123e+10</td>\n",
       "      <td>8.430729e+10</td>\n",
       "      <td>8.703915e+10</td>\n",
       "      <td>9.500203e+10</td>\n",
       "      <td>1.074200e+11</td>\n",
       "      <td>1.276529e+11</td>\n",
       "      <td>1.559804e+11</td>\n",
       "      <td>1.816246e+11</td>\n",
       "      <td>...</td>\n",
       "      <td>2.342169e+11</td>\n",
       "      <td>2.619205e+11</td>\n",
       "      <td>2.839027e+11</td>\n",
       "      <td>2.974832e+11</td>\n",
       "      <td>3.064461e+11</td>\n",
       "      <td>3.186268e+11</td>\n",
       "      <td>3.284809e+11</td>\n",
       "      <td>3.468421e+11</td>\n",
       "      <td>3.768233e+11</td>\n",
       "      <td>3.617511e+11</td>\n",
       "    </tr>\n",
       "    <tr>\n",
       "      <th>SGP</th>\n",
       "      <td>8.628466e+10</td>\n",
       "      <td>9.607448e+10</td>\n",
       "      <td>8.979494e+10</td>\n",
       "      <td>9.253775e+10</td>\n",
       "      <td>9.764545e+10</td>\n",
       "      <td>1.150355e+11</td>\n",
       "      <td>1.278076e+11</td>\n",
       "      <td>1.486304e+11</td>\n",
       "      <td>1.809419e+11</td>\n",
       "      <td>1.936120e+11</td>\n",
       "      <td>...</td>\n",
       "      <td>2.793512e+11</td>\n",
       "      <td>2.950872e+11</td>\n",
       "      <td>3.075764e+11</td>\n",
       "      <td>3.148512e+11</td>\n",
       "      <td>3.080041e+11</td>\n",
       "      <td>3.188324e+11</td>\n",
       "      <td>3.431934e+11</td>\n",
       "      <td>3.769981e+11</td>\n",
       "      <td>3.754727e+11</td>\n",
       "      <td>3.452959e+11</td>\n",
       "    </tr>\n",
       "    <tr>\n",
       "      <th>THA</th>\n",
       "      <td>1.266691e+11</td>\n",
       "      <td>1.263922e+11</td>\n",
       "      <td>1.202965e+11</td>\n",
       "      <td>1.343009e+11</td>\n",
       "      <td>1.522807e+11</td>\n",
       "      <td>1.728957e+11</td>\n",
       "      <td>1.893185e+11</td>\n",
       "      <td>2.217582e+11</td>\n",
       "      <td>2.629425e+11</td>\n",
       "      <td>2.913830e+11</td>\n",
       "      <td>...</td>\n",
       "      <td>3.708191e+11</td>\n",
       "      <td>3.975582e+11</td>\n",
       "      <td>4.203332e+11</td>\n",
       "      <td>4.073395e+11</td>\n",
       "      <td>4.012964e+11</td>\n",
       "      <td>4.133662e+11</td>\n",
       "      <td>4.563570e+11</td>\n",
       "      <td>5.067546e+11</td>\n",
       "      <td>5.440811e+11</td>\n",
       "      <td>4.996818e+11</td>\n",
       "    </tr>\n",
       "    <tr>\n",
       "      <th>VNM</th>\n",
       "      <td>2.868366e+10</td>\n",
       "      <td>3.117252e+10</td>\n",
       "      <td>3.268520e+10</td>\n",
       "      <td>3.506411e+10</td>\n",
       "      <td>3.955251e+10</td>\n",
       "      <td>4.542785e+10</td>\n",
       "      <td>5.763326e+10</td>\n",
       "      <td>6.637166e+10</td>\n",
       "      <td>7.741443e+10</td>\n",
       "      <td>9.913030e+10</td>\n",
       "      <td>...</td>\n",
       "      <td>1.725960e+11</td>\n",
       "      <td>1.955925e+11</td>\n",
       "      <td>2.137109e+11</td>\n",
       "      <td>2.334500e+11</td>\n",
       "      <td>2.392572e+11</td>\n",
       "      <td>2.570960e+11</td>\n",
       "      <td>2.813534e+11</td>\n",
       "      <td>3.087021e+11</td>\n",
       "      <td>3.303913e+11</td>\n",
       "      <td>3.432426e+11</td>\n",
       "    </tr>\n",
       "  </tbody>\n",
       "</table>\n",
       "<p>10 rows × 22 columns</p>\n",
       "</div>"
      ],
      "text/plain": [
       "                      1999          2000          2001          2002  \\\n",
       "Country Code                                                           \n",
       "BRN           4.600000e+09  6.001153e+09  5.601091e+09  5.843329e+09   \n",
       "KHM           3.517242e+09  3.654032e+09  3.984001e+09  4.284028e+09   \n",
       "IDN           1.400014e+11  1.650210e+11  1.604469e+11  1.956606e+11   \n",
       "LAO           1.454431e+09  1.731198e+09  1.768619e+09  1.758177e+09   \n",
       "MYS           7.914842e+10  9.378974e+10  9.278395e+10  1.008455e+11   \n",
       "MMR           5.643819e+09  6.849322e+09  6.220271e+09  6.110633e+09   \n",
       "PHL           8.564013e+10  8.366969e+10  7.892123e+10  8.430729e+10   \n",
       "SGP           8.628466e+10  9.607448e+10  8.979494e+10  9.253775e+10   \n",
       "THA           1.266691e+11  1.263922e+11  1.202965e+11  1.343009e+11   \n",
       "VNM           2.868366e+10  3.117252e+10  3.268520e+10  3.506411e+10   \n",
       "\n",
       "                      2003          2004          2005          2006  \\\n",
       "Country Code                                                           \n",
       "BRN           6.557333e+09  7.872333e+09  9.531403e+09  1.147070e+10   \n",
       "KHM           4.658247e+09  5.337833e+09  6.293046e+09  7.274596e+09   \n",
       "IDN           2.347725e+11  2.568369e+11  2.858686e+11  3.645705e+11   \n",
       "LAO           2.023324e+09  2.366398e+09  2.735559e+09  3.455031e+09   \n",
       "MYS           1.102024e+11  1.247495e+11  1.435341e+11  1.626912e+11   \n",
       "MMR           7.754647e+09  9.390855e+09  1.058843e+10  1.186302e+10   \n",
       "PHL           8.703915e+10  9.500203e+10  1.074200e+11  1.276529e+11   \n",
       "SGP           9.764545e+10  1.150355e+11  1.278076e+11  1.486304e+11   \n",
       "THA           1.522807e+11  1.728957e+11  1.893185e+11  2.217582e+11   \n",
       "VNM           3.955251e+10  4.542785e+10  5.763326e+10  6.637166e+10   \n",
       "\n",
       "                      2007          2008  ...          2011          2012  \\\n",
       "Country Code                              ...                               \n",
       "BRN           1.224769e+10  1.439310e+10  ...  1.852532e+10  1.904794e+10   \n",
       "KHM           8.639236e+09  1.035191e+10  ...  1.282954e+10  1.405444e+10   \n",
       "IDN           4.322167e+11  5.102286e+11  ...  8.929691e+11  9.178699e+11   \n",
       "LAO           4.223152e+09  5.446434e+09  ...  8.750107e+09  1.019285e+10   \n",
       "MYS           1.935478e+11  2.308139e+11  ...  2.979520e+11  3.144431e+11   \n",
       "MMR           1.559118e+10  2.301302e+10  ...  5.411860e+10  5.831868e+10   \n",
       "PHL           1.559804e+11  1.816246e+11  ...  2.342169e+11  2.619205e+11   \n",
       "SGP           1.809419e+11  1.936120e+11  ...  2.793512e+11  2.950872e+11   \n",
       "THA           2.629425e+11  2.913830e+11  ...  3.708191e+11  3.975582e+11   \n",
       "VNM           7.741443e+10  9.913030e+10  ...  1.725960e+11  1.955925e+11   \n",
       "\n",
       "                      2013          2014          2015          2016  \\\n",
       "Country Code                                                           \n",
       "BRN           1.809383e+10  1.709834e+10  1.293039e+10  1.140085e+10   \n",
       "KHM           1.522799e+10  1.670261e+10  1.804995e+10  2.001675e+10   \n",
       "IDN           9.125241e+11  8.908148e+11  8.608542e+11  9.318774e+11   \n",
       "LAO           1.198325e+10  1.327925e+10  1.442638e+10  1.591250e+10   \n",
       "MYS           3.232772e+11  3.380620e+11  3.013548e+11  3.012554e+11   \n",
       "MMR           6.057226e+10  6.326489e+10  6.304531e+10  6.029174e+10   \n",
       "PHL           2.839027e+11  2.974832e+11  3.064461e+11  3.186268e+11   \n",
       "SGP           3.075764e+11  3.148512e+11  3.080041e+11  3.188324e+11   \n",
       "THA           4.203332e+11  4.073395e+11  4.012964e+11  4.133662e+11   \n",
       "VNM           2.137109e+11  2.334500e+11  2.392572e+11  2.570960e+11   \n",
       "\n",
       "                      2017          2018          2019          2020  \n",
       "Country Code                                                          \n",
       "BRN           1.212810e+10  1.356735e+10  1.346942e+10  1.200583e+10  \n",
       "KHM           2.217720e+10  2.457175e+10  2.708939e+10  2.587280e+10  \n",
       "IDN           1.015619e+12  1.042272e+12  1.119100e+12  1.058689e+12  \n",
       "LAO           1.707116e+10  1.814165e+10  1.874056e+10  1.898180e+10  \n",
       "MYS           3.191121e+11  3.587915e+11  3.652764e+11  3.370060e+11  \n",
       "MMR           6.144939e+10  6.714473e+10  6.869776e+10  7.893026e+10  \n",
       "PHL           3.284809e+11  3.468421e+11  3.768233e+11  3.617511e+11  \n",
       "SGP           3.431934e+11  3.769981e+11  3.754727e+11  3.452959e+11  \n",
       "THA           4.563570e+11  5.067546e+11  5.440811e+11  4.996818e+11  \n",
       "VNM           2.813534e+11  3.087021e+11  3.303913e+11  3.432426e+11  \n",
       "\n",
       "[10 rows x 22 columns]"
      ]
     },
     "execution_count": 1,
     "metadata": {},
     "output_type": "execute_result"
    }
   ],
   "source": [
    "import pandas as pd\n",
    "import matplotlib.pyplot as plt\n",
    "\n",
    "gdp = pd.read_csv('gdp.csv')\n",
    "gdp_new = gdp.set_index('Country Code')\n",
    "asean_countries = ['BRN', 'KHM', 'IDN', 'LAO', 'MYS', \n",
    "                   'MMR', 'PHL', 'SGP', 'THA', 'VNM']\n",
    "asean_gdp = gdp_new.loc[asean_countries, '1999':'2020']\n",
    "asean_gdp"
   ]
  },
  {
   "cell_type": "markdown",
   "id": "fc1f9789",
   "metadata": {},
   "source": [
    "#### Spaghetti graph"
   ]
  },
  {
   "cell_type": "code",
   "execution_count": 2,
   "id": "deb42c9f",
   "metadata": {},
   "outputs": [
    {
     "data": {
      "image/png": "[encoded data removed]",
      "text/plain": [
       "<Figure size 864x324 with 1 Axes>"
      ]
     },
     "metadata": {
      "needs_background": "light"
     },
     "output_type": "display_data"
    }
   ],
   "source": [
    "plt.figure(figsize=(12, 4.5))\n",
    "for country in asean_gdp.index:\n",
    "    growth = asean_gdp.loc[country].pct_change().dropna() * 100\n",
    "    plt.plot(growth.index, growth, label=country)\n",
    "\n",
    "plt.legend(loc='upper right')\n",
    "plt.xlabel('Years', fontsize=12)\n",
    "plt.ylabel('Percentage of GDP Growth', fontsize=12)\n",
    "plt.show()"
   ]
  },
  {
   "cell_type": "markdown",
   "id": "e03e0022",
   "metadata": {},
   "source": [
    "#### Function for the graph highlighting one country"
   ]
  },
  {
   "cell_type": "code",
   "execution_count": 3,
   "id": "5fcd5af5",
   "metadata": {},
   "outputs": [],
   "source": [
    "def highlight_one(data, highlight):\n",
    "    \n",
    "    plt.figure(figsize=(12, 4.5))\n",
    "    countries = data.index\n",
    "    for country in countries:\n",
    "        growth = data.loc[country].pct_change().dropna() * 100\n",
    "        if country == highlight:\n",
    "            plt.plot(growth.index, growth, \n",
    "                     marker='o', markerfacecolor='w', color='b', linewidth=2.5)\n",
    "            text_y = growth[-1]\n",
    "        else:\n",
    "            plt.plot(growth.index, growth, \n",
    "                     color='k', linewidth=0.8, alpha=0.4)\n",
    "    \n",
    "    plt.text(len(growth) - 0.7, text_y-1.5, highlight, \n",
    "             color='b', fontsize=14, fontweight='bold')\n",
    "    plt.xlabel('Years', fontsize=12)\n",
    "    plt.ylabel('Percentage of GDP Growth', fontsize=12)\n",
    "    plt.xlim([-1, len(growth)+0.5])\n",
    "    plt.show()"
   ]
  },
  {
   "cell_type": "markdown",
   "id": "96ed0034",
   "metadata": {},
   "source": [
    "Once the function above is defined, we can use it to plot the GDP for each country."
   ]
  },
  {
   "cell_type": "code",
   "execution_count": 4,
   "id": "d65c53e0",
   "metadata": {},
   "outputs": [
    {
     "data": {
      "image/png": "[encoded data removed]",
      "text/plain": [
       "<Figure size 864x324 with 1 Axes>"
      ]
     },
     "metadata": {
      "needs_background": "light"
     },
     "output_type": "display_data"
    }
   ],
   "source": [
    "highlight_one(asean_gdp, highlight='MYS')"
   ]
  },
  {
   "cell_type": "code",
   "execution_count": 5,
   "id": "5888ac51",
   "metadata": {},
   "outputs": [
    {
     "data": {
      "image/png": "[encoded data removed]",
      "text/plain": [
       "<Figure size 864x324 with 1 Axes>"
      ]
     },
     "metadata": {
      "needs_background": "light"
     },
     "output_type": "display_data"
    }
   ],
   "source": [
    "highlight_one(asean_gdp, highlight='SGP')"
   ]
  },
  {
   "cell_type": "markdown",
   "id": "18d2e9e8",
   "metadata": {},
   "source": [
    "#### Function for the graph showing the range"
   ]
  },
  {
   "cell_type": "code",
   "execution_count": 6,
   "id": "5b3ed314",
   "metadata": {},
   "outputs": [],
   "source": [
    "def highlight_range(data, highlight):\n",
    "    \n",
    "    plt.figure(figsize=(12, 4.5))\n",
    "    \n",
    "    growths = data.pct_change(axis=1).iloc[:, 1:] * 100\n",
    "    growth = growths.loc[highlight]\n",
    "    text_y = growth[-1]\n",
    "    \n",
    "    growth_max = growths.max()\n",
    "    growth_min = growths.min()\n",
    "    \n",
    "    plt.fill_between(growth.index, y1=growth_min, y2=growth_max, color='k', alpha=0.1)\n",
    "    plt.plot(growth.index, growth, \n",
    "             marker='o', markerfacecolor='w', color='b', linewidth=2.5)\n",
    "    plt.text(len(growth) - 0.7, text_y-1.5, highlight, \n",
    "             color='b', fontsize=14, fontweight='bold')\n",
    "    plt.xlabel('Years', fontsize=12)\n",
    "    plt.ylabel('Percentage of GDP Growth', fontsize=12)\n",
    "    plt.xlim([-1, len(growth)+0.5])\n",
    "    plt.show()"
   ]
  },
  {
   "cell_type": "code",
   "execution_count": 7,
   "id": "7bb6c141",
   "metadata": {},
   "outputs": [
    {
     "data": {
      "image/png": "[encoded data removed]",
      "text/plain": [
       "<Figure size 864x324 with 1 Axes>"
      ]
     },
     "metadata": {
      "needs_background": "light"
     },
     "output_type": "display_data"
    }
   ],
   "source": [
    "highlight_range(asean_gdp, highlight='SGP')"
   ]
  },
  {
   "cell_type": "code",
   "execution_count": 8,
   "id": "affcdf2d",
   "metadata": {},
   "outputs": [
    {
     "data": {
      "image/png": "[encoded data removed]",
      "text/plain": [
       "<Figure size 864x324 with 1 Axes>"
      ]
     },
     "metadata": {
      "needs_background": "light"
     },
     "output_type": "display_data"
    }
   ],
   "source": [
    "highlight_range(asean_gdp, highlight='IDN')"
   ]
  },
  {
   "cell_type": "markdown",
   "id": "22bd0924",
   "metadata": {},
   "source": [
    "### Question 2\n",
    "\n",
    "#### Vertical bars"
   ]
  },
  {
   "cell_type": "code",
   "execution_count": 9,
   "id": "ae98a549",
   "metadata": {},
   "outputs": [
    {
     "data": {
      "text/plain": [
       "Country Code\n",
       "IDN    1.119100e+12\n",
       "THA    5.440811e+11\n",
       "PHL    3.768233e+11\n",
       "SGP    3.754727e+11\n",
       "MYS    3.652764e+11\n",
       "VNM    3.303913e+11\n",
       "MMR    6.869776e+10\n",
       "KHM    2.708939e+10\n",
       "LAO    1.874056e+10\n",
       "BRN    1.346942e+10\n",
       "Name: 2019, dtype: float64"
      ]
     },
     "execution_count": 9,
     "metadata": {},
     "output_type": "execute_result"
    }
   ],
   "source": [
    "gdp_sorted = asean_gdp['2019'].sort_values(ascending=False)\n",
    "gdp_sorted"
   ]
  },
  {
   "cell_type": "code",
   "execution_count": 10,
   "id": "4827a319",
   "metadata": {},
   "outputs": [
    {
     "data": {
      "text/plain": [
       "Text(0, 0.5, 'GDP (billion dollars)')"
      ]
     },
     "execution_count": 10,
     "metadata": {},
     "output_type": "execute_result"
    },
    {
     "data": {
      "image/png": "[encoded data removed]",
      "text/plain": [
       "<Figure size 432x288 with 1 Axes>"
      ]
     },
     "metadata": {
      "needs_background": "light"
     },
     "output_type": "display_data"
    }
   ],
   "source": [
    "country_names = gdp_new.loc[gdp_sorted.index, 'Country Name']\n",
    "plt.bar(country_names, gdp_sorted/1e9, \n",
    "        color='orange')\n",
    "plt.xticks(rotation=90, fontsize=12)\n",
    "plt.ylabel('GDP (billion dollars)')"
   ]
  },
  {
   "cell_type": "markdown",
   "id": "c804dea0",
   "metadata": {},
   "source": [
    "#### Horizontal bars"
   ]
  },
  {
   "cell_type": "code",
   "execution_count": 11,
   "id": "31494667",
   "metadata": {},
   "outputs": [
    {
     "data": {
      "text/plain": [
       "Country Code\n",
       "BRN    1.346942e+10\n",
       "LAO    1.874056e+10\n",
       "KHM    2.708939e+10\n",
       "MMR    6.869776e+10\n",
       "VNM    3.303913e+11\n",
       "MYS    3.652764e+11\n",
       "SGP    3.754727e+11\n",
       "PHL    3.768233e+11\n",
       "THA    5.440811e+11\n",
       "IDN    1.119100e+12\n",
       "Name: 2019, dtype: float64"
      ]
     },
     "execution_count": 11,
     "metadata": {},
     "output_type": "execute_result"
    }
   ],
   "source": [
    "gdp_sorted = asean_gdp['2019'].sort_values()\n",
    "gdp_sorted"
   ]
  },
  {
   "cell_type": "code",
   "execution_count": 12,
   "id": "733547bf",
   "metadata": {},
   "outputs": [
    {
     "data": {
      "image/png": "[encoded data removed]",
      "text/plain": [
       "<Figure size 288x432 with 1 Axes>"
      ]
     },
     "metadata": {
      "needs_background": "light"
     },
     "output_type": "display_data"
    }
   ],
   "source": [
    "country_names = gdp_new.loc[gdp_sorted.index, 'Country Name']\n",
    "\n",
    "plt.figure(figsize=(4, 6))\n",
    "plt.barh(country_names, gdp_sorted/1e9, color='orange', alpha=0.7)\n",
    "plt.xlabel('GDP (billion dollars)', fontsize=14)\n",
    "plt.yticks(fontsize=12)\n",
    "plt.show()"
   ]
  },
  {
   "cell_type": "markdown",
   "id": "cd0c03e5",
   "metadata": {},
   "source": [
    "### Question 4\n",
    "\n",
    "#### Read data"
   ]
  },
  {
   "cell_type": "code",
   "execution_count": 13,
   "id": "e44f3466",
   "metadata": {},
   "outputs": [
    {
     "data": {
      "text/html": [
       "<div>\n",
       "<style scoped>\n",
       "    .dataframe tbody tr th:only-of-type {\n",
       "        vertical-align: middle;\n",
       "    }\n",
       "\n",
       "    .dataframe tbody tr th {\n",
       "        vertical-align: top;\n",
       "    }\n",
       "\n",
       "    .dataframe thead th {\n",
       "        text-align: right;\n",
       "    }\n",
       "</style>\n",
       "<table border=\"1\" class=\"dataframe\">\n",
       "  <thead>\n",
       "    <tr style=\"text-align: right;\">\n",
       "      <th></th>\n",
       "      <th>project</th>\n",
       "      <th>street</th>\n",
       "      <th>segment</th>\n",
       "      <th>commence</th>\n",
       "      <th>sale</th>\n",
       "      <th>price</th>\n",
       "      <th>area</th>\n",
       "      <th>level</th>\n",
       "    </tr>\n",
       "  </thead>\n",
       "  <tbody>\n",
       "    <tr>\n",
       "      <th>0</th>\n",
       "      <td>PARC BOTANNIA</td>\n",
       "      <td>FERNVALE STREET</td>\n",
       "      <td>OCR</td>\n",
       "      <td>2016.0</td>\n",
       "      <td>New Sale</td>\n",
       "      <td>1672280.0</td>\n",
       "      <td>1281</td>\n",
       "      <td>16 to 20</td>\n",
       "    </tr>\n",
       "    <tr>\n",
       "      <th>1</th>\n",
       "      <td>PARC BOTANNIA</td>\n",
       "      <td>FERNVALE STREET</td>\n",
       "      <td>OCR</td>\n",
       "      <td>2016.0</td>\n",
       "      <td>New Sale</td>\n",
       "      <td>1622810.0</td>\n",
       "      <td>1453</td>\n",
       "      <td>01 to 05</td>\n",
       "    </tr>\n",
       "    <tr>\n",
       "      <th>2</th>\n",
       "      <td>PARC BOTANNIA</td>\n",
       "      <td>FERNVALE STREET</td>\n",
       "      <td>OCR</td>\n",
       "      <td>2016.0</td>\n",
       "      <td>New Sale</td>\n",
       "      <td>915680.0</td>\n",
       "      <td>667</td>\n",
       "      <td>06 to 10</td>\n",
       "    </tr>\n",
       "    <tr>\n",
       "      <th>3</th>\n",
       "      <td>SELETAR PARK RESIDENCE</td>\n",
       "      <td>SELETAR ROAD</td>\n",
       "      <td>OCR</td>\n",
       "      <td>2011.0</td>\n",
       "      <td>Resale</td>\n",
       "      <td>1300000.0</td>\n",
       "      <td>1442</td>\n",
       "      <td>01 to 05</td>\n",
       "    </tr>\n",
       "    <tr>\n",
       "      <th>4</th>\n",
       "      <td>PARC BOTANNIA</td>\n",
       "      <td>FERNVALE STREET</td>\n",
       "      <td>OCR</td>\n",
       "      <td>2016.0</td>\n",
       "      <td>New Sale</td>\n",
       "      <td>1234810.0</td>\n",
       "      <td>980</td>\n",
       "      <td>06 to 10</td>\n",
       "    </tr>\n",
       "    <tr>\n",
       "      <th>...</th>\n",
       "      <td>...</td>\n",
       "      <td>...</td>\n",
       "      <td>...</td>\n",
       "      <td>...</td>\n",
       "      <td>...</td>\n",
       "      <td>...</td>\n",
       "      <td>...</td>\n",
       "      <td>...</td>\n",
       "    </tr>\n",
       "    <tr>\n",
       "      <th>314</th>\n",
       "      <td>PARC BOTANNIA</td>\n",
       "      <td>FERNVALE STREET</td>\n",
       "      <td>OCR</td>\n",
       "      <td>2016.0</td>\n",
       "      <td>New Sale</td>\n",
       "      <td>668000.0</td>\n",
       "      <td>506</td>\n",
       "      <td>16 to 20</td>\n",
       "    </tr>\n",
       "    <tr>\n",
       "      <th>315</th>\n",
       "      <td>PARC BOTANNIA</td>\n",
       "      <td>FERNVALE STREET</td>\n",
       "      <td>OCR</td>\n",
       "      <td>2016.0</td>\n",
       "      <td>New Sale</td>\n",
       "      <td>771000.0</td>\n",
       "      <td>581</td>\n",
       "      <td>11 to 15</td>\n",
       "    </tr>\n",
       "    <tr>\n",
       "      <th>316</th>\n",
       "      <td>SUNRISE GARDENS</td>\n",
       "      <td>SUNRISE AVENUE</td>\n",
       "      <td>OCR</td>\n",
       "      <td>1995.0</td>\n",
       "      <td>Resale</td>\n",
       "      <td>1088000.0</td>\n",
       "      <td>1464</td>\n",
       "      <td>01 to 05</td>\n",
       "    </tr>\n",
       "    <tr>\n",
       "      <th>317</th>\n",
       "      <td>PARC BOTANNIA</td>\n",
       "      <td>FERNVALE STREET</td>\n",
       "      <td>OCR</td>\n",
       "      <td>2016.0</td>\n",
       "      <td>New Sale</td>\n",
       "      <td>857000.0</td>\n",
       "      <td>667</td>\n",
       "      <td>06 to 10</td>\n",
       "    </tr>\n",
       "    <tr>\n",
       "      <th>318</th>\n",
       "      <td>THE GREENWICH</td>\n",
       "      <td>SELETAR ROAD</td>\n",
       "      <td>OCR</td>\n",
       "      <td>2009.0</td>\n",
       "      <td>Resale</td>\n",
       "      <td>635000.0</td>\n",
       "      <td>603</td>\n",
       "      <td>01 to 05</td>\n",
       "    </tr>\n",
       "  </tbody>\n",
       "</table>\n",
       "<p>319 rows × 8 columns</p>\n",
       "</div>"
      ],
      "text/plain": [
       "                    project           street segment  commence      sale  \\\n",
       "0             PARC BOTANNIA  FERNVALE STREET     OCR    2016.0  New Sale   \n",
       "1             PARC BOTANNIA  FERNVALE STREET     OCR    2016.0  New Sale   \n",
       "2             PARC BOTANNIA  FERNVALE STREET     OCR    2016.0  New Sale   \n",
       "3    SELETAR PARK RESIDENCE     SELETAR ROAD     OCR    2011.0    Resale   \n",
       "4             PARC BOTANNIA  FERNVALE STREET     OCR    2016.0  New Sale   \n",
       "..                      ...              ...     ...       ...       ...   \n",
       "314           PARC BOTANNIA  FERNVALE STREET     OCR    2016.0  New Sale   \n",
       "315           PARC BOTANNIA  FERNVALE STREET     OCR    2016.0  New Sale   \n",
       "316         SUNRISE GARDENS   SUNRISE AVENUE     OCR    1995.0    Resale   \n",
       "317           PARC BOTANNIA  FERNVALE STREET     OCR    2016.0  New Sale   \n",
       "318           THE GREENWICH     SELETAR ROAD     OCR    2009.0    Resale   \n",
       "\n",
       "         price  area     level  \n",
       "0    1672280.0  1281  16 to 20  \n",
       "1    1622810.0  1453  01 to 05  \n",
       "2     915680.0   667  06 to 10  \n",
       "3    1300000.0  1442  01 to 05  \n",
       "4    1234810.0   980  06 to 10  \n",
       "..         ...   ...       ...  \n",
       "314   668000.0   506  16 to 20  \n",
       "315   771000.0   581  11 to 15  \n",
       "316  1088000.0  1464  01 to 05  \n",
       "317   857000.0   667  06 to 10  \n",
       "318   635000.0   603  01 to 05  \n",
       "\n",
       "[319 rows x 8 columns]"
      ]
     },
     "execution_count": 13,
     "metadata": {},
     "output_type": "execute_result"
    }
   ],
   "source": [
    "condo = pd.read_csv('condos_2018.csv')\n",
    "condo"
   ]
  },
  {
   "cell_type": "markdown",
   "id": "5abbf683",
   "metadata": {},
   "source": [
    "#### Boxplot for total prices"
   ]
  },
  {
   "cell_type": "code",
   "execution_count": 14,
   "id": "417faf61",
   "metadata": {},
   "outputs": [
    {
     "data": {
      "image/png": "[encoded data removed]",
      "text/plain": [
       "<Figure size 432x288 with 1 Axes>"
      ]
     },
     "metadata": {
      "needs_background": "light"
     },
     "output_type": "display_data"
    }
   ],
   "source": [
    "labels = ['Resale', 'New Sale']\n",
    "prices = [condo.loc[condo['sale'] == sale, 'price']/1e6 for sale in labels]\n",
    "\n",
    "plt.boxplot(prices, labels=labels, widths = 0.55, patch_artist = True, \n",
    "            boxprops=dict(facecolor='orange', linewidth=2, alpha=0.4),\n",
    "            whiskerprops=dict(linewidth=2, alpha=0.6), \n",
    "            capprops=dict(linewidth=2, alpha=0.6),\n",
    "            medianprops=dict(linewidth=2, linestyle='--', color='r'))\n",
    "plt.xticks(fontsize=14)\n",
    "plt.ylabel('Price (million dollars)', fontsize=14)\n",
    "plt.ylim([0, 2.23])\n",
    "plt.show()"
   ]
  },
  {
   "cell_type": "markdown",
   "id": "eee1a3ef",
   "metadata": {},
   "source": [
    "#### Correlation between total prices and commencing years"
   ]
  },
  {
   "cell_type": "code",
   "execution_count": 15,
   "id": "6740bc59",
   "metadata": {},
   "outputs": [
    {
     "data": {
      "text/html": [
       "<div>\n",
       "<style scoped>\n",
       "    .dataframe tbody tr th:only-of-type {\n",
       "        vertical-align: middle;\n",
       "    }\n",
       "\n",
       "    .dataframe tbody tr th {\n",
       "        vertical-align: top;\n",
       "    }\n",
       "\n",
       "    .dataframe thead th {\n",
       "        text-align: right;\n",
       "    }\n",
       "</style>\n",
       "<table border=\"1\" class=\"dataframe\">\n",
       "  <thead>\n",
       "    <tr style=\"text-align: right;\">\n",
       "      <th></th>\n",
       "      <th>commence</th>\n",
       "      <th>price</th>\n",
       "    </tr>\n",
       "  </thead>\n",
       "  <tbody>\n",
       "    <tr>\n",
       "      <th>commence</th>\n",
       "      <td>1.000000</td>\n",
       "      <td>-0.129123</td>\n",
       "    </tr>\n",
       "    <tr>\n",
       "      <th>price</th>\n",
       "      <td>-0.129123</td>\n",
       "      <td>1.000000</td>\n",
       "    </tr>\n",
       "  </tbody>\n",
       "</table>\n",
       "</div>"
      ],
      "text/plain": [
       "          commence     price\n",
       "commence  1.000000 -0.129123\n",
       "price    -0.129123  1.000000"
      ]
     },
     "execution_count": 15,
     "metadata": {},
     "output_type": "execute_result"
    }
   ],
   "source": [
    "condo.loc[:, ['commence', 'price']].corr()"
   ]
  },
  {
   "cell_type": "markdown",
   "id": "5103e23e",
   "metadata": {},
   "source": [
    "#### Boxplots for areas"
   ]
  },
  {
   "cell_type": "code",
   "execution_count": 16,
   "id": "af553462",
   "metadata": {},
   "outputs": [
    {
     "data": {
      "image/png": "[encoded data removed]",
      "text/plain": [
       "<Figure size 432x288 with 1 Axes>"
      ]
     },
     "metadata": {
      "needs_background": "light"
     },
     "output_type": "display_data"
    }
   ],
   "source": [
    "labels = ['Resale', 'New Sale']\n",
    "areas = [condo.loc[condo['sale'] == sale, 'area'] for sale in labels]\n",
    "\n",
    "plt.boxplot(areas, labels=labels, widths = 0.55, patch_artist = True, \n",
    "            boxprops=dict(facecolor='orange', linewidth=2, alpha=0.4),\n",
    "            whiskerprops=dict(linewidth=2, alpha=0.6), \n",
    "            capprops=dict(linewidth=2, alpha=0.6),\n",
    "            medianprops=dict(linewidth=2, linestyle='--', color='r'))\n",
    "plt.xticks(fontsize=14)\n",
    "plt.ylabel('Area (sq. ft)', fontsize=14)\n",
    "plt.ylim([0, 2390])\n",
    "plt.show()"
   ]
  },
  {
   "cell_type": "markdown",
   "id": "0ad91487",
   "metadata": {},
   "source": [
    "#### Correlation with the confounder"
   ]
  },
  {
   "cell_type": "code",
   "execution_count": 17,
   "id": "8cbdba51",
   "metadata": {},
   "outputs": [
    {
     "data": {
      "text/html": [
       "<div>\n",
       "<style scoped>\n",
       "    .dataframe tbody tr th:only-of-type {\n",
       "        vertical-align: middle;\n",
       "    }\n",
       "\n",
       "    .dataframe tbody tr th {\n",
       "        vertical-align: top;\n",
       "    }\n",
       "\n",
       "    .dataframe thead th {\n",
       "        text-align: right;\n",
       "    }\n",
       "</style>\n",
       "<table border=\"1\" class=\"dataframe\">\n",
       "  <thead>\n",
       "    <tr style=\"text-align: right;\">\n",
       "      <th></th>\n",
       "      <th>commence</th>\n",
       "      <th>price</th>\n",
       "      <th>area</th>\n",
       "    </tr>\n",
       "  </thead>\n",
       "  <tbody>\n",
       "    <tr>\n",
       "      <th>commence</th>\n",
       "      <td>1.000000</td>\n",
       "      <td>-0.129123</td>\n",
       "      <td>-0.600679</td>\n",
       "    </tr>\n",
       "    <tr>\n",
       "      <th>price</th>\n",
       "      <td>-0.129123</td>\n",
       "      <td>1.000000</td>\n",
       "      <td>0.829969</td>\n",
       "    </tr>\n",
       "    <tr>\n",
       "      <th>area</th>\n",
       "      <td>-0.600679</td>\n",
       "      <td>0.829969</td>\n",
       "      <td>1.000000</td>\n",
       "    </tr>\n",
       "  </tbody>\n",
       "</table>\n",
       "</div>"
      ],
      "text/plain": [
       "          commence     price      area\n",
       "commence  1.000000 -0.129123 -0.600679\n",
       "price    -0.129123  1.000000  0.829969\n",
       "area     -0.600679  0.829969  1.000000"
      ]
     },
     "execution_count": 17,
     "metadata": {},
     "output_type": "execute_result"
    }
   ],
   "source": [
    "condo.corr()"
   ]
  },
  {
   "cell_type": "markdown",
   "id": "f09427cc",
   "metadata": {},
   "source": [
    "#### Boxplots for per square foot prices"
   ]
  },
  {
   "cell_type": "code",
   "execution_count": 18,
   "id": "1fbfeb11",
   "metadata": {},
   "outputs": [
    {
     "data": {
      "image/png": "[encoded data removed]",
      "text/plain": [
       "<Figure size 432x288 with 1 Axes>"
      ]
     },
     "metadata": {
      "needs_background": "light"
     },
     "output_type": "display_data"
    }
   ],
   "source": [
    "labels = ['Resale', 'New Sale']\n",
    "psf_prices = [condo.loc[condo['sale'] == sale, 'price'] / condo.loc[condo['sale'] == sale, 'area'] \n",
    "              for sale in labels]\n",
    "\n",
    "plt.boxplot(psf_prices, labels=labels, widths = 0.55, patch_artist = True, \n",
    "            boxprops=dict(facecolor='orange', linewidth=2, alpha=0.4),\n",
    "            whiskerprops=dict(linewidth=2, alpha=0.6), \n",
    "            capprops=dict(linewidth=2, alpha=0.6),\n",
    "            medianprops=dict(linewidth=2, linestyle='--', color='r'))\n",
    "plt.xticks(fontsize=14)\n",
    "plt.ylabel('Per square foot price (dollars)', fontsize=14)\n",
    "plt.ylim([0, 1760])\n",
    "plt.show()"
   ]
  },
  {
   "cell_type": "markdown",
   "id": "5d514775",
   "metadata": {},
   "source": [
    "#### Scatterplot for per square foot prices"
   ]
  },
  {
   "cell_type": "code",
   "execution_count": 19,
   "id": "196bfb04",
   "metadata": {},
   "outputs": [
    {
     "data": {
      "image/png": "[encoded data removed]",
      "text/plain": [
       "<Figure size 432x288 with 1 Axes>"
      ]
     },
     "metadata": {
      "needs_background": "light"
     },
     "output_type": "display_data"
    }
   ],
   "source": [
    "psf_price = condo['price'] / condo['area']\n",
    "\n",
    "plt.scatter(condo['commence'], psf_price, \n",
    "            color='b', alpha=0.3)\n",
    "plt.xlabel('Commencing year', fontsize=14)\n",
    "plt.ylabel('Per square foot price (dollars)', fontsize=14)\n",
    "plt.xlim([1993, 2019])\n",
    "plt.show()"
   ]
  },
  {
   "cell_type": "markdown",
   "id": "d0103dcf",
   "metadata": {},
   "source": [
    "#### Scatterplots for area, total prices, and sale types"
   ]
  },
  {
   "cell_type": "code",
   "execution_count": 20,
   "id": "306e1ab0",
   "metadata": {},
   "outputs": [
    {
     "data": {
      "image/png": "[encoded data removed]",
      "text/plain": [
       "<Figure size 432x288 with 1 Axes>"
      ]
     },
     "metadata": {
      "needs_background": "light"
     },
     "output_type": "display_data"
    }
   ],
   "source": [
    "resale = condo.loc[condo['sale'] == 'Resale']\n",
    "new = condo.loc[condo['sale'] == 'New Sale']\n",
    "\n",
    "plt.scatter(resale['area'], resale['price']/1e6, color='r', alpha=0.4, label='Resale')\n",
    "plt.scatter(new['area'], new['price']/1e6, color='b', alpha=0.4, label='New Sale')\n",
    "plt.legend(fontsize=14)\n",
    "plt.xlabel('Area (sq. ft)', fontsize=14)\n",
    "plt.ylabel('Price (million dollars)')\n",
    "plt.show()"
   ]
  },
  {
   "cell_type": "markdown",
   "id": "238deafe",
   "metadata": {},
   "source": [
    "#### Scatterplots for area, total prices, and commencing years"
   ]
  },
  {
   "cell_type": "code",
   "execution_count": 21,
   "id": "601bc106",
   "metadata": {
    "scrolled": true
   },
   "outputs": [
    {
     "data": {
      "image/png": "[encoded data removed]",
      "text/plain": [
       "<Figure size 432x288 with 2 Axes>"
      ]
     },
     "metadata": {
      "needs_background": "light"
     },
     "output_type": "display_data"
    }
   ],
   "source": [
    "plt.scatter(condo['area'], condo['price']/1e6, c=condo['commence'], alpha=0.6)\n",
    "plt.colorbar()\n",
    "plt.xlabel('Area (sq. ft)', fontsize=14)\n",
    "plt.ylabel('Price (million dollars)')\n",
    "plt.show()"
   ]
  },
  {
   "cell_type": "markdown",
   "id": "491a92cf",
   "metadata": {},
   "source": [
    " "
   ]
  },
  {
   "cell_type": "markdown",
   "id": "1f924829",
   "metadata": {},
   "source": [
    "## Advanced Operations of Pandas\n",
    "\n",
    "### Method `groupby()`: split, apply, and combine \n",
    "\n",
    "<div class=\"alert alert-block alert-success\">\n",
    "<b>Example 1:</b> The 'properties2.csv' dataset contain the prices of condos/apartments in Singapore for the past a few years. Find the average values and the sample standard deviations of property prices in the CCR, RCR, and OCR areas, respectively.\n",
    "</div>\n",
    "Based on what we learned in the previous lecture, these descriptive measures can be obtained by calling the methods `mean()` and `std()` after we split the overall dataset into three subsets for CCR, RCR, and OCR areas."
   ]
  },
  {
   "cell_type": "code",
   "execution_count": 22,
   "id": "88de0086",
   "metadata": {
    "scrolled": false
   },
   "outputs": [
    {
     "data": {
      "text/html": [
       "<div>\n",
       "<style scoped>\n",
       "    .dataframe tbody tr th:only-of-type {\n",
       "        vertical-align: middle;\n",
       "    }\n",
       "\n",
       "    .dataframe tbody tr th {\n",
       "        vertical-align: top;\n",
       "    }\n",
       "\n",
       "    .dataframe thead th {\n",
       "        text-align: right;\n",
       "    }\n",
       "</style>\n",
       "<table border=\"1\" class=\"dataframe\">\n",
       "  <thead>\n",
       "    <tr style=\"text-align: right;\">\n",
       "      <th></th>\n",
       "      <th>project</th>\n",
       "      <th>street</th>\n",
       "      <th>type</th>\n",
       "      <th>district</th>\n",
       "      <th>segment</th>\n",
       "      <th>tenure</th>\n",
       "      <th>commence</th>\n",
       "      <th>sale</th>\n",
       "      <th>price</th>\n",
       "      <th>area</th>\n",
       "      <th>level</th>\n",
       "      <th>date</th>\n",
       "    </tr>\n",
       "  </thead>\n",
       "  <tbody>\n",
       "    <tr>\n",
       "      <th>0</th>\n",
       "      <td>PARC CLEMATIS</td>\n",
       "      <td>JALAN LEMPENG</td>\n",
       "      <td>Apartment</td>\n",
       "      <td>5</td>\n",
       "      <td>OCR</td>\n",
       "      <td>99 years</td>\n",
       "      <td>2019.0</td>\n",
       "      <td>New Sale</td>\n",
       "      <td>2567000</td>\n",
       "      <td>1496</td>\n",
       "      <td>11 to 15</td>\n",
       "      <td>Dec-21</td>\n",
       "    </tr>\n",
       "    <tr>\n",
       "      <th>1</th>\n",
       "      <td>ONE PEARL BANK</td>\n",
       "      <td>PEARL BANK</td>\n",
       "      <td>Apartment</td>\n",
       "      <td>3</td>\n",
       "      <td>RCR</td>\n",
       "      <td>99 years</td>\n",
       "      <td>2019.0</td>\n",
       "      <td>New Sale</td>\n",
       "      <td>2986000</td>\n",
       "      <td>1281</td>\n",
       "      <td>16 to 20</td>\n",
       "      <td>Dec-21</td>\n",
       "    </tr>\n",
       "    <tr>\n",
       "      <th>2</th>\n",
       "      <td>ONE PEARL BANK</td>\n",
       "      <td>PEARL BANK</td>\n",
       "      <td>Apartment</td>\n",
       "      <td>3</td>\n",
       "      <td>RCR</td>\n",
       "      <td>99 years</td>\n",
       "      <td>2019.0</td>\n",
       "      <td>New Sale</td>\n",
       "      <td>1835000</td>\n",
       "      <td>700</td>\n",
       "      <td>21 to 25</td>\n",
       "      <td>Dec-21</td>\n",
       "    </tr>\n",
       "    <tr>\n",
       "      <th>3</th>\n",
       "      <td>ONE PEARL BANK</td>\n",
       "      <td>PEARL BANK</td>\n",
       "      <td>Apartment</td>\n",
       "      <td>3</td>\n",
       "      <td>RCR</td>\n",
       "      <td>99 years</td>\n",
       "      <td>2019.0</td>\n",
       "      <td>New Sale</td>\n",
       "      <td>1924000</td>\n",
       "      <td>840</td>\n",
       "      <td>06 to 10</td>\n",
       "      <td>Dec-21</td>\n",
       "    </tr>\n",
       "    <tr>\n",
       "      <th>4</th>\n",
       "      <td>THE CREST</td>\n",
       "      <td>PRINCE CHARLES CRESCENT</td>\n",
       "      <td>Condominium</td>\n",
       "      <td>3</td>\n",
       "      <td>RCR</td>\n",
       "      <td>99 years</td>\n",
       "      <td>2012.0</td>\n",
       "      <td>Resale</td>\n",
       "      <td>1620000</td>\n",
       "      <td>883</td>\n",
       "      <td>11 to 15</td>\n",
       "      <td>Dec-21</td>\n",
       "    </tr>\n",
       "    <tr>\n",
       "      <th>...</th>\n",
       "      <td>...</td>\n",
       "      <td>...</td>\n",
       "      <td>...</td>\n",
       "      <td>...</td>\n",
       "      <td>...</td>\n",
       "      <td>...</td>\n",
       "      <td>...</td>\n",
       "      <td>...</td>\n",
       "      <td>...</td>\n",
       "      <td>...</td>\n",
       "      <td>...</td>\n",
       "      <td>...</td>\n",
       "    </tr>\n",
       "    <tr>\n",
       "      <th>104896</th>\n",
       "      <td>FLORAVILLE</td>\n",
       "      <td>CACTUS ROAD</td>\n",
       "      <td>Apartment</td>\n",
       "      <td>28</td>\n",
       "      <td>OCR</td>\n",
       "      <td>freehold</td>\n",
       "      <td>NaN</td>\n",
       "      <td>New Sale</td>\n",
       "      <td>910000</td>\n",
       "      <td>818</td>\n",
       "      <td>01 to 05</td>\n",
       "      <td>Jan-17</td>\n",
       "    </tr>\n",
       "    <tr>\n",
       "      <th>104897</th>\n",
       "      <td>EUPHONY GARDENS</td>\n",
       "      <td>JALAN MATA AYER</td>\n",
       "      <td>Condominium</td>\n",
       "      <td>27</td>\n",
       "      <td>OCR</td>\n",
       "      <td>99 years</td>\n",
       "      <td>1998.0</td>\n",
       "      <td>Resale</td>\n",
       "      <td>739998</td>\n",
       "      <td>1044</td>\n",
       "      <td>01 to 05</td>\n",
       "      <td>Jan-17</td>\n",
       "    </tr>\n",
       "    <tr>\n",
       "      <th>104898</th>\n",
       "      <td>SYMPHONY SUITES</td>\n",
       "      <td>YISHUN CLOSE</td>\n",
       "      <td>Condominium</td>\n",
       "      <td>27</td>\n",
       "      <td>OCR</td>\n",
       "      <td>99 years</td>\n",
       "      <td>2014.0</td>\n",
       "      <td>New Sale</td>\n",
       "      <td>875000</td>\n",
       "      <td>797</td>\n",
       "      <td>11 to 15</td>\n",
       "      <td>Jan-17</td>\n",
       "    </tr>\n",
       "    <tr>\n",
       "      <th>104899</th>\n",
       "      <td>SYMPHONY SUITES</td>\n",
       "      <td>YISHUN CLOSE</td>\n",
       "      <td>Condominium</td>\n",
       "      <td>27</td>\n",
       "      <td>OCR</td>\n",
       "      <td>99 years</td>\n",
       "      <td>2014.0</td>\n",
       "      <td>New Sale</td>\n",
       "      <td>759000</td>\n",
       "      <td>689</td>\n",
       "      <td>11 to 15</td>\n",
       "      <td>Jan-17</td>\n",
       "    </tr>\n",
       "    <tr>\n",
       "      <th>104900</th>\n",
       "      <td>SELETAR PARK RESIDENCE</td>\n",
       "      <td>SELETAR ROAD</td>\n",
       "      <td>Condominium</td>\n",
       "      <td>28</td>\n",
       "      <td>OCR</td>\n",
       "      <td>99 years</td>\n",
       "      <td>2011.0</td>\n",
       "      <td>Resale</td>\n",
       "      <td>1060000</td>\n",
       "      <td>872</td>\n",
       "      <td>01 to 05</td>\n",
       "      <td>Jan-17</td>\n",
       "    </tr>\n",
       "  </tbody>\n",
       "</table>\n",
       "<p>104901 rows × 12 columns</p>\n",
       "</div>"
      ],
      "text/plain": [
       "                       project                   street         type  \\\n",
       "0                PARC CLEMATIS            JALAN LEMPENG    Apartment   \n",
       "1               ONE PEARL BANK               PEARL BANK    Apartment   \n",
       "2               ONE PEARL BANK               PEARL BANK    Apartment   \n",
       "3               ONE PEARL BANK               PEARL BANK    Apartment   \n",
       "4                    THE CREST  PRINCE CHARLES CRESCENT  Condominium   \n",
       "...                        ...                      ...          ...   \n",
       "104896              FLORAVILLE              CACTUS ROAD    Apartment   \n",
       "104897         EUPHONY GARDENS          JALAN MATA AYER  Condominium   \n",
       "104898         SYMPHONY SUITES             YISHUN CLOSE  Condominium   \n",
       "104899         SYMPHONY SUITES             YISHUN CLOSE  Condominium   \n",
       "104900  SELETAR PARK RESIDENCE             SELETAR ROAD  Condominium   \n",
       "\n",
       "        district segment    tenure  commence      sale    price  area  \\\n",
       "0              5     OCR  99 years    2019.0  New Sale  2567000  1496   \n",
       "1              3     RCR  99 years    2019.0  New Sale  2986000  1281   \n",
       "2              3     RCR  99 years    2019.0  New Sale  1835000   700   \n",
       "3              3     RCR  99 years    2019.0  New Sale  1924000   840   \n",
       "4              3     RCR  99 years    2012.0    Resale  1620000   883   \n",
       "...          ...     ...       ...       ...       ...      ...   ...   \n",
       "104896        28     OCR  freehold       NaN  New Sale   910000   818   \n",
       "104897        27     OCR  99 years    1998.0    Resale   739998  1044   \n",
       "104898        27     OCR  99 years    2014.0  New Sale   875000   797   \n",
       "104899        27     OCR  99 years    2014.0  New Sale   759000   689   \n",
       "104900        28     OCR  99 years    2011.0    Resale  1060000   872   \n",
       "\n",
       "           level    date  \n",
       "0       11 to 15  Dec-21  \n",
       "1       16 to 20  Dec-21  \n",
       "2       21 to 25  Dec-21  \n",
       "3       06 to 10  Dec-21  \n",
       "4       11 to 15  Dec-21  \n",
       "...          ...     ...  \n",
       "104896  01 to 05  Jan-17  \n",
       "104897  01 to 05  Jan-17  \n",
       "104898  11 to 15  Jan-17  \n",
       "104899  11 to 15  Jan-17  \n",
       "104900  01 to 05  Jan-17  \n",
       "\n",
       "[104901 rows x 12 columns]"
      ]
     },
     "execution_count": 22,
     "metadata": {},
     "output_type": "execute_result"
    }
   ],
   "source": [
    "data = pd.read_csv('properties2.csv')\n",
    "data"
   ]
  },
  {
   "cell_type": "code",
   "execution_count": 23,
   "id": "8a7c8a34",
   "metadata": {},
   "outputs": [
    {
     "name": "stdout",
     "output_type": "stream",
     "text": [
      "Average prices:       [1276619.2439748093, 1724618.6979773832, 3244450.583342526]\n",
      "Standard deviations:  [7660807.487282858, 9024085.528027933, 14043392.743733952]\n"
     ]
    }
   ],
   "source": [
    "means = []\n",
    "stds = []\n",
    "for segment in data['segment'].unique():            # Iterate all values of segments\n",
    "    subset = data.loc[data['segment'] == segment]   # Take a subset for one segment\n",
    "    means.append(subset['price'].mean())            # Append the mean of the subset\n",
    "    stds.append(subset['price'].std())              # Append the std of the subset\n",
    "\n",
    "print('Average prices:      ', means)\n",
    "print('Standard deviations: ', stds)"
   ]
  },
  {
   "cell_type": "markdown",
   "id": "9304fab9",
   "metadata": {},
   "source": [
    "The logic of the program above can be summarized as:\n",
    "1. A `for` is used to take a subset for each segment: CCR, RCR, and OCR. \n",
    "2. The average and standard deviation of each segment is calculated.\n",
    "3. THe calculated results are appended to the lists `means` and `stds`.\n",
    "\n",
    "These three steps, namely **split**, **apply**, and **combine**, can be unified into the method `groupby()` of the `pandas.DataFrame` data structure. The logic of the `groupby()` can be illustrated by the following graph.\n",
    "\n",
    "<img src=\"https://jakevdp.github.io/figures/split-apply-combine.svg\" width=550>\n",
    "\n",
    "More specifically,\n",
    "1. The **split** step involves breaking up and grouping a `pandas.DataFrame` object according to the values of a selected variable (or multiple variables).\n",
    "2. The **apply** step involves computing some function, usually an aggregate (like `sum()` in the graph), transformation, or filtering, within the individual groups.\n",
    "3. The **combine** step merges the results of these operations into a Series or data frame.\n",
    "\n",
    "Such a logic can be used for **Example 1**, where the average values and standard deviations can be calculated by the `groupby()` method."
   ]
  },
  {
   "cell_type": "code",
   "execution_count": 24,
   "id": "8628eef2",
   "metadata": {
    "scrolled": true
   },
   "outputs": [
    {
     "data": {
      "text/plain": [
       "segment\n",
       "CCR    3.244451e+06\n",
       "OCR    1.276619e+06\n",
       "RCR    1.724619e+06\n",
       "Name: price, dtype: float64"
      ]
     },
     "execution_count": 24,
     "metadata": {},
     "output_type": "execute_result"
    }
   ],
   "source": [
    "price_means = data.groupby('segment')['price'].mean()\n",
    "price_means"
   ]
  },
  {
   "cell_type": "code",
   "execution_count": 25,
   "id": "caa9ae50",
   "metadata": {
    "scrolled": true
   },
   "outputs": [
    {
     "data": {
      "text/plain": [
       "segment\n",
       "CCR    1.404339e+07\n",
       "OCR    7.660807e+06\n",
       "RCR    9.024086e+06\n",
       "Name: price, dtype: float64"
      ]
     },
     "execution_count": 25,
     "metadata": {},
     "output_type": "execute_result"
    }
   ],
   "source": [
    "price_stds = data.groupby('segment')['price'].std()\n",
    "price_stds"
   ]
  },
  {
   "cell_type": "markdown",
   "id": "b8ea7531",
   "metadata": {},
   "source": [
    "The code above splits the dataset according to the values of the <code>segment</code> column, and the methods <code>mean()</code> and <code>std()</code> are applied as the aggregation calculation, then the results are combined into series. In the remaining part of this section, we will focus on the **apply** step, where different types of functions are called to perform **aggregate**, **transformation**, or **filtering** operations for each data group.\n",
    "\n",
    "#### Aggregations via `agg()`\n",
    "\n",
    "In **Example 1**, we have used the functions like `sum()` and `std()` to calculate an aggregated result for each group. A a more general way to apply these functions is by using the `agg()` method, where the input argument can be a function, a string of function names, or a list of such objects. "
   ]
  },
  {
   "cell_type": "code",
   "execution_count": 26,
   "id": "c1942266",
   "metadata": {
    "scrolled": true
   },
   "outputs": [
    {
     "data": {
      "text/html": [
       "<div>\n",
       "<style scoped>\n",
       "    .dataframe tbody tr th:only-of-type {\n",
       "        vertical-align: middle;\n",
       "    }\n",
       "\n",
       "    .dataframe tbody tr th {\n",
       "        vertical-align: top;\n",
       "    }\n",
       "\n",
       "    .dataframe thead th {\n",
       "        text-align: right;\n",
       "    }\n",
       "</style>\n",
       "<table border=\"1\" class=\"dataframe\">\n",
       "  <thead>\n",
       "    <tr style=\"text-align: right;\">\n",
       "      <th></th>\n",
       "      <th>count</th>\n",
       "      <th>median</th>\n",
       "      <th>max</th>\n",
       "      <th>min</th>\n",
       "    </tr>\n",
       "    <tr>\n",
       "      <th>segment</th>\n",
       "      <th></th>\n",
       "      <th></th>\n",
       "      <th></th>\n",
       "      <th></th>\n",
       "    </tr>\n",
       "  </thead>\n",
       "  <tbody>\n",
       "    <tr>\n",
       "      <th>CCR</th>\n",
       "      <td>18130</td>\n",
       "      <td>2111489.5</td>\n",
       "      <td>980000000</td>\n",
       "      <td>550000</td>\n",
       "    </tr>\n",
       "    <tr>\n",
       "      <th>OCR</th>\n",
       "      <td>49542</td>\n",
       "      <td>1128000.0</td>\n",
       "      <td>970000000</td>\n",
       "      <td>340000</td>\n",
       "    </tr>\n",
       "    <tr>\n",
       "      <th>RCR</th>\n",
       "      <td>37229</td>\n",
       "      <td>1408000.0</td>\n",
       "      <td>906700000</td>\n",
       "      <td>400000</td>\n",
       "    </tr>\n",
       "  </tbody>\n",
       "</table>\n",
       "</div>"
      ],
      "text/plain": [
       "         count     median        max     min\n",
       "segment                                     \n",
       "CCR      18130  2111489.5  980000000  550000\n",
       "OCR      49542  1128000.0  970000000  340000\n",
       "RCR      37229  1408000.0  906700000  400000"
      ]
     },
     "execution_count": 26,
     "metadata": {},
     "output_type": "execute_result"
    }
   ],
   "source": [
    "funs = ['count', 'median', 'max', 'min']\n",
    "price_info = data.groupby('segment')['price'].agg(funs)\n",
    "price_info"
   ]
  },
  {
   "cell_type": "markdown",
   "id": "f68d7871",
   "metadata": {},
   "source": [
    "The row indexes can be converted into a new column of the data frame by the `reset_index()` method. "
   ]
  },
  {
   "cell_type": "code",
   "execution_count": 27,
   "id": "b914a09b",
   "metadata": {},
   "outputs": [
    {
     "data": {
      "text/html": [
       "<div>\n",
       "<style scoped>\n",
       "    .dataframe tbody tr th:only-of-type {\n",
       "        vertical-align: middle;\n",
       "    }\n",
       "\n",
       "    .dataframe tbody tr th {\n",
       "        vertical-align: top;\n",
       "    }\n",
       "\n",
       "    .dataframe thead th {\n",
       "        text-align: right;\n",
       "    }\n",
       "</style>\n",
       "<table border=\"1\" class=\"dataframe\">\n",
       "  <thead>\n",
       "    <tr style=\"text-align: right;\">\n",
       "      <th></th>\n",
       "      <th>segment</th>\n",
       "      <th>count</th>\n",
       "      <th>median</th>\n",
       "      <th>max</th>\n",
       "      <th>min</th>\n",
       "    </tr>\n",
       "  </thead>\n",
       "  <tbody>\n",
       "    <tr>\n",
       "      <th>0</th>\n",
       "      <td>CCR</td>\n",
       "      <td>18130</td>\n",
       "      <td>2111489.5</td>\n",
       "      <td>980000000</td>\n",
       "      <td>550000</td>\n",
       "    </tr>\n",
       "    <tr>\n",
       "      <th>1</th>\n",
       "      <td>OCR</td>\n",
       "      <td>49542</td>\n",
       "      <td>1128000.0</td>\n",
       "      <td>970000000</td>\n",
       "      <td>340000</td>\n",
       "    </tr>\n",
       "    <tr>\n",
       "      <th>2</th>\n",
       "      <td>RCR</td>\n",
       "      <td>37229</td>\n",
       "      <td>1408000.0</td>\n",
       "      <td>906700000</td>\n",
       "      <td>400000</td>\n",
       "    </tr>\n",
       "  </tbody>\n",
       "</table>\n",
       "</div>"
      ],
      "text/plain": [
       "  segment  count     median        max     min\n",
       "0     CCR  18130  2111489.5  980000000  550000\n",
       "1     OCR  49542  1128000.0  970000000  340000\n",
       "2     RCR  37229  1408000.0  906700000  400000"
      ]
     },
     "execution_count": 27,
     "metadata": {},
     "output_type": "execute_result"
    }
   ],
   "source": [
    "price_info.reset_index()"
   ]
  },
  {
   "cell_type": "markdown",
   "id": "452c22ce",
   "metadata": {},
   "source": [
    "The aggregation operations can also be applied to multiple columns, such as the code below calculate some measures for columns `price` and `area`."
   ]
  },
  {
   "cell_type": "code",
   "execution_count": 28,
   "id": "0e87aa8d",
   "metadata": {},
   "outputs": [
    {
     "data": {
      "text/html": [
       "<div>\n",
       "<style scoped>\n",
       "    .dataframe tbody tr th:only-of-type {\n",
       "        vertical-align: middle;\n",
       "    }\n",
       "\n",
       "    .dataframe tbody tr th {\n",
       "        vertical-align: top;\n",
       "    }\n",
       "\n",
       "    .dataframe thead tr th {\n",
       "        text-align: left;\n",
       "    }\n",
       "\n",
       "    .dataframe thead tr:last-of-type th {\n",
       "        text-align: right;\n",
       "    }\n",
       "</style>\n",
       "<table border=\"1\" class=\"dataframe\">\n",
       "  <thead>\n",
       "    <tr>\n",
       "      <th></th>\n",
       "      <th colspan=\"4\" halign=\"left\">price</th>\n",
       "      <th colspan=\"4\" halign=\"left\">area</th>\n",
       "    </tr>\n",
       "    <tr>\n",
       "      <th></th>\n",
       "      <th>count</th>\n",
       "      <th>median</th>\n",
       "      <th>max</th>\n",
       "      <th>min</th>\n",
       "      <th>count</th>\n",
       "      <th>median</th>\n",
       "      <th>max</th>\n",
       "      <th>min</th>\n",
       "    </tr>\n",
       "    <tr>\n",
       "      <th>segment</th>\n",
       "      <th></th>\n",
       "      <th></th>\n",
       "      <th></th>\n",
       "      <th></th>\n",
       "      <th></th>\n",
       "      <th></th>\n",
       "      <th></th>\n",
       "      <th></th>\n",
       "    </tr>\n",
       "  </thead>\n",
       "  <tbody>\n",
       "    <tr>\n",
       "      <th>CCR</th>\n",
       "      <td>18130</td>\n",
       "      <td>2111489.5</td>\n",
       "      <td>980000000</td>\n",
       "      <td>550000</td>\n",
       "      <td>18130</td>\n",
       "      <td>1066.0</td>\n",
       "      <td>416750</td>\n",
       "      <td>323</td>\n",
       "    </tr>\n",
       "    <tr>\n",
       "      <th>OCR</th>\n",
       "      <td>49542</td>\n",
       "      <td>1128000.0</td>\n",
       "      <td>970000000</td>\n",
       "      <td>340000</td>\n",
       "      <td>49542</td>\n",
       "      <td>958.0</td>\n",
       "      <td>947081</td>\n",
       "      <td>323</td>\n",
       "    </tr>\n",
       "    <tr>\n",
       "      <th>RCR</th>\n",
       "      <td>37229</td>\n",
       "      <td>1408000.0</td>\n",
       "      <td>906700000</td>\n",
       "      <td>400000</td>\n",
       "      <td>37229</td>\n",
       "      <td>893.0</td>\n",
       "      <td>558565</td>\n",
       "      <td>258</td>\n",
       "    </tr>\n",
       "  </tbody>\n",
       "</table>\n",
       "</div>"
      ],
      "text/plain": [
       "         price                                 area                     \n",
       "         count     median        max     min  count  median     max  min\n",
       "segment                                                                 \n",
       "CCR      18130  2111489.5  980000000  550000  18130  1066.0  416750  323\n",
       "OCR      49542  1128000.0  970000000  340000  49542   958.0  947081  323\n",
       "RCR      37229  1408000.0  906700000  400000  37229   893.0  558565  258"
      ]
     },
     "execution_count": 28,
     "metadata": {},
     "output_type": "execute_result"
    }
   ],
   "source": [
    "funs = ['count', 'median', 'max', 'min']\n",
    "price_area_info = data.groupby('segment')[['price', 'area']].agg(funs)\n",
    "price_area_info"
   ]
  },
  {
   "cell_type": "markdown",
   "id": "40e5850c",
   "metadata": {},
   "source": [
    "Please note that in the resultant data frame, column indexes are formatted as a `MultiIndex` type object. It can be considered as all combinations of two layers of indexes."
   ]
  },
  {
   "cell_type": "code",
   "execution_count": 29,
   "id": "5f978bc3",
   "metadata": {},
   "outputs": [
    {
     "data": {
      "text/plain": [
       "MultiIndex([('price',  'count'),\n",
       "            ('price', 'median'),\n",
       "            ('price',    'max'),\n",
       "            ('price',    'min'),\n",
       "            ( 'area',  'count'),\n",
       "            ( 'area', 'median'),\n",
       "            ( 'area',    'max'),\n",
       "            ( 'area',    'min')],\n",
       "           )"
      ]
     },
     "execution_count": 29,
     "metadata": {},
     "output_type": "execute_result"
    }
   ],
   "source": [
    "price_area_info.columns"
   ]
  },
  {
   "cell_type": "markdown",
   "id": "b6d28b96",
   "metadata": {},
   "source": [
    "Another useful syntax of the `agg()` method is to pass a dictionary mapping column names to operations to be applied on that column. An example is given below."
   ]
  },
  {
   "cell_type": "code",
   "execution_count": 30,
   "id": "112daee5",
   "metadata": {},
   "outputs": [
    {
     "data": {
      "text/html": [
       "<div>\n",
       "<style scoped>\n",
       "    .dataframe tbody tr th:only-of-type {\n",
       "        vertical-align: middle;\n",
       "    }\n",
       "\n",
       "    .dataframe tbody tr th {\n",
       "        vertical-align: top;\n",
       "    }\n",
       "\n",
       "    .dataframe thead tr th {\n",
       "        text-align: left;\n",
       "    }\n",
       "\n",
       "    .dataframe thead tr:last-of-type th {\n",
       "        text-align: right;\n",
       "    }\n",
       "</style>\n",
       "<table border=\"1\" class=\"dataframe\">\n",
       "  <thead>\n",
       "    <tr>\n",
       "      <th></th>\n",
       "      <th>price</th>\n",
       "      <th colspan=\"2\" halign=\"left\">area</th>\n",
       "    </tr>\n",
       "    <tr>\n",
       "      <th></th>\n",
       "      <th>mean</th>\n",
       "      <th>min</th>\n",
       "      <th>max</th>\n",
       "    </tr>\n",
       "    <tr>\n",
       "      <th>segment</th>\n",
       "      <th></th>\n",
       "      <th></th>\n",
       "      <th></th>\n",
       "    </tr>\n",
       "  </thead>\n",
       "  <tbody>\n",
       "    <tr>\n",
       "      <th>CCR</th>\n",
       "      <td>3.244451e+06</td>\n",
       "      <td>323</td>\n",
       "      <td>416750</td>\n",
       "    </tr>\n",
       "    <tr>\n",
       "      <th>OCR</th>\n",
       "      <td>1.276619e+06</td>\n",
       "      <td>323</td>\n",
       "      <td>947081</td>\n",
       "    </tr>\n",
       "    <tr>\n",
       "      <th>RCR</th>\n",
       "      <td>1.724619e+06</td>\n",
       "      <td>258</td>\n",
       "      <td>558565</td>\n",
       "    </tr>\n",
       "  </tbody>\n",
       "</table>\n",
       "</div>"
      ],
      "text/plain": [
       "                price area        \n",
       "                 mean  min     max\n",
       "segment                           \n",
       "CCR      3.244451e+06  323  416750\n",
       "OCR      1.276619e+06  323  947081\n",
       "RCR      1.724619e+06  258  558565"
      ]
     },
     "execution_count": 30,
     "metadata": {},
     "output_type": "execute_result"
    }
   ],
   "source": [
    "mapping = {'price': 'mean',         # Average of the prices\n",
    "           'area': ['min', 'max']}  # Min and max values of sizes\n",
    "mean_median = data.groupby('segment').agg(mapping)\n",
    "mean_median"
   ]
  },
  {
   "cell_type": "markdown",
   "id": "10a56bdb",
   "metadata": {},
   "source": [
    "It is also possible to use a user-defined function for aggregation operation, as the following example."
   ]
  },
  {
   "cell_type": "code",
   "execution_count": 31,
   "id": "81aa8830",
   "metadata": {},
   "outputs": [
    {
     "data": {
      "text/plain": [
       "segment\n",
       "CCR    1650000.0\n",
       "OCR     530000.0\n",
       "RCR     696000.0\n",
       "Name: price, dtype: float64"
      ]
     },
     "execution_count": 31,
     "metadata": {},
     "output_type": "execute_result"
    }
   ],
   "source": [
    "def iqr(x):\n",
    "    \n",
    "    return x.quantile(0.75) - x.quantile(0.25)\n",
    "\n",
    "price_iqr = data.groupby('segment')['price'].agg(iqr)\n",
    "price_iqr"
   ]
  },
  {
   "cell_type": "markdown",
   "id": "55a0d87f",
   "metadata": {},
   "source": [
    "In this code cell, we defined a function `iqr()` to calculate the interquartile range (IQR) for each region segment. This function can also be replaced by a small anonymous `lambda()` function, which is typically used to return the result expressed by a single-line statement. The syntax of the `lambda()` function is given below.\n",
    "\n",
    "<img src=\"https://www.educative.io/api/edpresso/shot/6565495459282944/image/6707306488135680\" width=600>\n",
    "\n",
    "Following the syntax rules, the IQR values can be calculated without formally defining a function, yet the result is the same."
   ]
  },
  {
   "cell_type": "code",
   "execution_count": 32,
   "id": "4a7733a5",
   "metadata": {
    "scrolled": true
   },
   "outputs": [
    {
     "data": {
      "text/plain": [
       "segment\n",
       "CCR    1650000.0\n",
       "OCR     530000.0\n",
       "RCR     696000.0\n",
       "Name: price, dtype: float64"
      ]
     },
     "execution_count": 32,
     "metadata": {},
     "output_type": "execute_result"
    }
   ],
   "source": [
    "price_iqr = data.groupby('segment')['price'].agg(lambda x: \n",
    "                                                 x.quantile(0.75) - x.quantile(0.25))\n",
    "price_iqr"
   ]
  },
  {
   "cell_type": "markdown",
   "id": "035b88a4",
   "metadata": {},
   "source": [
    "#### Transformation via `transform()`\n",
    "\n",
    "You may notice that the aggregation operations summarize each group into one value, so the number of rows of the combined data structure is the same as the number of groups. In some cases, we may need to transform each row of the dataset into other values. Take the normalized prices of each region segment for example, it can be calculated by the following code."
   ]
  },
  {
   "cell_type": "code",
   "execution_count": 33,
   "id": "ff2979b0",
   "metadata": {},
   "outputs": [
    {
     "data": {
      "text/plain": [
       "0         0.002297\n",
       "1         0.002853\n",
       "2         0.001583\n",
       "3         0.001682\n",
       "4         0.001346\n",
       "            ...   \n",
       "104896    0.000588\n",
       "104897    0.000413\n",
       "104898    0.000552\n",
       "104899    0.000432\n",
       "104900    0.000743\n",
       "Name: price, Length: 104901, dtype: float64"
      ]
     },
     "execution_count": 33,
     "metadata": {},
     "output_type": "execute_result"
    }
   ],
   "source": [
    "def normalize(x):\n",
    "    \n",
    "    return (x - x.min()) / (x.max() - x.min())\n",
    "\n",
    "price_norm = data.groupby('segment')['price'].transform(normalize)\n",
    "price_norm"
   ]
  },
  {
   "cell_type": "markdown",
   "id": "5c546bf8",
   "metadata": {},
   "source": [
    "Equivalently, the formal function `normalize()` can be replaced by the `lambda` version."
   ]
  },
  {
   "cell_type": "code",
   "execution_count": 34,
   "id": "4f309cd4",
   "metadata": {},
   "outputs": [
    {
     "data": {
      "text/plain": [
       "0         0.002297\n",
       "1         0.002853\n",
       "2         0.001583\n",
       "3         0.001682\n",
       "4         0.001346\n",
       "            ...   \n",
       "104896    0.000588\n",
       "104897    0.000413\n",
       "104898    0.000552\n",
       "104899    0.000432\n",
       "104900    0.000743\n",
       "Name: price, Length: 104901, dtype: float64"
      ]
     },
     "execution_count": 34,
     "metadata": {},
     "output_type": "execute_result"
    }
   ],
   "source": [
    "price_norm = data.groupby('segment')['price'].transform(lambda x: \n",
    "                                                        (x-x.min())/(x.max()-x.min()))\n",
    "price_norm"
   ]
  },
  {
   "cell_type": "markdown",
   "id": "d111e3bd",
   "metadata": {},
   "source": [
    "Please note that these operations transform each row of the original dataset into a new row of results, so the new data structure created by the `transform()` method always has the same number of rows as the original dataset.\n",
    "\n",
    "#### Aggregation or transformation via `apply()`\n",
    "\n",
    "The `apply()` method is a more general and more flexible version of the `agg()` or `transform()` methods. The shape of the returned data structure depends on whether the applied function is for aggregation or transformation. "
   ]
  },
  {
   "cell_type": "code",
   "execution_count": 35,
   "id": "48268dd4",
   "metadata": {},
   "outputs": [
    {
     "data": {
      "text/plain": [
       "segment\n",
       "CCR    1650000.0\n",
       "OCR     530000.0\n",
       "RCR     696000.0\n",
       "Name: price, dtype: float64"
      ]
     },
     "execution_count": 35,
     "metadata": {},
     "output_type": "execute_result"
    }
   ],
   "source": [
    "# Aggregation operation: IQR\n",
    "price_iqr = data.groupby('segment')['price'].apply(lambda x: \n",
    "                                                   x.quantile(0.75) - x.quantile(0.25))\n",
    "price_iqr"
   ]
  },
  {
   "cell_type": "code",
   "execution_count": 36,
   "id": "0bbdcca1",
   "metadata": {},
   "outputs": [
    {
     "data": {
      "text/plain": [
       "0         0.002297\n",
       "1         0.002853\n",
       "2         0.001583\n",
       "3         0.001682\n",
       "4         0.001346\n",
       "            ...   \n",
       "104896    0.000588\n",
       "104897    0.000413\n",
       "104898    0.000552\n",
       "104899    0.000432\n",
       "104900    0.000743\n",
       "Name: price, Length: 104901, dtype: float64"
      ]
     },
     "execution_count": 36,
     "metadata": {},
     "output_type": "execute_result"
    }
   ],
   "source": [
    "# Transformation operation: normalization\n",
    "price_norm = data.groupby('segment')['price'].apply(lambda x: \n",
    "                                                    (x-x.min())/(x.max()-x.min()))\n",
    "price_norm"
   ]
  },
  {
   "cell_type": "markdown",
   "id": "27d7fbab",
   "metadata": {},
   "source": [
    "#### Filtering via `filter()`\n",
    "\n",
    "A filtering operation allows you to drop data based on the group properties. For example, we might want to keep all groups in which the mean price is lower than 1800 dollars per square feet. "
   ]
  },
  {
   "cell_type": "code",
   "execution_count": 37,
   "id": "e2916d99",
   "metadata": {
    "scrolled": true
   },
   "outputs": [
    {
     "data": {
      "text/html": [
       "<div>\n",
       "<style scoped>\n",
       "    .dataframe tbody tr th:only-of-type {\n",
       "        vertical-align: middle;\n",
       "    }\n",
       "\n",
       "    .dataframe tbody tr th {\n",
       "        vertical-align: top;\n",
       "    }\n",
       "\n",
       "    .dataframe thead th {\n",
       "        text-align: right;\n",
       "    }\n",
       "</style>\n",
       "<table border=\"1\" class=\"dataframe\">\n",
       "  <thead>\n",
       "    <tr style=\"text-align: right;\">\n",
       "      <th></th>\n",
       "      <th>project</th>\n",
       "      <th>street</th>\n",
       "      <th>type</th>\n",
       "      <th>district</th>\n",
       "      <th>segment</th>\n",
       "      <th>tenure</th>\n",
       "      <th>commence</th>\n",
       "      <th>sale</th>\n",
       "      <th>price</th>\n",
       "      <th>area</th>\n",
       "      <th>level</th>\n",
       "      <th>date</th>\n",
       "      <th>price_psf</th>\n",
       "    </tr>\n",
       "  </thead>\n",
       "  <tbody>\n",
       "    <tr>\n",
       "      <th>0</th>\n",
       "      <td>PARC CLEMATIS</td>\n",
       "      <td>JALAN LEMPENG</td>\n",
       "      <td>Apartment</td>\n",
       "      <td>5</td>\n",
       "      <td>OCR</td>\n",
       "      <td>99 years</td>\n",
       "      <td>2019.0</td>\n",
       "      <td>New Sale</td>\n",
       "      <td>2567000</td>\n",
       "      <td>1496</td>\n",
       "      <td>11 to 15</td>\n",
       "      <td>Dec-21</td>\n",
       "      <td>1715.909091</td>\n",
       "    </tr>\n",
       "    <tr>\n",
       "      <th>1</th>\n",
       "      <td>ONE PEARL BANK</td>\n",
       "      <td>PEARL BANK</td>\n",
       "      <td>Apartment</td>\n",
       "      <td>3</td>\n",
       "      <td>RCR</td>\n",
       "      <td>99 years</td>\n",
       "      <td>2019.0</td>\n",
       "      <td>New Sale</td>\n",
       "      <td>2986000</td>\n",
       "      <td>1281</td>\n",
       "      <td>16 to 20</td>\n",
       "      <td>Dec-21</td>\n",
       "      <td>2330.991413</td>\n",
       "    </tr>\n",
       "    <tr>\n",
       "      <th>2</th>\n",
       "      <td>ONE PEARL BANK</td>\n",
       "      <td>PEARL BANK</td>\n",
       "      <td>Apartment</td>\n",
       "      <td>3</td>\n",
       "      <td>RCR</td>\n",
       "      <td>99 years</td>\n",
       "      <td>2019.0</td>\n",
       "      <td>New Sale</td>\n",
       "      <td>1835000</td>\n",
       "      <td>700</td>\n",
       "      <td>21 to 25</td>\n",
       "      <td>Dec-21</td>\n",
       "      <td>2621.428571</td>\n",
       "    </tr>\n",
       "    <tr>\n",
       "      <th>3</th>\n",
       "      <td>ONE PEARL BANK</td>\n",
       "      <td>PEARL BANK</td>\n",
       "      <td>Apartment</td>\n",
       "      <td>3</td>\n",
       "      <td>RCR</td>\n",
       "      <td>99 years</td>\n",
       "      <td>2019.0</td>\n",
       "      <td>New Sale</td>\n",
       "      <td>1924000</td>\n",
       "      <td>840</td>\n",
       "      <td>06 to 10</td>\n",
       "      <td>Dec-21</td>\n",
       "      <td>2290.476190</td>\n",
       "    </tr>\n",
       "    <tr>\n",
       "      <th>4</th>\n",
       "      <td>THE CREST</td>\n",
       "      <td>PRINCE CHARLES CRESCENT</td>\n",
       "      <td>Condominium</td>\n",
       "      <td>3</td>\n",
       "      <td>RCR</td>\n",
       "      <td>99 years</td>\n",
       "      <td>2012.0</td>\n",
       "      <td>Resale</td>\n",
       "      <td>1620000</td>\n",
       "      <td>883</td>\n",
       "      <td>11 to 15</td>\n",
       "      <td>Dec-21</td>\n",
       "      <td>1834.654587</td>\n",
       "    </tr>\n",
       "    <tr>\n",
       "      <th>...</th>\n",
       "      <td>...</td>\n",
       "      <td>...</td>\n",
       "      <td>...</td>\n",
       "      <td>...</td>\n",
       "      <td>...</td>\n",
       "      <td>...</td>\n",
       "      <td>...</td>\n",
       "      <td>...</td>\n",
       "      <td>...</td>\n",
       "      <td>...</td>\n",
       "      <td>...</td>\n",
       "      <td>...</td>\n",
       "      <td>...</td>\n",
       "    </tr>\n",
       "    <tr>\n",
       "      <th>86766</th>\n",
       "      <td>FLORAVILLE</td>\n",
       "      <td>CACTUS ROAD</td>\n",
       "      <td>Apartment</td>\n",
       "      <td>28</td>\n",
       "      <td>OCR</td>\n",
       "      <td>freehold</td>\n",
       "      <td>NaN</td>\n",
       "      <td>New Sale</td>\n",
       "      <td>910000</td>\n",
       "      <td>818</td>\n",
       "      <td>01 to 05</td>\n",
       "      <td>Jan-17</td>\n",
       "      <td>1112.469438</td>\n",
       "    </tr>\n",
       "    <tr>\n",
       "      <th>86767</th>\n",
       "      <td>EUPHONY GARDENS</td>\n",
       "      <td>JALAN MATA AYER</td>\n",
       "      <td>Condominium</td>\n",
       "      <td>27</td>\n",
       "      <td>OCR</td>\n",
       "      <td>99 years</td>\n",
       "      <td>1998.0</td>\n",
       "      <td>Resale</td>\n",
       "      <td>739998</td>\n",
       "      <td>1044</td>\n",
       "      <td>01 to 05</td>\n",
       "      <td>Jan-17</td>\n",
       "      <td>708.810345</td>\n",
       "    </tr>\n",
       "    <tr>\n",
       "      <th>86768</th>\n",
       "      <td>SYMPHONY SUITES</td>\n",
       "      <td>YISHUN CLOSE</td>\n",
       "      <td>Condominium</td>\n",
       "      <td>27</td>\n",
       "      <td>OCR</td>\n",
       "      <td>99 years</td>\n",
       "      <td>2014.0</td>\n",
       "      <td>New Sale</td>\n",
       "      <td>875000</td>\n",
       "      <td>797</td>\n",
       "      <td>11 to 15</td>\n",
       "      <td>Jan-17</td>\n",
       "      <td>1097.867001</td>\n",
       "    </tr>\n",
       "    <tr>\n",
       "      <th>86769</th>\n",
       "      <td>SYMPHONY SUITES</td>\n",
       "      <td>YISHUN CLOSE</td>\n",
       "      <td>Condominium</td>\n",
       "      <td>27</td>\n",
       "      <td>OCR</td>\n",
       "      <td>99 years</td>\n",
       "      <td>2014.0</td>\n",
       "      <td>New Sale</td>\n",
       "      <td>759000</td>\n",
       "      <td>689</td>\n",
       "      <td>11 to 15</td>\n",
       "      <td>Jan-17</td>\n",
       "      <td>1101.596517</td>\n",
       "    </tr>\n",
       "    <tr>\n",
       "      <th>86770</th>\n",
       "      <td>SELETAR PARK RESIDENCE</td>\n",
       "      <td>SELETAR ROAD</td>\n",
       "      <td>Condominium</td>\n",
       "      <td>28</td>\n",
       "      <td>OCR</td>\n",
       "      <td>99 years</td>\n",
       "      <td>2011.0</td>\n",
       "      <td>Resale</td>\n",
       "      <td>1060000</td>\n",
       "      <td>872</td>\n",
       "      <td>01 to 05</td>\n",
       "      <td>Jan-17</td>\n",
       "      <td>1215.596330</td>\n",
       "    </tr>\n",
       "  </tbody>\n",
       "</table>\n",
       "<p>86771 rows × 13 columns</p>\n",
       "</div>"
      ],
      "text/plain": [
       "                      project                   street         type  district  \\\n",
       "0               PARC CLEMATIS            JALAN LEMPENG    Apartment         5   \n",
       "1              ONE PEARL BANK               PEARL BANK    Apartment         3   \n",
       "2              ONE PEARL BANK               PEARL BANK    Apartment         3   \n",
       "3              ONE PEARL BANK               PEARL BANK    Apartment         3   \n",
       "4                   THE CREST  PRINCE CHARLES CRESCENT  Condominium         3   \n",
       "...                       ...                      ...          ...       ...   \n",
       "86766              FLORAVILLE              CACTUS ROAD    Apartment        28   \n",
       "86767         EUPHONY GARDENS          JALAN MATA AYER  Condominium        27   \n",
       "86768         SYMPHONY SUITES             YISHUN CLOSE  Condominium        27   \n",
       "86769         SYMPHONY SUITES             YISHUN CLOSE  Condominium        27   \n",
       "86770  SELETAR PARK RESIDENCE             SELETAR ROAD  Condominium        28   \n",
       "\n",
       "      segment    tenure  commence      sale    price  area     level    date  \\\n",
       "0         OCR  99 years    2019.0  New Sale  2567000  1496  11 to 15  Dec-21   \n",
       "1         RCR  99 years    2019.0  New Sale  2986000  1281  16 to 20  Dec-21   \n",
       "2         RCR  99 years    2019.0  New Sale  1835000   700  21 to 25  Dec-21   \n",
       "3         RCR  99 years    2019.0  New Sale  1924000   840  06 to 10  Dec-21   \n",
       "4         RCR  99 years    2012.0    Resale  1620000   883  11 to 15  Dec-21   \n",
       "...       ...       ...       ...       ...      ...   ...       ...     ...   \n",
       "86766     OCR  freehold       NaN  New Sale   910000   818  01 to 05  Jan-17   \n",
       "86767     OCR  99 years    1998.0    Resale   739998  1044  01 to 05  Jan-17   \n",
       "86768     OCR  99 years    2014.0  New Sale   875000   797  11 to 15  Jan-17   \n",
       "86769     OCR  99 years    2014.0  New Sale   759000   689  11 to 15  Jan-17   \n",
       "86770     OCR  99 years    2011.0    Resale  1060000   872  01 to 05  Jan-17   \n",
       "\n",
       "         price_psf  \n",
       "0      1715.909091  \n",
       "1      2330.991413  \n",
       "2      2621.428571  \n",
       "3      2290.476190  \n",
       "4      1834.654587  \n",
       "...            ...  \n",
       "86766  1112.469438  \n",
       "86767   708.810345  \n",
       "86768  1097.867001  \n",
       "86769  1101.596517  \n",
       "86770  1215.596330  \n",
       "\n",
       "[86771 rows x 13 columns]"
      ]
     },
     "execution_count": 37,
     "metadata": {},
     "output_type": "execute_result"
    }
   ],
   "source": [
    "data['price_psf'] = data['price'] / data['area']\n",
    "\n",
    "cheap_regions = data.groupby('segment').filter(lambda x: \n",
    "                                               x['price_psf'].mean() < 1800)\n",
    "cheap_regions.reset_index(drop=True, inplace=True)\n",
    "cheap_regions"
   ]
  },
  {
   "cell_type": "markdown",
   "id": "282bc977",
   "metadata": {},
   "source": [
    "It can be seen that the whole group of CCR condos/apartments are dropped because the average price for that region is larger than 1800 dollars per square feet. We can use the following code to verify the CCR segment is dropped. "
   ]
  },
  {
   "cell_type": "code",
   "execution_count": 38,
   "id": "63150091",
   "metadata": {},
   "outputs": [
    {
     "data": {
      "text/plain": [
       "OCR    49542\n",
       "RCR    37229\n",
       "Name: segment, dtype: int64"
      ]
     },
     "execution_count": 38,
     "metadata": {},
     "output_type": "execute_result"
    }
   ],
   "source": [
    "cheap_regions['segment'].value_counts()"
   ]
  },
  {
   "cell_type": "markdown",
   "id": "820bf290",
   "metadata": {},
   "source": [
    "### Time series data <a id=\"subsection2.2\"></a>\n",
    "\n",
    "<div class=\"alert alert-block alert-success\">\n",
    "<b>Example 2:</b> Create a new dataset with all condo/apartment transactions from January 2018 to June 2018. \n",
    "</div>\n",
    "\n",
    "In the dataset, we have a column `date` representing the dates of transactions. Values in this column are `str` type objects, so they cannot be directly used for date selections. "
   ]
  },
  {
   "cell_type": "code",
   "execution_count": 39,
   "id": "c768ef5d",
   "metadata": {},
   "outputs": [
    {
     "data": {
      "text/plain": [
       "'Dec-21'"
      ]
     },
     "execution_count": 39,
     "metadata": {},
     "output_type": "execute_result"
    }
   ],
   "source": [
    "date = data['date']\n",
    "date.loc[0]"
   ]
  },
  {
   "cell_type": "markdown",
   "id": "89aed5fe",
   "metadata": {},
   "source": [
    "Python provides a new data type called `timestamp` for easy time and date operations. We can create a new column called `time_stamp` to store the date data. "
   ]
  },
  {
   "cell_type": "code",
   "execution_count": 40,
   "id": "3a05e44b",
   "metadata": {},
   "outputs": [
    {
     "data": {
      "text/html": [
       "<div>\n",
       "<style scoped>\n",
       "    .dataframe tbody tr th:only-of-type {\n",
       "        vertical-align: middle;\n",
       "    }\n",
       "\n",
       "    .dataframe tbody tr th {\n",
       "        vertical-align: top;\n",
       "    }\n",
       "\n",
       "    .dataframe thead th {\n",
       "        text-align: right;\n",
       "    }\n",
       "</style>\n",
       "<table border=\"1\" class=\"dataframe\">\n",
       "  <thead>\n",
       "    <tr style=\"text-align: right;\">\n",
       "      <th></th>\n",
       "      <th>project</th>\n",
       "      <th>street</th>\n",
       "      <th>type</th>\n",
       "      <th>district</th>\n",
       "      <th>segment</th>\n",
       "      <th>tenure</th>\n",
       "      <th>commence</th>\n",
       "      <th>sale</th>\n",
       "      <th>price</th>\n",
       "      <th>area</th>\n",
       "      <th>level</th>\n",
       "      <th>date</th>\n",
       "      <th>price_psf</th>\n",
       "      <th>time_stamp</th>\n",
       "    </tr>\n",
       "  </thead>\n",
       "  <tbody>\n",
       "    <tr>\n",
       "      <th>0</th>\n",
       "      <td>PARC CLEMATIS</td>\n",
       "      <td>JALAN LEMPENG</td>\n",
       "      <td>Apartment</td>\n",
       "      <td>5</td>\n",
       "      <td>OCR</td>\n",
       "      <td>99 years</td>\n",
       "      <td>2019.0</td>\n",
       "      <td>New Sale</td>\n",
       "      <td>2567000</td>\n",
       "      <td>1496</td>\n",
       "      <td>11 to 15</td>\n",
       "      <td>Dec-21</td>\n",
       "      <td>1715.909091</td>\n",
       "      <td>2021-12-01</td>\n",
       "    </tr>\n",
       "    <tr>\n",
       "      <th>1</th>\n",
       "      <td>ONE PEARL BANK</td>\n",
       "      <td>PEARL BANK</td>\n",
       "      <td>Apartment</td>\n",
       "      <td>3</td>\n",
       "      <td>RCR</td>\n",
       "      <td>99 years</td>\n",
       "      <td>2019.0</td>\n",
       "      <td>New Sale</td>\n",
       "      <td>2986000</td>\n",
       "      <td>1281</td>\n",
       "      <td>16 to 20</td>\n",
       "      <td>Dec-21</td>\n",
       "      <td>2330.991413</td>\n",
       "      <td>2021-12-01</td>\n",
       "    </tr>\n",
       "    <tr>\n",
       "      <th>2</th>\n",
       "      <td>ONE PEARL BANK</td>\n",
       "      <td>PEARL BANK</td>\n",
       "      <td>Apartment</td>\n",
       "      <td>3</td>\n",
       "      <td>RCR</td>\n",
       "      <td>99 years</td>\n",
       "      <td>2019.0</td>\n",
       "      <td>New Sale</td>\n",
       "      <td>1835000</td>\n",
       "      <td>700</td>\n",
       "      <td>21 to 25</td>\n",
       "      <td>Dec-21</td>\n",
       "      <td>2621.428571</td>\n",
       "      <td>2021-12-01</td>\n",
       "    </tr>\n",
       "    <tr>\n",
       "      <th>3</th>\n",
       "      <td>ONE PEARL BANK</td>\n",
       "      <td>PEARL BANK</td>\n",
       "      <td>Apartment</td>\n",
       "      <td>3</td>\n",
       "      <td>RCR</td>\n",
       "      <td>99 years</td>\n",
       "      <td>2019.0</td>\n",
       "      <td>New Sale</td>\n",
       "      <td>1924000</td>\n",
       "      <td>840</td>\n",
       "      <td>06 to 10</td>\n",
       "      <td>Dec-21</td>\n",
       "      <td>2290.476190</td>\n",
       "      <td>2021-12-01</td>\n",
       "    </tr>\n",
       "    <tr>\n",
       "      <th>4</th>\n",
       "      <td>THE CREST</td>\n",
       "      <td>PRINCE CHARLES CRESCENT</td>\n",
       "      <td>Condominium</td>\n",
       "      <td>3</td>\n",
       "      <td>RCR</td>\n",
       "      <td>99 years</td>\n",
       "      <td>2012.0</td>\n",
       "      <td>Resale</td>\n",
       "      <td>1620000</td>\n",
       "      <td>883</td>\n",
       "      <td>11 to 15</td>\n",
       "      <td>Dec-21</td>\n",
       "      <td>1834.654587</td>\n",
       "      <td>2021-12-01</td>\n",
       "    </tr>\n",
       "  </tbody>\n",
       "</table>\n",
       "</div>"
      ],
      "text/plain": [
       "          project                   street         type  district segment  \\\n",
       "0   PARC CLEMATIS            JALAN LEMPENG    Apartment         5     OCR   \n",
       "1  ONE PEARL BANK               PEARL BANK    Apartment         3     RCR   \n",
       "2  ONE PEARL BANK               PEARL BANK    Apartment         3     RCR   \n",
       "3  ONE PEARL BANK               PEARL BANK    Apartment         3     RCR   \n",
       "4       THE CREST  PRINCE CHARLES CRESCENT  Condominium         3     RCR   \n",
       "\n",
       "     tenure  commence      sale    price  area     level    date    price_psf  \\\n",
       "0  99 years    2019.0  New Sale  2567000  1496  11 to 15  Dec-21  1715.909091   \n",
       "1  99 years    2019.0  New Sale  2986000  1281  16 to 20  Dec-21  2330.991413   \n",
       "2  99 years    2019.0  New Sale  1835000   700  21 to 25  Dec-21  2621.428571   \n",
       "3  99 years    2019.0  New Sale  1924000   840  06 to 10  Dec-21  2290.476190   \n",
       "4  99 years    2012.0    Resale  1620000   883  11 to 15  Dec-21  1834.654587   \n",
       "\n",
       "  time_stamp  \n",
       "0 2021-12-01  \n",
       "1 2021-12-01  \n",
       "2 2021-12-01  \n",
       "3 2021-12-01  \n",
       "4 2021-12-01  "
      ]
     },
     "execution_count": 40,
     "metadata": {},
     "output_type": "execute_result"
    }
   ],
   "source": [
    "data['time_stamp'] = pd.to_datetime(data['date'], format='%b-%y')\n",
    "data.head()"
   ]
  },
  {
   "cell_type": "markdown",
   "id": "112fbde7",
   "metadata": {},
   "source": [
    "The conversion con be performed by the function `to_datetime`, where the first argument is a series of `str` type values, and the argument `format` specify how the string is interpreted as time information. You may use the website [here](https://docs.python.org/3/library/datetime.html#strftime-and-strptime-behavior) to find other date or time formats. \n",
    "\n",
    "The new column is recognized by Python as time data, so we can use the simple logical operators to select data within the time range. "
   ]
  },
  {
   "cell_type": "code",
   "execution_count": 41,
   "id": "31d3ea9e",
   "metadata": {},
   "outputs": [
    {
     "data": {
      "text/plain": [
       "DatetimeIndex(['2018-01-01', '2018-07-01'], dtype='datetime64[ns]', freq=None)"
      ]
     },
     "execution_count": 41,
     "metadata": {},
     "output_type": "execute_result"
    }
   ],
   "source": [
    "time_range = pd.to_datetime(['Jan-18', 'Jul-18'], format='%b-%y')\n",
    "time_range"
   ]
  },
  {
   "cell_type": "code",
   "execution_count": 42,
   "id": "4c2d714b",
   "metadata": {},
   "outputs": [
    {
     "data": {
      "text/html": [
       "<div>\n",
       "<style scoped>\n",
       "    .dataframe tbody tr th:only-of-type {\n",
       "        vertical-align: middle;\n",
       "    }\n",
       "\n",
       "    .dataframe tbody tr th {\n",
       "        vertical-align: top;\n",
       "    }\n",
       "\n",
       "    .dataframe thead th {\n",
       "        text-align: right;\n",
       "    }\n",
       "</style>\n",
       "<table border=\"1\" class=\"dataframe\">\n",
       "  <thead>\n",
       "    <tr style=\"text-align: right;\">\n",
       "      <th></th>\n",
       "      <th>project</th>\n",
       "      <th>street</th>\n",
       "      <th>type</th>\n",
       "      <th>district</th>\n",
       "      <th>segment</th>\n",
       "      <th>tenure</th>\n",
       "      <th>commence</th>\n",
       "      <th>sale</th>\n",
       "      <th>price</th>\n",
       "      <th>area</th>\n",
       "      <th>level</th>\n",
       "      <th>date</th>\n",
       "      <th>price_psf</th>\n",
       "      <th>time_stamp</th>\n",
       "    </tr>\n",
       "  </thead>\n",
       "  <tbody>\n",
       "    <tr>\n",
       "      <th>0</th>\n",
       "      <td>MARGARET VILLE</td>\n",
       "      <td>MARGARET DRIVE</td>\n",
       "      <td>Apartment</td>\n",
       "      <td>3</td>\n",
       "      <td>RCR</td>\n",
       "      <td>99 years</td>\n",
       "      <td>2017.0</td>\n",
       "      <td>New Sale</td>\n",
       "      <td>874700</td>\n",
       "      <td>463</td>\n",
       "      <td>01 to 05</td>\n",
       "      <td>Jun-18</td>\n",
       "      <td>1889.200864</td>\n",
       "      <td>2018-06-01</td>\n",
       "    </tr>\n",
       "    <tr>\n",
       "      <th>1</th>\n",
       "      <td>MARGARET VILLE</td>\n",
       "      <td>MARGARET DRIVE</td>\n",
       "      <td>Apartment</td>\n",
       "      <td>3</td>\n",
       "      <td>RCR</td>\n",
       "      <td>99 years</td>\n",
       "      <td>2017.0</td>\n",
       "      <td>New Sale</td>\n",
       "      <td>1435200</td>\n",
       "      <td>829</td>\n",
       "      <td>01 to 05</td>\n",
       "      <td>Jun-18</td>\n",
       "      <td>1731.242461</td>\n",
       "      <td>2018-06-01</td>\n",
       "    </tr>\n",
       "    <tr>\n",
       "      <th>2</th>\n",
       "      <td>THE CLEMENT CANOPY</td>\n",
       "      <td>CLEMENTI AVENUE 1</td>\n",
       "      <td>Apartment</td>\n",
       "      <td>5</td>\n",
       "      <td>OCR</td>\n",
       "      <td>99 years</td>\n",
       "      <td>2016.0</td>\n",
       "      <td>New Sale</td>\n",
       "      <td>2090000</td>\n",
       "      <td>1346</td>\n",
       "      <td>26 to 30</td>\n",
       "      <td>Jun-18</td>\n",
       "      <td>1552.748886</td>\n",
       "      <td>2018-06-01</td>\n",
       "    </tr>\n",
       "    <tr>\n",
       "      <th>3</th>\n",
       "      <td>BIJOU</td>\n",
       "      <td>JALAN MAT JAMBOL</td>\n",
       "      <td>Apartment</td>\n",
       "      <td>5</td>\n",
       "      <td>RCR</td>\n",
       "      <td>freehold</td>\n",
       "      <td>NaN</td>\n",
       "      <td>New Sale</td>\n",
       "      <td>1082611</td>\n",
       "      <td>506</td>\n",
       "      <td>01 to 05</td>\n",
       "      <td>Jun-18</td>\n",
       "      <td>2139.547431</td>\n",
       "      <td>2018-06-01</td>\n",
       "    </tr>\n",
       "    <tr>\n",
       "      <th>4</th>\n",
       "      <td>TWIN VEW</td>\n",
       "      <td>WEST COAST VALE</td>\n",
       "      <td>Apartment</td>\n",
       "      <td>5</td>\n",
       "      <td>OCR</td>\n",
       "      <td>99 years</td>\n",
       "      <td>2017.0</td>\n",
       "      <td>New Sale</td>\n",
       "      <td>1236000</td>\n",
       "      <td>818</td>\n",
       "      <td>26 to 30</td>\n",
       "      <td>Jun-18</td>\n",
       "      <td>1511.002445</td>\n",
       "      <td>2018-06-01</td>\n",
       "    </tr>\n",
       "    <tr>\n",
       "      <th>...</th>\n",
       "      <td>...</td>\n",
       "      <td>...</td>\n",
       "      <td>...</td>\n",
       "      <td>...</td>\n",
       "      <td>...</td>\n",
       "      <td>...</td>\n",
       "      <td>...</td>\n",
       "      <td>...</td>\n",
       "      <td>...</td>\n",
       "      <td>...</td>\n",
       "      <td>...</td>\n",
       "      <td>...</td>\n",
       "      <td>...</td>\n",
       "      <td>...</td>\n",
       "    </tr>\n",
       "    <tr>\n",
       "      <th>11016</th>\n",
       "      <td>SYMPHONY SUITES</td>\n",
       "      <td>YISHUN CLOSE</td>\n",
       "      <td>Condominium</td>\n",
       "      <td>27</td>\n",
       "      <td>OCR</td>\n",
       "      <td>99 years</td>\n",
       "      <td>2014.0</td>\n",
       "      <td>New Sale</td>\n",
       "      <td>1000000</td>\n",
       "      <td>915</td>\n",
       "      <td>11 to 15</td>\n",
       "      <td>Jan-18</td>\n",
       "      <td>1092.896175</td>\n",
       "      <td>2018-01-01</td>\n",
       "    </tr>\n",
       "    <tr>\n",
       "      <th>11017</th>\n",
       "      <td>THE GREENWICH</td>\n",
       "      <td>SELETAR ROAD</td>\n",
       "      <td>Condominium</td>\n",
       "      <td>28</td>\n",
       "      <td>OCR</td>\n",
       "      <td>99 years</td>\n",
       "      <td>2009.0</td>\n",
       "      <td>Resale</td>\n",
       "      <td>635000</td>\n",
       "      <td>603</td>\n",
       "      <td>01 to 05</td>\n",
       "      <td>Jan-18</td>\n",
       "      <td>1053.067993</td>\n",
       "      <td>2018-01-01</td>\n",
       "    </tr>\n",
       "    <tr>\n",
       "      <th>11018</th>\n",
       "      <td>SYMPHONY SUITES</td>\n",
       "      <td>YISHUN CLOSE</td>\n",
       "      <td>Condominium</td>\n",
       "      <td>27</td>\n",
       "      <td>OCR</td>\n",
       "      <td>99 years</td>\n",
       "      <td>2014.0</td>\n",
       "      <td>New Sale</td>\n",
       "      <td>1015000</td>\n",
       "      <td>1023</td>\n",
       "      <td>06 to 10</td>\n",
       "      <td>Jan-18</td>\n",
       "      <td>992.179863</td>\n",
       "      <td>2018-01-01</td>\n",
       "    </tr>\n",
       "    <tr>\n",
       "      <th>11019</th>\n",
       "      <td>KANDIS RESIDENCE</td>\n",
       "      <td>KANDIS LINK</td>\n",
       "      <td>Condominium</td>\n",
       "      <td>27</td>\n",
       "      <td>OCR</td>\n",
       "      <td>99 years</td>\n",
       "      <td>2016.0</td>\n",
       "      <td>New Sale</td>\n",
       "      <td>673000</td>\n",
       "      <td>484</td>\n",
       "      <td>01 to 05</td>\n",
       "      <td>Jan-18</td>\n",
       "      <td>1390.495868</td>\n",
       "      <td>2018-01-01</td>\n",
       "    </tr>\n",
       "    <tr>\n",
       "      <th>11020</th>\n",
       "      <td>SYMPHONY SUITES</td>\n",
       "      <td>YISHUN CLOSE</td>\n",
       "      <td>Condominium</td>\n",
       "      <td>27</td>\n",
       "      <td>OCR</td>\n",
       "      <td>99 years</td>\n",
       "      <td>2014.0</td>\n",
       "      <td>New Sale</td>\n",
       "      <td>942000</td>\n",
       "      <td>893</td>\n",
       "      <td>01 to 05</td>\n",
       "      <td>Jan-18</td>\n",
       "      <td>1054.871221</td>\n",
       "      <td>2018-01-01</td>\n",
       "    </tr>\n",
       "  </tbody>\n",
       "</table>\n",
       "<p>11021 rows × 14 columns</p>\n",
       "</div>"
      ],
      "text/plain": [
       "                  project             street         type  district segment  \\\n",
       "0          MARGARET VILLE     MARGARET DRIVE    Apartment         3     RCR   \n",
       "1          MARGARET VILLE     MARGARET DRIVE    Apartment         3     RCR   \n",
       "2      THE CLEMENT CANOPY  CLEMENTI AVENUE 1    Apartment         5     OCR   \n",
       "3                   BIJOU   JALAN MAT JAMBOL    Apartment         5     RCR   \n",
       "4                TWIN VEW    WEST COAST VALE    Apartment         5     OCR   \n",
       "...                   ...                ...          ...       ...     ...   \n",
       "11016     SYMPHONY SUITES       YISHUN CLOSE  Condominium        27     OCR   \n",
       "11017       THE GREENWICH       SELETAR ROAD  Condominium        28     OCR   \n",
       "11018     SYMPHONY SUITES       YISHUN CLOSE  Condominium        27     OCR   \n",
       "11019    KANDIS RESIDENCE        KANDIS LINK  Condominium        27     OCR   \n",
       "11020     SYMPHONY SUITES       YISHUN CLOSE  Condominium        27     OCR   \n",
       "\n",
       "         tenure  commence      sale    price  area     level    date  \\\n",
       "0      99 years    2017.0  New Sale   874700   463  01 to 05  Jun-18   \n",
       "1      99 years    2017.0  New Sale  1435200   829  01 to 05  Jun-18   \n",
       "2      99 years    2016.0  New Sale  2090000  1346  26 to 30  Jun-18   \n",
       "3      freehold       NaN  New Sale  1082611   506  01 to 05  Jun-18   \n",
       "4      99 years    2017.0  New Sale  1236000   818  26 to 30  Jun-18   \n",
       "...         ...       ...       ...      ...   ...       ...     ...   \n",
       "11016  99 years    2014.0  New Sale  1000000   915  11 to 15  Jan-18   \n",
       "11017  99 years    2009.0    Resale   635000   603  01 to 05  Jan-18   \n",
       "11018  99 years    2014.0  New Sale  1015000  1023  06 to 10  Jan-18   \n",
       "11019  99 years    2016.0  New Sale   673000   484  01 to 05  Jan-18   \n",
       "11020  99 years    2014.0  New Sale   942000   893  01 to 05  Jan-18   \n",
       "\n",
       "         price_psf time_stamp  \n",
       "0      1889.200864 2018-06-01  \n",
       "1      1731.242461 2018-06-01  \n",
       "2      1552.748886 2018-06-01  \n",
       "3      2139.547431 2018-06-01  \n",
       "4      1511.002445 2018-06-01  \n",
       "...            ...        ...  \n",
       "11016  1092.896175 2018-01-01  \n",
       "11017  1053.067993 2018-01-01  \n",
       "11018   992.179863 2018-01-01  \n",
       "11019  1390.495868 2018-01-01  \n",
       "11020  1054.871221 2018-01-01  \n",
       "\n",
       "[11021 rows x 14 columns]"
      ]
     },
     "execution_count": 42,
     "metadata": {},
     "output_type": "execute_result"
    }
   ],
   "source": [
    "subset = data.loc[(data['time_stamp'] >= time_range[0]) &\n",
    "                  (data['time_stamp'] < time_range[1])]\n",
    "subset.reset_index(drop=True, inplace=True)\n",
    "subset"
   ]
  },
  {
   "cell_type": "code",
   "execution_count": 43,
   "id": "c8880409",
   "metadata": {},
   "outputs": [
    {
     "data": {
      "text/plain": [
       "array(['Jun-18', 'May-18', 'Apr-18', 'Mar-18', 'Feb-18', 'Jan-18'],\n",
       "      dtype=object)"
      ]
     },
     "execution_count": 43,
     "metadata": {},
     "output_type": "execute_result"
    }
   ],
   "source": [
    "subset['date'].unique()"
   ]
  },
  {
   "cell_type": "markdown",
   "id": "f28d30e0",
   "metadata": {},
   "source": [
    "<div class=\"alert alert-block alert-success\">\n",
    "<b>Example 3:</b> Considering Singapore condos in the district 5, use data visualization to show the monthly trends of 1) the average unit prices; and 2) the number of transactions, in recent years. \n",
    "</div>\n",
    "The subset of data for district 5 is obtained by the following code."
   ]
  },
  {
   "cell_type": "code",
   "execution_count": 44,
   "id": "6a6ca60c",
   "metadata": {},
   "outputs": [
    {
     "data": {
      "text/html": [
       "<div>\n",
       "<style scoped>\n",
       "    .dataframe tbody tr th:only-of-type {\n",
       "        vertical-align: middle;\n",
       "    }\n",
       "\n",
       "    .dataframe tbody tr th {\n",
       "        vertical-align: top;\n",
       "    }\n",
       "\n",
       "    .dataframe thead th {\n",
       "        text-align: right;\n",
       "    }\n",
       "</style>\n",
       "<table border=\"1\" class=\"dataframe\">\n",
       "  <thead>\n",
       "    <tr style=\"text-align: right;\">\n",
       "      <th></th>\n",
       "      <th>project</th>\n",
       "      <th>street</th>\n",
       "      <th>type</th>\n",
       "      <th>district</th>\n",
       "      <th>segment</th>\n",
       "      <th>tenure</th>\n",
       "      <th>commence</th>\n",
       "      <th>sale</th>\n",
       "      <th>price</th>\n",
       "      <th>area</th>\n",
       "      <th>level</th>\n",
       "      <th>date</th>\n",
       "      <th>price_psf</th>\n",
       "      <th>time_stamp</th>\n",
       "    </tr>\n",
       "  </thead>\n",
       "  <tbody>\n",
       "    <tr>\n",
       "      <th>0</th>\n",
       "      <td>THE VISION</td>\n",
       "      <td>WEST COAST CRESCENT</td>\n",
       "      <td>Condominium</td>\n",
       "      <td>5</td>\n",
       "      <td>OCR</td>\n",
       "      <td>99 years</td>\n",
       "      <td>2008.0</td>\n",
       "      <td>Resale</td>\n",
       "      <td>1850000</td>\n",
       "      <td>1776</td>\n",
       "      <td>01 to 05</td>\n",
       "      <td>Dec-21</td>\n",
       "      <td>1041.666667</td>\n",
       "      <td>2021-12-01</td>\n",
       "    </tr>\n",
       "    <tr>\n",
       "      <th>1</th>\n",
       "      <td>HUNDRED TREES</td>\n",
       "      <td>WEST COAST DRIVE</td>\n",
       "      <td>Condominium</td>\n",
       "      <td>5</td>\n",
       "      <td>OCR</td>\n",
       "      <td>freehold</td>\n",
       "      <td>1928.0</td>\n",
       "      <td>Resale</td>\n",
       "      <td>2285000</td>\n",
       "      <td>1475</td>\n",
       "      <td>06 to 10</td>\n",
       "      <td>Dec-21</td>\n",
       "      <td>1549.152542</td>\n",
       "      <td>2021-12-01</td>\n",
       "    </tr>\n",
       "    <tr>\n",
       "      <th>2</th>\n",
       "      <td>PARC RIVIERA</td>\n",
       "      <td>WEST COAST VALE</td>\n",
       "      <td>Condominium</td>\n",
       "      <td>5</td>\n",
       "      <td>OCR</td>\n",
       "      <td>99 years</td>\n",
       "      <td>2015.0</td>\n",
       "      <td>Resale</td>\n",
       "      <td>900000</td>\n",
       "      <td>603</td>\n",
       "      <td>21 to 25</td>\n",
       "      <td>Dec-21</td>\n",
       "      <td>1492.537313</td>\n",
       "      <td>2021-12-01</td>\n",
       "    </tr>\n",
       "    <tr>\n",
       "      <th>3</th>\n",
       "      <td>THE PEAK@BALMEG</td>\n",
       "      <td>BALMEG HILL</td>\n",
       "      <td>Condominium</td>\n",
       "      <td>5</td>\n",
       "      <td>RCR</td>\n",
       "      <td>freehold</td>\n",
       "      <td>NaN</td>\n",
       "      <td>Resale</td>\n",
       "      <td>3900000</td>\n",
       "      <td>2508</td>\n",
       "      <td>01 to 05</td>\n",
       "      <td>Dec-21</td>\n",
       "      <td>1555.023923</td>\n",
       "      <td>2021-12-01</td>\n",
       "    </tr>\n",
       "    <tr>\n",
       "      <th>4</th>\n",
       "      <td>VARSITY PARK CONDOMINIUM</td>\n",
       "      <td>WEST COAST ROAD</td>\n",
       "      <td>Condominium</td>\n",
       "      <td>5</td>\n",
       "      <td>OCR</td>\n",
       "      <td>99 years</td>\n",
       "      <td>2004.0</td>\n",
       "      <td>Resale</td>\n",
       "      <td>1680000</td>\n",
       "      <td>1346</td>\n",
       "      <td>01 to 05</td>\n",
       "      <td>Dec-21</td>\n",
       "      <td>1248.142645</td>\n",
       "      <td>2021-12-01</td>\n",
       "    </tr>\n",
       "    <tr>\n",
       "      <th>5</th>\n",
       "      <td>PARC RIVIERA</td>\n",
       "      <td>WEST COAST VALE</td>\n",
       "      <td>Condominium</td>\n",
       "      <td>5</td>\n",
       "      <td>OCR</td>\n",
       "      <td>99 years</td>\n",
       "      <td>2015.0</td>\n",
       "      <td>Resale</td>\n",
       "      <td>905000</td>\n",
       "      <td>603</td>\n",
       "      <td>06 to 10</td>\n",
       "      <td>Dec-21</td>\n",
       "      <td>1500.829187</td>\n",
       "      <td>2021-12-01</td>\n",
       "    </tr>\n",
       "  </tbody>\n",
       "</table>\n",
       "</div>"
      ],
      "text/plain": [
       "                    project               street         type  district  \\\n",
       "0                THE VISION  WEST COAST CRESCENT  Condominium         5   \n",
       "1             HUNDRED TREES     WEST COAST DRIVE  Condominium         5   \n",
       "2              PARC RIVIERA      WEST COAST VALE  Condominium         5   \n",
       "3           THE PEAK@BALMEG          BALMEG HILL  Condominium         5   \n",
       "4  VARSITY PARK CONDOMINIUM      WEST COAST ROAD  Condominium         5   \n",
       "5              PARC RIVIERA      WEST COAST VALE  Condominium         5   \n",
       "\n",
       "  segment    tenure  commence    sale    price  area     level    date  \\\n",
       "0     OCR  99 years    2008.0  Resale  1850000  1776  01 to 05  Dec-21   \n",
       "1     OCR  freehold    1928.0  Resale  2285000  1475  06 to 10  Dec-21   \n",
       "2     OCR  99 years    2015.0  Resale   900000   603  21 to 25  Dec-21   \n",
       "3     RCR  freehold       NaN  Resale  3900000  2508  01 to 05  Dec-21   \n",
       "4     OCR  99 years    2004.0  Resale  1680000  1346  01 to 05  Dec-21   \n",
       "5     OCR  99 years    2015.0  Resale   905000   603  06 to 10  Dec-21   \n",
       "\n",
       "     price_psf time_stamp  \n",
       "0  1041.666667 2021-12-01  \n",
       "1  1549.152542 2021-12-01  \n",
       "2  1492.537313 2021-12-01  \n",
       "3  1555.023923 2021-12-01  \n",
       "4  1248.142645 2021-12-01  \n",
       "5  1500.829187 2021-12-01  "
      ]
     },
     "execution_count": 44,
     "metadata": {},
     "output_type": "execute_result"
    }
   ],
   "source": [
    "subset = data.loc[(data['district']==5) & (data['type'] == 'Condominium')].reset_index(drop=True)\n",
    "subset.head(6)"
   ]
  },
  {
   "cell_type": "markdown",
   "id": "c3dd8f40",
   "metadata": {},
   "source": [
    "The monthly aggregated values can be calculated by the <code>groupby()</code> method."
   ]
  },
  {
   "cell_type": "code",
   "execution_count": 45,
   "id": "bf00bb88",
   "metadata": {
    "scrolled": true
   },
   "outputs": [
    {
     "data": {
      "text/html": [
       "<div>\n",
       "<style scoped>\n",
       "    .dataframe tbody tr th:only-of-type {\n",
       "        vertical-align: middle;\n",
       "    }\n",
       "\n",
       "    .dataframe tbody tr th {\n",
       "        vertical-align: top;\n",
       "    }\n",
       "\n",
       "    .dataframe thead th {\n",
       "        text-align: right;\n",
       "    }\n",
       "</style>\n",
       "<table border=\"1\" class=\"dataframe\">\n",
       "  <thead>\n",
       "    <tr style=\"text-align: right;\">\n",
       "      <th></th>\n",
       "      <th>date</th>\n",
       "      <th>mean</th>\n",
       "      <th>count</th>\n",
       "    </tr>\n",
       "  </thead>\n",
       "  <tbody>\n",
       "    <tr>\n",
       "      <th>0</th>\n",
       "      <td>Apr-17</td>\n",
       "      <td>1163.148013</td>\n",
       "      <td>114</td>\n",
       "    </tr>\n",
       "    <tr>\n",
       "      <th>1</th>\n",
       "      <td>Apr-18</td>\n",
       "      <td>1151.555010</td>\n",
       "      <td>46</td>\n",
       "    </tr>\n",
       "    <tr>\n",
       "      <th>2</th>\n",
       "      <td>Apr-19</td>\n",
       "      <td>1198.012502</td>\n",
       "      <td>31</td>\n",
       "    </tr>\n",
       "    <tr>\n",
       "      <th>3</th>\n",
       "      <td>Apr-20</td>\n",
       "      <td>1109.530787</td>\n",
       "      <td>12</td>\n",
       "    </tr>\n",
       "    <tr>\n",
       "      <th>4</th>\n",
       "      <td>Apr-21</td>\n",
       "      <td>1284.179274</td>\n",
       "      <td>59</td>\n",
       "    </tr>\n",
       "    <tr>\n",
       "      <th>5</th>\n",
       "      <td>Aug-17</td>\n",
       "      <td>1180.845052</td>\n",
       "      <td>81</td>\n",
       "    </tr>\n",
       "    <tr>\n",
       "      <th>6</th>\n",
       "      <td>Aug-18</td>\n",
       "      <td>1244.961187</td>\n",
       "      <td>23</td>\n",
       "    </tr>\n",
       "    <tr>\n",
       "      <th>7</th>\n",
       "      <td>Aug-19</td>\n",
       "      <td>1255.101471</td>\n",
       "      <td>15</td>\n",
       "    </tr>\n",
       "    <tr>\n",
       "      <th>8</th>\n",
       "      <td>Aug-20</td>\n",
       "      <td>1170.805492</td>\n",
       "      <td>37</td>\n",
       "    </tr>\n",
       "    <tr>\n",
       "      <th>9</th>\n",
       "      <td>Aug-21</td>\n",
       "      <td>1298.162888</td>\n",
       "      <td>59</td>\n",
       "    </tr>\n",
       "  </tbody>\n",
       "</table>\n",
       "</div>"
      ],
      "text/plain": [
       "     date         mean  count\n",
       "0  Apr-17  1163.148013    114\n",
       "1  Apr-18  1151.555010     46\n",
       "2  Apr-19  1198.012502     31\n",
       "3  Apr-20  1109.530787     12\n",
       "4  Apr-21  1284.179274     59\n",
       "5  Aug-17  1180.845052     81\n",
       "6  Aug-18  1244.961187     23\n",
       "7  Aug-19  1255.101471     15\n",
       "8  Aug-20  1170.805492     37\n",
       "9  Aug-21  1298.162888     59"
      ]
     },
     "execution_count": 45,
     "metadata": {},
     "output_type": "execute_result"
    }
   ],
   "source": [
    "monthly = subset.groupby('date')['price_psf'].agg(['mean', 'count'])\n",
    "monthly.reset_index(inplace=True)\n",
    "monthly.head(10)"
   ]
  },
  {
   "cell_type": "markdown",
   "id": "9351925a",
   "metadata": {},
   "source": [
    "You may notice that these records are sorted alphabetically with respect to the strings of the `date` column. We then convert these strings into `timestamp` objects, so they can be correctly sorted according to the dates. "
   ]
  },
  {
   "cell_type": "code",
   "execution_count": 46,
   "id": "7992309a",
   "metadata": {},
   "outputs": [
    {
     "data": {
      "text/html": [
       "<div>\n",
       "<style scoped>\n",
       "    .dataframe tbody tr th:only-of-type {\n",
       "        vertical-align: middle;\n",
       "    }\n",
       "\n",
       "    .dataframe tbody tr th {\n",
       "        vertical-align: top;\n",
       "    }\n",
       "\n",
       "    .dataframe thead th {\n",
       "        text-align: right;\n",
       "    }\n",
       "</style>\n",
       "<table border=\"1\" class=\"dataframe\">\n",
       "  <thead>\n",
       "    <tr style=\"text-align: right;\">\n",
       "      <th></th>\n",
       "      <th>date</th>\n",
       "      <th>mean</th>\n",
       "      <th>count</th>\n",
       "      <th>time_stamp</th>\n",
       "    </tr>\n",
       "  </thead>\n",
       "  <tbody>\n",
       "    <tr>\n",
       "      <th>0</th>\n",
       "      <td>Apr-17</td>\n",
       "      <td>1163.148013</td>\n",
       "      <td>114</td>\n",
       "      <td>2017-04-01</td>\n",
       "    </tr>\n",
       "    <tr>\n",
       "      <th>1</th>\n",
       "      <td>Apr-18</td>\n",
       "      <td>1151.555010</td>\n",
       "      <td>46</td>\n",
       "      <td>2018-04-01</td>\n",
       "    </tr>\n",
       "    <tr>\n",
       "      <th>2</th>\n",
       "      <td>Apr-19</td>\n",
       "      <td>1198.012502</td>\n",
       "      <td>31</td>\n",
       "      <td>2019-04-01</td>\n",
       "    </tr>\n",
       "    <tr>\n",
       "      <th>3</th>\n",
       "      <td>Apr-20</td>\n",
       "      <td>1109.530787</td>\n",
       "      <td>12</td>\n",
       "      <td>2020-04-01</td>\n",
       "    </tr>\n",
       "    <tr>\n",
       "      <th>4</th>\n",
       "      <td>Apr-21</td>\n",
       "      <td>1284.179274</td>\n",
       "      <td>59</td>\n",
       "      <td>2021-04-01</td>\n",
       "    </tr>\n",
       "    <tr>\n",
       "      <th>5</th>\n",
       "      <td>Aug-17</td>\n",
       "      <td>1180.845052</td>\n",
       "      <td>81</td>\n",
       "      <td>2017-08-01</td>\n",
       "    </tr>\n",
       "    <tr>\n",
       "      <th>6</th>\n",
       "      <td>Aug-18</td>\n",
       "      <td>1244.961187</td>\n",
       "      <td>23</td>\n",
       "      <td>2018-08-01</td>\n",
       "    </tr>\n",
       "    <tr>\n",
       "      <th>7</th>\n",
       "      <td>Aug-19</td>\n",
       "      <td>1255.101471</td>\n",
       "      <td>15</td>\n",
       "      <td>2019-08-01</td>\n",
       "    </tr>\n",
       "    <tr>\n",
       "      <th>8</th>\n",
       "      <td>Aug-20</td>\n",
       "      <td>1170.805492</td>\n",
       "      <td>37</td>\n",
       "      <td>2020-08-01</td>\n",
       "    </tr>\n",
       "    <tr>\n",
       "      <th>9</th>\n",
       "      <td>Aug-21</td>\n",
       "      <td>1298.162888</td>\n",
       "      <td>59</td>\n",
       "      <td>2021-08-01</td>\n",
       "    </tr>\n",
       "  </tbody>\n",
       "</table>\n",
       "</div>"
      ],
      "text/plain": [
       "     date         mean  count time_stamp\n",
       "0  Apr-17  1163.148013    114 2017-04-01\n",
       "1  Apr-18  1151.555010     46 2018-04-01\n",
       "2  Apr-19  1198.012502     31 2019-04-01\n",
       "3  Apr-20  1109.530787     12 2020-04-01\n",
       "4  Apr-21  1284.179274     59 2021-04-01\n",
       "5  Aug-17  1180.845052     81 2017-08-01\n",
       "6  Aug-18  1244.961187     23 2018-08-01\n",
       "7  Aug-19  1255.101471     15 2019-08-01\n",
       "8  Aug-20  1170.805492     37 2020-08-01\n",
       "9  Aug-21  1298.162888     59 2021-08-01"
      ]
     },
     "execution_count": 46,
     "metadata": {},
     "output_type": "execute_result"
    }
   ],
   "source": [
    "monthly['time_stamp'] = pd.to_datetime(monthly['date'], format='%b-%y')\n",
    "monthly.head(10)"
   ]
  },
  {
   "cell_type": "code",
   "execution_count": 47,
   "id": "f3161ba9",
   "metadata": {},
   "outputs": [
    {
     "data": {
      "text/html": [
       "<div>\n",
       "<style scoped>\n",
       "    .dataframe tbody tr th:only-of-type {\n",
       "        vertical-align: middle;\n",
       "    }\n",
       "\n",
       "    .dataframe tbody tr th {\n",
       "        vertical-align: top;\n",
       "    }\n",
       "\n",
       "    .dataframe thead th {\n",
       "        text-align: right;\n",
       "    }\n",
       "</style>\n",
       "<table border=\"1\" class=\"dataframe\">\n",
       "  <thead>\n",
       "    <tr style=\"text-align: right;\">\n",
       "      <th></th>\n",
       "      <th>date</th>\n",
       "      <th>mean</th>\n",
       "      <th>count</th>\n",
       "      <th>time_stamp</th>\n",
       "    </tr>\n",
       "  </thead>\n",
       "  <tbody>\n",
       "    <tr>\n",
       "      <th>20</th>\n",
       "      <td>Jan-17</td>\n",
       "      <td>1242.345373</td>\n",
       "      <td>46</td>\n",
       "      <td>2017-01-01</td>\n",
       "    </tr>\n",
       "    <tr>\n",
       "      <th>15</th>\n",
       "      <td>Feb-17</td>\n",
       "      <td>1237.511947</td>\n",
       "      <td>184</td>\n",
       "      <td>2017-02-01</td>\n",
       "    </tr>\n",
       "    <tr>\n",
       "      <th>35</th>\n",
       "      <td>Mar-17</td>\n",
       "      <td>1219.544425</td>\n",
       "      <td>160</td>\n",
       "      <td>2017-03-01</td>\n",
       "    </tr>\n",
       "    <tr>\n",
       "      <th>0</th>\n",
       "      <td>Apr-17</td>\n",
       "      <td>1163.148013</td>\n",
       "      <td>114</td>\n",
       "      <td>2017-04-01</td>\n",
       "    </tr>\n",
       "    <tr>\n",
       "      <th>40</th>\n",
       "      <td>May-17</td>\n",
       "      <td>1191.400835</td>\n",
       "      <td>132</td>\n",
       "      <td>2017-05-01</td>\n",
       "    </tr>\n",
       "    <tr>\n",
       "      <th>30</th>\n",
       "      <td>Jun-17</td>\n",
       "      <td>1163.759609</td>\n",
       "      <td>116</td>\n",
       "      <td>2017-06-01</td>\n",
       "    </tr>\n",
       "    <tr>\n",
       "      <th>25</th>\n",
       "      <td>Jul-17</td>\n",
       "      <td>1181.282315</td>\n",
       "      <td>107</td>\n",
       "      <td>2017-07-01</td>\n",
       "    </tr>\n",
       "    <tr>\n",
       "      <th>5</th>\n",
       "      <td>Aug-17</td>\n",
       "      <td>1180.845052</td>\n",
       "      <td>81</td>\n",
       "      <td>2017-08-01</td>\n",
       "    </tr>\n",
       "    <tr>\n",
       "      <th>55</th>\n",
       "      <td>Sep-17</td>\n",
       "      <td>1189.783109</td>\n",
       "      <td>70</td>\n",
       "      <td>2017-09-01</td>\n",
       "    </tr>\n",
       "    <tr>\n",
       "      <th>50</th>\n",
       "      <td>Oct-17</td>\n",
       "      <td>1213.376923</td>\n",
       "      <td>68</td>\n",
       "      <td>2017-10-01</td>\n",
       "    </tr>\n",
       "  </tbody>\n",
       "</table>\n",
       "</div>"
      ],
      "text/plain": [
       "      date         mean  count time_stamp\n",
       "20  Jan-17  1242.345373     46 2017-01-01\n",
       "15  Feb-17  1237.511947    184 2017-02-01\n",
       "35  Mar-17  1219.544425    160 2017-03-01\n",
       "0   Apr-17  1163.148013    114 2017-04-01\n",
       "40  May-17  1191.400835    132 2017-05-01\n",
       "30  Jun-17  1163.759609    116 2017-06-01\n",
       "25  Jul-17  1181.282315    107 2017-07-01\n",
       "5   Aug-17  1180.845052     81 2017-08-01\n",
       "55  Sep-17  1189.783109     70 2017-09-01\n",
       "50  Oct-17  1213.376923     68 2017-10-01"
      ]
     },
     "execution_count": 47,
     "metadata": {},
     "output_type": "execute_result"
    }
   ],
   "source": [
    "monthly.sort_values(by='time_stamp', inplace=True)\n",
    "monthly.head(10)"
   ]
  },
  {
   "cell_type": "markdown",
   "id": "12a8921a",
   "metadata": {},
   "source": [
    "Now we have collected all data we need, the monthly average unit prices and the transaction counts can be visualized as follows."
   ]
  },
  {
   "cell_type": "code",
   "execution_count": 48,
   "id": "8e048d7f",
   "metadata": {
    "scrolled": true
   },
   "outputs": [
    {
     "data": {
      "image/png": "[encoded data removed]",
      "text/plain": [
       "<Figure size 1080x360 with 1 Axes>"
      ]
     },
     "metadata": {
      "needs_background": "light"
     },
     "output_type": "display_data"
    }
   ],
   "source": [
    "plt.figure(figsize=(15, 5))                          # Resize the figure\n",
    "plt.plot(monthly['date'], monthly['mean'], \n",
    "         c='b', label='Average unit prices')\n",
    "plt.scatter(monthly['date'], monthly['mean'], \n",
    "            s=monthly['count'], \n",
    "            c='b', alpha=0.5, label='Transactions')\n",
    "\n",
    "plt.legend(fontsize=14)\n",
    "plt.xticks(rotation=90)                             # Rotate x ticks\n",
    "plt.xlabel('Date', fontsize=14)                     # X label and change the font size\n",
    "plt.ylabel('Unit prices (S$/sqft)', fontsize=14)    # Y label and change the font size\n",
    "plt.grid()\n",
    "plt.show()"
   ]
  },
  {
   "cell_type": "code",
   "execution_count": null,
   "id": "3177933c",
   "metadata": {},
   "outputs": [],
   "source": []
  }
 ],
 "metadata": {
  "kernelspec": {
   "display_name": "Python 3 (ipykernel)",
   "language": "python",
   "name": "python3"
  },
  "language_info": {
   "codemirror_mode": {
    "name": "ipython",
    "version": 3
   },
   "file_extension": ".py",
   "mimetype": "text/x-python",
   "name": "python",
   "nbconvert_exporter": "python",
   "pygments_lexer": "ipython3",
   "version": "3.9.13"
  },
  "varInspector": {
   "cols": {
    "lenName": 16,
    "lenType": 16,
    "lenVar": 40
   },
   "kernels_config": {
    "python": {
     "delete_cmd_postfix": "",
     "delete_cmd_prefix": "del ",
     "library": "var_list.py",
     "varRefreshCmd": "print(var_dic_list())"
    },
    "r": {
     "delete_cmd_postfix": ") ",
     "delete_cmd_prefix": "rm(",
     "library": "var_list.r",
     "varRefreshCmd": "cat(var_dic_list()) "
    }
   },
   "types_to_exclude": [
    "module",
    "function",
    "builtin_function_or_method",
    "instance",
    "_Feature"
   ],
   "window_display": false
  }
 },
 "nbformat": 4,
 "nbformat_minor": 5
}
